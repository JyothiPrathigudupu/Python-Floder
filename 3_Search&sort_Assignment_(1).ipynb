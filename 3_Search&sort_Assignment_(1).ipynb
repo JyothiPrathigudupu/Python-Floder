{
  "cells": [
    {
      "cell_type": "code",
      "execution_count": 2,
      "metadata": {
        "colab": {
          "base_uri": "https://localhost:8080/"
        },
        "id": "Tfm2tZW9MJAR",
        "outputId": "76e3ce5b-fe3a-488b-8f24-ddf1e2ee9fb2"
      },
      "outputs": [
        {
          "output_type": "execute_result",
          "data": {
            "text/plain": [
              "[0,\n",
              " 1,\n",
              " 2,\n",
              " 3,\n",
              " 4,\n",
              " 5,\n",
              " 7,\n",
              " 8,\n",
              " 9,\n",
              " 17,\n",
              " 21,\n",
              " 25,\n",
              " 26,\n",
              " 33,\n",
              " 36,\n",
              " 38,\n",
              " 44,\n",
              " 48,\n",
              " 51,\n",
              " 57,\n",
              " 99,\n",
              " 100]"
            ]
          },
          "metadata": {},
          "execution_count": 2
        }
      ],
      "source": [
        "# Given two sorted arrays write a python program to merge the two arrays together and return a single sorted array\n",
        "\n",
        "arr1 = [0, 1, 2, 3, 5, 9, 17, 38, 57] # length = m\n",
        "arr2 = [4, 7, 8, 21, 25, 26, 33, 36, 44, 48, 51, 99, 100] # length = n\n",
        "# Expected output: [0,1,2,3,4,5,7,8,9,17,21,25,26,33,38,44,57]\n",
        "def merge_arrays(arr1, arr2):\n",
        "    i,j = 0, 0\n",
        "    new_arr = []\n",
        "    while i < len(arr1) and j < len(arr2):\n",
        "        if arr1[i] < arr2[j]:\n",
        "            new_arr.append(arr1[i])\n",
        "            i += 1\n",
        "        else:\n",
        "            new_arr.append(arr2[j])\n",
        "            j += 1\n",
        "    new_arr.extend(arr1[i:])\n",
        "    new_arr.extend(arr2[j:])\n",
        "\n",
        "    return  new_arr\n",
        "merge_arrays(arr1, arr2)\n"
      ]
    },
    {
      "cell_type": "code",
      "source": [
        "def merge_sort(arr):\n",
        "    if len(arr) > 1:\n",
        "        mid = len(arr) // 2\n",
        "        left_arr = arr[:mid]\n",
        "        right_arr = arr[mid:]\n",
        "        # Recursively sort both halves\n",
        "        merge_sort(left_arr)\n",
        "        merge_sort(right_arr)\n",
        "        # Merge the sorted halves into arr\n",
        "        i = j = k = 0  # i for left_arr, j for right_arr, k for merged arr\n",
        "        while i < len(left_arr) and j < len(right_arr):\n",
        "            if left_arr[i] < right_arr[j]:\n",
        "                arr[k] = left_arr[i]\n",
        "                i += 1\n",
        "            else:\n",
        "                arr[k] = right_arr[j]\n",
        "                j += 1\n",
        "            k += 1\n",
        "        # Checking if any element was left\n",
        "        while i < len(left_arr):\n",
        "            arr[k] = left_arr[i]\n",
        "            i += 1\n",
        "            k += 1\n",
        "        while j < len(right_arr):\n",
        "            arr[k] = right_arr[j]\n",
        "            j += 1\n",
        "            k += 1\n",
        "# Example usage:\n",
        "arr = [2, 6, 4, 5, 8, 3, 1, 7, 9, 10]\n",
        "merge_sort(arr)\n",
        "print(arr)\n"
      ],
      "metadata": {
        "colab": {
          "base_uri": "https://localhost:8080/"
        },
        "id": "jUSioM8cMLOs",
        "outputId": "5a64fb33-d3ce-4d9a-a702-951f0c9c204c"
      },
      "execution_count": 1,
      "outputs": [
        {
          "output_type": "stream",
          "name": "stdout",
          "text": [
            "[1, 2, 3, 4, 5, 6, 7, 8, 9, 10]\n"
          ]
        }
      ]
    },
    {
      "cell_type": "markdown",
      "metadata": {
        "id": "VaEa42nzMJAT"
      },
      "source": [
        "Given an array nums of integers, return how many of them contain an even number of digits.\n",
        "\n",
        "\n",
        "\n",
        "Example 1:\n",
        "\n",
        "Input: nums = [12,345,2,6,7896] <br>\n",
        "Output: 2 <br>\n",
        "Explanation: <br>\n",
        "12 contains 2 digits (even number of digits). <br>\n",
        "345 contains 3 digits (odd number of digits). <br>\n",
        "2 contains 1 digit (odd number of digits). <br>\n",
        "6 contains 1 digit (odd number of digits). <br>\n",
        "7896 contains 4 digits (even number of digits). <br>\n",
        "Therefore only 12 and 7896 contain an even number of digits."
      ]
    },
    {
      "cell_type": "code",
      "execution_count": 3,
      "metadata": {
        "colab": {
          "base_uri": "https://localhost:8080/"
        },
        "id": "KD33wjegMJAT",
        "outputId": "2fd0fb3c-7640-4654-aea4-72caa9404688"
      },
      "outputs": [
        {
          "output_type": "stream",
          "name": "stdout",
          "text": [
            "2\n"
          ]
        }
      ],
      "source": [
        "def findNumbers(nums):\n",
        "    count = 0\n",
        "    for num in nums:\n",
        "        if len(str(num)) % 2 == 0:\n",
        "            count += 1\n",
        "    return count\n",
        "\n",
        "# Example usage:\n",
        "nums = [12, 345, 2, 6, 7896]\n",
        "result = findNumbers(nums)\n",
        "print(result)  # Output: 2"
      ]
    }
  ],
  "metadata": {
    "kernelspec": {
      "display_name": "env_tf",
      "language": "python",
      "name": "python3"
    },
    "language_info": {
      "codemirror_mode": {
        "name": "ipython",
        "version": 3
      },
      "file_extension": ".py",
      "mimetype": "text/x-python",
      "name": "python",
      "nbconvert_exporter": "python",
      "pygments_lexer": "ipython3",
      "version": "3.9.9"
    },
    "colab": {
      "provenance": []
    }
  },
  "nbformat": 4,
  "nbformat_minor": 0
}