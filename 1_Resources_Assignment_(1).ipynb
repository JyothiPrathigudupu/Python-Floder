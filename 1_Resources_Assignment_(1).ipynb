{
  "cells": [
    {
      "cell_type": "markdown",
      "metadata": {
        "id": "_XQoeexPm-Xd"
      },
      "source": [
        "# Question 1: 3 Numbers Sum\n",
        "\n",
        "Given a array with integers numbers arr and x, return a triplet (i,j,k) such that i+j+k = x\n",
        "\n",
        "## Example\n",
        "* **Input:** arr = [-1,0,1,2,-1,4], x = 6\n",
        "* **Output:** triplet (0, 2, 4)\n",
        "\n",
        "1. What are the best case and worst case senarios.\n",
        "2. Compute the time complexity of your solution\n"
      ]
    },
    {
      "cell_type": "code",
      "source": [
        "# Example usage:\n",
        "arr = [-1, 0, 1, 2, -1, 4]\n",
        "x = 6\n",
        "def find_triplet(arr, x):\n",
        "    arr.sort()\n",
        "    n = len(arr)\n",
        "    for i in range(n - 2):\n",
        "        left = i + 1\n",
        "        right = n - 1\n",
        "        while left < right:\n",
        "            current_sum = arr[i] + arr[left] + arr[right]\n",
        "            if current_sum == x:\n",
        "                return (arr[i], arr[left], arr[right])\n",
        "            elif current_sum < x:\n",
        "                left += 1\n",
        "            else:\n",
        "                right -= 1\n",
        "    return None\n",
        "result = find_triplet(arr, x)\n",
        "print(result)\n",
        ""
      ],
      "metadata": {
        "colab": {
          "base_uri": "https://localhost:8080/"
        },
        "id": "gxvcrxODnFHC",
        "outputId": "b2661374-4116-403e-95d9-f712d12d420f"
      },
      "execution_count": 13,
      "outputs": [
        {
          "output_type": "stream",
          "name": "stdout",
          "text": [
            "(0, 2, 4)\n"
          ]
        }
      ]
    },
    {
      "cell_type": "markdown",
      "metadata": {
        "id": "xVoknp7jm-Xf"
      },
      "source": [
        "# Question 2: Kth Largest Element in an Array\n",
        "\n",
        "-\n",
        "Given an integer array nums and an integer k, return the kth largest element in the array. Note that it is the kth largest element in the sorted order, not the kth distinct element.\n",
        "\n",
        "## Example 1:\n",
        "\n",
        "* **Input**: nums = [3,2,1,5,6,4], k = 2\n",
        "* **Output**: 5\n",
        "\n",
        "1. Can you solve it without sorting?\n",
        "2. What are the best case and worst case senarios.\n",
        "3. Compute the time complexity of your solution"
      ]
    },
    {
      "cell_type": "code",
      "source": [
        "import heapq\n",
        "def find_kth_largest(nums, k):\n",
        "    # Create a min-heap with the first k elements of nums\n",
        "    min_heap = nums[:k]\n",
        "    heapq.heapify(min_heap)\n",
        "\n",
        "    # Process the remaining elements\n",
        "    for num in nums[k:]:\n",
        "        if num > min_heap[0]:\n",
        "            heapq.heapreplace(min_heap, num)\n",
        "\n",
        "    # The root of the heap is the k-th largest element\n",
        "    return min_heap[0]\n",
        "\n",
        "# Example usage\n",
        "nums = [3, 2, 1, 5, 6, 4]\n",
        "k = 2\n",
        "print(find_kth_largest(nums, k))  # Output: 5"
      ],
      "metadata": {
        "colab": {
          "base_uri": "https://localhost:8080/"
        },
        "id": "p_KHS9k0EDh-",
        "outputId": "84f65963-e8c3-4d74-8221-2e69862e3f8a"
      },
      "execution_count": 1,
      "outputs": [
        {
          "output_type": "stream",
          "name": "stdout",
          "text": [
            "5\n"
          ]
        }
      ]
    },
    {
      "cell_type": "markdown",
      "metadata": {
        "id": "hH6C0BCWm-Xf"
      },
      "source": [
        "# Question 3: WAVE ARRAY\n",
        "Given a sorted array arr[] of distinct integers. Sort the array into a wave-like array and return it In other words, arrange the elements into a sequence such that arr[1] >= arr[2] <= arr[3] >= arr[4] <= arr[5].....\n",
        "\n",
        "## Example 1:\n",
        "* **Input** : n = 5, arr = [1,2,3,4,5]\n",
        "* **Output** : 2 1 4 3 5\n",
        "\n",
        "Explanation: Array elements after sorting it in wave form are 2 1 4 3 5.\n",
        "\n",
        "## Example 2:\n",
        "* **Input**: n = 6 arr = [2,4,7,8,9,10]\n",
        "* **Output**: 4 2 8 7 10 9\n",
        "\n",
        "Explanation: Array elements after sorting it in wave form are 4 2 8 7 10 9.\n",
        "\n",
        "\n",
        "1. What are the best case and worst case senarios.\n",
        "2. Compute the time complexity of your solution\n",
        "\n"
      ]
    },
    {
      "cell_type": "code",
      "execution_count": 14,
      "metadata": {
        "id": "ad0wAj_im-Xg",
        "colab": {
          "base_uri": "https://localhost:8080/"
        },
        "outputId": "f8bd1091-4f5a-4239-c6ac-5700c84e82e2"
      },
      "outputs": [
        {
          "output_type": "stream",
          "name": "stdout",
          "text": [
            "[2, 1, 4, 3, 5]\n",
            "[4, 2, 8, 7, 10, 9]\n"
          ]
        }
      ],
      "source": [
        "def convert_to_wave(arr):\n",
        "    n = len(arr)\n",
        "    for i in range(0, n - 1, 2):\n",
        "        arr[i], arr[i + 1] = arr[i + 1], arr[i]\n",
        "    return arr\n",
        "# Example usage\n",
        "arr1 = [1, 2, 3, 4, 5]\n",
        "print(convert_to_wave(arr1))  # Output: [2, 1, 4, 3, 5]\n",
        "arr2 = [2, 4, 7, 8, 9, 10]\n",
        "print(convert_to_wave(arr2))  # Output: [4, 2, 8, 7, 10, 9]"
      ]
    }
  ],
  "metadata": {
    "language_info": {
      "name": "python"
    },
    "colab": {
      "provenance": []
    },
    "kernelspec": {
      "name": "python3",
      "display_name": "Python 3"
    }
  },
  "nbformat": 4,
  "nbformat_minor": 0
}