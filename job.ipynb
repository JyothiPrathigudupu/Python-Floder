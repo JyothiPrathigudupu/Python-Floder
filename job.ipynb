{
 "cells": [
  {
   "cell_type": "code",
   "execution_count": 35,
   "metadata": {},
   "outputs": [],
   "source": [
    "t1=\"\"\"role and responsibilities:\n",
    "As a Data Scientist, you will play a crucial role in designing, building, \n",
    "and maintaining data pipelines within the Databricks Lakehouse Platform. \n",
    "Your expertise will contribute to the success of data-driven initiatives, \n",
    "enabling efficient data processing, analysis, and reporting.\"\"\"\n",
    "t2=\"\"\"role and responsibilities:\n",
    "We are looking for a Data Scientist to join the People Analytics team at LSEG. \n",
    "This person will play a crucial role in designing, building, and delivering people \n",
    "analytics solutions to enable insight-driven HR approach. They shall work closely with \n",
    "multi-functional teams to ensure the reporting and analysis needs are met. This role \n",
    "requires expertise in quantitative methods, BI analysis, data visualisation and storytelling.\"\"\"\n",
    "t3=\"\"\"role and responsibilities:\n",
    "Minimal Customer interaction under guidance.\n",
    "Understands Domain Process/sub process, functions, terminologies (such as SOP, QC checklists).\n",
    "For PV/Complaints Management Individuals in this role perform data entry of data received from \n",
    "Source documents into the respective Clinical/Safety database While peroforming this activity the \n",
    "associate is responsible for meeting turnaround times and accuracy.\n",
    "\"\"\"\n",
    "t4=\"\"\"role and responsibilities:\n",
    "Building templates, dashboards in Excel /Google Sheet / PowerBI for operational and management reporting\n",
    "Statistical and Analytical Models and methods for data analysis related to customer initiatives & growth \n",
    "hacks including issue diagnosis, problem dissection and tracking of results\n",
    "Running and maintaining the reporting system.Data extraction as per business request for Ad hoc analysis\n",
    "Assisting the team in data analysis and mining.Business analysis and understanding to highlight key lead indicators\n",
    "\"\"\"\n",
    "t5=\"\"\"role and responsibilities:\n",
    "As a Staff Data Scientist, you will be part of a data science and cross-disciplinary team on \n",
    "commercially-facing development projects, typically involving large, complex data sets. These \n",
    "teams may typically include statisticians, computer scientists, software developers, engineers, \n",
    "services teams, solution architects, software architects, product managers, and end users, working \n",
    "in concert with partners in GE business units. Potential application areas include, but may not be \n",
    "limited to, remote monitoring and diagnostics across infrastructure and industrial sectors, process \n",
    "and operations optimization and asset management.\n",
    "\"\"\"\n",
    "t6=\"\"\"role and responsiblities:\n",
    "We are seeking fresher or trained candidates with up to 6 months of experience in Python, Al/ML. \n",
    "A basic understanding of generative Al, Python programming, and Al concepts along with strong \n",
    "analytical skills is essential. Candidates with specialization in Al projects during their final \n",
    "year will have an added advantage. Certifications and relevant training in Python, Al/ML will be \n",
    "considered favorably. Excellent communication skills are required to effectively collaborate with \n",
    "teams and stakeholders.\"\"\"\n",
    "t7=\"\"\"role and responsiblities:\n",
    "we are seeking a highly skilled and experienced Data Scientist / Al Specialist to join our dynamic \n",
    "team. The ideal candidate will have a strong background in Python, PySpark/Scala, and SQL, with expertise \n",
    "in Al and machine learning technologies, including OpenAl, prompt engineering, and generative Al. Proficiency \n",
    "in Azure and experience with ChatGPT and Azure ML flow are essential.\n",
    "\"\"\"\n",
    "t8=\"\"\"role and responsiblities:\n",
    "As a Data Scientist you will identify business trends and problems through complex big data analysis. \n",
    "You will interpret results from multiple sources using a variety of techniques, ranging from simple \n",
    "data aggregation via statistical analysis to complex data mining independently. You will design, develop \n",
    "and implement the most valuable business solutions for the organization. You will prepare big data, implements \n",
    "data modules and develops database to support the business solutions.\"\"\"\n",
    "t9=\"\"\"role and responsiblities:\n",
    "Python Development experience with automation\n",
    "Develop and consume REST APIs using Python\n",
    "Frameworks Django/Flask.\n",
    "Experience in shell and Perl scripts.\n",
    "Writing unit test cases using python test modules like pytest, unittest.Experience in CI/CD tools GitHub, Jenkins\n",
    "Experience in any relational or NoSQL databases, good to have experience in Oracle and MongoDB.Strong technical, analytical and problem-solving skills\n",
    "Coordinate with the team and get the requirements • Experience in writing the Technical Specification,documents, API documents\n",
    "Able to work independently and as part of a team\"\"\"\n",
    "t10=\"\"\"role and responsiblities:\n",
    "Takbeer IT Ltd. is a digital services company offering a wide range of services including digital marketing, \n",
    "graphics design, video editing, web design, SEO, content creation, virtual assistance, data entry, and more. \n",
    "We strive to provide the best level of service to meet our clients' needs.\n",
    "This is a part-time remote role for a Data Entry Assistant at Takbeer IT Ltd. The Data Entry Assistant \n",
    "will be responsible for entering accurate data into our systems, performing data verification and quality checks, \n",
    "and maintaining data confidentiality. The role also involves providing administrative assistance and delivering \n",
    "exceptional customer service.\"\"\""
   ]
  },
  {
   "cell_type": "code",
   "execution_count": 36,
   "metadata": {},
   "outputs": [],
   "source": [
    "t1=t1.split()"
   ]
  },
  {
   "cell_type": "code",
   "execution_count": 4,
   "metadata": {},
   "outputs": [
    {
     "data": {
      "text/plain": [
       "['role',\n",
       " 'and',\n",
       " 'responsibilities:',\n",
       " 'As',\n",
       " 'a',\n",
       " 'Data',\n",
       " 'Scientist,',\n",
       " 'you',\n",
       " 'will',\n",
       " 'play',\n",
       " 'a',\n",
       " 'crucial',\n",
       " 'role',\n",
       " 'in',\n",
       " 'designing,',\n",
       " 'building,',\n",
       " 'and',\n",
       " 'maintaining',\n",
       " 'data',\n",
       " 'pipelines',\n",
       " 'within',\n",
       " 'the',\n",
       " 'Databricks',\n",
       " 'Lakehouse',\n",
       " 'Platform.',\n",
       " 'Your',\n",
       " 'expertise',\n",
       " 'will',\n",
       " 'contribute',\n",
       " 'to',\n",
       " 'the',\n",
       " 'success',\n",
       " 'of',\n",
       " 'data-driven',\n",
       " 'initiatives,',\n",
       " 'enabling',\n",
       " 'efficient',\n",
       " 'data',\n",
       " 'processing,',\n",
       " 'analysis,',\n",
       " 'and',\n",
       " 'reporting.']"
      ]
     },
     "execution_count": 4,
     "metadata": {},
     "output_type": "execute_result"
    }
   ],
   "source": [
    "t1"
   ]
  },
  {
   "cell_type": "code",
   "execution_count": null,
   "metadata": {},
   "outputs": [],
   "source": [
    "count1=len(t1)\n",
    "print(\"Total Words:\",count1)"
   ]
  },
  {
   "cell_type": "code",
   "execution_count": 6,
   "metadata": {},
   "outputs": [],
   "source": [
    "t2=t2.split()"
   ]
  },
  {
   "cell_type": "code",
   "execution_count": 7,
   "metadata": {},
   "outputs": [
    {
     "data": {
      "text/plain": [
       "['role',\n",
       " 'and',\n",
       " 'responsibilities:',\n",
       " 'We',\n",
       " 'are',\n",
       " 'looking',\n",
       " 'for',\n",
       " 'a',\n",
       " 'Data',\n",
       " 'Scientist',\n",
       " 'to',\n",
       " 'join',\n",
       " 'the',\n",
       " 'People',\n",
       " 'Analytics',\n",
       " 'team',\n",
       " 'at',\n",
       " 'LSEG.',\n",
       " 'This',\n",
       " 'person',\n",
       " 'will',\n",
       " 'play',\n",
       " 'a',\n",
       " 'crucial',\n",
       " 'role',\n",
       " 'in',\n",
       " 'designing,',\n",
       " 'building,',\n",
       " 'and',\n",
       " 'delivering',\n",
       " 'people',\n",
       " 'analytics',\n",
       " 'solutions',\n",
       " 'to',\n",
       " 'enable',\n",
       " 'insight-driven',\n",
       " 'HR',\n",
       " 'approach.',\n",
       " 'They',\n",
       " 'shall',\n",
       " 'work',\n",
       " 'closely',\n",
       " 'with',\n",
       " 'multi-functional',\n",
       " 'teams',\n",
       " 'to',\n",
       " 'ensure',\n",
       " 'the',\n",
       " 'reporting',\n",
       " 'and',\n",
       " 'analysis',\n",
       " 'needs',\n",
       " 'are',\n",
       " 'met.',\n",
       " 'This',\n",
       " 'role',\n",
       " 'requires',\n",
       " 'expertise',\n",
       " 'in',\n",
       " 'quantitative',\n",
       " 'methods,',\n",
       " 'BI',\n",
       " 'analysis,',\n",
       " 'data',\n",
       " 'visualisation',\n",
       " 'and',\n",
       " 'storytelling.']"
      ]
     },
     "execution_count": 7,
     "metadata": {},
     "output_type": "execute_result"
    }
   ],
   "source": [
    "t2"
   ]
  },
  {
   "cell_type": "code",
   "execution_count": 8,
   "metadata": {},
   "outputs": [
    {
     "name": "stdout",
     "output_type": "stream",
     "text": [
      "Total Words: 67\n"
     ]
    }
   ],
   "source": [
    "count2=len(t2)\n",
    "print(\"Total Words:\",count2)"
   ]
  },
  {
   "cell_type": "code",
   "execution_count": 9,
   "metadata": {},
   "outputs": [],
   "source": [
    "t3=t3.split()"
   ]
  },
  {
   "cell_type": "code",
   "execution_count": 10,
   "metadata": {},
   "outputs": [
    {
     "data": {
      "text/plain": [
       "['role',\n",
       " 'and',\n",
       " 'responsibilities:',\n",
       " 'Minimal',\n",
       " 'Customer',\n",
       " 'interaction',\n",
       " 'under',\n",
       " 'guidance.',\n",
       " 'Understands',\n",
       " 'Domain',\n",
       " 'Process/sub',\n",
       " 'process,',\n",
       " 'functions,',\n",
       " 'terminologies',\n",
       " '(such',\n",
       " 'as',\n",
       " 'SOP,',\n",
       " 'QC',\n",
       " 'checklists).',\n",
       " 'For',\n",
       " 'PV/Complaints',\n",
       " 'Management',\n",
       " 'Individuals',\n",
       " 'in',\n",
       " 'this',\n",
       " 'role',\n",
       " 'perform',\n",
       " 'data',\n",
       " 'entry',\n",
       " 'of',\n",
       " 'data',\n",
       " 'received',\n",
       " 'from',\n",
       " 'Source',\n",
       " 'documents',\n",
       " 'into',\n",
       " 'the',\n",
       " 'respective',\n",
       " 'Clinical/Safety',\n",
       " 'database',\n",
       " 'While',\n",
       " 'peroforming',\n",
       " 'this',\n",
       " 'activity',\n",
       " 'the',\n",
       " 'associate',\n",
       " 'is',\n",
       " 'responsible',\n",
       " 'for',\n",
       " 'meeting',\n",
       " 'turnaround',\n",
       " 'times',\n",
       " 'and',\n",
       " 'accuracy.']"
      ]
     },
     "execution_count": 10,
     "metadata": {},
     "output_type": "execute_result"
    }
   ],
   "source": [
    "t3"
   ]
  },
  {
   "cell_type": "code",
   "execution_count": 11,
   "metadata": {},
   "outputs": [
    {
     "name": "stdout",
     "output_type": "stream",
     "text": [
      "Total Words: 54\n"
     ]
    }
   ],
   "source": [
    "count3=len(t3)\n",
    "print(\"Total Words:\",count3)"
   ]
  },
  {
   "cell_type": "code",
   "execution_count": 12,
   "metadata": {},
   "outputs": [],
   "source": [
    "t4=t4.split()"
   ]
  },
  {
   "cell_type": "code",
   "execution_count": 13,
   "metadata": {},
   "outputs": [
    {
     "data": {
      "text/plain": [
       "['role',\n",
       " 'and',\n",
       " 'responsibilities:',\n",
       " 'Building',\n",
       " 'templates,',\n",
       " 'dashboards',\n",
       " 'in',\n",
       " 'Excel',\n",
       " '/Google',\n",
       " 'Sheet',\n",
       " '/',\n",
       " 'PowerBI',\n",
       " 'for',\n",
       " 'operational',\n",
       " 'and',\n",
       " 'management',\n",
       " 'reporting',\n",
       " 'Statistical',\n",
       " 'and',\n",
       " 'Analytical',\n",
       " 'Models',\n",
       " 'and',\n",
       " 'methods',\n",
       " 'for',\n",
       " 'data',\n",
       " 'analysis',\n",
       " 'related',\n",
       " 'to',\n",
       " 'customer',\n",
       " 'initiatives',\n",
       " '&',\n",
       " 'growth',\n",
       " 'hacks',\n",
       " 'including',\n",
       " 'issue',\n",
       " 'diagnosis,',\n",
       " 'problem',\n",
       " 'dissection',\n",
       " 'and',\n",
       " 'tracking',\n",
       " 'of',\n",
       " 'results',\n",
       " 'Running',\n",
       " 'and',\n",
       " 'maintaining',\n",
       " 'the',\n",
       " 'reporting',\n",
       " 'system.Data',\n",
       " 'extraction',\n",
       " 'as',\n",
       " 'per',\n",
       " 'business',\n",
       " 'request',\n",
       " 'for',\n",
       " 'Ad',\n",
       " 'hoc',\n",
       " 'analysis',\n",
       " 'Assisting',\n",
       " 'the',\n",
       " 'team',\n",
       " 'in',\n",
       " 'data',\n",
       " 'analysis',\n",
       " 'and',\n",
       " 'mining.Business',\n",
       " 'analysis',\n",
       " 'and',\n",
       " 'understanding',\n",
       " 'to',\n",
       " 'highlight',\n",
       " 'key',\n",
       " 'lead',\n",
       " 'indicators']"
      ]
     },
     "execution_count": 13,
     "metadata": {},
     "output_type": "execute_result"
    }
   ],
   "source": [
    "t4"
   ]
  },
  {
   "cell_type": "code",
   "execution_count": 14,
   "metadata": {},
   "outputs": [
    {
     "name": "stdout",
     "output_type": "stream",
     "text": [
      "Total Words: 73\n"
     ]
    }
   ],
   "source": [
    "count4=len(t4)\n",
    "print(\"Total Words:\",count4)"
   ]
  },
  {
   "cell_type": "code",
   "execution_count": 15,
   "metadata": {},
   "outputs": [],
   "source": [
    "t5=t5.split()"
   ]
  },
  {
   "cell_type": "code",
   "execution_count": 16,
   "metadata": {},
   "outputs": [
    {
     "data": {
      "text/plain": [
       "['role',\n",
       " 'and',\n",
       " 'responsibilities:',\n",
       " 'As',\n",
       " 'a',\n",
       " 'Staff',\n",
       " 'Data',\n",
       " 'Scientist,',\n",
       " 'you',\n",
       " 'will',\n",
       " 'be',\n",
       " 'part',\n",
       " 'of',\n",
       " 'a',\n",
       " 'data',\n",
       " 'science',\n",
       " 'and',\n",
       " 'cross-disciplinary',\n",
       " 'team',\n",
       " 'on',\n",
       " 'commercially-facing',\n",
       " 'development',\n",
       " 'projects,',\n",
       " 'typically',\n",
       " 'involving',\n",
       " 'large,',\n",
       " 'complex',\n",
       " 'data',\n",
       " 'sets.',\n",
       " 'These',\n",
       " 'teams',\n",
       " 'may',\n",
       " 'typically',\n",
       " 'include',\n",
       " 'statisticians,',\n",
       " 'computer',\n",
       " 'scientists,',\n",
       " 'software',\n",
       " 'developers,',\n",
       " 'engineers,',\n",
       " 'services',\n",
       " 'teams,',\n",
       " 'solution',\n",
       " 'architects,',\n",
       " 'software',\n",
       " 'architects,',\n",
       " 'product',\n",
       " 'managers,',\n",
       " 'and',\n",
       " 'end',\n",
       " 'users,',\n",
       " 'working',\n",
       " 'in',\n",
       " 'concert',\n",
       " 'with',\n",
       " 'partners',\n",
       " 'in',\n",
       " 'GE',\n",
       " 'business',\n",
       " 'units.',\n",
       " 'Potential',\n",
       " 'application',\n",
       " 'areas',\n",
       " 'include,',\n",
       " 'but',\n",
       " 'may',\n",
       " 'not',\n",
       " 'be',\n",
       " 'limited',\n",
       " 'to,',\n",
       " 'remote',\n",
       " 'monitoring',\n",
       " 'and',\n",
       " 'diagnostics',\n",
       " 'across',\n",
       " 'infrastructure',\n",
       " 'and',\n",
       " 'industrial',\n",
       " 'sectors,',\n",
       " 'process',\n",
       " 'and',\n",
       " 'operations',\n",
       " 'optimization',\n",
       " 'and',\n",
       " 'asset',\n",
       " 'management.']"
      ]
     },
     "execution_count": 16,
     "metadata": {},
     "output_type": "execute_result"
    }
   ],
   "source": [
    "t5"
   ]
  },
  {
   "cell_type": "code",
   "execution_count": 17,
   "metadata": {},
   "outputs": [
    {
     "name": "stdout",
     "output_type": "stream",
     "text": [
      "Total Words: 86\n"
     ]
    }
   ],
   "source": [
    "count5=len(t5)\n",
    "print(\"Total Words:\",count5)"
   ]
  },
  {
   "cell_type": "code",
   "execution_count": 18,
   "metadata": {},
   "outputs": [],
   "source": [
    "t6=t6.split()"
   ]
  },
  {
   "cell_type": "code",
   "execution_count": 19,
   "metadata": {},
   "outputs": [
    {
     "data": {
      "text/plain": [
       "['role',\n",
       " 'and',\n",
       " 'responsiblities:',\n",
       " 'We',\n",
       " 'are',\n",
       " 'seeking',\n",
       " 'fresher',\n",
       " 'or',\n",
       " 'trained',\n",
       " 'candidates',\n",
       " 'with',\n",
       " 'up',\n",
       " 'to',\n",
       " '6',\n",
       " 'months',\n",
       " 'of',\n",
       " 'experience',\n",
       " 'in',\n",
       " 'Python,',\n",
       " 'Al/ML.',\n",
       " 'A',\n",
       " 'basic',\n",
       " 'understanding',\n",
       " 'of',\n",
       " 'generative',\n",
       " 'Al,',\n",
       " 'Python',\n",
       " 'programming,',\n",
       " 'and',\n",
       " 'Al',\n",
       " 'concepts',\n",
       " 'along',\n",
       " 'with',\n",
       " 'strong',\n",
       " 'analytical',\n",
       " 'skills',\n",
       " 'is',\n",
       " 'essential.',\n",
       " 'Candidates',\n",
       " 'with',\n",
       " 'specialization',\n",
       " 'in',\n",
       " 'Al',\n",
       " 'projects',\n",
       " 'during',\n",
       " 'their',\n",
       " 'final',\n",
       " 'year',\n",
       " 'will',\n",
       " 'have',\n",
       " 'an',\n",
       " 'added',\n",
       " 'advantage.',\n",
       " 'Certifications',\n",
       " 'and',\n",
       " 'relevant',\n",
       " 'training',\n",
       " 'in',\n",
       " 'Python,',\n",
       " 'Al/ML',\n",
       " 'will',\n",
       " 'be',\n",
       " 'considered',\n",
       " 'favorably.',\n",
       " 'Excellent',\n",
       " 'communication',\n",
       " 'skills',\n",
       " 'are',\n",
       " 'required',\n",
       " 'to',\n",
       " 'effectively',\n",
       " 'collaborate',\n",
       " 'with',\n",
       " 'teams',\n",
       " 'and',\n",
       " 'stakeholders.']"
      ]
     },
     "execution_count": 19,
     "metadata": {},
     "output_type": "execute_result"
    }
   ],
   "source": [
    "t6"
   ]
  },
  {
   "cell_type": "code",
   "execution_count": 20,
   "metadata": {},
   "outputs": [
    {
     "name": "stdout",
     "output_type": "stream",
     "text": [
      "Total Words: 76\n"
     ]
    }
   ],
   "source": [
    "count6=len(t6)\n",
    "print(\"Total Words:\",count6)"
   ]
  },
  {
   "cell_type": "code",
   "execution_count": 21,
   "metadata": {},
   "outputs": [],
   "source": [
    "t7=t7.split()"
   ]
  },
  {
   "cell_type": "code",
   "execution_count": 22,
   "metadata": {},
   "outputs": [
    {
     "data": {
      "text/plain": [
       "['role',\n",
       " 'and',\n",
       " 'responsiblities:',\n",
       " 'we',\n",
       " 'are',\n",
       " 'seeking',\n",
       " 'a',\n",
       " 'highly',\n",
       " 'skilled',\n",
       " 'and',\n",
       " 'experienced',\n",
       " 'Data',\n",
       " 'Scientist',\n",
       " '/',\n",
       " 'Al',\n",
       " 'Specialist',\n",
       " 'to',\n",
       " 'join',\n",
       " 'our',\n",
       " 'dynamic',\n",
       " 'team.',\n",
       " 'The',\n",
       " 'ideal',\n",
       " 'candidate',\n",
       " 'will',\n",
       " 'have',\n",
       " 'a',\n",
       " 'strong',\n",
       " 'background',\n",
       " 'in',\n",
       " 'Python,',\n",
       " 'PySpark/Scala,',\n",
       " 'and',\n",
       " 'SQL,',\n",
       " 'with',\n",
       " 'expertise',\n",
       " 'in',\n",
       " 'Al',\n",
       " 'and',\n",
       " 'machine',\n",
       " 'learning',\n",
       " 'technologies,',\n",
       " 'including',\n",
       " 'OpenAl,',\n",
       " 'prompt',\n",
       " 'engineering,',\n",
       " 'and',\n",
       " 'generative',\n",
       " 'Al.',\n",
       " 'Proficiency',\n",
       " 'in',\n",
       " 'Azure',\n",
       " 'and',\n",
       " 'experience',\n",
       " 'with',\n",
       " 'ChatGPT',\n",
       " 'and',\n",
       " 'Azure',\n",
       " 'ML',\n",
       " 'flow',\n",
       " 'are',\n",
       " 'essential.']"
      ]
     },
     "execution_count": 22,
     "metadata": {},
     "output_type": "execute_result"
    }
   ],
   "source": [
    "t7"
   ]
  },
  {
   "cell_type": "code",
   "execution_count": 23,
   "metadata": {},
   "outputs": [
    {
     "name": "stdout",
     "output_type": "stream",
     "text": [
      "Total Words: 62\n"
     ]
    }
   ],
   "source": [
    "count7=len(t7)\n",
    "print(\"Total Words:\",count7)"
   ]
  },
  {
   "cell_type": "code",
   "execution_count": 24,
   "metadata": {},
   "outputs": [],
   "source": [
    "t8=t8.split()"
   ]
  },
  {
   "cell_type": "code",
   "execution_count": 25,
   "metadata": {},
   "outputs": [
    {
     "data": {
      "text/plain": [
       "['role',\n",
       " 'and',\n",
       " 'responsiblities:',\n",
       " 'As',\n",
       " 'a',\n",
       " 'Data',\n",
       " 'Scientist',\n",
       " 'you',\n",
       " 'will',\n",
       " 'identify',\n",
       " 'business',\n",
       " 'trends',\n",
       " 'and',\n",
       " 'problems',\n",
       " 'through',\n",
       " 'complex',\n",
       " 'big',\n",
       " 'data',\n",
       " 'analysis.',\n",
       " 'You',\n",
       " 'will',\n",
       " 'interpret',\n",
       " 'results',\n",
       " 'from',\n",
       " 'multiple',\n",
       " 'sources',\n",
       " 'using',\n",
       " 'a',\n",
       " 'variety',\n",
       " 'of',\n",
       " 'techniques,',\n",
       " 'ranging',\n",
       " 'from',\n",
       " 'simple',\n",
       " 'data',\n",
       " 'aggregation',\n",
       " 'via',\n",
       " 'statistical',\n",
       " 'analysis',\n",
       " 'to',\n",
       " 'complex',\n",
       " 'data',\n",
       " 'mining',\n",
       " 'independently.',\n",
       " 'You',\n",
       " 'will',\n",
       " 'design,',\n",
       " 'develop',\n",
       " 'and',\n",
       " 'implement',\n",
       " 'the',\n",
       " 'most',\n",
       " 'valuable',\n",
       " 'business',\n",
       " 'solutions',\n",
       " 'for',\n",
       " 'the',\n",
       " 'organization.',\n",
       " 'You',\n",
       " 'will',\n",
       " 'prepare',\n",
       " 'big',\n",
       " 'data,',\n",
       " 'implements',\n",
       " 'data',\n",
       " 'modules',\n",
       " 'and',\n",
       " 'develops',\n",
       " 'database',\n",
       " 'to',\n",
       " 'support',\n",
       " 'the',\n",
       " 'business',\n",
       " 'solutions.']"
      ]
     },
     "execution_count": 25,
     "metadata": {},
     "output_type": "execute_result"
    }
   ],
   "source": [
    "t8"
   ]
  },
  {
   "cell_type": "code",
   "execution_count": 26,
   "metadata": {},
   "outputs": [
    {
     "name": "stdout",
     "output_type": "stream",
     "text": [
      "Total Words: 74\n"
     ]
    }
   ],
   "source": [
    "count8=len(t8)\n",
    "print(\"Total Words:\",count8)"
   ]
  },
  {
   "cell_type": "code",
   "execution_count": 27,
   "metadata": {},
   "outputs": [],
   "source": [
    "t9=t9.split()"
   ]
  },
  {
   "cell_type": "code",
   "execution_count": 28,
   "metadata": {},
   "outputs": [
    {
     "data": {
      "text/plain": [
       "['role',\n",
       " 'and',\n",
       " 'responsiblities:',\n",
       " 'Python',\n",
       " 'Development',\n",
       " 'experience',\n",
       " 'with',\n",
       " 'automation',\n",
       " 'Develop',\n",
       " 'and',\n",
       " 'consume',\n",
       " 'REST',\n",
       " 'APIs',\n",
       " 'using',\n",
       " 'Python',\n",
       " 'Frameworks',\n",
       " 'Django/Flask.',\n",
       " 'Experience',\n",
       " 'in',\n",
       " 'shell',\n",
       " 'and',\n",
       " 'Perl',\n",
       " 'scripts.',\n",
       " 'Writing',\n",
       " 'unit',\n",
       " 'test',\n",
       " 'cases',\n",
       " 'using',\n",
       " 'python',\n",
       " 'test',\n",
       " 'modules',\n",
       " 'like',\n",
       " 'pytest,',\n",
       " 'unittest.Experience',\n",
       " 'in',\n",
       " 'CI/CD',\n",
       " 'tools',\n",
       " 'GitHub,',\n",
       " 'Jenkins',\n",
       " 'Experience',\n",
       " 'in',\n",
       " 'any',\n",
       " 'relational',\n",
       " 'or',\n",
       " 'NoSQL',\n",
       " 'databases,',\n",
       " 'good',\n",
       " 'to',\n",
       " 'have',\n",
       " 'experience',\n",
       " 'in',\n",
       " 'Oracle',\n",
       " 'and',\n",
       " 'MongoDB.Strong',\n",
       " 'technical,',\n",
       " 'analytical',\n",
       " 'and',\n",
       " 'problem-solving',\n",
       " 'skills',\n",
       " 'Coordinate',\n",
       " 'with',\n",
       " 'the',\n",
       " 'team',\n",
       " 'and',\n",
       " 'get',\n",
       " 'the',\n",
       " 'requirements',\n",
       " '•',\n",
       " 'Experience',\n",
       " 'in',\n",
       " 'writing',\n",
       " 'the',\n",
       " 'Technical',\n",
       " 'Specification,documents,',\n",
       " 'API',\n",
       " 'documents',\n",
       " 'Able',\n",
       " 'to',\n",
       " 'work',\n",
       " 'independently',\n",
       " 'and',\n",
       " 'as',\n",
       " 'part',\n",
       " 'of',\n",
       " 'a',\n",
       " 'team']"
      ]
     },
     "execution_count": 28,
     "metadata": {},
     "output_type": "execute_result"
    }
   ],
   "source": [
    "t9"
   ]
  },
  {
   "cell_type": "code",
   "execution_count": 29,
   "metadata": {},
   "outputs": [
    {
     "name": "stdout",
     "output_type": "stream",
     "text": [
      "Total Words: 86\n"
     ]
    }
   ],
   "source": [
    "count9=len(t9)\n",
    "print(\"Total Words:\",count9)"
   ]
  },
  {
   "cell_type": "code",
   "execution_count": 30,
   "metadata": {},
   "outputs": [],
   "source": [
    "t10=t10.split()"
   ]
  },
  {
   "cell_type": "code",
   "execution_count": 31,
   "metadata": {},
   "outputs": [
    {
     "data": {
      "text/plain": [
       "['role',\n",
       " 'and',\n",
       " 'responsiblities:',\n",
       " 'Takbeer',\n",
       " 'IT',\n",
       " 'Ltd.',\n",
       " 'is',\n",
       " 'a',\n",
       " 'digital',\n",
       " 'services',\n",
       " 'company',\n",
       " 'offering',\n",
       " 'a',\n",
       " 'wide',\n",
       " 'range',\n",
       " 'of',\n",
       " 'services',\n",
       " 'including',\n",
       " 'digital',\n",
       " 'marketing,',\n",
       " 'graphics',\n",
       " 'design,',\n",
       " 'video',\n",
       " 'editing,',\n",
       " 'web',\n",
       " 'design,',\n",
       " 'SEO,',\n",
       " 'content',\n",
       " 'creation,',\n",
       " 'virtual',\n",
       " 'assistance,',\n",
       " 'data',\n",
       " 'entry,',\n",
       " 'and',\n",
       " 'more.',\n",
       " 'We',\n",
       " 'strive',\n",
       " 'to',\n",
       " 'provide',\n",
       " 'the',\n",
       " 'best',\n",
       " 'level',\n",
       " 'of',\n",
       " 'service',\n",
       " 'to',\n",
       " 'meet',\n",
       " 'our',\n",
       " \"clients'\",\n",
       " 'needs.',\n",
       " 'This',\n",
       " 'is',\n",
       " 'a',\n",
       " 'part-time',\n",
       " 'remote',\n",
       " 'role',\n",
       " 'for',\n",
       " 'a',\n",
       " 'Data',\n",
       " 'Entry',\n",
       " 'Assistant',\n",
       " 'at',\n",
       " 'Takbeer',\n",
       " 'IT',\n",
       " 'Ltd.',\n",
       " 'The',\n",
       " 'Data',\n",
       " 'Entry',\n",
       " 'Assistant',\n",
       " 'will',\n",
       " 'be',\n",
       " 'responsible',\n",
       " 'for',\n",
       " 'entering',\n",
       " 'accurate',\n",
       " 'data',\n",
       " 'into',\n",
       " 'our',\n",
       " 'systems,',\n",
       " 'performing',\n",
       " 'data',\n",
       " 'verification',\n",
       " 'and',\n",
       " 'quality',\n",
       " 'checks,',\n",
       " 'and',\n",
       " 'maintaining',\n",
       " 'data',\n",
       " 'confidentiality.',\n",
       " 'The',\n",
       " 'role',\n",
       " 'also',\n",
       " 'involves',\n",
       " 'providing',\n",
       " 'administrative',\n",
       " 'assistance',\n",
       " 'and',\n",
       " 'delivering',\n",
       " 'exceptional',\n",
       " 'customer',\n",
       " 'service.']"
      ]
     },
     "execution_count": 31,
     "metadata": {},
     "output_type": "execute_result"
    }
   ],
   "source": [
    "t10"
   ]
  },
  {
   "cell_type": "code",
   "execution_count": 32,
   "metadata": {},
   "outputs": [
    {
     "name": "stdout",
     "output_type": "stream",
     "text": [
      "Total Words: 100\n"
     ]
    }
   ],
   "source": [
    "count10=len(t10)\n",
    "print(\"Total Words:\",count10)"
   ]
  }
 ],
 "metadata": {
  "kernelspec": {
   "display_name": "Python 3",
   "language": "python",
   "name": "python3"
  },
  "language_info": {
   "codemirror_mode": {
    "name": "ipython",
    "version": 3
   },
   "file_extension": ".py",
   "mimetype": "text/x-python",
   "name": "python",
   "nbconvert_exporter": "python",
   "pygments_lexer": "ipython3",
   "version": "3.12.3"
  }
 },
 "nbformat": 4,
 "nbformat_minor": 2
}
