{
 "cells": [
  {
   "cell_type": "markdown",
   "id": "01ff2383",
   "metadata": {},
   "source": [
    "### Objectiver: Predicted % chance of victory between two players in a chess match"
   ]
  },
  {
   "cell_type": "code",
   "execution_count": 1,
   "id": "3174bc09",
   "metadata": {},
   "outputs": [],
   "source": [
    "import pandas as pd\n",
    "import numpy as np\n",
    "\n",
    "import plotly.express as px\n",
    "import plotly.graph_objects as go\n",
    "import plotly.figure_factory as ff\n",
    "from plotly.subplots import make_subplots\n",
    "import seaborn as sns\n",
    "import matplotlib.pyplot as plt\n",
    "%matplotlib inline\n",
    "\n",
    "from os import listdir\n",
    "from os.path import isfile, join\n",
    "\n",
    "import shap\n",
    "\n",
    "import warnings\n",
    "warnings.filterwarnings(\"ignore\")\n",
    "\n",
    "\n",
    "from sklearn.preprocessing import MinMaxScaler\n",
    "\n",
    "from sklearn.model_selection import StratifiedKFold\n",
    "from sklearn.metrics import f1_score\n",
    "\n",
    "from sklearn.linear_model import LogisticRegression\n",
    "from catboost import CatBoostClassifier\n",
    "import lightgbm as lgb\n",
    "\n",
    "from sklearn.ensemble import RandomForestClassifier\n",
    "from sklearn.metrics import accuracy_score\n",
    "from sklearn import preprocessing\n",
    "import sklearn.metrics as metrics\n",
    "\n",
    "import xgboost as xgb\n",
    "from xgboost import XGBClassifier\n",
    "from xgboost import cv\n",
    "\n",
    "from sklearn.model_selection import RandomizedSearchCV, GridSearchCV"
   ]
  },
  {
   "cell_type": "markdown",
   "id": "5e275cec",
   "metadata": {},
   "source": [
    "## Reading all files\n",
    "* Read all json files and ELO file\n",
    "* Create simple table and store them for immediate Usage"
   ]
  },
  {
   "cell_type": "code",
   "execution_count": null,
   "id": "efadaa8b",
   "metadata": {},
   "outputs": [],
   "source": [
    "# Paths to the folders contating JSON files\n",
    "train_path = r'chess/train'\n",
    "test_path = r'chess/test'\n",
    "\n",
    "ELO_2014 = r'chess/rating_2014.txt'\n",
    "ELO_2020 = r'chess/rating_2020.txt'\n",
    "\n",
    "train_files = listdir(train_path)\n",
    "test_files = listdir(test_path)\n",
    "\n",
    "# Function to read all the json files and store the information in one DataFrame\n",
    "def create_meta_data(train_files,test_files,ELO_2014,ELO_2020):\n",
    "    \n",
    "    #Initializing the DataFrame with all the appropriate columns\n",
    "    train = pd.DataFrame(columns = ['name','start_date', 'end_date', 'tours', 'time_control', 'tour',\n",
    "                                    'white', 'black', 'date', 'result', 'id'])\n",
    "    test = pd.DataFrame(columns = ['name','start_date', 'end_date', 'tours', 'time_control', 'tour',\n",
    "                                   'white', 'black', 'date', 'id'])\n",
    "    \n",
    "    # Processing files in train folder\n",
    "    for file in train_files:\n",
    "        temp = pd.read_json(train_path + '/' + file, encoding = 'latin1')\n",
    "        for index in temp.index:\n",
    "            games = pd.DataFrame(temp.loc[index]['games'])\n",
    "            games['name'] = temp.loc[index]['name']\n",
    "            games['start_date'] = temp.loc[index]['start_date']\n",
    "            games['end_date'] = temp.loc[index]['end_date']\n",
    "            games['tours'] = temp.loc[index]['tours']\n",
    "            games['time_control'] = temp.loc[index]['time_control']\n",
    "            games['tour'] = index\n",
    "            train = pd.concat([train, games])\n",
    "            \n",
    "    # Processing files in test folder\n",
    "    for file in test_files:\n",
    "        temp = pd.read_json(test_path + '/' + file,  encoding = 'latin1')\n",
    "        for index in temp.index:\n",
    "            games = pd.DataFrame(temp.loc[index]['games'])\n",
    "            games['name'] = temp.loc[index]['name']\n",
    "            games['start_date'] = temp.loc[index]['start_date']\n",
    "            games['end_date'] = temp.loc[index]['end_date']\n",
    "            games['tours'] = temp.loc[index]['tours']\n",
    "            games['time_control'] = temp.loc[index]['time_control']\n",
    "            games['tour'] = index\n",
    "            test = pd.concat([test, games])\n",
    "        \n",
    "    # Converting Date columns to Date format using pandas datetime function\n",
    "    train['date'] = pd.to_datetime(train['date'])\n",
    "    \n",
    "    # Sorting all the rows chronologically    \n",
    "    train = train.sort_values(by=['date'], ascending= True)\n",
    "    test = test.sort_values(by=['date'], ascending= True)\n",
    "    \n",
    "    # Resetting index of the sorted rows\n",
    "    train = train.reset_index(drop = True)\n",
    "    test = test.reset_index(drop = True)\n",
    "    \n",
    "    # Saving the DataFrame for further usage\n",
    "    train.to_csv('Data/Train_Master.csv', index = False)\n",
    "    test.to_csv('Data/Test_Master.csv', index = False)\n",
    "\n",
    "    \n",
    "    with open(ELO_2014) as f:\n",
    "        ELO_2014 = f.readlines()\n",
    "    \n",
    "    with open(ELO_2020) as f:\n",
    "        ELO_2020 = f.readlines()\n",
    "    \n",
    "    ELO_2014 = pd.DataFrame([i.replace('\\n','').split('\\t') for i in ELO_2014], columns = ['name','ELO'])\n",
    "    ELO_2020 = pd.DataFrame([i.replace('\\n','').split('\\t') for i in ELO_2020], columns = ['name','ELO'])\n",
    "\n",
    "    ELO_2014.to_csv('Data/ELO_2014.csv', index = False)\n",
    "    ELO_2020.to_csv('Data/ELO_2020.csv', index = False)\n",
    "    \n",
    "    \n",
    "# Executing the funtion\n",
    "create_meta_data(train_files,test_files,ELO_2014,ELO_2020)"
   ]
  },
  {
   "cell_type": "markdown",
   "id": "410b8559",
   "metadata": {},
   "source": [
    "### Loading Data"
   ]
  },
  {
   "cell_type": "code",
   "execution_count": 141,
   "id": "7446e423",
   "metadata": {},
   "outputs": [],
   "source": [
    "train = pd.read_csv('Data/Train_Master.csv')\n",
    "test = pd.read_csv('Data/Test_Master.csv')\n",
    "\n",
    "train['Year'] = train['date'].apply(lambda x: int(x[0:4]), 1)\n",
    "test['Year'] = test['date'].apply(lambda x: int(x[0:4]), 1)"
   ]
  },
  {
   "cell_type": "code",
   "execution_count": 142,
   "id": "8128adb4",
   "metadata": {},
   "outputs": [
    {
     "name": "stdout",
     "output_type": "stream",
     "text": [
      "Total number of tournments: 803\n",
      "Total nubmer of games: 174118\n",
      "Total number of Rapid games are 102626 and classic games are 71492\n",
      "Total number of Unique players: 2133\n"
     ]
    }
   ],
   "source": [
    "print('Total number of tournments: {}'.format(len(train.name.unique())))\n",
    "print('Total nubmer of games: {}'.format(len(train)))\n",
    "print('Total number of Rapid games are {} and classic games are {}'.format(train.time_control.value_counts()[0],\n",
    "                                                                           train.time_control.value_counts()[1]))\n",
    "\n",
    "Uni_players = set(list(train['white']) +  list(train['black']))\n",
    "print('Total number of Unique players: {}'.format(len(Uni_players)))\n",
    "\n",
    "# Dropping coloumns with no information.\n",
    "train = train.drop(['name','start_date','end_date','tours','date','tour','id'], axis= 1)\n",
    "test = test.drop(['name','start_date','end_date','tours','date','tour','id'], axis= 1)"
   ]
  },
  {
   "cell_type": "code",
   "execution_count": 185,
   "id": "7f15ef14",
   "metadata": {},
   "outputs": [
    {
     "data": {
      "application/vnd.plotly.v1+json": {
       "config": {
        "plotlyServerURL": "https://plot.ly"
       },
       "data": [
        {
         "alignmentgroup": "True",
         "hovertemplate": "Result=%{x}<br>Count=%{y}<extra></extra>",
         "legendgroup": "",
         "marker": {
          "color": "#636efa",
          "pattern": {
           "shape": ""
          }
         },
         "name": "",
         "offsetgroup": "",
         "orientation": "v",
         "showlegend": false,
         "textposition": "auto",
         "texttemplate": "%{y:.2s}",
         "type": "bar",
         "x": [
          "Draw",
          "Win",
          "Lose"
         ],
         "xaxis": "x",
         "y": [
          67835,
          61643,
          44640
         ],
         "yaxis": "y"
        }
       ],
       "layout": {
        "barmode": "relative",
        "legend": {
         "tracegroupgap": 0
        },
        "template": {
         "data": {
          "bar": [
           {
            "error_x": {
             "color": "#2a3f5f"
            },
            "error_y": {
             "color": "#2a3f5f"
            },
            "marker": {
             "line": {
              "color": "#E5ECF6",
              "width": 0.5
             },
             "pattern": {
              "fillmode": "overlay",
              "size": 10,
              "solidity": 0.2
             }
            },
            "type": "bar"
           }
          ],
          "barpolar": [
           {
            "marker": {
             "line": {
              "color": "#E5ECF6",
              "width": 0.5
             },
             "pattern": {
              "fillmode": "overlay",
              "size": 10,
              "solidity": 0.2
             }
            },
            "type": "barpolar"
           }
          ],
          "carpet": [
           {
            "aaxis": {
             "endlinecolor": "#2a3f5f",
             "gridcolor": "white",
             "linecolor": "white",
             "minorgridcolor": "white",
             "startlinecolor": "#2a3f5f"
            },
            "baxis": {
             "endlinecolor": "#2a3f5f",
             "gridcolor": "white",
             "linecolor": "white",
             "minorgridcolor": "white",
             "startlinecolor": "#2a3f5f"
            },
            "type": "carpet"
           }
          ],
          "choropleth": [
           {
            "colorbar": {
             "outlinewidth": 0,
             "ticks": ""
            },
            "type": "choropleth"
           }
          ],
          "contour": [
           {
            "colorbar": {
             "outlinewidth": 0,
             "ticks": ""
            },
            "colorscale": [
             [
              0,
              "#0d0887"
             ],
             [
              0.1111111111111111,
              "#46039f"
             ],
             [
              0.2222222222222222,
              "#7201a8"
             ],
             [
              0.3333333333333333,
              "#9c179e"
             ],
             [
              0.4444444444444444,
              "#bd3786"
             ],
             [
              0.5555555555555556,
              "#d8576b"
             ],
             [
              0.6666666666666666,
              "#ed7953"
             ],
             [
              0.7777777777777778,
              "#fb9f3a"
             ],
             [
              0.8888888888888888,
              "#fdca26"
             ],
             [
              1,
              "#f0f921"
             ]
            ],
            "type": "contour"
           }
          ],
          "contourcarpet": [
           {
            "colorbar": {
             "outlinewidth": 0,
             "ticks": ""
            },
            "type": "contourcarpet"
           }
          ],
          "heatmap": [
           {
            "colorbar": {
             "outlinewidth": 0,
             "ticks": ""
            },
            "colorscale": [
             [
              0,
              "#0d0887"
             ],
             [
              0.1111111111111111,
              "#46039f"
             ],
             [
              0.2222222222222222,
              "#7201a8"
             ],
             [
              0.3333333333333333,
              "#9c179e"
             ],
             [
              0.4444444444444444,
              "#bd3786"
             ],
             [
              0.5555555555555556,
              "#d8576b"
             ],
             [
              0.6666666666666666,
              "#ed7953"
             ],
             [
              0.7777777777777778,
              "#fb9f3a"
             ],
             [
              0.8888888888888888,
              "#fdca26"
             ],
             [
              1,
              "#f0f921"
             ]
            ],
            "type": "heatmap"
           }
          ],
          "heatmapgl": [
           {
            "colorbar": {
             "outlinewidth": 0,
             "ticks": ""
            },
            "colorscale": [
             [
              0,
              "#0d0887"
             ],
             [
              0.1111111111111111,
              "#46039f"
             ],
             [
              0.2222222222222222,
              "#7201a8"
             ],
             [
              0.3333333333333333,
              "#9c179e"
             ],
             [
              0.4444444444444444,
              "#bd3786"
             ],
             [
              0.5555555555555556,
              "#d8576b"
             ],
             [
              0.6666666666666666,
              "#ed7953"
             ],
             [
              0.7777777777777778,
              "#fb9f3a"
             ],
             [
              0.8888888888888888,
              "#fdca26"
             ],
             [
              1,
              "#f0f921"
             ]
            ],
            "type": "heatmapgl"
           }
          ],
          "histogram": [
           {
            "marker": {
             "pattern": {
              "fillmode": "overlay",
              "size": 10,
              "solidity": 0.2
             }
            },
            "type": "histogram"
           }
          ],
          "histogram2d": [
           {
            "colorbar": {
             "outlinewidth": 0,
             "ticks": ""
            },
            "colorscale": [
             [
              0,
              "#0d0887"
             ],
             [
              0.1111111111111111,
              "#46039f"
             ],
             [
              0.2222222222222222,
              "#7201a8"
             ],
             [
              0.3333333333333333,
              "#9c179e"
             ],
             [
              0.4444444444444444,
              "#bd3786"
             ],
             [
              0.5555555555555556,
              "#d8576b"
             ],
             [
              0.6666666666666666,
              "#ed7953"
             ],
             [
              0.7777777777777778,
              "#fb9f3a"
             ],
             [
              0.8888888888888888,
              "#fdca26"
             ],
             [
              1,
              "#f0f921"
             ]
            ],
            "type": "histogram2d"
           }
          ],
          "histogram2dcontour": [
           {
            "colorbar": {
             "outlinewidth": 0,
             "ticks": ""
            },
            "colorscale": [
             [
              0,
              "#0d0887"
             ],
             [
              0.1111111111111111,
              "#46039f"
             ],
             [
              0.2222222222222222,
              "#7201a8"
             ],
             [
              0.3333333333333333,
              "#9c179e"
             ],
             [
              0.4444444444444444,
              "#bd3786"
             ],
             [
              0.5555555555555556,
              "#d8576b"
             ],
             [
              0.6666666666666666,
              "#ed7953"
             ],
             [
              0.7777777777777778,
              "#fb9f3a"
             ],
             [
              0.8888888888888888,
              "#fdca26"
             ],
             [
              1,
              "#f0f921"
             ]
            ],
            "type": "histogram2dcontour"
           }
          ],
          "mesh3d": [
           {
            "colorbar": {
             "outlinewidth": 0,
             "ticks": ""
            },
            "type": "mesh3d"
           }
          ],
          "parcoords": [
           {
            "line": {
             "colorbar": {
              "outlinewidth": 0,
              "ticks": ""
             }
            },
            "type": "parcoords"
           }
          ],
          "pie": [
           {
            "automargin": true,
            "type": "pie"
           }
          ],
          "scatter": [
           {
            "marker": {
             "colorbar": {
              "outlinewidth": 0,
              "ticks": ""
             }
            },
            "type": "scatter"
           }
          ],
          "scatter3d": [
           {
            "line": {
             "colorbar": {
              "outlinewidth": 0,
              "ticks": ""
             }
            },
            "marker": {
             "colorbar": {
              "outlinewidth": 0,
              "ticks": ""
             }
            },
            "type": "scatter3d"
           }
          ],
          "scattercarpet": [
           {
            "marker": {
             "colorbar": {
              "outlinewidth": 0,
              "ticks": ""
             }
            },
            "type": "scattercarpet"
           }
          ],
          "scattergeo": [
           {
            "marker": {
             "colorbar": {
              "outlinewidth": 0,
              "ticks": ""
             }
            },
            "type": "scattergeo"
           }
          ],
          "scattergl": [
           {
            "marker": {
             "colorbar": {
              "outlinewidth": 0,
              "ticks": ""
             }
            },
            "type": "scattergl"
           }
          ],
          "scattermapbox": [
           {
            "marker": {
             "colorbar": {
              "outlinewidth": 0,
              "ticks": ""
             }
            },
            "type": "scattermapbox"
           }
          ],
          "scatterpolar": [
           {
            "marker": {
             "colorbar": {
              "outlinewidth": 0,
              "ticks": ""
             }
            },
            "type": "scatterpolar"
           }
          ],
          "scatterpolargl": [
           {
            "marker": {
             "colorbar": {
              "outlinewidth": 0,
              "ticks": ""
             }
            },
            "type": "scatterpolargl"
           }
          ],
          "scatterternary": [
           {
            "marker": {
             "colorbar": {
              "outlinewidth": 0,
              "ticks": ""
             }
            },
            "type": "scatterternary"
           }
          ],
          "surface": [
           {
            "colorbar": {
             "outlinewidth": 0,
             "ticks": ""
            },
            "colorscale": [
             [
              0,
              "#0d0887"
             ],
             [
              0.1111111111111111,
              "#46039f"
             ],
             [
              0.2222222222222222,
              "#7201a8"
             ],
             [
              0.3333333333333333,
              "#9c179e"
             ],
             [
              0.4444444444444444,
              "#bd3786"
             ],
             [
              0.5555555555555556,
              "#d8576b"
             ],
             [
              0.6666666666666666,
              "#ed7953"
             ],
             [
              0.7777777777777778,
              "#fb9f3a"
             ],
             [
              0.8888888888888888,
              "#fdca26"
             ],
             [
              1,
              "#f0f921"
             ]
            ],
            "type": "surface"
           }
          ],
          "table": [
           {
            "cells": {
             "fill": {
              "color": "#EBF0F8"
             },
             "line": {
              "color": "white"
             }
            },
            "header": {
             "fill": {
              "color": "#C8D4E3"
             },
             "line": {
              "color": "white"
             }
            },
            "type": "table"
           }
          ]
         },
         "layout": {
          "annotationdefaults": {
           "arrowcolor": "#2a3f5f",
           "arrowhead": 0,
           "arrowwidth": 1
          },
          "autotypenumbers": "strict",
          "coloraxis": {
           "colorbar": {
            "outlinewidth": 0,
            "ticks": ""
           }
          },
          "colorscale": {
           "diverging": [
            [
             0,
             "#8e0152"
            ],
            [
             0.1,
             "#c51b7d"
            ],
            [
             0.2,
             "#de77ae"
            ],
            [
             0.3,
             "#f1b6da"
            ],
            [
             0.4,
             "#fde0ef"
            ],
            [
             0.5,
             "#f7f7f7"
            ],
            [
             0.6,
             "#e6f5d0"
            ],
            [
             0.7,
             "#b8e186"
            ],
            [
             0.8,
             "#7fbc41"
            ],
            [
             0.9,
             "#4d9221"
            ],
            [
             1,
             "#276419"
            ]
           ],
           "sequential": [
            [
             0,
             "#0d0887"
            ],
            [
             0.1111111111111111,
             "#46039f"
            ],
            [
             0.2222222222222222,
             "#7201a8"
            ],
            [
             0.3333333333333333,
             "#9c179e"
            ],
            [
             0.4444444444444444,
             "#bd3786"
            ],
            [
             0.5555555555555556,
             "#d8576b"
            ],
            [
             0.6666666666666666,
             "#ed7953"
            ],
            [
             0.7777777777777778,
             "#fb9f3a"
            ],
            [
             0.8888888888888888,
             "#fdca26"
            ],
            [
             1,
             "#f0f921"
            ]
           ],
           "sequentialminus": [
            [
             0,
             "#0d0887"
            ],
            [
             0.1111111111111111,
             "#46039f"
            ],
            [
             0.2222222222222222,
             "#7201a8"
            ],
            [
             0.3333333333333333,
             "#9c179e"
            ],
            [
             0.4444444444444444,
             "#bd3786"
            ],
            [
             0.5555555555555556,
             "#d8576b"
            ],
            [
             0.6666666666666666,
             "#ed7953"
            ],
            [
             0.7777777777777778,
             "#fb9f3a"
            ],
            [
             0.8888888888888888,
             "#fdca26"
            ],
            [
             1,
             "#f0f921"
            ]
           ]
          },
          "colorway": [
           "#636efa",
           "#EF553B",
           "#00cc96",
           "#ab63fa",
           "#FFA15A",
           "#19d3f3",
           "#FF6692",
           "#B6E880",
           "#FF97FF",
           "#FECB52"
          ],
          "font": {
           "color": "#2a3f5f"
          },
          "geo": {
           "bgcolor": "white",
           "lakecolor": "white",
           "landcolor": "#E5ECF6",
           "showlakes": true,
           "showland": true,
           "subunitcolor": "white"
          },
          "hoverlabel": {
           "align": "left"
          },
          "hovermode": "closest",
          "mapbox": {
           "style": "light"
          },
          "paper_bgcolor": "white",
          "plot_bgcolor": "#E5ECF6",
          "polar": {
           "angularaxis": {
            "gridcolor": "white",
            "linecolor": "white",
            "ticks": ""
           },
           "bgcolor": "#E5ECF6",
           "radialaxis": {
            "gridcolor": "white",
            "linecolor": "white",
            "ticks": ""
           }
          },
          "scene": {
           "xaxis": {
            "backgroundcolor": "#E5ECF6",
            "gridcolor": "white",
            "gridwidth": 2,
            "linecolor": "white",
            "showbackground": true,
            "ticks": "",
            "zerolinecolor": "white"
           },
           "yaxis": {
            "backgroundcolor": "#E5ECF6",
            "gridcolor": "white",
            "gridwidth": 2,
            "linecolor": "white",
            "showbackground": true,
            "ticks": "",
            "zerolinecolor": "white"
           },
           "zaxis": {
            "backgroundcolor": "#E5ECF6",
            "gridcolor": "white",
            "gridwidth": 2,
            "linecolor": "white",
            "showbackground": true,
            "ticks": "",
            "zerolinecolor": "white"
           }
          },
          "shapedefaults": {
           "line": {
            "color": "#2a3f5f"
           }
          },
          "ternary": {
           "aaxis": {
            "gridcolor": "white",
            "linecolor": "white",
            "ticks": ""
           },
           "baxis": {
            "gridcolor": "white",
            "linecolor": "white",
            "ticks": ""
           },
           "bgcolor": "#E5ECF6",
           "caxis": {
            "gridcolor": "white",
            "linecolor": "white",
            "ticks": ""
           }
          },
          "title": {
           "x": 0.05
          },
          "xaxis": {
           "automargin": true,
           "gridcolor": "white",
           "linecolor": "white",
           "ticks": "",
           "title": {
            "standoff": 15
           },
           "zerolinecolor": "white",
           "zerolinewidth": 2
          },
          "yaxis": {
           "automargin": true,
           "gridcolor": "white",
           "linecolor": "white",
           "ticks": "",
           "title": {
            "standoff": 15
           },
           "zerolinecolor": "white",
           "zerolinewidth": 2
          }
         }
        },
        "title": {
         "text": "Chess Outcomes"
        },
        "xaxis": {
         "anchor": "y",
         "domain": [
          0,
          1
         ],
         "title": {
          "text": "Result"
         }
        },
        "yaxis": {
         "anchor": "x",
         "domain": [
          0,
          1
         ],
         "title": {
          "text": "Count"
         }
        }
       }
      },
      "text/html": [
       "<div>                            <div id=\"4a79dadb-c093-4b29-a17c-41fe996e9711\" class=\"plotly-graph-div\" style=\"height:525px; width:100%;\"></div>            <script type=\"text/javascript\">                require([\"plotly\"], function(Plotly) {                    window.PLOTLYENV=window.PLOTLYENV || {};                                    if (document.getElementById(\"4a79dadb-c093-4b29-a17c-41fe996e9711\")) {                    Plotly.newPlot(                        \"4a79dadb-c093-4b29-a17c-41fe996e9711\",                        [{\"alignmentgroup\":\"True\",\"hovertemplate\":\"Result=%{x}<br>Count=%{y}<extra></extra>\",\"legendgroup\":\"\",\"marker\":{\"color\":\"#636efa\",\"pattern\":{\"shape\":\"\"}},\"name\":\"\",\"offsetgroup\":\"\",\"orientation\":\"v\",\"showlegend\":false,\"textposition\":\"auto\",\"texttemplate\":\"%{y:.2s}\",\"x\":[\"Draw\",\"Win\",\"Lose\"],\"xaxis\":\"x\",\"y\":[67835,61643,44640],\"yaxis\":\"y\",\"type\":\"bar\"}],                        {\"template\":{\"data\":{\"bar\":[{\"error_x\":{\"color\":\"#2a3f5f\"},\"error_y\":{\"color\":\"#2a3f5f\"},\"marker\":{\"line\":{\"color\":\"#E5ECF6\",\"width\":0.5},\"pattern\":{\"fillmode\":\"overlay\",\"size\":10,\"solidity\":0.2}},\"type\":\"bar\"}],\"barpolar\":[{\"marker\":{\"line\":{\"color\":\"#E5ECF6\",\"width\":0.5},\"pattern\":{\"fillmode\":\"overlay\",\"size\":10,\"solidity\":0.2}},\"type\":\"barpolar\"}],\"carpet\":[{\"aaxis\":{\"endlinecolor\":\"#2a3f5f\",\"gridcolor\":\"white\",\"linecolor\":\"white\",\"minorgridcolor\":\"white\",\"startlinecolor\":\"#2a3f5f\"},\"baxis\":{\"endlinecolor\":\"#2a3f5f\",\"gridcolor\":\"white\",\"linecolor\":\"white\",\"minorgridcolor\":\"white\",\"startlinecolor\":\"#2a3f5f\"},\"type\":\"carpet\"}],\"choropleth\":[{\"colorbar\":{\"outlinewidth\":0,\"ticks\":\"\"},\"type\":\"choropleth\"}],\"contour\":[{\"colorbar\":{\"outlinewidth\":0,\"ticks\":\"\"},\"colorscale\":[[0.0,\"#0d0887\"],[0.1111111111111111,\"#46039f\"],[0.2222222222222222,\"#7201a8\"],[0.3333333333333333,\"#9c179e\"],[0.4444444444444444,\"#bd3786\"],[0.5555555555555556,\"#d8576b\"],[0.6666666666666666,\"#ed7953\"],[0.7777777777777778,\"#fb9f3a\"],[0.8888888888888888,\"#fdca26\"],[1.0,\"#f0f921\"]],\"type\":\"contour\"}],\"contourcarpet\":[{\"colorbar\":{\"outlinewidth\":0,\"ticks\":\"\"},\"type\":\"contourcarpet\"}],\"heatmap\":[{\"colorbar\":{\"outlinewidth\":0,\"ticks\":\"\"},\"colorscale\":[[0.0,\"#0d0887\"],[0.1111111111111111,\"#46039f\"],[0.2222222222222222,\"#7201a8\"],[0.3333333333333333,\"#9c179e\"],[0.4444444444444444,\"#bd3786\"],[0.5555555555555556,\"#d8576b\"],[0.6666666666666666,\"#ed7953\"],[0.7777777777777778,\"#fb9f3a\"],[0.8888888888888888,\"#fdca26\"],[1.0,\"#f0f921\"]],\"type\":\"heatmap\"}],\"heatmapgl\":[{\"colorbar\":{\"outlinewidth\":0,\"ticks\":\"\"},\"colorscale\":[[0.0,\"#0d0887\"],[0.1111111111111111,\"#46039f\"],[0.2222222222222222,\"#7201a8\"],[0.3333333333333333,\"#9c179e\"],[0.4444444444444444,\"#bd3786\"],[0.5555555555555556,\"#d8576b\"],[0.6666666666666666,\"#ed7953\"],[0.7777777777777778,\"#fb9f3a\"],[0.8888888888888888,\"#fdca26\"],[1.0,\"#f0f921\"]],\"type\":\"heatmapgl\"}],\"histogram\":[{\"marker\":{\"pattern\":{\"fillmode\":\"overlay\",\"size\":10,\"solidity\":0.2}},\"type\":\"histogram\"}],\"histogram2d\":[{\"colorbar\":{\"outlinewidth\":0,\"ticks\":\"\"},\"colorscale\":[[0.0,\"#0d0887\"],[0.1111111111111111,\"#46039f\"],[0.2222222222222222,\"#7201a8\"],[0.3333333333333333,\"#9c179e\"],[0.4444444444444444,\"#bd3786\"],[0.5555555555555556,\"#d8576b\"],[0.6666666666666666,\"#ed7953\"],[0.7777777777777778,\"#fb9f3a\"],[0.8888888888888888,\"#fdca26\"],[1.0,\"#f0f921\"]],\"type\":\"histogram2d\"}],\"histogram2dcontour\":[{\"colorbar\":{\"outlinewidth\":0,\"ticks\":\"\"},\"colorscale\":[[0.0,\"#0d0887\"],[0.1111111111111111,\"#46039f\"],[0.2222222222222222,\"#7201a8\"],[0.3333333333333333,\"#9c179e\"],[0.4444444444444444,\"#bd3786\"],[0.5555555555555556,\"#d8576b\"],[0.6666666666666666,\"#ed7953\"],[0.7777777777777778,\"#fb9f3a\"],[0.8888888888888888,\"#fdca26\"],[1.0,\"#f0f921\"]],\"type\":\"histogram2dcontour\"}],\"mesh3d\":[{\"colorbar\":{\"outlinewidth\":0,\"ticks\":\"\"},\"type\":\"mesh3d\"}],\"parcoords\":[{\"line\":{\"colorbar\":{\"outlinewidth\":0,\"ticks\":\"\"}},\"type\":\"parcoords\"}],\"pie\":[{\"automargin\":true,\"type\":\"pie\"}],\"scatter\":[{\"marker\":{\"colorbar\":{\"outlinewidth\":0,\"ticks\":\"\"}},\"type\":\"scatter\"}],\"scatter3d\":[{\"line\":{\"colorbar\":{\"outlinewidth\":0,\"ticks\":\"\"}},\"marker\":{\"colorbar\":{\"outlinewidth\":0,\"ticks\":\"\"}},\"type\":\"scatter3d\"}],\"scattercarpet\":[{\"marker\":{\"colorbar\":{\"outlinewidth\":0,\"ticks\":\"\"}},\"type\":\"scattercarpet\"}],\"scattergeo\":[{\"marker\":{\"colorbar\":{\"outlinewidth\":0,\"ticks\":\"\"}},\"type\":\"scattergeo\"}],\"scattergl\":[{\"marker\":{\"colorbar\":{\"outlinewidth\":0,\"ticks\":\"\"}},\"type\":\"scattergl\"}],\"scattermapbox\":[{\"marker\":{\"colorbar\":{\"outlinewidth\":0,\"ticks\":\"\"}},\"type\":\"scattermapbox\"}],\"scatterpolar\":[{\"marker\":{\"colorbar\":{\"outlinewidth\":0,\"ticks\":\"\"}},\"type\":\"scatterpolar\"}],\"scatterpolargl\":[{\"marker\":{\"colorbar\":{\"outlinewidth\":0,\"ticks\":\"\"}},\"type\":\"scatterpolargl\"}],\"scatterternary\":[{\"marker\":{\"colorbar\":{\"outlinewidth\":0,\"ticks\":\"\"}},\"type\":\"scatterternary\"}],\"surface\":[{\"colorbar\":{\"outlinewidth\":0,\"ticks\":\"\"},\"colorscale\":[[0.0,\"#0d0887\"],[0.1111111111111111,\"#46039f\"],[0.2222222222222222,\"#7201a8\"],[0.3333333333333333,\"#9c179e\"],[0.4444444444444444,\"#bd3786\"],[0.5555555555555556,\"#d8576b\"],[0.6666666666666666,\"#ed7953\"],[0.7777777777777778,\"#fb9f3a\"],[0.8888888888888888,\"#fdca26\"],[1.0,\"#f0f921\"]],\"type\":\"surface\"}],\"table\":[{\"cells\":{\"fill\":{\"color\":\"#EBF0F8\"},\"line\":{\"color\":\"white\"}},\"header\":{\"fill\":{\"color\":\"#C8D4E3\"},\"line\":{\"color\":\"white\"}},\"type\":\"table\"}]},\"layout\":{\"annotationdefaults\":{\"arrowcolor\":\"#2a3f5f\",\"arrowhead\":0,\"arrowwidth\":1},\"autotypenumbers\":\"strict\",\"coloraxis\":{\"colorbar\":{\"outlinewidth\":0,\"ticks\":\"\"}},\"colorscale\":{\"diverging\":[[0,\"#8e0152\"],[0.1,\"#c51b7d\"],[0.2,\"#de77ae\"],[0.3,\"#f1b6da\"],[0.4,\"#fde0ef\"],[0.5,\"#f7f7f7\"],[0.6,\"#e6f5d0\"],[0.7,\"#b8e186\"],[0.8,\"#7fbc41\"],[0.9,\"#4d9221\"],[1,\"#276419\"]],\"sequential\":[[0.0,\"#0d0887\"],[0.1111111111111111,\"#46039f\"],[0.2222222222222222,\"#7201a8\"],[0.3333333333333333,\"#9c179e\"],[0.4444444444444444,\"#bd3786\"],[0.5555555555555556,\"#d8576b\"],[0.6666666666666666,\"#ed7953\"],[0.7777777777777778,\"#fb9f3a\"],[0.8888888888888888,\"#fdca26\"],[1.0,\"#f0f921\"]],\"sequentialminus\":[[0.0,\"#0d0887\"],[0.1111111111111111,\"#46039f\"],[0.2222222222222222,\"#7201a8\"],[0.3333333333333333,\"#9c179e\"],[0.4444444444444444,\"#bd3786\"],[0.5555555555555556,\"#d8576b\"],[0.6666666666666666,\"#ed7953\"],[0.7777777777777778,\"#fb9f3a\"],[0.8888888888888888,\"#fdca26\"],[1.0,\"#f0f921\"]]},\"colorway\":[\"#636efa\",\"#EF553B\",\"#00cc96\",\"#ab63fa\",\"#FFA15A\",\"#19d3f3\",\"#FF6692\",\"#B6E880\",\"#FF97FF\",\"#FECB52\"],\"font\":{\"color\":\"#2a3f5f\"},\"geo\":{\"bgcolor\":\"white\",\"lakecolor\":\"white\",\"landcolor\":\"#E5ECF6\",\"showlakes\":true,\"showland\":true,\"subunitcolor\":\"white\"},\"hoverlabel\":{\"align\":\"left\"},\"hovermode\":\"closest\",\"mapbox\":{\"style\":\"light\"},\"paper_bgcolor\":\"white\",\"plot_bgcolor\":\"#E5ECF6\",\"polar\":{\"angularaxis\":{\"gridcolor\":\"white\",\"linecolor\":\"white\",\"ticks\":\"\"},\"bgcolor\":\"#E5ECF6\",\"radialaxis\":{\"gridcolor\":\"white\",\"linecolor\":\"white\",\"ticks\":\"\"}},\"scene\":{\"xaxis\":{\"backgroundcolor\":\"#E5ECF6\",\"gridcolor\":\"white\",\"gridwidth\":2,\"linecolor\":\"white\",\"showbackground\":true,\"ticks\":\"\",\"zerolinecolor\":\"white\"},\"yaxis\":{\"backgroundcolor\":\"#E5ECF6\",\"gridcolor\":\"white\",\"gridwidth\":2,\"linecolor\":\"white\",\"showbackground\":true,\"ticks\":\"\",\"zerolinecolor\":\"white\"},\"zaxis\":{\"backgroundcolor\":\"#E5ECF6\",\"gridcolor\":\"white\",\"gridwidth\":2,\"linecolor\":\"white\",\"showbackground\":true,\"ticks\":\"\",\"zerolinecolor\":\"white\"}},\"shapedefaults\":{\"line\":{\"color\":\"#2a3f5f\"}},\"ternary\":{\"aaxis\":{\"gridcolor\":\"white\",\"linecolor\":\"white\",\"ticks\":\"\"},\"baxis\":{\"gridcolor\":\"white\",\"linecolor\":\"white\",\"ticks\":\"\"},\"bgcolor\":\"#E5ECF6\",\"caxis\":{\"gridcolor\":\"white\",\"linecolor\":\"white\",\"ticks\":\"\"}},\"title\":{\"x\":0.05},\"xaxis\":{\"automargin\":true,\"gridcolor\":\"white\",\"linecolor\":\"white\",\"ticks\":\"\",\"title\":{\"standoff\":15},\"zerolinecolor\":\"white\",\"zerolinewidth\":2},\"yaxis\":{\"automargin\":true,\"gridcolor\":\"white\",\"linecolor\":\"white\",\"ticks\":\"\",\"title\":{\"standoff\":15},\"zerolinecolor\":\"white\",\"zerolinewidth\":2}}},\"xaxis\":{\"anchor\":\"y\",\"domain\":[0.0,1.0],\"title\":{\"text\":\"Result\"}},\"yaxis\":{\"anchor\":\"x\",\"domain\":[0.0,1.0],\"title\":{\"text\":\"Count\"}},\"legend\":{\"tracegroupgap\":0},\"title\":{\"text\":\"Chess Outcomes\"},\"barmode\":\"relative\"},                        {\"responsive\": true}                    ).then(function(){\n",
       "                            \n",
       "var gd = document.getElementById('4a79dadb-c093-4b29-a17c-41fe996e9711');\n",
       "var x = new MutationObserver(function (mutations, observer) {{\n",
       "        var display = window.getComputedStyle(gd).display;\n",
       "        if (!display || display === 'none') {{\n",
       "            console.log([gd, 'removed!']);\n",
       "            Plotly.purge(gd);\n",
       "            observer.disconnect();\n",
       "        }}\n",
       "}});\n",
       "\n",
       "// Listen for the removal of the full notebook cells\n",
       "var notebookContainer = gd.closest('#notebook-container');\n",
       "if (notebookContainer) {{\n",
       "    x.observe(notebookContainer, {childList: true});\n",
       "}}\n",
       "\n",
       "// Listen for the clearing of the current output cell\n",
       "var outputEl = gd.closest('.output');\n",
       "if (outputEl) {{\n",
       "    x.observe(outputEl, {childList: true});\n",
       "}}\n",
       "\n",
       "                        })                };                });            </script>        </div>"
      ]
     },
     "metadata": {},
     "output_type": "display_data"
    }
   ],
   "source": [
    "stats = pd.DataFrame(zip(train.result.value_counts().index, \n",
    "                         train.result.value_counts().values),\n",
    "                     columns = ['Result', 'Count'])\n",
    "\n",
    "stats['Result'] = stats['Result'].replace(0.5, 'Draw')\n",
    "stats['Result'] = stats['Result'].replace(0, 'Lose')\n",
    "stats['Result'] = stats['Result'].replace(1, 'Win')\n",
    "\n",
    "fig = px.bar(stats, y = 'Count', x = 'Result', text_auto = '.2s', title = 'Chess Outcomes')\n",
    "fig.show()"
   ]
  },
  {
   "cell_type": "code",
   "execution_count": 187,
   "id": "24545a03",
   "metadata": {},
   "outputs": [
    {
     "data": {
      "application/vnd.plotly.v1+json": {
       "config": {
        "plotlyServerURL": "https://plot.ly"
       },
       "data": [
        {
         "domain": {
          "x": [
           0,
           0.2888888888888889
          ],
          "y": [
           0,
           1
          ]
         },
         "hole": 0.4,
         "hoverinfo": "label+percent+name",
         "labels": [
          1,
          0.5,
          0
         ],
         "type": "pie",
         "values": [
          37853,
          36199,
          28574
         ]
        },
        {
         "domain": {
          "x": [
           0.35555555555555557,
           0.6444444444444445
          ],
          "y": [
           0,
           1
          ]
         },
         "hole": 0.4,
         "hoverinfo": "label+percent+name",
         "labels": [
          0.5,
          1,
          0
         ],
         "type": "pie",
         "values": [
          31636,
          23790,
          16066
         ]
        },
        {
         "domain": {
          "x": [
           0.7111111111111111,
           1
          ],
          "y": [
           0,
           1
          ]
         },
         "hole": 0.4,
         "hoverinfo": "label+percent+name",
         "labels": [
          0.5,
          1,
          0
         ],
         "type": "pie",
         "values": [
          67835,
          61643,
          44640
         ]
        }
       ],
       "layout": {
        "annotations": [
         {
          "font": {
           "size": 16
          },
          "showarrow": false,
          "text": "Rapid",
          "x": 0.14444444444444446,
          "xanchor": "center",
          "xref": "paper",
          "y": 1,
          "yanchor": "bottom",
          "yref": "paper"
         },
         {
          "font": {
           "size": 16
          },
          "showarrow": false,
          "text": "Classis",
          "x": 0.5,
          "xanchor": "center",
          "xref": "paper",
          "y": 1,
          "yanchor": "bottom",
          "yref": "paper"
         },
         {
          "font": {
           "size": 16
          },
          "showarrow": false,
          "text": "Combined",
          "x": 0.8555555555555556,
          "xanchor": "center",
          "xref": "paper",
          "y": 1,
          "yanchor": "bottom",
          "yref": "paper"
         }
        ],
        "template": {
         "data": {
          "bar": [
           {
            "error_x": {
             "color": "#2a3f5f"
            },
            "error_y": {
             "color": "#2a3f5f"
            },
            "marker": {
             "line": {
              "color": "#E5ECF6",
              "width": 0.5
             },
             "pattern": {
              "fillmode": "overlay",
              "size": 10,
              "solidity": 0.2
             }
            },
            "type": "bar"
           }
          ],
          "barpolar": [
           {
            "marker": {
             "line": {
              "color": "#E5ECF6",
              "width": 0.5
             },
             "pattern": {
              "fillmode": "overlay",
              "size": 10,
              "solidity": 0.2
             }
            },
            "type": "barpolar"
           }
          ],
          "carpet": [
           {
            "aaxis": {
             "endlinecolor": "#2a3f5f",
             "gridcolor": "white",
             "linecolor": "white",
             "minorgridcolor": "white",
             "startlinecolor": "#2a3f5f"
            },
            "baxis": {
             "endlinecolor": "#2a3f5f",
             "gridcolor": "white",
             "linecolor": "white",
             "minorgridcolor": "white",
             "startlinecolor": "#2a3f5f"
            },
            "type": "carpet"
           }
          ],
          "choropleth": [
           {
            "colorbar": {
             "outlinewidth": 0,
             "ticks": ""
            },
            "type": "choropleth"
           }
          ],
          "contour": [
           {
            "colorbar": {
             "outlinewidth": 0,
             "ticks": ""
            },
            "colorscale": [
             [
              0,
              "#0d0887"
             ],
             [
              0.1111111111111111,
              "#46039f"
             ],
             [
              0.2222222222222222,
              "#7201a8"
             ],
             [
              0.3333333333333333,
              "#9c179e"
             ],
             [
              0.4444444444444444,
              "#bd3786"
             ],
             [
              0.5555555555555556,
              "#d8576b"
             ],
             [
              0.6666666666666666,
              "#ed7953"
             ],
             [
              0.7777777777777778,
              "#fb9f3a"
             ],
             [
              0.8888888888888888,
              "#fdca26"
             ],
             [
              1,
              "#f0f921"
             ]
            ],
            "type": "contour"
           }
          ],
          "contourcarpet": [
           {
            "colorbar": {
             "outlinewidth": 0,
             "ticks": ""
            },
            "type": "contourcarpet"
           }
          ],
          "heatmap": [
           {
            "colorbar": {
             "outlinewidth": 0,
             "ticks": ""
            },
            "colorscale": [
             [
              0,
              "#0d0887"
             ],
             [
              0.1111111111111111,
              "#46039f"
             ],
             [
              0.2222222222222222,
              "#7201a8"
             ],
             [
              0.3333333333333333,
              "#9c179e"
             ],
             [
              0.4444444444444444,
              "#bd3786"
             ],
             [
              0.5555555555555556,
              "#d8576b"
             ],
             [
              0.6666666666666666,
              "#ed7953"
             ],
             [
              0.7777777777777778,
              "#fb9f3a"
             ],
             [
              0.8888888888888888,
              "#fdca26"
             ],
             [
              1,
              "#f0f921"
             ]
            ],
            "type": "heatmap"
           }
          ],
          "heatmapgl": [
           {
            "colorbar": {
             "outlinewidth": 0,
             "ticks": ""
            },
            "colorscale": [
             [
              0,
              "#0d0887"
             ],
             [
              0.1111111111111111,
              "#46039f"
             ],
             [
              0.2222222222222222,
              "#7201a8"
             ],
             [
              0.3333333333333333,
              "#9c179e"
             ],
             [
              0.4444444444444444,
              "#bd3786"
             ],
             [
              0.5555555555555556,
              "#d8576b"
             ],
             [
              0.6666666666666666,
              "#ed7953"
             ],
             [
              0.7777777777777778,
              "#fb9f3a"
             ],
             [
              0.8888888888888888,
              "#fdca26"
             ],
             [
              1,
              "#f0f921"
             ]
            ],
            "type": "heatmapgl"
           }
          ],
          "histogram": [
           {
            "marker": {
             "pattern": {
              "fillmode": "overlay",
              "size": 10,
              "solidity": 0.2
             }
            },
            "type": "histogram"
           }
          ],
          "histogram2d": [
           {
            "colorbar": {
             "outlinewidth": 0,
             "ticks": ""
            },
            "colorscale": [
             [
              0,
              "#0d0887"
             ],
             [
              0.1111111111111111,
              "#46039f"
             ],
             [
              0.2222222222222222,
              "#7201a8"
             ],
             [
              0.3333333333333333,
              "#9c179e"
             ],
             [
              0.4444444444444444,
              "#bd3786"
             ],
             [
              0.5555555555555556,
              "#d8576b"
             ],
             [
              0.6666666666666666,
              "#ed7953"
             ],
             [
              0.7777777777777778,
              "#fb9f3a"
             ],
             [
              0.8888888888888888,
              "#fdca26"
             ],
             [
              1,
              "#f0f921"
             ]
            ],
            "type": "histogram2d"
           }
          ],
          "histogram2dcontour": [
           {
            "colorbar": {
             "outlinewidth": 0,
             "ticks": ""
            },
            "colorscale": [
             [
              0,
              "#0d0887"
             ],
             [
              0.1111111111111111,
              "#46039f"
             ],
             [
              0.2222222222222222,
              "#7201a8"
             ],
             [
              0.3333333333333333,
              "#9c179e"
             ],
             [
              0.4444444444444444,
              "#bd3786"
             ],
             [
              0.5555555555555556,
              "#d8576b"
             ],
             [
              0.6666666666666666,
              "#ed7953"
             ],
             [
              0.7777777777777778,
              "#fb9f3a"
             ],
             [
              0.8888888888888888,
              "#fdca26"
             ],
             [
              1,
              "#f0f921"
             ]
            ],
            "type": "histogram2dcontour"
           }
          ],
          "mesh3d": [
           {
            "colorbar": {
             "outlinewidth": 0,
             "ticks": ""
            },
            "type": "mesh3d"
           }
          ],
          "parcoords": [
           {
            "line": {
             "colorbar": {
              "outlinewidth": 0,
              "ticks": ""
             }
            },
            "type": "parcoords"
           }
          ],
          "pie": [
           {
            "automargin": true,
            "type": "pie"
           }
          ],
          "scatter": [
           {
            "marker": {
             "colorbar": {
              "outlinewidth": 0,
              "ticks": ""
             }
            },
            "type": "scatter"
           }
          ],
          "scatter3d": [
           {
            "line": {
             "colorbar": {
              "outlinewidth": 0,
              "ticks": ""
             }
            },
            "marker": {
             "colorbar": {
              "outlinewidth": 0,
              "ticks": ""
             }
            },
            "type": "scatter3d"
           }
          ],
          "scattercarpet": [
           {
            "marker": {
             "colorbar": {
              "outlinewidth": 0,
              "ticks": ""
             }
            },
            "type": "scattercarpet"
           }
          ],
          "scattergeo": [
           {
            "marker": {
             "colorbar": {
              "outlinewidth": 0,
              "ticks": ""
             }
            },
            "type": "scattergeo"
           }
          ],
          "scattergl": [
           {
            "marker": {
             "colorbar": {
              "outlinewidth": 0,
              "ticks": ""
             }
            },
            "type": "scattergl"
           }
          ],
          "scattermapbox": [
           {
            "marker": {
             "colorbar": {
              "outlinewidth": 0,
              "ticks": ""
             }
            },
            "type": "scattermapbox"
           }
          ],
          "scatterpolar": [
           {
            "marker": {
             "colorbar": {
              "outlinewidth": 0,
              "ticks": ""
             }
            },
            "type": "scatterpolar"
           }
          ],
          "scatterpolargl": [
           {
            "marker": {
             "colorbar": {
              "outlinewidth": 0,
              "ticks": ""
             }
            },
            "type": "scatterpolargl"
           }
          ],
          "scatterternary": [
           {
            "marker": {
             "colorbar": {
              "outlinewidth": 0,
              "ticks": ""
             }
            },
            "type": "scatterternary"
           }
          ],
          "surface": [
           {
            "colorbar": {
             "outlinewidth": 0,
             "ticks": ""
            },
            "colorscale": [
             [
              0,
              "#0d0887"
             ],
             [
              0.1111111111111111,
              "#46039f"
             ],
             [
              0.2222222222222222,
              "#7201a8"
             ],
             [
              0.3333333333333333,
              "#9c179e"
             ],
             [
              0.4444444444444444,
              "#bd3786"
             ],
             [
              0.5555555555555556,
              "#d8576b"
             ],
             [
              0.6666666666666666,
              "#ed7953"
             ],
             [
              0.7777777777777778,
              "#fb9f3a"
             ],
             [
              0.8888888888888888,
              "#fdca26"
             ],
             [
              1,
              "#f0f921"
             ]
            ],
            "type": "surface"
           }
          ],
          "table": [
           {
            "cells": {
             "fill": {
              "color": "#EBF0F8"
             },
             "line": {
              "color": "white"
             }
            },
            "header": {
             "fill": {
              "color": "#C8D4E3"
             },
             "line": {
              "color": "white"
             }
            },
            "type": "table"
           }
          ]
         },
         "layout": {
          "annotationdefaults": {
           "arrowcolor": "#2a3f5f",
           "arrowhead": 0,
           "arrowwidth": 1
          },
          "autotypenumbers": "strict",
          "coloraxis": {
           "colorbar": {
            "outlinewidth": 0,
            "ticks": ""
           }
          },
          "colorscale": {
           "diverging": [
            [
             0,
             "#8e0152"
            ],
            [
             0.1,
             "#c51b7d"
            ],
            [
             0.2,
             "#de77ae"
            ],
            [
             0.3,
             "#f1b6da"
            ],
            [
             0.4,
             "#fde0ef"
            ],
            [
             0.5,
             "#f7f7f7"
            ],
            [
             0.6,
             "#e6f5d0"
            ],
            [
             0.7,
             "#b8e186"
            ],
            [
             0.8,
             "#7fbc41"
            ],
            [
             0.9,
             "#4d9221"
            ],
            [
             1,
             "#276419"
            ]
           ],
           "sequential": [
            [
             0,
             "#0d0887"
            ],
            [
             0.1111111111111111,
             "#46039f"
            ],
            [
             0.2222222222222222,
             "#7201a8"
            ],
            [
             0.3333333333333333,
             "#9c179e"
            ],
            [
             0.4444444444444444,
             "#bd3786"
            ],
            [
             0.5555555555555556,
             "#d8576b"
            ],
            [
             0.6666666666666666,
             "#ed7953"
            ],
            [
             0.7777777777777778,
             "#fb9f3a"
            ],
            [
             0.8888888888888888,
             "#fdca26"
            ],
            [
             1,
             "#f0f921"
            ]
           ],
           "sequentialminus": [
            [
             0,
             "#0d0887"
            ],
            [
             0.1111111111111111,
             "#46039f"
            ],
            [
             0.2222222222222222,
             "#7201a8"
            ],
            [
             0.3333333333333333,
             "#9c179e"
            ],
            [
             0.4444444444444444,
             "#bd3786"
            ],
            [
             0.5555555555555556,
             "#d8576b"
            ],
            [
             0.6666666666666666,
             "#ed7953"
            ],
            [
             0.7777777777777778,
             "#fb9f3a"
            ],
            [
             0.8888888888888888,
             "#fdca26"
            ],
            [
             1,
             "#f0f921"
            ]
           ]
          },
          "colorway": [
           "#636efa",
           "#EF553B",
           "#00cc96",
           "#ab63fa",
           "#FFA15A",
           "#19d3f3",
           "#FF6692",
           "#B6E880",
           "#FF97FF",
           "#FECB52"
          ],
          "font": {
           "color": "#2a3f5f"
          },
          "geo": {
           "bgcolor": "white",
           "lakecolor": "white",
           "landcolor": "#E5ECF6",
           "showlakes": true,
           "showland": true,
           "subunitcolor": "white"
          },
          "hoverlabel": {
           "align": "left"
          },
          "hovermode": "closest",
          "mapbox": {
           "style": "light"
          },
          "paper_bgcolor": "white",
          "plot_bgcolor": "#E5ECF6",
          "polar": {
           "angularaxis": {
            "gridcolor": "white",
            "linecolor": "white",
            "ticks": ""
           },
           "bgcolor": "#E5ECF6",
           "radialaxis": {
            "gridcolor": "white",
            "linecolor": "white",
            "ticks": ""
           }
          },
          "scene": {
           "xaxis": {
            "backgroundcolor": "#E5ECF6",
            "gridcolor": "white",
            "gridwidth": 2,
            "linecolor": "white",
            "showbackground": true,
            "ticks": "",
            "zerolinecolor": "white"
           },
           "yaxis": {
            "backgroundcolor": "#E5ECF6",
            "gridcolor": "white",
            "gridwidth": 2,
            "linecolor": "white",
            "showbackground": true,
            "ticks": "",
            "zerolinecolor": "white"
           },
           "zaxis": {
            "backgroundcolor": "#E5ECF6",
            "gridcolor": "white",
            "gridwidth": 2,
            "linecolor": "white",
            "showbackground": true,
            "ticks": "",
            "zerolinecolor": "white"
           }
          },
          "shapedefaults": {
           "line": {
            "color": "#2a3f5f"
           }
          },
          "ternary": {
           "aaxis": {
            "gridcolor": "white",
            "linecolor": "white",
            "ticks": ""
           },
           "baxis": {
            "gridcolor": "white",
            "linecolor": "white",
            "ticks": ""
           },
           "bgcolor": "#E5ECF6",
           "caxis": {
            "gridcolor": "white",
            "linecolor": "white",
            "ticks": ""
           }
          },
          "title": {
           "x": 0.05
          },
          "xaxis": {
           "automargin": true,
           "gridcolor": "white",
           "linecolor": "white",
           "ticks": "",
           "title": {
            "standoff": 15
           },
           "zerolinecolor": "white",
           "zerolinewidth": 2
          },
          "yaxis": {
           "automargin": true,
           "gridcolor": "white",
           "linecolor": "white",
           "ticks": "",
           "title": {
            "standoff": 15
           },
           "zerolinecolor": "white",
           "zerolinewidth": 2
          }
         }
        }
       }
      },
      "text/html": [
       "<div>                            <div id=\"844c969a-1e7c-4bc6-8285-c1049ce283b4\" class=\"plotly-graph-div\" style=\"height:525px; width:100%;\"></div>            <script type=\"text/javascript\">                require([\"plotly\"], function(Plotly) {                    window.PLOTLYENV=window.PLOTLYENV || {};                                    if (document.getElementById(\"844c969a-1e7c-4bc6-8285-c1049ce283b4\")) {                    Plotly.newPlot(                        \"844c969a-1e7c-4bc6-8285-c1049ce283b4\",                        [{\"labels\":[1.0,0.5,0.0],\"values\":[37853,36199,28574],\"type\":\"pie\",\"domain\":{\"x\":[0.0,0.2888888888888889],\"y\":[0.0,1.0]},\"hole\":0.4,\"hoverinfo\":\"label+percent+name\"},{\"labels\":[0.5,1.0,0.0],\"values\":[31636,23790,16066],\"type\":\"pie\",\"domain\":{\"x\":[0.35555555555555557,0.6444444444444445],\"y\":[0.0,1.0]},\"hole\":0.4,\"hoverinfo\":\"label+percent+name\"},{\"labels\":[0.5,1.0,0.0],\"values\":[67835,61643,44640],\"type\":\"pie\",\"domain\":{\"x\":[0.7111111111111111,1.0],\"y\":[0.0,1.0]},\"hole\":0.4,\"hoverinfo\":\"label+percent+name\"}],                        {\"template\":{\"data\":{\"bar\":[{\"error_x\":{\"color\":\"#2a3f5f\"},\"error_y\":{\"color\":\"#2a3f5f\"},\"marker\":{\"line\":{\"color\":\"#E5ECF6\",\"width\":0.5},\"pattern\":{\"fillmode\":\"overlay\",\"size\":10,\"solidity\":0.2}},\"type\":\"bar\"}],\"barpolar\":[{\"marker\":{\"line\":{\"color\":\"#E5ECF6\",\"width\":0.5},\"pattern\":{\"fillmode\":\"overlay\",\"size\":10,\"solidity\":0.2}},\"type\":\"barpolar\"}],\"carpet\":[{\"aaxis\":{\"endlinecolor\":\"#2a3f5f\",\"gridcolor\":\"white\",\"linecolor\":\"white\",\"minorgridcolor\":\"white\",\"startlinecolor\":\"#2a3f5f\"},\"baxis\":{\"endlinecolor\":\"#2a3f5f\",\"gridcolor\":\"white\",\"linecolor\":\"white\",\"minorgridcolor\":\"white\",\"startlinecolor\":\"#2a3f5f\"},\"type\":\"carpet\"}],\"choropleth\":[{\"colorbar\":{\"outlinewidth\":0,\"ticks\":\"\"},\"type\":\"choropleth\"}],\"contour\":[{\"colorbar\":{\"outlinewidth\":0,\"ticks\":\"\"},\"colorscale\":[[0.0,\"#0d0887\"],[0.1111111111111111,\"#46039f\"],[0.2222222222222222,\"#7201a8\"],[0.3333333333333333,\"#9c179e\"],[0.4444444444444444,\"#bd3786\"],[0.5555555555555556,\"#d8576b\"],[0.6666666666666666,\"#ed7953\"],[0.7777777777777778,\"#fb9f3a\"],[0.8888888888888888,\"#fdca26\"],[1.0,\"#f0f921\"]],\"type\":\"contour\"}],\"contourcarpet\":[{\"colorbar\":{\"outlinewidth\":0,\"ticks\":\"\"},\"type\":\"contourcarpet\"}],\"heatmap\":[{\"colorbar\":{\"outlinewidth\":0,\"ticks\":\"\"},\"colorscale\":[[0.0,\"#0d0887\"],[0.1111111111111111,\"#46039f\"],[0.2222222222222222,\"#7201a8\"],[0.3333333333333333,\"#9c179e\"],[0.4444444444444444,\"#bd3786\"],[0.5555555555555556,\"#d8576b\"],[0.6666666666666666,\"#ed7953\"],[0.7777777777777778,\"#fb9f3a\"],[0.8888888888888888,\"#fdca26\"],[1.0,\"#f0f921\"]],\"type\":\"heatmap\"}],\"heatmapgl\":[{\"colorbar\":{\"outlinewidth\":0,\"ticks\":\"\"},\"colorscale\":[[0.0,\"#0d0887\"],[0.1111111111111111,\"#46039f\"],[0.2222222222222222,\"#7201a8\"],[0.3333333333333333,\"#9c179e\"],[0.4444444444444444,\"#bd3786\"],[0.5555555555555556,\"#d8576b\"],[0.6666666666666666,\"#ed7953\"],[0.7777777777777778,\"#fb9f3a\"],[0.8888888888888888,\"#fdca26\"],[1.0,\"#f0f921\"]],\"type\":\"heatmapgl\"}],\"histogram\":[{\"marker\":{\"pattern\":{\"fillmode\":\"overlay\",\"size\":10,\"solidity\":0.2}},\"type\":\"histogram\"}],\"histogram2d\":[{\"colorbar\":{\"outlinewidth\":0,\"ticks\":\"\"},\"colorscale\":[[0.0,\"#0d0887\"],[0.1111111111111111,\"#46039f\"],[0.2222222222222222,\"#7201a8\"],[0.3333333333333333,\"#9c179e\"],[0.4444444444444444,\"#bd3786\"],[0.5555555555555556,\"#d8576b\"],[0.6666666666666666,\"#ed7953\"],[0.7777777777777778,\"#fb9f3a\"],[0.8888888888888888,\"#fdca26\"],[1.0,\"#f0f921\"]],\"type\":\"histogram2d\"}],\"histogram2dcontour\":[{\"colorbar\":{\"outlinewidth\":0,\"ticks\":\"\"},\"colorscale\":[[0.0,\"#0d0887\"],[0.1111111111111111,\"#46039f\"],[0.2222222222222222,\"#7201a8\"],[0.3333333333333333,\"#9c179e\"],[0.4444444444444444,\"#bd3786\"],[0.5555555555555556,\"#d8576b\"],[0.6666666666666666,\"#ed7953\"],[0.7777777777777778,\"#fb9f3a\"],[0.8888888888888888,\"#fdca26\"],[1.0,\"#f0f921\"]],\"type\":\"histogram2dcontour\"}],\"mesh3d\":[{\"colorbar\":{\"outlinewidth\":0,\"ticks\":\"\"},\"type\":\"mesh3d\"}],\"parcoords\":[{\"line\":{\"colorbar\":{\"outlinewidth\":0,\"ticks\":\"\"}},\"type\":\"parcoords\"}],\"pie\":[{\"automargin\":true,\"type\":\"pie\"}],\"scatter\":[{\"marker\":{\"colorbar\":{\"outlinewidth\":0,\"ticks\":\"\"}},\"type\":\"scatter\"}],\"scatter3d\":[{\"line\":{\"colorbar\":{\"outlinewidth\":0,\"ticks\":\"\"}},\"marker\":{\"colorbar\":{\"outlinewidth\":0,\"ticks\":\"\"}},\"type\":\"scatter3d\"}],\"scattercarpet\":[{\"marker\":{\"colorbar\":{\"outlinewidth\":0,\"ticks\":\"\"}},\"type\":\"scattercarpet\"}],\"scattergeo\":[{\"marker\":{\"colorbar\":{\"outlinewidth\":0,\"ticks\":\"\"}},\"type\":\"scattergeo\"}],\"scattergl\":[{\"marker\":{\"colorbar\":{\"outlinewidth\":0,\"ticks\":\"\"}},\"type\":\"scattergl\"}],\"scattermapbox\":[{\"marker\":{\"colorbar\":{\"outlinewidth\":0,\"ticks\":\"\"}},\"type\":\"scattermapbox\"}],\"scatterpolar\":[{\"marker\":{\"colorbar\":{\"outlinewidth\":0,\"ticks\":\"\"}},\"type\":\"scatterpolar\"}],\"scatterpolargl\":[{\"marker\":{\"colorbar\":{\"outlinewidth\":0,\"ticks\":\"\"}},\"type\":\"scatterpolargl\"}],\"scatterternary\":[{\"marker\":{\"colorbar\":{\"outlinewidth\":0,\"ticks\":\"\"}},\"type\":\"scatterternary\"}],\"surface\":[{\"colorbar\":{\"outlinewidth\":0,\"ticks\":\"\"},\"colorscale\":[[0.0,\"#0d0887\"],[0.1111111111111111,\"#46039f\"],[0.2222222222222222,\"#7201a8\"],[0.3333333333333333,\"#9c179e\"],[0.4444444444444444,\"#bd3786\"],[0.5555555555555556,\"#d8576b\"],[0.6666666666666666,\"#ed7953\"],[0.7777777777777778,\"#fb9f3a\"],[0.8888888888888888,\"#fdca26\"],[1.0,\"#f0f921\"]],\"type\":\"surface\"}],\"table\":[{\"cells\":{\"fill\":{\"color\":\"#EBF0F8\"},\"line\":{\"color\":\"white\"}},\"header\":{\"fill\":{\"color\":\"#C8D4E3\"},\"line\":{\"color\":\"white\"}},\"type\":\"table\"}]},\"layout\":{\"annotationdefaults\":{\"arrowcolor\":\"#2a3f5f\",\"arrowhead\":0,\"arrowwidth\":1},\"autotypenumbers\":\"strict\",\"coloraxis\":{\"colorbar\":{\"outlinewidth\":0,\"ticks\":\"\"}},\"colorscale\":{\"diverging\":[[0,\"#8e0152\"],[0.1,\"#c51b7d\"],[0.2,\"#de77ae\"],[0.3,\"#f1b6da\"],[0.4,\"#fde0ef\"],[0.5,\"#f7f7f7\"],[0.6,\"#e6f5d0\"],[0.7,\"#b8e186\"],[0.8,\"#7fbc41\"],[0.9,\"#4d9221\"],[1,\"#276419\"]],\"sequential\":[[0.0,\"#0d0887\"],[0.1111111111111111,\"#46039f\"],[0.2222222222222222,\"#7201a8\"],[0.3333333333333333,\"#9c179e\"],[0.4444444444444444,\"#bd3786\"],[0.5555555555555556,\"#d8576b\"],[0.6666666666666666,\"#ed7953\"],[0.7777777777777778,\"#fb9f3a\"],[0.8888888888888888,\"#fdca26\"],[1.0,\"#f0f921\"]],\"sequentialminus\":[[0.0,\"#0d0887\"],[0.1111111111111111,\"#46039f\"],[0.2222222222222222,\"#7201a8\"],[0.3333333333333333,\"#9c179e\"],[0.4444444444444444,\"#bd3786\"],[0.5555555555555556,\"#d8576b\"],[0.6666666666666666,\"#ed7953\"],[0.7777777777777778,\"#fb9f3a\"],[0.8888888888888888,\"#fdca26\"],[1.0,\"#f0f921\"]]},\"colorway\":[\"#636efa\",\"#EF553B\",\"#00cc96\",\"#ab63fa\",\"#FFA15A\",\"#19d3f3\",\"#FF6692\",\"#B6E880\",\"#FF97FF\",\"#FECB52\"],\"font\":{\"color\":\"#2a3f5f\"},\"geo\":{\"bgcolor\":\"white\",\"lakecolor\":\"white\",\"landcolor\":\"#E5ECF6\",\"showlakes\":true,\"showland\":true,\"subunitcolor\":\"white\"},\"hoverlabel\":{\"align\":\"left\"},\"hovermode\":\"closest\",\"mapbox\":{\"style\":\"light\"},\"paper_bgcolor\":\"white\",\"plot_bgcolor\":\"#E5ECF6\",\"polar\":{\"angularaxis\":{\"gridcolor\":\"white\",\"linecolor\":\"white\",\"ticks\":\"\"},\"bgcolor\":\"#E5ECF6\",\"radialaxis\":{\"gridcolor\":\"white\",\"linecolor\":\"white\",\"ticks\":\"\"}},\"scene\":{\"xaxis\":{\"backgroundcolor\":\"#E5ECF6\",\"gridcolor\":\"white\",\"gridwidth\":2,\"linecolor\":\"white\",\"showbackground\":true,\"ticks\":\"\",\"zerolinecolor\":\"white\"},\"yaxis\":{\"backgroundcolor\":\"#E5ECF6\",\"gridcolor\":\"white\",\"gridwidth\":2,\"linecolor\":\"white\",\"showbackground\":true,\"ticks\":\"\",\"zerolinecolor\":\"white\"},\"zaxis\":{\"backgroundcolor\":\"#E5ECF6\",\"gridcolor\":\"white\",\"gridwidth\":2,\"linecolor\":\"white\",\"showbackground\":true,\"ticks\":\"\",\"zerolinecolor\":\"white\"}},\"shapedefaults\":{\"line\":{\"color\":\"#2a3f5f\"}},\"ternary\":{\"aaxis\":{\"gridcolor\":\"white\",\"linecolor\":\"white\",\"ticks\":\"\"},\"baxis\":{\"gridcolor\":\"white\",\"linecolor\":\"white\",\"ticks\":\"\"},\"bgcolor\":\"#E5ECF6\",\"caxis\":{\"gridcolor\":\"white\",\"linecolor\":\"white\",\"ticks\":\"\"}},\"title\":{\"x\":0.05},\"xaxis\":{\"automargin\":true,\"gridcolor\":\"white\",\"linecolor\":\"white\",\"ticks\":\"\",\"title\":{\"standoff\":15},\"zerolinecolor\":\"white\",\"zerolinewidth\":2},\"yaxis\":{\"automargin\":true,\"gridcolor\":\"white\",\"linecolor\":\"white\",\"ticks\":\"\",\"title\":{\"standoff\":15},\"zerolinecolor\":\"white\",\"zerolinewidth\":2}}},\"annotations\":[{\"font\":{\"size\":16},\"showarrow\":false,\"text\":\"Rapid\",\"x\":0.14444444444444446,\"xanchor\":\"center\",\"xref\":\"paper\",\"y\":1.0,\"yanchor\":\"bottom\",\"yref\":\"paper\"},{\"font\":{\"size\":16},\"showarrow\":false,\"text\":\"Classis\",\"x\":0.5,\"xanchor\":\"center\",\"xref\":\"paper\",\"y\":1.0,\"yanchor\":\"bottom\",\"yref\":\"paper\"},{\"font\":{\"size\":16},\"showarrow\":false,\"text\":\"Combined\",\"x\":0.8555555555555556,\"xanchor\":\"center\",\"xref\":\"paper\",\"y\":1.0,\"yanchor\":\"bottom\",\"yref\":\"paper\"}]},                        {\"responsive\": true}                    ).then(function(){\n",
       "                            \n",
       "var gd = document.getElementById('844c969a-1e7c-4bc6-8285-c1049ce283b4');\n",
       "var x = new MutationObserver(function (mutations, observer) {{\n",
       "        var display = window.getComputedStyle(gd).display;\n",
       "        if (!display || display === 'none') {{\n",
       "            console.log([gd, 'removed!']);\n",
       "            Plotly.purge(gd);\n",
       "            observer.disconnect();\n",
       "        }}\n",
       "}});\n",
       "\n",
       "// Listen for the removal of the full notebook cells\n",
       "var notebookContainer = gd.closest('#notebook-container');\n",
       "if (notebookContainer) {{\n",
       "    x.observe(notebookContainer, {childList: true});\n",
       "}}\n",
       "\n",
       "// Listen for the clearing of the current output cell\n",
       "var outputEl = gd.closest('.output');\n",
       "if (outputEl) {{\n",
       "    x.observe(outputEl, {childList: true});\n",
       "}}\n",
       "\n",
       "                        })                };                });            </script>        </div>"
      ]
     },
     "metadata": {},
     "output_type": "display_data"
    }
   ],
   "source": [
    "fig = make_subplots(rows=1, \n",
    "                    cols=3, \n",
    "                    specs=[[{'type':'domain'}, {'type':'domain'}, {'type':'domain'}]],\n",
    "                    subplot_titles=['Rapid', 'Classis', 'Combined'])\n",
    "\n",
    "stats = pd.DataFrame(zip(train[train['time_control'] == 'rapid'].result.value_counts().index, \n",
    "                         train[train['time_control'] == 'rapid'].result.value_counts().values),\n",
    "                     columns = ['Result', 'Count'])\n",
    "fig.add_trace(go.Pie(labels=stats.Result, values=stats.Count),\n",
    "              1,1)\n",
    "\n",
    "stats = pd.DataFrame(zip(train[train['time_control'] == 'classic'].result.value_counts().index, \n",
    "                         train[train['time_control'] == 'classic'].result.value_counts().values),\n",
    "                     columns = ['Result', 'Count'])\n",
    "fig.add_trace(go.Pie(labels=stats.Result, values=stats.Count),\n",
    "              1,2)\n",
    "\n",
    "stats = pd.DataFrame(zip(train.result.value_counts().index, \n",
    "                         train.result.value_counts().values),\n",
    "                     columns = ['Result', 'Count'])\n",
    "fig.add_trace(go.Pie(labels=stats.Result, values=stats.Count),\n",
    "              1,3)\n",
    "\n",
    "# Use `hole` to create a donut-like pie chart\n",
    "fig.update_traces(hole=.4, hoverinfo=\"label+percent+name\")\n",
    "\n",
    "fig.show()"
   ]
  },
  {
   "cell_type": "markdown",
   "id": "b636066e",
   "metadata": {},
   "source": [
    "## Feature Engineering"
   ]
  },
  {
   "cell_type": "code",
   "execution_count": 143,
   "id": "32a53988",
   "metadata": {},
   "outputs": [],
   "source": [
    "def deciles(data, col, bins = 10):\n",
    "    data = data.sort_values(by = [col], ascending = True)\n",
    "    l = int(len(data)/bins)\n",
    "    \n",
    "    decile = {}\n",
    "    for i in range(bins):\n",
    "        a = np.mean(data[col][i*l:(i+1)*l])\n",
    "        wins = len([1 for i in data['result'][i*l:(i+1)*l] if i == 1])\n",
    "        draw = len([1 for i in data['result'][i*l:(i+1)*l] if i == 0.5])\n",
    "        lose = len([1 for i in data['result'][i*l:(i+1)*l] if i == 0])\n",
    "        \n",
    "        key = str(round(a,2))\n",
    "        \n",
    "        if key in decile.keys():\n",
    "            decile[key] = (decile[key][0]+wins, decile[key][1]+draw, decile[key][2]+lose)\n",
    "        else:\n",
    "            decile[key] = (wins,draw,lose)\n",
    "        \n",
    "    decile = pd.DataFrame(decile, index = ['Wins', 'Draws', \"Loses\"]).T\n",
    "    return decile\n",
    "\n",
    "def plot_figures(n, columns, main_title,function, train):\n",
    "    fig = make_subplots(rows=1, cols=n, horizontal_spacing=0.2, subplot_titles=columns)\n",
    "    for i in range(0,n):\n",
    "        fig.add_trace(px.imshow(function(train,columns[i]),\n",
    "                                text_auto=True, title = columns[i], \n",
    "                                color_continuous_scale='RdBu_r').data[0], 1, i+1)\n",
    "        \n",
    "    fig.update_layout(title_text=main_title, title_x=0,\n",
    "                      coloraxis=dict(colorscale='balance', colorbar_thickness=25, colorbar_x=-0.12),\n",
    "                      coloraxis2=dict(colorscale='curl',colorbar_thickness=25,))\n",
    "    fig.update_coloraxes(showscale=False)\n",
    "    fig.show()"
   ]
  },
  {
   "cell_type": "markdown",
   "id": "8de71045",
   "metadata": {},
   "source": [
    "### Games Played prior to the Current Games"
   ]
  },
  {
   "cell_type": "code",
   "execution_count": 144,
   "id": "3bee0746",
   "metadata": {},
   "outputs": [],
   "source": [
    "Exp = {i:0 for i in Uni_players}\n",
    "\n",
    "train['White_Exp'] = 0\n",
    "train['Black_Exp'] = 0\n",
    "\n",
    "test['White_Exp'] = 0\n",
    "test['Black_Exp'] = 0\n",
    "\n",
    "for row in train.index:\n",
    "    \n",
    "    # Extract current game result and player's names\n",
    "    p1, p2 = train['white'][row], train['black'][row]\n",
    "    # Using player names as keys extract their last x games results\n",
    "    b1, b2 = Exp[p1], Exp[p2]\n",
    "    \n",
    "    \n",
    "    train['White_Exp'][row] = b1\n",
    "    train['Black_Exp'][row] = b2\n",
    "    Exp[p1] = b1 + 1\n",
    "    Exp[p2] = b2 + 1\n",
    "    \n",
    "for row in test.index:\n",
    "    p1, p2 = test['white'][row], test['black'][row]\n",
    "    b1, b2 = Exp[p1], Exp[p2]\n",
    "    \n",
    "    test['White_Exp'][row] = b1\n",
    "    test['Black_Exp'][row] = b2\n"
   ]
  },
  {
   "cell_type": "code",
   "execution_count": 145,
   "id": "78e3e6ec",
   "metadata": {},
   "outputs": [
    {
     "data": {
      "application/vnd.plotly.v1+json": {
       "config": {
        "plotlyServerURL": "https://plot.ly"
       },
       "data": [
        {
         "alignmentgroup": "True",
         "bingroup": "x",
         "hovertemplate": "variable=0<br>value=%{x}<br>count=%{y}<extra></extra>",
         "legendgroup": "0",
         "marker": {
          "color": "#636efa",
          "pattern": {
           "shape": ""
          }
         },
         "name": "0",
         "nbinsx": 50,
         "offsetgroup": "0",
         "orientation": "v",
         "showlegend": true,
         "type": "histogram",
         "x": [
          189,
          114,
          215,
          141,
          141,
          155,
          32,
          120,
          40,
          119,
          230,
          193,
          159,
          174,
          107,
          105,
          176,
          260,
          269,
          177,
          128,
          97,
          228,
          143,
          158,
          102,
          199,
          201,
          52,
          225,
          184,
          150,
          186,
          152,
          96,
          52,
          216,
          205,
          142,
          160,
          282,
          204,
          214,
          177,
          191,
          180,
          178,
          217,
          150,
          255,
          172,
          127,
          283,
          116,
          211,
          110,
          180,
          100,
          143,
          203,
          269,
          110,
          154,
          73,
          136,
          119,
          189,
          84,
          279,
          247,
          138,
          198,
          180,
          110,
          280,
          136,
          211,
          147,
          217,
          205,
          92,
          171,
          176,
          171,
          183,
          179,
          217,
          181,
          204,
          223,
          188,
          73,
          251,
          184,
          137,
          224,
          189,
          123,
          165,
          158,
          206,
          83,
          93,
          209,
          228,
          163,
          100,
          197,
          109,
          157,
          183,
          109,
          87,
          112,
          164,
          91,
          199,
          93,
          166,
          148,
          201,
          180,
          137,
          199,
          246,
          215,
          207,
          215,
          198,
          154,
          137,
          93,
          191,
          155,
          223,
          164,
          163,
          175,
          130,
          154,
          382,
          287,
          219,
          112,
          232,
          140,
          175,
          77,
          170,
          121,
          168,
          281,
          172,
          228,
          77,
          139,
          198,
          218,
          223,
          190,
          75,
          180,
          264,
          158,
          160,
          132,
          156,
          162,
          169,
          176,
          184,
          215,
          204,
          246,
          152,
          208,
          171,
          203,
          104,
          215,
          177,
          153,
          239,
          184,
          147,
          248,
          272,
          99,
          146,
          157,
          139,
          173,
          166,
          238,
          100,
          157,
          152,
          155,
          151,
          232,
          177,
          235,
          133,
          99,
          154,
          245,
          138,
          94,
          246,
          155,
          164,
          182,
          113,
          251,
          210,
          223,
          198,
          238,
          91,
          195,
          197,
          184,
          249,
          178,
          145,
          178,
          164,
          156,
          159,
          200,
          91,
          223,
          153,
          161,
          71,
          108,
          81,
          232,
          136,
          206,
          52,
          109,
          167,
          208,
          193,
          141,
          111,
          279,
          178,
          126,
          106,
          68,
          181,
          128,
          256,
          94,
          229,
          191,
          172,
          247,
          111,
          64,
          199,
          167,
          221,
          124,
          96,
          123,
          155,
          106,
          222,
          156,
          156,
          138,
          157,
          153,
          164,
          191,
          129,
          155,
          178,
          194,
          141,
          124,
          232,
          148,
          171,
          217,
          129,
          173,
          177,
          84,
          157,
          187,
          234,
          185,
          252,
          200,
          233,
          173,
          88,
          75,
          231,
          88,
          63,
          149,
          193,
          144,
          204,
          173,
          51,
          186,
          200,
          185,
          53,
          163,
          194,
          180,
          168,
          209,
          82,
          210,
          103,
          168,
          62,
          175,
          146,
          134,
          220,
          54,
          190,
          222,
          243,
          141,
          227,
          186,
          195,
          230,
          146,
          257,
          140,
          137,
          104,
          200,
          214,
          57,
          51,
          166,
          167,
          207,
          175,
          147,
          197,
          108,
          253,
          118,
          267,
          253,
          71,
          170,
          225,
          194,
          120,
          262,
          232,
          80,
          155,
          242,
          182,
          179,
          139,
          180,
          135,
          267,
          204,
          179,
          200,
          234,
          223,
          115,
          203,
          270,
          235,
          134,
          110,
          187,
          146,
          32,
          190,
          125,
          200,
          29,
          151,
          283,
          159,
          169,
          122,
          279,
          148,
          158,
          220,
          171,
          159,
          239,
          214,
          176,
          156,
          178,
          219,
          146,
          112,
          113,
          109,
          288,
          193,
          250,
          157,
          168,
          197,
          110,
          157,
          153,
          247,
          202,
          170,
          99,
          216,
          162,
          198,
          202,
          225,
          173,
          96,
          185,
          115,
          148,
          328,
          221,
          221,
          50,
          193,
          94,
          157,
          159,
          196,
          163,
          139,
          163,
          150,
          193,
          163,
          219,
          188,
          188,
          182,
          162,
          176,
          116,
          109,
          138,
          176,
          235,
          220,
          215,
          148,
          234,
          125,
          94,
          194,
          163,
          157,
          221,
          184,
          76,
          172,
          97,
          103,
          140,
          162,
          117,
          139,
          206,
          215,
          147,
          161,
          149,
          171,
          130,
          218,
          107,
          196,
          101,
          129,
          122,
          263,
          31,
          138,
          173,
          118,
          172,
          157,
          200,
          108,
          192,
          73,
          71,
          172,
          114,
          195,
          180,
          208,
          150,
          62,
          180,
          237,
          143,
          149,
          191,
          204,
          160,
          126,
          128,
          187,
          230,
          224,
          206,
          191,
          184,
          150,
          192,
          200,
          240,
          162,
          154,
          76,
          96,
          166,
          200,
          47,
          133,
          55,
          130,
          128,
          227,
          101,
          193,
          67,
          242,
          114,
          121,
          189,
          208,
          126,
          147,
          101,
          197,
          223,
          190,
          85,
          162,
          311,
          242,
          129,
          92,
          121,
          133,
          115,
          102,
          201,
          216,
          243,
          143,
          202,
          178,
          215,
          57,
          209,
          153,
          111,
          149,
          207,
          139,
          214,
          147,
          97,
          142,
          193,
          56,
          152,
          183,
          233,
          63,
          208,
          165,
          170,
          159,
          166,
          183,
          166,
          98,
          100,
          231,
          94,
          183,
          107,
          228,
          156,
          77,
          68,
          210,
          149,
          136,
          98,
          124,
          207,
          216,
          122,
          202,
          89,
          265,
          145,
          70,
          338,
          79,
          277,
          203,
          137,
          229,
          121,
          223,
          121,
          69,
          273,
          182,
          212,
          192,
          173,
          61,
          234,
          124,
          287,
          88,
          79,
          67,
          189,
          239,
          215,
          118,
          92,
          224,
          120,
          104,
          158,
          139,
          208,
          182,
          120,
          177,
          95,
          129,
          198,
          218,
          162,
          151,
          225,
          156,
          234,
          165,
          9,
          194,
          207,
          145,
          187,
          91,
          18,
          236,
          76,
          145,
          171,
          135,
          162,
          134,
          102,
          199,
          114,
          205,
          230,
          235,
          163,
          183,
          201,
          214,
          48,
          67,
          117,
          152,
          126,
          202,
          109,
          81,
          115,
          163,
          157,
          165,
          76,
          241,
          256,
          140,
          161,
          140,
          43,
          124,
          245,
          170,
          196,
          229,
          129,
          187,
          100,
          177,
          246,
          165,
          190,
          170,
          223,
          200,
          74,
          148,
          256,
          19,
          129,
          218,
          167,
          114,
          134,
          239,
          174,
          173,
          203,
          80,
          198,
          164,
          144,
          146,
          136,
          110,
          181,
          134,
          160,
          275,
          163,
          177,
          155,
          219,
          250,
          185,
          187,
          95,
          144,
          244,
          163,
          219,
          256,
          67,
          184,
          186,
          233,
          94,
          208,
          257,
          177,
          91,
          202,
          111,
          206,
          213,
          239,
          113,
          163,
          223,
          93,
          100,
          205,
          188,
          157,
          151,
          26,
          221,
          221,
          86,
          202,
          175,
          179,
          362,
          208,
          73,
          159,
          112,
          89,
          165,
          133,
          156,
          181,
          136,
          159,
          153,
          243,
          89,
          195,
          71,
          75,
          116,
          145,
          248,
          272,
          140,
          139,
          87,
          137,
          224,
          151,
          164,
          161,
          264,
          105,
          200,
          216,
          109,
          193,
          120,
          174,
          107,
          85,
          41,
          204,
          129,
          150,
          21,
          188,
          178,
          210,
          171,
          157,
          134,
          157,
          193,
          144,
          43,
          123,
          203,
          295,
          126,
          157,
          186,
          231,
          256,
          109,
          120,
          123,
          115,
          155,
          192,
          182,
          218,
          117,
          147,
          138,
          139,
          258,
          45,
          160,
          81,
          179,
          187,
          236,
          99,
          128,
          126,
          210,
          155,
          188,
          200,
          217,
          148,
          179,
          185,
          156,
          265,
          99,
          145,
          194,
          130,
          293,
          155,
          202,
          179,
          235,
          115,
          240,
          161,
          161,
          163,
          97,
          205,
          188,
          214,
          160,
          166,
          152,
          125,
          159,
          130,
          227,
          112,
          159,
          215,
          86,
          105,
          158,
          201,
          196,
          113,
          131,
          206,
          155,
          88,
          146,
          247,
          52,
          89,
          168,
          145,
          102,
          131,
          79,
          181,
          133,
          140,
          198,
          188,
          187,
          230,
          148,
          101,
          84,
          220,
          221,
          47,
          239,
          147,
          209,
          222,
          269,
          152,
          121,
          245,
          144,
          184,
          203,
          244,
          165,
          179,
          137,
          204,
          148,
          124,
          201,
          207,
          103,
          108,
          254,
          237,
          251,
          180,
          147,
          180,
          151,
          84,
          160,
          141,
          138,
          218,
          143,
          142,
          171,
          179,
          125,
          135,
          55,
          113,
          123,
          204,
          189,
          31,
          189,
          104,
          166,
          156,
          159,
          191,
          218,
          192,
          227,
          268,
          127,
          194,
          154,
          221,
          206,
          209,
          267,
          130,
          184,
          119,
          106,
          167,
          221,
          138,
          216,
          204,
          127,
          160,
          279,
          134,
          144,
          83,
          126,
          151,
          207,
          200,
          173,
          128,
          105,
          203,
          246,
          100,
          176,
          164,
          198,
          209,
          230,
          69,
          172,
          123,
          103,
          194,
          135,
          188,
          162,
          198,
          90,
          155,
          130,
          257,
          205,
          102,
          56,
          213,
          240,
          140,
          206,
          310,
          95,
          158,
          171,
          224,
          155,
          208,
          124,
          207,
          267,
          157,
          194,
          153,
          183,
          182,
          191,
          215,
          90,
          277,
          44,
          99,
          252,
          174,
          100,
          164,
          144,
          116,
          213,
          57,
          176,
          100,
          91,
          251,
          106,
          157,
          355,
          95,
          178,
          125,
          196,
          119,
          148,
          134,
          160,
          170,
          197,
          77,
          282,
          273,
          196,
          168,
          188,
          86,
          170,
          170,
          140,
          183,
          193,
          218,
          134,
          194,
          214,
          138,
          154,
          174,
          200,
          266,
          163,
          186,
          215,
          201,
          79,
          182,
          69,
          134,
          129,
          151,
          187,
          186,
          90,
          158,
          159,
          122,
          120,
          169,
          163,
          91,
          190,
          160,
          155,
          54,
          82,
          114,
          68,
          259,
          104,
          175,
          248,
          129,
          114,
          137,
          195,
          110,
          247,
          136,
          157,
          173,
          225,
          229,
          210,
          72,
          191,
          154,
          126,
          119,
          136,
          41,
          225,
          172,
          176,
          169,
          128,
          185,
          93,
          48,
          223,
          118,
          222,
          145,
          172,
          88,
          115,
          222,
          167,
          188,
          80,
          121,
          122,
          167,
          159,
          169,
          144,
          207,
          226,
          155,
          254,
          101,
          64,
          106,
          139,
          231,
          153,
          209,
          216,
          288,
          76,
          96,
          155,
          227,
          154,
          142,
          202,
          146,
          74,
          220,
          145,
          124,
          214,
          262,
          71,
          155,
          187,
          169,
          91,
          167,
          236,
          114,
          150,
          156,
          210,
          175,
          203,
          162,
          221,
          236,
          96,
          202,
          211,
          62,
          157,
          126,
          39,
          178,
          197,
          164,
          158,
          207,
          190,
          270,
          125,
          208,
          221,
          159,
          220,
          257,
          118,
          69,
          221,
          228,
          82,
          216,
          167,
          228,
          87,
          184,
          206,
          166,
          218,
          136,
          170,
          117,
          164,
          162,
          182,
          167,
          165,
          290,
          209,
          136,
          183,
          121,
          168,
          157,
          218,
          125,
          167,
          100,
          217,
          253,
          110,
          200,
          186,
          94,
          121,
          107,
          106,
          110,
          190,
          146,
          149,
          137,
          262,
          199,
          183,
          143,
          154,
          101,
          100,
          99,
          165,
          146,
          160,
          182,
          238,
          181,
          89,
          186,
          80,
          94,
          269,
          198,
          140,
          134,
          158,
          112,
          194,
          131,
          86,
          229,
          214,
          260,
          196,
          162,
          204,
          146,
          207,
          226,
          182,
          178,
          192,
          234,
          184,
          154,
          203,
          221,
          106,
          68,
          195,
          123,
          118,
          140,
          129,
          64,
          184,
          92,
          80,
          163,
          93,
          149,
          109,
          175,
          162,
          128,
          162,
          87,
          237,
          101,
          156,
          143,
          113,
          211,
          98,
          107,
          197,
          85,
          184,
          193,
          213,
          119,
          95,
          118,
          195,
          114,
          162,
          67,
          221,
          249,
          36,
          126,
          87,
          157,
          110,
          153,
          119,
          253,
          229,
          201,
          181,
          136,
          191,
          168,
          140,
          153,
          258,
          206,
          303,
          147,
          156,
          212,
          132,
          154,
          239,
          95,
          82,
          171,
          143,
          130,
          84,
          197,
          168,
          23,
          102,
          232,
          117,
          130,
          281,
          106,
          173,
          140,
          159,
          192,
          142,
          202,
          218,
          186,
          155,
          60,
          142,
          96,
          173,
          66,
          69,
          105,
          249,
          117,
          89,
          181,
          31,
          188,
          253,
          73,
          242,
          224,
          105,
          145,
          236,
          167,
          118,
          139,
          140,
          177,
          93,
          112,
          207,
          155,
          127,
          237,
          139,
          166,
          86,
          68,
          152,
          224,
          105,
          143,
          175,
          218,
          161,
          212,
          156,
          86,
          101,
          176,
          215,
          195,
          89,
          227,
          228,
          120,
          164,
          212,
          157,
          161,
          192,
          165,
          136,
          180,
          188,
          177,
          90,
          163,
          114,
          222,
          163,
          229,
          143,
          169,
          196,
          63,
          144,
          139,
          98,
          157,
          130,
          204,
          181,
          89,
          135,
          171,
          165,
          144,
          174,
          91,
          103,
          158,
          154,
          121,
          112,
          114,
          168,
          165,
          233,
          130,
          174,
          209,
          83,
          155,
          127,
          157,
          118,
          212,
          227,
          169,
          174,
          160,
          264,
          107,
          154,
          198,
          159,
          101,
          200,
          131,
          169,
          129,
          179,
          236,
          248,
          255,
          211,
          203,
          183,
          156,
          174,
          144,
          166,
          192,
          144,
          186,
          256,
          227,
          172,
          123,
          148,
          96,
          115,
          207,
          243,
          132,
          88,
          242,
          116,
          162,
          61,
          181,
          112,
          230,
          142,
          172,
          232,
          190,
          106,
          203,
          152,
          201,
          157,
          142,
          120,
          189,
          142,
          114,
          165,
          227,
          107,
          176,
          211,
          32,
          173,
          179,
          69,
          126,
          200,
          202,
          69,
          123,
          209,
          201,
          123,
          168,
          145,
          204,
          248,
          136,
          178,
          217,
          204,
          121,
          176,
          140,
          164,
          141,
          225,
          156,
          176,
          92,
          65,
          114,
          242,
          146,
          234,
          267,
          135,
          172,
          166,
          190,
          166,
          115,
          61,
          323,
          182,
          188,
          99,
          154,
          80,
          147,
          73,
          126,
          143,
          209,
          165,
          143,
          254,
          276,
          78,
          110,
          207,
          121,
          86,
          132,
          134,
          203,
          207,
          126,
          151,
          175,
          118,
          162,
          221,
          140,
          204,
          156,
          121,
          178,
          183,
          218,
          212,
          179,
          70,
          200,
          217,
          75,
          197,
          136,
          201,
          210,
          34,
          238,
          151,
          47,
          187,
          79,
          93,
          185,
          213,
          104,
          99,
          185,
          226,
          164,
          70,
          209,
          75,
          217,
          201,
          160,
          209,
          588,
          139,
          187,
          166,
          96,
          216,
          65,
          174,
          211,
          92,
          113,
          129,
          125,
          83,
          141,
          161,
          149,
          115,
          187,
          114,
          95,
          156,
          194,
          139,
          179,
          66,
          170,
          77,
          116,
          117,
          82,
          125,
          195,
          191,
          185,
          196,
          116,
          173,
          204,
          108,
          103,
          53,
          40,
          199,
          154,
          76,
          167,
          173,
          196,
          71,
          162,
          221,
          159,
          206,
          183,
          189,
          170,
          182,
          141,
          183,
          140,
          150,
          137,
          195,
          206,
          140,
          186,
          182,
          93,
          146,
          165,
          174,
          122,
          108,
          69,
          199,
          200,
          217,
          55,
          240,
          179,
          205,
          131,
          76,
          65,
          190,
          218,
          62,
          220,
          174,
          100,
          124,
          211,
          159,
          202,
          170,
          90,
          240,
          182,
          45,
          151,
          141,
          124,
          148,
          91,
          116,
          228,
          177,
          204,
          244,
          205,
          124,
          153,
          192,
          165,
          87,
          212,
          191,
          175,
          710,
          247,
          190,
          236,
          190,
          65,
          44,
          96,
          66,
          185,
          71,
          154,
          188,
          152,
          98,
          118,
          221,
          220,
          188,
          231,
          159,
          146,
          167,
          217,
          176,
          114,
          154,
          181,
          195,
          204,
          234,
          266,
          148,
          125,
          95,
          153,
          139,
          163,
          219,
          232,
          55,
          173,
          118,
          136,
          118,
          133,
          109,
          100,
          239,
          154,
          113,
          202,
          117,
          200,
          135,
          179,
          164,
          132,
          219,
          91,
          160,
          193,
          225,
          199,
          250,
          110,
          79,
          212,
          183,
          184,
          125,
          68,
          119,
          231,
          180,
          186,
          160,
          132,
          280,
          195,
          118,
          209,
          145,
          109,
          157,
          140,
          132,
          233,
          225,
          203,
          188,
          132,
          232,
          121,
          65,
          179,
          112,
          127,
          70,
          232,
          199,
          222,
          236,
          156,
          143,
          212,
          81,
          257,
          213,
          163,
          92,
          68,
          187,
          98,
          210,
          95,
          153,
          183,
          139,
          198,
          139,
          97,
          218,
          234,
          222,
          195,
          184,
          207,
          123,
          264,
          102,
          214,
          187,
          118,
          161,
          169,
          163,
          138,
          159,
          257,
          198,
          218,
          184,
          175,
          151,
          231,
          156,
          39,
          175,
          133,
          232,
          113,
          114,
          226,
          85,
          159,
          187,
          197,
          72,
          32,
          135,
          200,
          153,
          65,
          125,
          72,
          136,
          235,
          80,
          166,
          417,
          164,
          163,
          111,
          139,
          214,
          203,
          166,
          234,
          204,
          89,
          217,
          144,
          148,
          226,
          212,
          211,
          214,
          242,
          173,
          160,
          254,
          158,
          218,
          190,
          336,
          157,
          196,
          74,
          121,
          87,
          77,
          240,
          113,
          82,
          209,
          201,
          96,
          250,
          145,
          77,
          247,
          170,
          127,
          236,
          95,
          208,
          216,
          129,
          191,
          159,
          138,
          184,
          191,
          249,
          168,
          229,
          114,
          33,
          226,
          101,
          87,
          193,
          187,
          207,
          195,
          171,
          133,
          191,
          100,
          124,
          228,
          172,
          80,
          66,
          197,
          338,
          187,
          103,
          223,
          194,
          247,
          229,
          146,
          199,
          98,
          135,
          137,
          95,
          224,
          91,
          267,
          150,
          183,
          88,
          102,
          244,
          193,
          199,
          180,
          168,
          143,
          226,
          230,
          45,
          187,
          183,
          128,
          45,
          225,
          98,
          118,
          215,
          120,
          196,
          119,
          82
         ],
         "xaxis": "x",
         "yaxis": "y"
        }
       ],
       "layout": {
        "barmode": "relative",
        "legend": {
         "title": {
          "text": "variable"
         },
         "tracegroupgap": 0
        },
        "margin": {
         "t": 60
        },
        "template": {
         "data": {
          "bar": [
           {
            "error_x": {
             "color": "#2a3f5f"
            },
            "error_y": {
             "color": "#2a3f5f"
            },
            "marker": {
             "line": {
              "color": "#E5ECF6",
              "width": 0.5
             },
             "pattern": {
              "fillmode": "overlay",
              "size": 10,
              "solidity": 0.2
             }
            },
            "type": "bar"
           }
          ],
          "barpolar": [
           {
            "marker": {
             "line": {
              "color": "#E5ECF6",
              "width": 0.5
             },
             "pattern": {
              "fillmode": "overlay",
              "size": 10,
              "solidity": 0.2
             }
            },
            "type": "barpolar"
           }
          ],
          "carpet": [
           {
            "aaxis": {
             "endlinecolor": "#2a3f5f",
             "gridcolor": "white",
             "linecolor": "white",
             "minorgridcolor": "white",
             "startlinecolor": "#2a3f5f"
            },
            "baxis": {
             "endlinecolor": "#2a3f5f",
             "gridcolor": "white",
             "linecolor": "white",
             "minorgridcolor": "white",
             "startlinecolor": "#2a3f5f"
            },
            "type": "carpet"
           }
          ],
          "choropleth": [
           {
            "colorbar": {
             "outlinewidth": 0,
             "ticks": ""
            },
            "type": "choropleth"
           }
          ],
          "contour": [
           {
            "colorbar": {
             "outlinewidth": 0,
             "ticks": ""
            },
            "colorscale": [
             [
              0,
              "#0d0887"
             ],
             [
              0.1111111111111111,
              "#46039f"
             ],
             [
              0.2222222222222222,
              "#7201a8"
             ],
             [
              0.3333333333333333,
              "#9c179e"
             ],
             [
              0.4444444444444444,
              "#bd3786"
             ],
             [
              0.5555555555555556,
              "#d8576b"
             ],
             [
              0.6666666666666666,
              "#ed7953"
             ],
             [
              0.7777777777777778,
              "#fb9f3a"
             ],
             [
              0.8888888888888888,
              "#fdca26"
             ],
             [
              1,
              "#f0f921"
             ]
            ],
            "type": "contour"
           }
          ],
          "contourcarpet": [
           {
            "colorbar": {
             "outlinewidth": 0,
             "ticks": ""
            },
            "type": "contourcarpet"
           }
          ],
          "heatmap": [
           {
            "colorbar": {
             "outlinewidth": 0,
             "ticks": ""
            },
            "colorscale": [
             [
              0,
              "#0d0887"
             ],
             [
              0.1111111111111111,
              "#46039f"
             ],
             [
              0.2222222222222222,
              "#7201a8"
             ],
             [
              0.3333333333333333,
              "#9c179e"
             ],
             [
              0.4444444444444444,
              "#bd3786"
             ],
             [
              0.5555555555555556,
              "#d8576b"
             ],
             [
              0.6666666666666666,
              "#ed7953"
             ],
             [
              0.7777777777777778,
              "#fb9f3a"
             ],
             [
              0.8888888888888888,
              "#fdca26"
             ],
             [
              1,
              "#f0f921"
             ]
            ],
            "type": "heatmap"
           }
          ],
          "heatmapgl": [
           {
            "colorbar": {
             "outlinewidth": 0,
             "ticks": ""
            },
            "colorscale": [
             [
              0,
              "#0d0887"
             ],
             [
              0.1111111111111111,
              "#46039f"
             ],
             [
              0.2222222222222222,
              "#7201a8"
             ],
             [
              0.3333333333333333,
              "#9c179e"
             ],
             [
              0.4444444444444444,
              "#bd3786"
             ],
             [
              0.5555555555555556,
              "#d8576b"
             ],
             [
              0.6666666666666666,
              "#ed7953"
             ],
             [
              0.7777777777777778,
              "#fb9f3a"
             ],
             [
              0.8888888888888888,
              "#fdca26"
             ],
             [
              1,
              "#f0f921"
             ]
            ],
            "type": "heatmapgl"
           }
          ],
          "histogram": [
           {
            "marker": {
             "pattern": {
              "fillmode": "overlay",
              "size": 10,
              "solidity": 0.2
             }
            },
            "type": "histogram"
           }
          ],
          "histogram2d": [
           {
            "colorbar": {
             "outlinewidth": 0,
             "ticks": ""
            },
            "colorscale": [
             [
              0,
              "#0d0887"
             ],
             [
              0.1111111111111111,
              "#46039f"
             ],
             [
              0.2222222222222222,
              "#7201a8"
             ],
             [
              0.3333333333333333,
              "#9c179e"
             ],
             [
              0.4444444444444444,
              "#bd3786"
             ],
             [
              0.5555555555555556,
              "#d8576b"
             ],
             [
              0.6666666666666666,
              "#ed7953"
             ],
             [
              0.7777777777777778,
              "#fb9f3a"
             ],
             [
              0.8888888888888888,
              "#fdca26"
             ],
             [
              1,
              "#f0f921"
             ]
            ],
            "type": "histogram2d"
           }
          ],
          "histogram2dcontour": [
           {
            "colorbar": {
             "outlinewidth": 0,
             "ticks": ""
            },
            "colorscale": [
             [
              0,
              "#0d0887"
             ],
             [
              0.1111111111111111,
              "#46039f"
             ],
             [
              0.2222222222222222,
              "#7201a8"
             ],
             [
              0.3333333333333333,
              "#9c179e"
             ],
             [
              0.4444444444444444,
              "#bd3786"
             ],
             [
              0.5555555555555556,
              "#d8576b"
             ],
             [
              0.6666666666666666,
              "#ed7953"
             ],
             [
              0.7777777777777778,
              "#fb9f3a"
             ],
             [
              0.8888888888888888,
              "#fdca26"
             ],
             [
              1,
              "#f0f921"
             ]
            ],
            "type": "histogram2dcontour"
           }
          ],
          "mesh3d": [
           {
            "colorbar": {
             "outlinewidth": 0,
             "ticks": ""
            },
            "type": "mesh3d"
           }
          ],
          "parcoords": [
           {
            "line": {
             "colorbar": {
              "outlinewidth": 0,
              "ticks": ""
             }
            },
            "type": "parcoords"
           }
          ],
          "pie": [
           {
            "automargin": true,
            "type": "pie"
           }
          ],
          "scatter": [
           {
            "marker": {
             "colorbar": {
              "outlinewidth": 0,
              "ticks": ""
             }
            },
            "type": "scatter"
           }
          ],
          "scatter3d": [
           {
            "line": {
             "colorbar": {
              "outlinewidth": 0,
              "ticks": ""
             }
            },
            "marker": {
             "colorbar": {
              "outlinewidth": 0,
              "ticks": ""
             }
            },
            "type": "scatter3d"
           }
          ],
          "scattercarpet": [
           {
            "marker": {
             "colorbar": {
              "outlinewidth": 0,
              "ticks": ""
             }
            },
            "type": "scattercarpet"
           }
          ],
          "scattergeo": [
           {
            "marker": {
             "colorbar": {
              "outlinewidth": 0,
              "ticks": ""
             }
            },
            "type": "scattergeo"
           }
          ],
          "scattergl": [
           {
            "marker": {
             "colorbar": {
              "outlinewidth": 0,
              "ticks": ""
             }
            },
            "type": "scattergl"
           }
          ],
          "scattermapbox": [
           {
            "marker": {
             "colorbar": {
              "outlinewidth": 0,
              "ticks": ""
             }
            },
            "type": "scattermapbox"
           }
          ],
          "scatterpolar": [
           {
            "marker": {
             "colorbar": {
              "outlinewidth": 0,
              "ticks": ""
             }
            },
            "type": "scatterpolar"
           }
          ],
          "scatterpolargl": [
           {
            "marker": {
             "colorbar": {
              "outlinewidth": 0,
              "ticks": ""
             }
            },
            "type": "scatterpolargl"
           }
          ],
          "scatterternary": [
           {
            "marker": {
             "colorbar": {
              "outlinewidth": 0,
              "ticks": ""
             }
            },
            "type": "scatterternary"
           }
          ],
          "surface": [
           {
            "colorbar": {
             "outlinewidth": 0,
             "ticks": ""
            },
            "colorscale": [
             [
              0,
              "#0d0887"
             ],
             [
              0.1111111111111111,
              "#46039f"
             ],
             [
              0.2222222222222222,
              "#7201a8"
             ],
             [
              0.3333333333333333,
              "#9c179e"
             ],
             [
              0.4444444444444444,
              "#bd3786"
             ],
             [
              0.5555555555555556,
              "#d8576b"
             ],
             [
              0.6666666666666666,
              "#ed7953"
             ],
             [
              0.7777777777777778,
              "#fb9f3a"
             ],
             [
              0.8888888888888888,
              "#fdca26"
             ],
             [
              1,
              "#f0f921"
             ]
            ],
            "type": "surface"
           }
          ],
          "table": [
           {
            "cells": {
             "fill": {
              "color": "#EBF0F8"
             },
             "line": {
              "color": "white"
             }
            },
            "header": {
             "fill": {
              "color": "#C8D4E3"
             },
             "line": {
              "color": "white"
             }
            },
            "type": "table"
           }
          ]
         },
         "layout": {
          "annotationdefaults": {
           "arrowcolor": "#2a3f5f",
           "arrowhead": 0,
           "arrowwidth": 1
          },
          "autotypenumbers": "strict",
          "coloraxis": {
           "colorbar": {
            "outlinewidth": 0,
            "ticks": ""
           }
          },
          "colorscale": {
           "diverging": [
            [
             0,
             "#8e0152"
            ],
            [
             0.1,
             "#c51b7d"
            ],
            [
             0.2,
             "#de77ae"
            ],
            [
             0.3,
             "#f1b6da"
            ],
            [
             0.4,
             "#fde0ef"
            ],
            [
             0.5,
             "#f7f7f7"
            ],
            [
             0.6,
             "#e6f5d0"
            ],
            [
             0.7,
             "#b8e186"
            ],
            [
             0.8,
             "#7fbc41"
            ],
            [
             0.9,
             "#4d9221"
            ],
            [
             1,
             "#276419"
            ]
           ],
           "sequential": [
            [
             0,
             "#0d0887"
            ],
            [
             0.1111111111111111,
             "#46039f"
            ],
            [
             0.2222222222222222,
             "#7201a8"
            ],
            [
             0.3333333333333333,
             "#9c179e"
            ],
            [
             0.4444444444444444,
             "#bd3786"
            ],
            [
             0.5555555555555556,
             "#d8576b"
            ],
            [
             0.6666666666666666,
             "#ed7953"
            ],
            [
             0.7777777777777778,
             "#fb9f3a"
            ],
            [
             0.8888888888888888,
             "#fdca26"
            ],
            [
             1,
             "#f0f921"
            ]
           ],
           "sequentialminus": [
            [
             0,
             "#0d0887"
            ],
            [
             0.1111111111111111,
             "#46039f"
            ],
            [
             0.2222222222222222,
             "#7201a8"
            ],
            [
             0.3333333333333333,
             "#9c179e"
            ],
            [
             0.4444444444444444,
             "#bd3786"
            ],
            [
             0.5555555555555556,
             "#d8576b"
            ],
            [
             0.6666666666666666,
             "#ed7953"
            ],
            [
             0.7777777777777778,
             "#fb9f3a"
            ],
            [
             0.8888888888888888,
             "#fdca26"
            ],
            [
             1,
             "#f0f921"
            ]
           ]
          },
          "colorway": [
           "#636efa",
           "#EF553B",
           "#00cc96",
           "#ab63fa",
           "#FFA15A",
           "#19d3f3",
           "#FF6692",
           "#B6E880",
           "#FF97FF",
           "#FECB52"
          ],
          "font": {
           "color": "#2a3f5f"
          },
          "geo": {
           "bgcolor": "white",
           "lakecolor": "white",
           "landcolor": "#E5ECF6",
           "showlakes": true,
           "showland": true,
           "subunitcolor": "white"
          },
          "hoverlabel": {
           "align": "left"
          },
          "hovermode": "closest",
          "mapbox": {
           "style": "light"
          },
          "paper_bgcolor": "white",
          "plot_bgcolor": "#E5ECF6",
          "polar": {
           "angularaxis": {
            "gridcolor": "white",
            "linecolor": "white",
            "ticks": ""
           },
           "bgcolor": "#E5ECF6",
           "radialaxis": {
            "gridcolor": "white",
            "linecolor": "white",
            "ticks": ""
           }
          },
          "scene": {
           "xaxis": {
            "backgroundcolor": "#E5ECF6",
            "gridcolor": "white",
            "gridwidth": 2,
            "linecolor": "white",
            "showbackground": true,
            "ticks": "",
            "zerolinecolor": "white"
           },
           "yaxis": {
            "backgroundcolor": "#E5ECF6",
            "gridcolor": "white",
            "gridwidth": 2,
            "linecolor": "white",
            "showbackground": true,
            "ticks": "",
            "zerolinecolor": "white"
           },
           "zaxis": {
            "backgroundcolor": "#E5ECF6",
            "gridcolor": "white",
            "gridwidth": 2,
            "linecolor": "white",
            "showbackground": true,
            "ticks": "",
            "zerolinecolor": "white"
           }
          },
          "shapedefaults": {
           "line": {
            "color": "#2a3f5f"
           }
          },
          "ternary": {
           "aaxis": {
            "gridcolor": "white",
            "linecolor": "white",
            "ticks": ""
           },
           "baxis": {
            "gridcolor": "white",
            "linecolor": "white",
            "ticks": ""
           },
           "bgcolor": "#E5ECF6",
           "caxis": {
            "gridcolor": "white",
            "linecolor": "white",
            "ticks": ""
           }
          },
          "title": {
           "x": 0.05
          },
          "xaxis": {
           "automargin": true,
           "gridcolor": "white",
           "linecolor": "white",
           "ticks": "",
           "title": {
            "standoff": 15
           },
           "zerolinecolor": "white",
           "zerolinewidth": 2
          },
          "yaxis": {
           "automargin": true,
           "gridcolor": "white",
           "linecolor": "white",
           "ticks": "",
           "title": {
            "standoff": 15
           },
           "zerolinecolor": "white",
           "zerolinewidth": 2
          }
         }
        },
        "xaxis": {
         "anchor": "y",
         "domain": [
          0,
          1
         ],
         "title": {
          "text": "value"
         }
        },
        "yaxis": {
         "anchor": "x",
         "domain": [
          0,
          1
         ],
         "title": {
          "text": "count"
         }
        }
       }
      },
      "text/html": [
       "<div>                            <div id=\"da66c40f-c403-4581-b4eb-17b18814c6f2\" class=\"plotly-graph-div\" style=\"height:525px; width:100%;\"></div>            <script type=\"text/javascript\">                require([\"plotly\"], function(Plotly) {                    window.PLOTLYENV=window.PLOTLYENV || {};                                    if (document.getElementById(\"da66c40f-c403-4581-b4eb-17b18814c6f2\")) {                    Plotly.newPlot(                        \"da66c40f-c403-4581-b4eb-17b18814c6f2\",                        [{\"alignmentgroup\":\"True\",\"bingroup\":\"x\",\"hovertemplate\":\"variable=0<br>value=%{x}<br>count=%{y}<extra></extra>\",\"legendgroup\":\"0\",\"marker\":{\"color\":\"#636efa\",\"pattern\":{\"shape\":\"\"}},\"name\":\"0\",\"nbinsx\":50,\"offsetgroup\":\"0\",\"orientation\":\"v\",\"showlegend\":true,\"x\":[189,114,215,141,141,155,32,120,40,119,230,193,159,174,107,105,176,260,269,177,128,97,228,143,158,102,199,201,52,225,184,150,186,152,96,52,216,205,142,160,282,204,214,177,191,180,178,217,150,255,172,127,283,116,211,110,180,100,143,203,269,110,154,73,136,119,189,84,279,247,138,198,180,110,280,136,211,147,217,205,92,171,176,171,183,179,217,181,204,223,188,73,251,184,137,224,189,123,165,158,206,83,93,209,228,163,100,197,109,157,183,109,87,112,164,91,199,93,166,148,201,180,137,199,246,215,207,215,198,154,137,93,191,155,223,164,163,175,130,154,382,287,219,112,232,140,175,77,170,121,168,281,172,228,77,139,198,218,223,190,75,180,264,158,160,132,156,162,169,176,184,215,204,246,152,208,171,203,104,215,177,153,239,184,147,248,272,99,146,157,139,173,166,238,100,157,152,155,151,232,177,235,133,99,154,245,138,94,246,155,164,182,113,251,210,223,198,238,91,195,197,184,249,178,145,178,164,156,159,200,91,223,153,161,71,108,81,232,136,206,52,109,167,208,193,141,111,279,178,126,106,68,181,128,256,94,229,191,172,247,111,64,199,167,221,124,96,123,155,106,222,156,156,138,157,153,164,191,129,155,178,194,141,124,232,148,171,217,129,173,177,84,157,187,234,185,252,200,233,173,88,75,231,88,63,149,193,144,204,173,51,186,200,185,53,163,194,180,168,209,82,210,103,168,62,175,146,134,220,54,190,222,243,141,227,186,195,230,146,257,140,137,104,200,214,57,51,166,167,207,175,147,197,108,253,118,267,253,71,170,225,194,120,262,232,80,155,242,182,179,139,180,135,267,204,179,200,234,223,115,203,270,235,134,110,187,146,32,190,125,200,29,151,283,159,169,122,279,148,158,220,171,159,239,214,176,156,178,219,146,112,113,109,288,193,250,157,168,197,110,157,153,247,202,170,99,216,162,198,202,225,173,96,185,115,148,328,221,221,50,193,94,157,159,196,163,139,163,150,193,163,219,188,188,182,162,176,116,109,138,176,235,220,215,148,234,125,94,194,163,157,221,184,76,172,97,103,140,162,117,139,206,215,147,161,149,171,130,218,107,196,101,129,122,263,31,138,173,118,172,157,200,108,192,73,71,172,114,195,180,208,150,62,180,237,143,149,191,204,160,126,128,187,230,224,206,191,184,150,192,200,240,162,154,76,96,166,200,47,133,55,130,128,227,101,193,67,242,114,121,189,208,126,147,101,197,223,190,85,162,311,242,129,92,121,133,115,102,201,216,243,143,202,178,215,57,209,153,111,149,207,139,214,147,97,142,193,56,152,183,233,63,208,165,170,159,166,183,166,98,100,231,94,183,107,228,156,77,68,210,149,136,98,124,207,216,122,202,89,265,145,70,338,79,277,203,137,229,121,223,121,69,273,182,212,192,173,61,234,124,287,88,79,67,189,239,215,118,92,224,120,104,158,139,208,182,120,177,95,129,198,218,162,151,225,156,234,165,9,194,207,145,187,91,18,236,76,145,171,135,162,134,102,199,114,205,230,235,163,183,201,214,48,67,117,152,126,202,109,81,115,163,157,165,76,241,256,140,161,140,43,124,245,170,196,229,129,187,100,177,246,165,190,170,223,200,74,148,256,19,129,218,167,114,134,239,174,173,203,80,198,164,144,146,136,110,181,134,160,275,163,177,155,219,250,185,187,95,144,244,163,219,256,67,184,186,233,94,208,257,177,91,202,111,206,213,239,113,163,223,93,100,205,188,157,151,26,221,221,86,202,175,179,362,208,73,159,112,89,165,133,156,181,136,159,153,243,89,195,71,75,116,145,248,272,140,139,87,137,224,151,164,161,264,105,200,216,109,193,120,174,107,85,41,204,129,150,21,188,178,210,171,157,134,157,193,144,43,123,203,295,126,157,186,231,256,109,120,123,115,155,192,182,218,117,147,138,139,258,45,160,81,179,187,236,99,128,126,210,155,188,200,217,148,179,185,156,265,99,145,194,130,293,155,202,179,235,115,240,161,161,163,97,205,188,214,160,166,152,125,159,130,227,112,159,215,86,105,158,201,196,113,131,206,155,88,146,247,52,89,168,145,102,131,79,181,133,140,198,188,187,230,148,101,84,220,221,47,239,147,209,222,269,152,121,245,144,184,203,244,165,179,137,204,148,124,201,207,103,108,254,237,251,180,147,180,151,84,160,141,138,218,143,142,171,179,125,135,55,113,123,204,189,31,189,104,166,156,159,191,218,192,227,268,127,194,154,221,206,209,267,130,184,119,106,167,221,138,216,204,127,160,279,134,144,83,126,151,207,200,173,128,105,203,246,100,176,164,198,209,230,69,172,123,103,194,135,188,162,198,90,155,130,257,205,102,56,213,240,140,206,310,95,158,171,224,155,208,124,207,267,157,194,153,183,182,191,215,90,277,44,99,252,174,100,164,144,116,213,57,176,100,91,251,106,157,355,95,178,125,196,119,148,134,160,170,197,77,282,273,196,168,188,86,170,170,140,183,193,218,134,194,214,138,154,174,200,266,163,186,215,201,79,182,69,134,129,151,187,186,90,158,159,122,120,169,163,91,190,160,155,54,82,114,68,259,104,175,248,129,114,137,195,110,247,136,157,173,225,229,210,72,191,154,126,119,136,41,225,172,176,169,128,185,93,48,223,118,222,145,172,88,115,222,167,188,80,121,122,167,159,169,144,207,226,155,254,101,64,106,139,231,153,209,216,288,76,96,155,227,154,142,202,146,74,220,145,124,214,262,71,155,187,169,91,167,236,114,150,156,210,175,203,162,221,236,96,202,211,62,157,126,39,178,197,164,158,207,190,270,125,208,221,159,220,257,118,69,221,228,82,216,167,228,87,184,206,166,218,136,170,117,164,162,182,167,165,290,209,136,183,121,168,157,218,125,167,100,217,253,110,200,186,94,121,107,106,110,190,146,149,137,262,199,183,143,154,101,100,99,165,146,160,182,238,181,89,186,80,94,269,198,140,134,158,112,194,131,86,229,214,260,196,162,204,146,207,226,182,178,192,234,184,154,203,221,106,68,195,123,118,140,129,64,184,92,80,163,93,149,109,175,162,128,162,87,237,101,156,143,113,211,98,107,197,85,184,193,213,119,95,118,195,114,162,67,221,249,36,126,87,157,110,153,119,253,229,201,181,136,191,168,140,153,258,206,303,147,156,212,132,154,239,95,82,171,143,130,84,197,168,23,102,232,117,130,281,106,173,140,159,192,142,202,218,186,155,60,142,96,173,66,69,105,249,117,89,181,31,188,253,73,242,224,105,145,236,167,118,139,140,177,93,112,207,155,127,237,139,166,86,68,152,224,105,143,175,218,161,212,156,86,101,176,215,195,89,227,228,120,164,212,157,161,192,165,136,180,188,177,90,163,114,222,163,229,143,169,196,63,144,139,98,157,130,204,181,89,135,171,165,144,174,91,103,158,154,121,112,114,168,165,233,130,174,209,83,155,127,157,118,212,227,169,174,160,264,107,154,198,159,101,200,131,169,129,179,236,248,255,211,203,183,156,174,144,166,192,144,186,256,227,172,123,148,96,115,207,243,132,88,242,116,162,61,181,112,230,142,172,232,190,106,203,152,201,157,142,120,189,142,114,165,227,107,176,211,32,173,179,69,126,200,202,69,123,209,201,123,168,145,204,248,136,178,217,204,121,176,140,164,141,225,156,176,92,65,114,242,146,234,267,135,172,166,190,166,115,61,323,182,188,99,154,80,147,73,126,143,209,165,143,254,276,78,110,207,121,86,132,134,203,207,126,151,175,118,162,221,140,204,156,121,178,183,218,212,179,70,200,217,75,197,136,201,210,34,238,151,47,187,79,93,185,213,104,99,185,226,164,70,209,75,217,201,160,209,588,139,187,166,96,216,65,174,211,92,113,129,125,83,141,161,149,115,187,114,95,156,194,139,179,66,170,77,116,117,82,125,195,191,185,196,116,173,204,108,103,53,40,199,154,76,167,173,196,71,162,221,159,206,183,189,170,182,141,183,140,150,137,195,206,140,186,182,93,146,165,174,122,108,69,199,200,217,55,240,179,205,131,76,65,190,218,62,220,174,100,124,211,159,202,170,90,240,182,45,151,141,124,148,91,116,228,177,204,244,205,124,153,192,165,87,212,191,175,710,247,190,236,190,65,44,96,66,185,71,154,188,152,98,118,221,220,188,231,159,146,167,217,176,114,154,181,195,204,234,266,148,125,95,153,139,163,219,232,55,173,118,136,118,133,109,100,239,154,113,202,117,200,135,179,164,132,219,91,160,193,225,199,250,110,79,212,183,184,125,68,119,231,180,186,160,132,280,195,118,209,145,109,157,140,132,233,225,203,188,132,232,121,65,179,112,127,70,232,199,222,236,156,143,212,81,257,213,163,92,68,187,98,210,95,153,183,139,198,139,97,218,234,222,195,184,207,123,264,102,214,187,118,161,169,163,138,159,257,198,218,184,175,151,231,156,39,175,133,232,113,114,226,85,159,187,197,72,32,135,200,153,65,125,72,136,235,80,166,417,164,163,111,139,214,203,166,234,204,89,217,144,148,226,212,211,214,242,173,160,254,158,218,190,336,157,196,74,121,87,77,240,113,82,209,201,96,250,145,77,247,170,127,236,95,208,216,129,191,159,138,184,191,249,168,229,114,33,226,101,87,193,187,207,195,171,133,191,100,124,228,172,80,66,197,338,187,103,223,194,247,229,146,199,98,135,137,95,224,91,267,150,183,88,102,244,193,199,180,168,143,226,230,45,187,183,128,45,225,98,118,215,120,196,119,82],\"xaxis\":\"x\",\"yaxis\":\"y\",\"type\":\"histogram\"}],                        {\"template\":{\"data\":{\"bar\":[{\"error_x\":{\"color\":\"#2a3f5f\"},\"error_y\":{\"color\":\"#2a3f5f\"},\"marker\":{\"line\":{\"color\":\"#E5ECF6\",\"width\":0.5},\"pattern\":{\"fillmode\":\"overlay\",\"size\":10,\"solidity\":0.2}},\"type\":\"bar\"}],\"barpolar\":[{\"marker\":{\"line\":{\"color\":\"#E5ECF6\",\"width\":0.5},\"pattern\":{\"fillmode\":\"overlay\",\"size\":10,\"solidity\":0.2}},\"type\":\"barpolar\"}],\"carpet\":[{\"aaxis\":{\"endlinecolor\":\"#2a3f5f\",\"gridcolor\":\"white\",\"linecolor\":\"white\",\"minorgridcolor\":\"white\",\"startlinecolor\":\"#2a3f5f\"},\"baxis\":{\"endlinecolor\":\"#2a3f5f\",\"gridcolor\":\"white\",\"linecolor\":\"white\",\"minorgridcolor\":\"white\",\"startlinecolor\":\"#2a3f5f\"},\"type\":\"carpet\"}],\"choropleth\":[{\"colorbar\":{\"outlinewidth\":0,\"ticks\":\"\"},\"type\":\"choropleth\"}],\"contour\":[{\"colorbar\":{\"outlinewidth\":0,\"ticks\":\"\"},\"colorscale\":[[0.0,\"#0d0887\"],[0.1111111111111111,\"#46039f\"],[0.2222222222222222,\"#7201a8\"],[0.3333333333333333,\"#9c179e\"],[0.4444444444444444,\"#bd3786\"],[0.5555555555555556,\"#d8576b\"],[0.6666666666666666,\"#ed7953\"],[0.7777777777777778,\"#fb9f3a\"],[0.8888888888888888,\"#fdca26\"],[1.0,\"#f0f921\"]],\"type\":\"contour\"}],\"contourcarpet\":[{\"colorbar\":{\"outlinewidth\":0,\"ticks\":\"\"},\"type\":\"contourcarpet\"}],\"heatmap\":[{\"colorbar\":{\"outlinewidth\":0,\"ticks\":\"\"},\"colorscale\":[[0.0,\"#0d0887\"],[0.1111111111111111,\"#46039f\"],[0.2222222222222222,\"#7201a8\"],[0.3333333333333333,\"#9c179e\"],[0.4444444444444444,\"#bd3786\"],[0.5555555555555556,\"#d8576b\"],[0.6666666666666666,\"#ed7953\"],[0.7777777777777778,\"#fb9f3a\"],[0.8888888888888888,\"#fdca26\"],[1.0,\"#f0f921\"]],\"type\":\"heatmap\"}],\"heatmapgl\":[{\"colorbar\":{\"outlinewidth\":0,\"ticks\":\"\"},\"colorscale\":[[0.0,\"#0d0887\"],[0.1111111111111111,\"#46039f\"],[0.2222222222222222,\"#7201a8\"],[0.3333333333333333,\"#9c179e\"],[0.4444444444444444,\"#bd3786\"],[0.5555555555555556,\"#d8576b\"],[0.6666666666666666,\"#ed7953\"],[0.7777777777777778,\"#fb9f3a\"],[0.8888888888888888,\"#fdca26\"],[1.0,\"#f0f921\"]],\"type\":\"heatmapgl\"}],\"histogram\":[{\"marker\":{\"pattern\":{\"fillmode\":\"overlay\",\"size\":10,\"solidity\":0.2}},\"type\":\"histogram\"}],\"histogram2d\":[{\"colorbar\":{\"outlinewidth\":0,\"ticks\":\"\"},\"colorscale\":[[0.0,\"#0d0887\"],[0.1111111111111111,\"#46039f\"],[0.2222222222222222,\"#7201a8\"],[0.3333333333333333,\"#9c179e\"],[0.4444444444444444,\"#bd3786\"],[0.5555555555555556,\"#d8576b\"],[0.6666666666666666,\"#ed7953\"],[0.7777777777777778,\"#fb9f3a\"],[0.8888888888888888,\"#fdca26\"],[1.0,\"#f0f921\"]],\"type\":\"histogram2d\"}],\"histogram2dcontour\":[{\"colorbar\":{\"outlinewidth\":0,\"ticks\":\"\"},\"colorscale\":[[0.0,\"#0d0887\"],[0.1111111111111111,\"#46039f\"],[0.2222222222222222,\"#7201a8\"],[0.3333333333333333,\"#9c179e\"],[0.4444444444444444,\"#bd3786\"],[0.5555555555555556,\"#d8576b\"],[0.6666666666666666,\"#ed7953\"],[0.7777777777777778,\"#fb9f3a\"],[0.8888888888888888,\"#fdca26\"],[1.0,\"#f0f921\"]],\"type\":\"histogram2dcontour\"}],\"mesh3d\":[{\"colorbar\":{\"outlinewidth\":0,\"ticks\":\"\"},\"type\":\"mesh3d\"}],\"parcoords\":[{\"line\":{\"colorbar\":{\"outlinewidth\":0,\"ticks\":\"\"}},\"type\":\"parcoords\"}],\"pie\":[{\"automargin\":true,\"type\":\"pie\"}],\"scatter\":[{\"marker\":{\"colorbar\":{\"outlinewidth\":0,\"ticks\":\"\"}},\"type\":\"scatter\"}],\"scatter3d\":[{\"line\":{\"colorbar\":{\"outlinewidth\":0,\"ticks\":\"\"}},\"marker\":{\"colorbar\":{\"outlinewidth\":0,\"ticks\":\"\"}},\"type\":\"scatter3d\"}],\"scattercarpet\":[{\"marker\":{\"colorbar\":{\"outlinewidth\":0,\"ticks\":\"\"}},\"type\":\"scattercarpet\"}],\"scattergeo\":[{\"marker\":{\"colorbar\":{\"outlinewidth\":0,\"ticks\":\"\"}},\"type\":\"scattergeo\"}],\"scattergl\":[{\"marker\":{\"colorbar\":{\"outlinewidth\":0,\"ticks\":\"\"}},\"type\":\"scattergl\"}],\"scattermapbox\":[{\"marker\":{\"colorbar\":{\"outlinewidth\":0,\"ticks\":\"\"}},\"type\":\"scattermapbox\"}],\"scatterpolar\":[{\"marker\":{\"colorbar\":{\"outlinewidth\":0,\"ticks\":\"\"}},\"type\":\"scatterpolar\"}],\"scatterpolargl\":[{\"marker\":{\"colorbar\":{\"outlinewidth\":0,\"ticks\":\"\"}},\"type\":\"scatterpolargl\"}],\"scatterternary\":[{\"marker\":{\"colorbar\":{\"outlinewidth\":0,\"ticks\":\"\"}},\"type\":\"scatterternary\"}],\"surface\":[{\"colorbar\":{\"outlinewidth\":0,\"ticks\":\"\"},\"colorscale\":[[0.0,\"#0d0887\"],[0.1111111111111111,\"#46039f\"],[0.2222222222222222,\"#7201a8\"],[0.3333333333333333,\"#9c179e\"],[0.4444444444444444,\"#bd3786\"],[0.5555555555555556,\"#d8576b\"],[0.6666666666666666,\"#ed7953\"],[0.7777777777777778,\"#fb9f3a\"],[0.8888888888888888,\"#fdca26\"],[1.0,\"#f0f921\"]],\"type\":\"surface\"}],\"table\":[{\"cells\":{\"fill\":{\"color\":\"#EBF0F8\"},\"line\":{\"color\":\"white\"}},\"header\":{\"fill\":{\"color\":\"#C8D4E3\"},\"line\":{\"color\":\"white\"}},\"type\":\"table\"}]},\"layout\":{\"annotationdefaults\":{\"arrowcolor\":\"#2a3f5f\",\"arrowhead\":0,\"arrowwidth\":1},\"autotypenumbers\":\"strict\",\"coloraxis\":{\"colorbar\":{\"outlinewidth\":0,\"ticks\":\"\"}},\"colorscale\":{\"diverging\":[[0,\"#8e0152\"],[0.1,\"#c51b7d\"],[0.2,\"#de77ae\"],[0.3,\"#f1b6da\"],[0.4,\"#fde0ef\"],[0.5,\"#f7f7f7\"],[0.6,\"#e6f5d0\"],[0.7,\"#b8e186\"],[0.8,\"#7fbc41\"],[0.9,\"#4d9221\"],[1,\"#276419\"]],\"sequential\":[[0.0,\"#0d0887\"],[0.1111111111111111,\"#46039f\"],[0.2222222222222222,\"#7201a8\"],[0.3333333333333333,\"#9c179e\"],[0.4444444444444444,\"#bd3786\"],[0.5555555555555556,\"#d8576b\"],[0.6666666666666666,\"#ed7953\"],[0.7777777777777778,\"#fb9f3a\"],[0.8888888888888888,\"#fdca26\"],[1.0,\"#f0f921\"]],\"sequentialminus\":[[0.0,\"#0d0887\"],[0.1111111111111111,\"#46039f\"],[0.2222222222222222,\"#7201a8\"],[0.3333333333333333,\"#9c179e\"],[0.4444444444444444,\"#bd3786\"],[0.5555555555555556,\"#d8576b\"],[0.6666666666666666,\"#ed7953\"],[0.7777777777777778,\"#fb9f3a\"],[0.8888888888888888,\"#fdca26\"],[1.0,\"#f0f921\"]]},\"colorway\":[\"#636efa\",\"#EF553B\",\"#00cc96\",\"#ab63fa\",\"#FFA15A\",\"#19d3f3\",\"#FF6692\",\"#B6E880\",\"#FF97FF\",\"#FECB52\"],\"font\":{\"color\":\"#2a3f5f\"},\"geo\":{\"bgcolor\":\"white\",\"lakecolor\":\"white\",\"landcolor\":\"#E5ECF6\",\"showlakes\":true,\"showland\":true,\"subunitcolor\":\"white\"},\"hoverlabel\":{\"align\":\"left\"},\"hovermode\":\"closest\",\"mapbox\":{\"style\":\"light\"},\"paper_bgcolor\":\"white\",\"plot_bgcolor\":\"#E5ECF6\",\"polar\":{\"angularaxis\":{\"gridcolor\":\"white\",\"linecolor\":\"white\",\"ticks\":\"\"},\"bgcolor\":\"#E5ECF6\",\"radialaxis\":{\"gridcolor\":\"white\",\"linecolor\":\"white\",\"ticks\":\"\"}},\"scene\":{\"xaxis\":{\"backgroundcolor\":\"#E5ECF6\",\"gridcolor\":\"white\",\"gridwidth\":2,\"linecolor\":\"white\",\"showbackground\":true,\"ticks\":\"\",\"zerolinecolor\":\"white\"},\"yaxis\":{\"backgroundcolor\":\"#E5ECF6\",\"gridcolor\":\"white\",\"gridwidth\":2,\"linecolor\":\"white\",\"showbackground\":true,\"ticks\":\"\",\"zerolinecolor\":\"white\"},\"zaxis\":{\"backgroundcolor\":\"#E5ECF6\",\"gridcolor\":\"white\",\"gridwidth\":2,\"linecolor\":\"white\",\"showbackground\":true,\"ticks\":\"\",\"zerolinecolor\":\"white\"}},\"shapedefaults\":{\"line\":{\"color\":\"#2a3f5f\"}},\"ternary\":{\"aaxis\":{\"gridcolor\":\"white\",\"linecolor\":\"white\",\"ticks\":\"\"},\"baxis\":{\"gridcolor\":\"white\",\"linecolor\":\"white\",\"ticks\":\"\"},\"bgcolor\":\"#E5ECF6\",\"caxis\":{\"gridcolor\":\"white\",\"linecolor\":\"white\",\"ticks\":\"\"}},\"title\":{\"x\":0.05},\"xaxis\":{\"automargin\":true,\"gridcolor\":\"white\",\"linecolor\":\"white\",\"ticks\":\"\",\"title\":{\"standoff\":15},\"zerolinecolor\":\"white\",\"zerolinewidth\":2},\"yaxis\":{\"automargin\":true,\"gridcolor\":\"white\",\"linecolor\":\"white\",\"ticks\":\"\",\"title\":{\"standoff\":15},\"zerolinecolor\":\"white\",\"zerolinewidth\":2}}},\"xaxis\":{\"anchor\":\"y\",\"domain\":[0.0,1.0],\"title\":{\"text\":\"value\"}},\"yaxis\":{\"anchor\":\"x\",\"domain\":[0.0,1.0],\"title\":{\"text\":\"count\"}},\"legend\":{\"title\":{\"text\":\"variable\"},\"tracegroupgap\":0},\"margin\":{\"t\":60},\"barmode\":\"relative\"},                        {\"responsive\": true}                    ).then(function(){\n",
       "                            \n",
       "var gd = document.getElementById('da66c40f-c403-4581-b4eb-17b18814c6f2');\n",
       "var x = new MutationObserver(function (mutations, observer) {{\n",
       "        var display = window.getComputedStyle(gd).display;\n",
       "        if (!display || display === 'none') {{\n",
       "            console.log([gd, 'removed!']);\n",
       "            Plotly.purge(gd);\n",
       "            observer.disconnect();\n",
       "        }}\n",
       "}});\n",
       "\n",
       "// Listen for the removal of the full notebook cells\n",
       "var notebookContainer = gd.closest('#notebook-container');\n",
       "if (notebookContainer) {{\n",
       "    x.observe(notebookContainer, {childList: true});\n",
       "}}\n",
       "\n",
       "// Listen for the clearing of the current output cell\n",
       "var outputEl = gd.closest('.output');\n",
       "if (outputEl) {{\n",
       "    x.observe(outputEl, {childList: true});\n",
       "}}\n",
       "\n",
       "                        })                };                });            </script>        </div>"
      ]
     },
     "metadata": {},
     "output_type": "display_data"
    }
   ],
   "source": [
    "fig = px.histogram(list(Exp.values()),nbins=50)\n",
    "fig.show()"
   ]
  },
  {
   "cell_type": "markdown",
   "id": "4b0b9626",
   "metadata": {},
   "source": [
    "### Prev Probabilities"
   ]
  },
  {
   "cell_type": "code",
   "execution_count": 146,
   "id": "089465ec",
   "metadata": {},
   "outputs": [],
   "source": [
    "History = {i:[] for i in Uni_players}\n",
    "\n",
    "train['White_Win_probability'] = 0\n",
    "train['White_Draw_Probability'] = 0\n",
    "train['White_Lose_probability'] = 0\n",
    "\n",
    "test['White_Win_probability'] = 0\n",
    "test['White_Draw_Probability'] = 0\n",
    "test['White_Lose_probability'] = 0\n",
    "\n",
    "train['Black_Win_probability'] = 0\n",
    "train['Black_Draw_Probability'] = 0\n",
    "train['Black_Lose_probability'] = 0\n",
    "\n",
    "test['Black_Win_probability'] = 0\n",
    "test['Black_Draw_Probability'] = 0\n",
    "test['Black_Lose_probability'] = 0\n",
    "\n",
    "def probability(series):\n",
    "    n = len(series)\n",
    "    if n == 0:\n",
    "        return (0,1,0)   \n",
    "    w = sum([1 for i in series if i == 1])\n",
    "    d = sum([1 for i in series if i == 0.5])\n",
    "    l = sum([1 for i in series if i == 0])\n",
    "    return (w/n,d/n,l/n)\n",
    "\n",
    "for row in range(0,len(train)):\n",
    "    \n",
    "    # Extract current game result and player's names\n",
    "    p1, p2, result = train['white'][row], train['black'][row], train['result'][row]\n",
    "    \n",
    "    w1,d1,l1 = probability(History[p1])\n",
    "    w2,d2,l2 = probability(History[p2])\n",
    "    \n",
    "    train['White_Win_probability'][row] = w1\n",
    "    train['White_Draw_Probability'][row] = d1\n",
    "    train['White_Lose_probability'][row] = l1\n",
    "    \n",
    "    train['Black_Win_probability'][row] = w2\n",
    "    train['Black_Draw_Probability'][row] = d2\n",
    "    train['Black_Lose_probability'][row] = l2\n",
    "    \n",
    "    History[p1] = History[p1] + [result]\n",
    "    History[p2] = History[p2] + [1-result]\n",
    "        \n",
    "for row in range(0,len(test)):\n",
    "    \n",
    "    # Extract current game result and player's names\n",
    "    p1, p2 = test['white'][row], test['black'][row]\n",
    "    \n",
    "    w1,d1,l1 = probability(History[p1])\n",
    "    w2,d2,l2 = probability(History[p2])\n",
    "    \n",
    "    test['White_Win_probability'][row] = w1\n",
    "    test['White_Draw_Probability'][row] = d1\n",
    "    test['White_Lose_probability'][row] = l1\n",
    "    \n",
    "    test['Black_Win_probability'][row] = w2\n",
    "    test['Black_Draw_Probability'][row] = d2\n",
    "    test['Black_Lose_probability'][row] = l2"
   ]
  },
  {
   "cell_type": "code",
   "execution_count": 147,
   "id": "1e935255",
   "metadata": {},
   "outputs": [
    {
     "data": {
      "application/vnd.plotly.v1+json": {
       "config": {
        "plotlyServerURL": "https://plot.ly"
       },
       "data": [
        {
         "coloraxis": "coloraxis",
         "hovertemplate": "x: %{x}<br>y: %{y}<br>color: %{z}<extra></extra>",
         "name": "0",
         "texttemplate": "%{z}",
         "type": "heatmap",
         "x": [
          "Wins",
          "Draws",
          "Loses"
         ],
         "xaxis": "x",
         "y": [
          "0.09",
          "0.18",
          "0.22",
          "0.25",
          "0.27",
          "0.3",
          "0.33",
          "0.36",
          "0.41",
          "0.53"
         ],
         "yaxis": "y",
         "z": [
          [
           4303,
           7069,
           6039
          ],
          [
           4643,
           6886,
           5882
          ],
          [
           5111,
           7075,
           5225
          ],
          [
           5606,
           6887,
           4918
          ],
          [
           5741,
           7002,
           4668
          ],
          [
           6240,
           6781,
           4390
          ],
          [
           6495,
           6857,
           4059
          ],
          [
           6953,
           6754,
           3704
          ],
          [
           7752,
           6414,
           3245
          ],
          [
           8797,
           6106,
           2508
          ]
         ]
        },
        {
         "coloraxis": "coloraxis",
         "hovertemplate": "x: %{x}<br>y: %{y}<br>color: %{z}<extra></extra>",
         "name": "0",
         "texttemplate": "%{z}",
         "type": "heatmap",
         "x": [
          "Wins",
          "Draws",
          "Loses"
         ],
         "xaxis": "x2",
         "y": [
          "0.26",
          "0.34",
          "0.37",
          "0.39",
          "0.4",
          "0.42",
          "0.44",
          "0.46",
          "0.49",
          "0.63"
         ],
         "yaxis": "y2",
         "z": [
          [
           6264,
           6522,
           4625
          ],
          [
           6326,
           6502,
           4583
          ],
          [
           6320,
           6376,
           4715
          ],
          [
           6272,
           6573,
           4566
          ],
          [
           6260,
           6616,
           4535
          ],
          [
           6135,
           6788,
           4488
          ],
          [
           6074,
           6776,
           4561
          ],
          [
           6120,
           6961,
           4330
          ],
          [
           6057,
           7117,
           4237
          ],
          [
           5812,
           7600,
           3999
          ]
         ]
        },
        {
         "coloraxis": "coloraxis",
         "hovertemplate": "x: %{x}<br>y: %{y}<br>color: %{z}<extra></extra>",
         "name": "0",
         "texttemplate": "%{z}",
         "type": "heatmap",
         "x": [
          "Wins",
          "Draws",
          "Loses"
         ],
         "xaxis": "x3",
         "y": [
          "0.08",
          "0.17",
          "0.21",
          "0.24",
          "0.27",
          "0.3",
          "0.32",
          "0.35",
          "0.4",
          "0.52"
         ],
         "yaxis": "y3",
         "z": [
          [
           8150,
           6590,
           2671
          ],
          [
           7976,
           6404,
           3031
          ],
          [
           7044,
           6872,
           3495
          ],
          [
           6554,
           6997,
           3860
          ],
          [
           6410,
           6789,
           4212
          ],
          [
           5773,
           7026,
           4612
          ],
          [
           5681,
           6883,
           4847
          ],
          [
           5282,
           6754,
           5375
          ],
          [
           4783,
           6900,
           5728
          ],
          [
           3988,
           6617,
           6806
          ]
         ]
        }
       ],
       "layout": {
        "annotations": [
         {
          "font": {
           "size": 16
          },
          "showarrow": false,
          "text": "White_Win_probability",
          "x": 0.09999999999999999,
          "xanchor": "center",
          "xref": "paper",
          "y": 1,
          "yanchor": "bottom",
          "yref": "paper"
         },
         {
          "font": {
           "size": 16
          },
          "showarrow": false,
          "text": "White_Draw_Probability",
          "x": 0.5,
          "xanchor": "center",
          "xref": "paper",
          "y": 1,
          "yanchor": "bottom",
          "yref": "paper"
         },
         {
          "font": {
           "size": 16
          },
          "showarrow": false,
          "text": "White_Lose_probability",
          "x": 0.9,
          "xanchor": "center",
          "xref": "paper",
          "y": 1,
          "yanchor": "bottom",
          "yref": "paper"
         }
        ],
        "coloraxis": {
         "colorbar": {
          "thickness": 25,
          "x": -0.12
         },
         "colorscale": [
          [
           0,
           "rgb(23, 28, 66)"
          ],
          [
           0.09090909090909091,
           "rgb(41, 58, 143)"
          ],
          [
           0.18181818181818182,
           "rgb(11, 102, 189)"
          ],
          [
           0.2727272727272727,
           "rgb(69, 144, 185)"
          ],
          [
           0.36363636363636365,
           "rgb(142, 181, 194)"
          ],
          [
           0.45454545454545453,
           "rgb(210, 216, 219)"
          ],
          [
           0.5454545454545454,
           "rgb(230, 210, 204)"
          ],
          [
           0.6363636363636364,
           "rgb(213, 157, 137)"
          ],
          [
           0.7272727272727273,
           "rgb(196, 101, 72)"
          ],
          [
           0.8181818181818182,
           "rgb(172, 43, 36)"
          ],
          [
           0.9090909090909091,
           "rgb(120, 14, 40)"
          ],
          [
           1,
           "rgb(60, 9, 17)"
          ]
         ],
         "showscale": false
        },
        "coloraxis2": {
         "colorbar": {
          "thickness": 25
         },
         "colorscale": [
          [
           0,
           "rgb(20, 29, 67)"
          ],
          [
           0.09090909090909091,
           "rgb(28, 72, 93)"
          ],
          [
           0.18181818181818182,
           "rgb(18, 115, 117)"
          ],
          [
           0.2727272727272727,
           "rgb(63, 156, 129)"
          ],
          [
           0.36363636363636365,
           "rgb(153, 189, 156)"
          ],
          [
           0.45454545454545453,
           "rgb(223, 225, 211)"
          ],
          [
           0.5454545454545454,
           "rgb(241, 218, 206)"
          ],
          [
           0.6363636363636364,
           "rgb(224, 160, 137)"
          ],
          [
           0.7272727272727273,
           "rgb(203, 101, 99)"
          ],
          [
           0.8181818181818182,
           "rgb(164, 54, 96)"
          ],
          [
           0.9090909090909091,
           "rgb(111, 23, 91)"
          ],
          [
           1,
           "rgb(51, 13, 53)"
          ]
         ],
         "showscale": false
        },
        "template": {
         "data": {
          "bar": [
           {
            "error_x": {
             "color": "#2a3f5f"
            },
            "error_y": {
             "color": "#2a3f5f"
            },
            "marker": {
             "line": {
              "color": "#E5ECF6",
              "width": 0.5
             },
             "pattern": {
              "fillmode": "overlay",
              "size": 10,
              "solidity": 0.2
             }
            },
            "type": "bar"
           }
          ],
          "barpolar": [
           {
            "marker": {
             "line": {
              "color": "#E5ECF6",
              "width": 0.5
             },
             "pattern": {
              "fillmode": "overlay",
              "size": 10,
              "solidity": 0.2
             }
            },
            "type": "barpolar"
           }
          ],
          "carpet": [
           {
            "aaxis": {
             "endlinecolor": "#2a3f5f",
             "gridcolor": "white",
             "linecolor": "white",
             "minorgridcolor": "white",
             "startlinecolor": "#2a3f5f"
            },
            "baxis": {
             "endlinecolor": "#2a3f5f",
             "gridcolor": "white",
             "linecolor": "white",
             "minorgridcolor": "white",
             "startlinecolor": "#2a3f5f"
            },
            "type": "carpet"
           }
          ],
          "choropleth": [
           {
            "colorbar": {
             "outlinewidth": 0,
             "ticks": ""
            },
            "type": "choropleth"
           }
          ],
          "contour": [
           {
            "colorbar": {
             "outlinewidth": 0,
             "ticks": ""
            },
            "colorscale": [
             [
              0,
              "#0d0887"
             ],
             [
              0.1111111111111111,
              "#46039f"
             ],
             [
              0.2222222222222222,
              "#7201a8"
             ],
             [
              0.3333333333333333,
              "#9c179e"
             ],
             [
              0.4444444444444444,
              "#bd3786"
             ],
             [
              0.5555555555555556,
              "#d8576b"
             ],
             [
              0.6666666666666666,
              "#ed7953"
             ],
             [
              0.7777777777777778,
              "#fb9f3a"
             ],
             [
              0.8888888888888888,
              "#fdca26"
             ],
             [
              1,
              "#f0f921"
             ]
            ],
            "type": "contour"
           }
          ],
          "contourcarpet": [
           {
            "colorbar": {
             "outlinewidth": 0,
             "ticks": ""
            },
            "type": "contourcarpet"
           }
          ],
          "heatmap": [
           {
            "colorbar": {
             "outlinewidth": 0,
             "ticks": ""
            },
            "colorscale": [
             [
              0,
              "#0d0887"
             ],
             [
              0.1111111111111111,
              "#46039f"
             ],
             [
              0.2222222222222222,
              "#7201a8"
             ],
             [
              0.3333333333333333,
              "#9c179e"
             ],
             [
              0.4444444444444444,
              "#bd3786"
             ],
             [
              0.5555555555555556,
              "#d8576b"
             ],
             [
              0.6666666666666666,
              "#ed7953"
             ],
             [
              0.7777777777777778,
              "#fb9f3a"
             ],
             [
              0.8888888888888888,
              "#fdca26"
             ],
             [
              1,
              "#f0f921"
             ]
            ],
            "type": "heatmap"
           }
          ],
          "heatmapgl": [
           {
            "colorbar": {
             "outlinewidth": 0,
             "ticks": ""
            },
            "colorscale": [
             [
              0,
              "#0d0887"
             ],
             [
              0.1111111111111111,
              "#46039f"
             ],
             [
              0.2222222222222222,
              "#7201a8"
             ],
             [
              0.3333333333333333,
              "#9c179e"
             ],
             [
              0.4444444444444444,
              "#bd3786"
             ],
             [
              0.5555555555555556,
              "#d8576b"
             ],
             [
              0.6666666666666666,
              "#ed7953"
             ],
             [
              0.7777777777777778,
              "#fb9f3a"
             ],
             [
              0.8888888888888888,
              "#fdca26"
             ],
             [
              1,
              "#f0f921"
             ]
            ],
            "type": "heatmapgl"
           }
          ],
          "histogram": [
           {
            "marker": {
             "pattern": {
              "fillmode": "overlay",
              "size": 10,
              "solidity": 0.2
             }
            },
            "type": "histogram"
           }
          ],
          "histogram2d": [
           {
            "colorbar": {
             "outlinewidth": 0,
             "ticks": ""
            },
            "colorscale": [
             [
              0,
              "#0d0887"
             ],
             [
              0.1111111111111111,
              "#46039f"
             ],
             [
              0.2222222222222222,
              "#7201a8"
             ],
             [
              0.3333333333333333,
              "#9c179e"
             ],
             [
              0.4444444444444444,
              "#bd3786"
             ],
             [
              0.5555555555555556,
              "#d8576b"
             ],
             [
              0.6666666666666666,
              "#ed7953"
             ],
             [
              0.7777777777777778,
              "#fb9f3a"
             ],
             [
              0.8888888888888888,
              "#fdca26"
             ],
             [
              1,
              "#f0f921"
             ]
            ],
            "type": "histogram2d"
           }
          ],
          "histogram2dcontour": [
           {
            "colorbar": {
             "outlinewidth": 0,
             "ticks": ""
            },
            "colorscale": [
             [
              0,
              "#0d0887"
             ],
             [
              0.1111111111111111,
              "#46039f"
             ],
             [
              0.2222222222222222,
              "#7201a8"
             ],
             [
              0.3333333333333333,
              "#9c179e"
             ],
             [
              0.4444444444444444,
              "#bd3786"
             ],
             [
              0.5555555555555556,
              "#d8576b"
             ],
             [
              0.6666666666666666,
              "#ed7953"
             ],
             [
              0.7777777777777778,
              "#fb9f3a"
             ],
             [
              0.8888888888888888,
              "#fdca26"
             ],
             [
              1,
              "#f0f921"
             ]
            ],
            "type": "histogram2dcontour"
           }
          ],
          "mesh3d": [
           {
            "colorbar": {
             "outlinewidth": 0,
             "ticks": ""
            },
            "type": "mesh3d"
           }
          ],
          "parcoords": [
           {
            "line": {
             "colorbar": {
              "outlinewidth": 0,
              "ticks": ""
             }
            },
            "type": "parcoords"
           }
          ],
          "pie": [
           {
            "automargin": true,
            "type": "pie"
           }
          ],
          "scatter": [
           {
            "marker": {
             "colorbar": {
              "outlinewidth": 0,
              "ticks": ""
             }
            },
            "type": "scatter"
           }
          ],
          "scatter3d": [
           {
            "line": {
             "colorbar": {
              "outlinewidth": 0,
              "ticks": ""
             }
            },
            "marker": {
             "colorbar": {
              "outlinewidth": 0,
              "ticks": ""
             }
            },
            "type": "scatter3d"
           }
          ],
          "scattercarpet": [
           {
            "marker": {
             "colorbar": {
              "outlinewidth": 0,
              "ticks": ""
             }
            },
            "type": "scattercarpet"
           }
          ],
          "scattergeo": [
           {
            "marker": {
             "colorbar": {
              "outlinewidth": 0,
              "ticks": ""
             }
            },
            "type": "scattergeo"
           }
          ],
          "scattergl": [
           {
            "marker": {
             "colorbar": {
              "outlinewidth": 0,
              "ticks": ""
             }
            },
            "type": "scattergl"
           }
          ],
          "scattermapbox": [
           {
            "marker": {
             "colorbar": {
              "outlinewidth": 0,
              "ticks": ""
             }
            },
            "type": "scattermapbox"
           }
          ],
          "scatterpolar": [
           {
            "marker": {
             "colorbar": {
              "outlinewidth": 0,
              "ticks": ""
             }
            },
            "type": "scatterpolar"
           }
          ],
          "scatterpolargl": [
           {
            "marker": {
             "colorbar": {
              "outlinewidth": 0,
              "ticks": ""
             }
            },
            "type": "scatterpolargl"
           }
          ],
          "scatterternary": [
           {
            "marker": {
             "colorbar": {
              "outlinewidth": 0,
              "ticks": ""
             }
            },
            "type": "scatterternary"
           }
          ],
          "surface": [
           {
            "colorbar": {
             "outlinewidth": 0,
             "ticks": ""
            },
            "colorscale": [
             [
              0,
              "#0d0887"
             ],
             [
              0.1111111111111111,
              "#46039f"
             ],
             [
              0.2222222222222222,
              "#7201a8"
             ],
             [
              0.3333333333333333,
              "#9c179e"
             ],
             [
              0.4444444444444444,
              "#bd3786"
             ],
             [
              0.5555555555555556,
              "#d8576b"
             ],
             [
              0.6666666666666666,
              "#ed7953"
             ],
             [
              0.7777777777777778,
              "#fb9f3a"
             ],
             [
              0.8888888888888888,
              "#fdca26"
             ],
             [
              1,
              "#f0f921"
             ]
            ],
            "type": "surface"
           }
          ],
          "table": [
           {
            "cells": {
             "fill": {
              "color": "#EBF0F8"
             },
             "line": {
              "color": "white"
             }
            },
            "header": {
             "fill": {
              "color": "#C8D4E3"
             },
             "line": {
              "color": "white"
             }
            },
            "type": "table"
           }
          ]
         },
         "layout": {
          "annotationdefaults": {
           "arrowcolor": "#2a3f5f",
           "arrowhead": 0,
           "arrowwidth": 1
          },
          "autotypenumbers": "strict",
          "coloraxis": {
           "colorbar": {
            "outlinewidth": 0,
            "ticks": ""
           }
          },
          "colorscale": {
           "diverging": [
            [
             0,
             "#8e0152"
            ],
            [
             0.1,
             "#c51b7d"
            ],
            [
             0.2,
             "#de77ae"
            ],
            [
             0.3,
             "#f1b6da"
            ],
            [
             0.4,
             "#fde0ef"
            ],
            [
             0.5,
             "#f7f7f7"
            ],
            [
             0.6,
             "#e6f5d0"
            ],
            [
             0.7,
             "#b8e186"
            ],
            [
             0.8,
             "#7fbc41"
            ],
            [
             0.9,
             "#4d9221"
            ],
            [
             1,
             "#276419"
            ]
           ],
           "sequential": [
            [
             0,
             "#0d0887"
            ],
            [
             0.1111111111111111,
             "#46039f"
            ],
            [
             0.2222222222222222,
             "#7201a8"
            ],
            [
             0.3333333333333333,
             "#9c179e"
            ],
            [
             0.4444444444444444,
             "#bd3786"
            ],
            [
             0.5555555555555556,
             "#d8576b"
            ],
            [
             0.6666666666666666,
             "#ed7953"
            ],
            [
             0.7777777777777778,
             "#fb9f3a"
            ],
            [
             0.8888888888888888,
             "#fdca26"
            ],
            [
             1,
             "#f0f921"
            ]
           ],
           "sequentialminus": [
            [
             0,
             "#0d0887"
            ],
            [
             0.1111111111111111,
             "#46039f"
            ],
            [
             0.2222222222222222,
             "#7201a8"
            ],
            [
             0.3333333333333333,
             "#9c179e"
            ],
            [
             0.4444444444444444,
             "#bd3786"
            ],
            [
             0.5555555555555556,
             "#d8576b"
            ],
            [
             0.6666666666666666,
             "#ed7953"
            ],
            [
             0.7777777777777778,
             "#fb9f3a"
            ],
            [
             0.8888888888888888,
             "#fdca26"
            ],
            [
             1,
             "#f0f921"
            ]
           ]
          },
          "colorway": [
           "#636efa",
           "#EF553B",
           "#00cc96",
           "#ab63fa",
           "#FFA15A",
           "#19d3f3",
           "#FF6692",
           "#B6E880",
           "#FF97FF",
           "#FECB52"
          ],
          "font": {
           "color": "#2a3f5f"
          },
          "geo": {
           "bgcolor": "white",
           "lakecolor": "white",
           "landcolor": "#E5ECF6",
           "showlakes": true,
           "showland": true,
           "subunitcolor": "white"
          },
          "hoverlabel": {
           "align": "left"
          },
          "hovermode": "closest",
          "mapbox": {
           "style": "light"
          },
          "paper_bgcolor": "white",
          "plot_bgcolor": "#E5ECF6",
          "polar": {
           "angularaxis": {
            "gridcolor": "white",
            "linecolor": "white",
            "ticks": ""
           },
           "bgcolor": "#E5ECF6",
           "radialaxis": {
            "gridcolor": "white",
            "linecolor": "white",
            "ticks": ""
           }
          },
          "scene": {
           "xaxis": {
            "backgroundcolor": "#E5ECF6",
            "gridcolor": "white",
            "gridwidth": 2,
            "linecolor": "white",
            "showbackground": true,
            "ticks": "",
            "zerolinecolor": "white"
           },
           "yaxis": {
            "backgroundcolor": "#E5ECF6",
            "gridcolor": "white",
            "gridwidth": 2,
            "linecolor": "white",
            "showbackground": true,
            "ticks": "",
            "zerolinecolor": "white"
           },
           "zaxis": {
            "backgroundcolor": "#E5ECF6",
            "gridcolor": "white",
            "gridwidth": 2,
            "linecolor": "white",
            "showbackground": true,
            "ticks": "",
            "zerolinecolor": "white"
           }
          },
          "shapedefaults": {
           "line": {
            "color": "#2a3f5f"
           }
          },
          "ternary": {
           "aaxis": {
            "gridcolor": "white",
            "linecolor": "white",
            "ticks": ""
           },
           "baxis": {
            "gridcolor": "white",
            "linecolor": "white",
            "ticks": ""
           },
           "bgcolor": "#E5ECF6",
           "caxis": {
            "gridcolor": "white",
            "linecolor": "white",
            "ticks": ""
           }
          },
          "title": {
           "x": 0.05
          },
          "xaxis": {
           "automargin": true,
           "gridcolor": "white",
           "linecolor": "white",
           "ticks": "",
           "title": {
            "standoff": 15
           },
           "zerolinecolor": "white",
           "zerolinewidth": 2
          },
          "yaxis": {
           "automargin": true,
           "gridcolor": "white",
           "linecolor": "white",
           "ticks": "",
           "title": {
            "standoff": 15
           },
           "zerolinecolor": "white",
           "zerolinewidth": 2
          }
         }
        },
        "title": {
         "text": "Probability deciles vs Game Outcome (White)",
         "x": 0
        },
        "xaxis": {
         "anchor": "y",
         "domain": [
          0,
          0.19999999999999998
         ]
        },
        "xaxis2": {
         "anchor": "y2",
         "domain": [
          0.4,
          0.6
         ]
        },
        "xaxis3": {
         "anchor": "y3",
         "domain": [
          0.8,
          1
         ]
        },
        "yaxis": {
         "anchor": "x",
         "domain": [
          0,
          1
         ]
        },
        "yaxis2": {
         "anchor": "x2",
         "domain": [
          0,
          1
         ]
        },
        "yaxis3": {
         "anchor": "x3",
         "domain": [
          0,
          1
         ]
        }
       }
      },
      "text/html": [
       "<div>                            <div id=\"926556db-24eb-44d9-b739-f3cebe6a5277\" class=\"plotly-graph-div\" style=\"height:525px; width:100%;\"></div>            <script type=\"text/javascript\">                require([\"plotly\"], function(Plotly) {                    window.PLOTLYENV=window.PLOTLYENV || {};                                    if (document.getElementById(\"926556db-24eb-44d9-b739-f3cebe6a5277\")) {                    Plotly.newPlot(                        \"926556db-24eb-44d9-b739-f3cebe6a5277\",                        [{\"coloraxis\":\"coloraxis\",\"hovertemplate\":\"x: %{x}<br>y: %{y}<br>color: %{z}<extra></extra>\",\"name\":\"0\",\"texttemplate\":\"%{z}\",\"x\":[\"Wins\",\"Draws\",\"Loses\"],\"xaxis\":\"x\",\"y\":[\"0.09\",\"0.18\",\"0.22\",\"0.25\",\"0.27\",\"0.3\",\"0.33\",\"0.36\",\"0.41\",\"0.53\"],\"yaxis\":\"y\",\"z\":[[4303,7069,6039],[4643,6886,5882],[5111,7075,5225],[5606,6887,4918],[5741,7002,4668],[6240,6781,4390],[6495,6857,4059],[6953,6754,3704],[7752,6414,3245],[8797,6106,2508]],\"type\":\"heatmap\"},{\"coloraxis\":\"coloraxis\",\"hovertemplate\":\"x: %{x}<br>y: %{y}<br>color: %{z}<extra></extra>\",\"name\":\"0\",\"texttemplate\":\"%{z}\",\"x\":[\"Wins\",\"Draws\",\"Loses\"],\"xaxis\":\"x2\",\"y\":[\"0.26\",\"0.34\",\"0.37\",\"0.39\",\"0.4\",\"0.42\",\"0.44\",\"0.46\",\"0.49\",\"0.63\"],\"yaxis\":\"y2\",\"z\":[[6264,6522,4625],[6326,6502,4583],[6320,6376,4715],[6272,6573,4566],[6260,6616,4535],[6135,6788,4488],[6074,6776,4561],[6120,6961,4330],[6057,7117,4237],[5812,7600,3999]],\"type\":\"heatmap\"},{\"coloraxis\":\"coloraxis\",\"hovertemplate\":\"x: %{x}<br>y: %{y}<br>color: %{z}<extra></extra>\",\"name\":\"0\",\"texttemplate\":\"%{z}\",\"x\":[\"Wins\",\"Draws\",\"Loses\"],\"xaxis\":\"x3\",\"y\":[\"0.08\",\"0.17\",\"0.21\",\"0.24\",\"0.27\",\"0.3\",\"0.32\",\"0.35\",\"0.4\",\"0.52\"],\"yaxis\":\"y3\",\"z\":[[8150,6590,2671],[7976,6404,3031],[7044,6872,3495],[6554,6997,3860],[6410,6789,4212],[5773,7026,4612],[5681,6883,4847],[5282,6754,5375],[4783,6900,5728],[3988,6617,6806]],\"type\":\"heatmap\"}],                        {\"template\":{\"data\":{\"bar\":[{\"error_x\":{\"color\":\"#2a3f5f\"},\"error_y\":{\"color\":\"#2a3f5f\"},\"marker\":{\"line\":{\"color\":\"#E5ECF6\",\"width\":0.5},\"pattern\":{\"fillmode\":\"overlay\",\"size\":10,\"solidity\":0.2}},\"type\":\"bar\"}],\"barpolar\":[{\"marker\":{\"line\":{\"color\":\"#E5ECF6\",\"width\":0.5},\"pattern\":{\"fillmode\":\"overlay\",\"size\":10,\"solidity\":0.2}},\"type\":\"barpolar\"}],\"carpet\":[{\"aaxis\":{\"endlinecolor\":\"#2a3f5f\",\"gridcolor\":\"white\",\"linecolor\":\"white\",\"minorgridcolor\":\"white\",\"startlinecolor\":\"#2a3f5f\"},\"baxis\":{\"endlinecolor\":\"#2a3f5f\",\"gridcolor\":\"white\",\"linecolor\":\"white\",\"minorgridcolor\":\"white\",\"startlinecolor\":\"#2a3f5f\"},\"type\":\"carpet\"}],\"choropleth\":[{\"colorbar\":{\"outlinewidth\":0,\"ticks\":\"\"},\"type\":\"choropleth\"}],\"contour\":[{\"colorbar\":{\"outlinewidth\":0,\"ticks\":\"\"},\"colorscale\":[[0.0,\"#0d0887\"],[0.1111111111111111,\"#46039f\"],[0.2222222222222222,\"#7201a8\"],[0.3333333333333333,\"#9c179e\"],[0.4444444444444444,\"#bd3786\"],[0.5555555555555556,\"#d8576b\"],[0.6666666666666666,\"#ed7953\"],[0.7777777777777778,\"#fb9f3a\"],[0.8888888888888888,\"#fdca26\"],[1.0,\"#f0f921\"]],\"type\":\"contour\"}],\"contourcarpet\":[{\"colorbar\":{\"outlinewidth\":0,\"ticks\":\"\"},\"type\":\"contourcarpet\"}],\"heatmap\":[{\"colorbar\":{\"outlinewidth\":0,\"ticks\":\"\"},\"colorscale\":[[0.0,\"#0d0887\"],[0.1111111111111111,\"#46039f\"],[0.2222222222222222,\"#7201a8\"],[0.3333333333333333,\"#9c179e\"],[0.4444444444444444,\"#bd3786\"],[0.5555555555555556,\"#d8576b\"],[0.6666666666666666,\"#ed7953\"],[0.7777777777777778,\"#fb9f3a\"],[0.8888888888888888,\"#fdca26\"],[1.0,\"#f0f921\"]],\"type\":\"heatmap\"}],\"heatmapgl\":[{\"colorbar\":{\"outlinewidth\":0,\"ticks\":\"\"},\"colorscale\":[[0.0,\"#0d0887\"],[0.1111111111111111,\"#46039f\"],[0.2222222222222222,\"#7201a8\"],[0.3333333333333333,\"#9c179e\"],[0.4444444444444444,\"#bd3786\"],[0.5555555555555556,\"#d8576b\"],[0.6666666666666666,\"#ed7953\"],[0.7777777777777778,\"#fb9f3a\"],[0.8888888888888888,\"#fdca26\"],[1.0,\"#f0f921\"]],\"type\":\"heatmapgl\"}],\"histogram\":[{\"marker\":{\"pattern\":{\"fillmode\":\"overlay\",\"size\":10,\"solidity\":0.2}},\"type\":\"histogram\"}],\"histogram2d\":[{\"colorbar\":{\"outlinewidth\":0,\"ticks\":\"\"},\"colorscale\":[[0.0,\"#0d0887\"],[0.1111111111111111,\"#46039f\"],[0.2222222222222222,\"#7201a8\"],[0.3333333333333333,\"#9c179e\"],[0.4444444444444444,\"#bd3786\"],[0.5555555555555556,\"#d8576b\"],[0.6666666666666666,\"#ed7953\"],[0.7777777777777778,\"#fb9f3a\"],[0.8888888888888888,\"#fdca26\"],[1.0,\"#f0f921\"]],\"type\":\"histogram2d\"}],\"histogram2dcontour\":[{\"colorbar\":{\"outlinewidth\":0,\"ticks\":\"\"},\"colorscale\":[[0.0,\"#0d0887\"],[0.1111111111111111,\"#46039f\"],[0.2222222222222222,\"#7201a8\"],[0.3333333333333333,\"#9c179e\"],[0.4444444444444444,\"#bd3786\"],[0.5555555555555556,\"#d8576b\"],[0.6666666666666666,\"#ed7953\"],[0.7777777777777778,\"#fb9f3a\"],[0.8888888888888888,\"#fdca26\"],[1.0,\"#f0f921\"]],\"type\":\"histogram2dcontour\"}],\"mesh3d\":[{\"colorbar\":{\"outlinewidth\":0,\"ticks\":\"\"},\"type\":\"mesh3d\"}],\"parcoords\":[{\"line\":{\"colorbar\":{\"outlinewidth\":0,\"ticks\":\"\"}},\"type\":\"parcoords\"}],\"pie\":[{\"automargin\":true,\"type\":\"pie\"}],\"scatter\":[{\"marker\":{\"colorbar\":{\"outlinewidth\":0,\"ticks\":\"\"}},\"type\":\"scatter\"}],\"scatter3d\":[{\"line\":{\"colorbar\":{\"outlinewidth\":0,\"ticks\":\"\"}},\"marker\":{\"colorbar\":{\"outlinewidth\":0,\"ticks\":\"\"}},\"type\":\"scatter3d\"}],\"scattercarpet\":[{\"marker\":{\"colorbar\":{\"outlinewidth\":0,\"ticks\":\"\"}},\"type\":\"scattercarpet\"}],\"scattergeo\":[{\"marker\":{\"colorbar\":{\"outlinewidth\":0,\"ticks\":\"\"}},\"type\":\"scattergeo\"}],\"scattergl\":[{\"marker\":{\"colorbar\":{\"outlinewidth\":0,\"ticks\":\"\"}},\"type\":\"scattergl\"}],\"scattermapbox\":[{\"marker\":{\"colorbar\":{\"outlinewidth\":0,\"ticks\":\"\"}},\"type\":\"scattermapbox\"}],\"scatterpolar\":[{\"marker\":{\"colorbar\":{\"outlinewidth\":0,\"ticks\":\"\"}},\"type\":\"scatterpolar\"}],\"scatterpolargl\":[{\"marker\":{\"colorbar\":{\"outlinewidth\":0,\"ticks\":\"\"}},\"type\":\"scatterpolargl\"}],\"scatterternary\":[{\"marker\":{\"colorbar\":{\"outlinewidth\":0,\"ticks\":\"\"}},\"type\":\"scatterternary\"}],\"surface\":[{\"colorbar\":{\"outlinewidth\":0,\"ticks\":\"\"},\"colorscale\":[[0.0,\"#0d0887\"],[0.1111111111111111,\"#46039f\"],[0.2222222222222222,\"#7201a8\"],[0.3333333333333333,\"#9c179e\"],[0.4444444444444444,\"#bd3786\"],[0.5555555555555556,\"#d8576b\"],[0.6666666666666666,\"#ed7953\"],[0.7777777777777778,\"#fb9f3a\"],[0.8888888888888888,\"#fdca26\"],[1.0,\"#f0f921\"]],\"type\":\"surface\"}],\"table\":[{\"cells\":{\"fill\":{\"color\":\"#EBF0F8\"},\"line\":{\"color\":\"white\"}},\"header\":{\"fill\":{\"color\":\"#C8D4E3\"},\"line\":{\"color\":\"white\"}},\"type\":\"table\"}]},\"layout\":{\"annotationdefaults\":{\"arrowcolor\":\"#2a3f5f\",\"arrowhead\":0,\"arrowwidth\":1},\"autotypenumbers\":\"strict\",\"coloraxis\":{\"colorbar\":{\"outlinewidth\":0,\"ticks\":\"\"}},\"colorscale\":{\"diverging\":[[0,\"#8e0152\"],[0.1,\"#c51b7d\"],[0.2,\"#de77ae\"],[0.3,\"#f1b6da\"],[0.4,\"#fde0ef\"],[0.5,\"#f7f7f7\"],[0.6,\"#e6f5d0\"],[0.7,\"#b8e186\"],[0.8,\"#7fbc41\"],[0.9,\"#4d9221\"],[1,\"#276419\"]],\"sequential\":[[0.0,\"#0d0887\"],[0.1111111111111111,\"#46039f\"],[0.2222222222222222,\"#7201a8\"],[0.3333333333333333,\"#9c179e\"],[0.4444444444444444,\"#bd3786\"],[0.5555555555555556,\"#d8576b\"],[0.6666666666666666,\"#ed7953\"],[0.7777777777777778,\"#fb9f3a\"],[0.8888888888888888,\"#fdca26\"],[1.0,\"#f0f921\"]],\"sequentialminus\":[[0.0,\"#0d0887\"],[0.1111111111111111,\"#46039f\"],[0.2222222222222222,\"#7201a8\"],[0.3333333333333333,\"#9c179e\"],[0.4444444444444444,\"#bd3786\"],[0.5555555555555556,\"#d8576b\"],[0.6666666666666666,\"#ed7953\"],[0.7777777777777778,\"#fb9f3a\"],[0.8888888888888888,\"#fdca26\"],[1.0,\"#f0f921\"]]},\"colorway\":[\"#636efa\",\"#EF553B\",\"#00cc96\",\"#ab63fa\",\"#FFA15A\",\"#19d3f3\",\"#FF6692\",\"#B6E880\",\"#FF97FF\",\"#FECB52\"],\"font\":{\"color\":\"#2a3f5f\"},\"geo\":{\"bgcolor\":\"white\",\"lakecolor\":\"white\",\"landcolor\":\"#E5ECF6\",\"showlakes\":true,\"showland\":true,\"subunitcolor\":\"white\"},\"hoverlabel\":{\"align\":\"left\"},\"hovermode\":\"closest\",\"mapbox\":{\"style\":\"light\"},\"paper_bgcolor\":\"white\",\"plot_bgcolor\":\"#E5ECF6\",\"polar\":{\"angularaxis\":{\"gridcolor\":\"white\",\"linecolor\":\"white\",\"ticks\":\"\"},\"bgcolor\":\"#E5ECF6\",\"radialaxis\":{\"gridcolor\":\"white\",\"linecolor\":\"white\",\"ticks\":\"\"}},\"scene\":{\"xaxis\":{\"backgroundcolor\":\"#E5ECF6\",\"gridcolor\":\"white\",\"gridwidth\":2,\"linecolor\":\"white\",\"showbackground\":true,\"ticks\":\"\",\"zerolinecolor\":\"white\"},\"yaxis\":{\"backgroundcolor\":\"#E5ECF6\",\"gridcolor\":\"white\",\"gridwidth\":2,\"linecolor\":\"white\",\"showbackground\":true,\"ticks\":\"\",\"zerolinecolor\":\"white\"},\"zaxis\":{\"backgroundcolor\":\"#E5ECF6\",\"gridcolor\":\"white\",\"gridwidth\":2,\"linecolor\":\"white\",\"showbackground\":true,\"ticks\":\"\",\"zerolinecolor\":\"white\"}},\"shapedefaults\":{\"line\":{\"color\":\"#2a3f5f\"}},\"ternary\":{\"aaxis\":{\"gridcolor\":\"white\",\"linecolor\":\"white\",\"ticks\":\"\"},\"baxis\":{\"gridcolor\":\"white\",\"linecolor\":\"white\",\"ticks\":\"\"},\"bgcolor\":\"#E5ECF6\",\"caxis\":{\"gridcolor\":\"white\",\"linecolor\":\"white\",\"ticks\":\"\"}},\"title\":{\"x\":0.05},\"xaxis\":{\"automargin\":true,\"gridcolor\":\"white\",\"linecolor\":\"white\",\"ticks\":\"\",\"title\":{\"standoff\":15},\"zerolinecolor\":\"white\",\"zerolinewidth\":2},\"yaxis\":{\"automargin\":true,\"gridcolor\":\"white\",\"linecolor\":\"white\",\"ticks\":\"\",\"title\":{\"standoff\":15},\"zerolinecolor\":\"white\",\"zerolinewidth\":2}}},\"xaxis\":{\"anchor\":\"y\",\"domain\":[0.0,0.19999999999999998]},\"yaxis\":{\"anchor\":\"x\",\"domain\":[0.0,1.0]},\"xaxis2\":{\"anchor\":\"y2\",\"domain\":[0.4,0.6]},\"yaxis2\":{\"anchor\":\"x2\",\"domain\":[0.0,1.0]},\"xaxis3\":{\"anchor\":\"y3\",\"domain\":[0.8,1.0]},\"yaxis3\":{\"anchor\":\"x3\",\"domain\":[0.0,1.0]},\"annotations\":[{\"font\":{\"size\":16},\"showarrow\":false,\"text\":\"White_Win_probability\",\"x\":0.09999999999999999,\"xanchor\":\"center\",\"xref\":\"paper\",\"y\":1.0,\"yanchor\":\"bottom\",\"yref\":\"paper\"},{\"font\":{\"size\":16},\"showarrow\":false,\"text\":\"White_Draw_Probability\",\"x\":0.5,\"xanchor\":\"center\",\"xref\":\"paper\",\"y\":1.0,\"yanchor\":\"bottom\",\"yref\":\"paper\"},{\"font\":{\"size\":16},\"showarrow\":false,\"text\":\"White_Lose_probability\",\"x\":0.9,\"xanchor\":\"center\",\"xref\":\"paper\",\"y\":1.0,\"yanchor\":\"bottom\",\"yref\":\"paper\"}],\"title\":{\"text\":\"Probability deciles vs Game Outcome (White)\",\"x\":0},\"coloraxis\":{\"colorbar\":{\"thickness\":25,\"x\":-0.12},\"colorscale\":[[0.0,\"rgb(23, 28, 66)\"],[0.09090909090909091,\"rgb(41, 58, 143)\"],[0.18181818181818182,\"rgb(11, 102, 189)\"],[0.2727272727272727,\"rgb(69, 144, 185)\"],[0.36363636363636365,\"rgb(142, 181, 194)\"],[0.45454545454545453,\"rgb(210, 216, 219)\"],[0.5454545454545454,\"rgb(230, 210, 204)\"],[0.6363636363636364,\"rgb(213, 157, 137)\"],[0.7272727272727273,\"rgb(196, 101, 72)\"],[0.8181818181818182,\"rgb(172, 43, 36)\"],[0.9090909090909091,\"rgb(120, 14, 40)\"],[1.0,\"rgb(60, 9, 17)\"]],\"showscale\":false},\"coloraxis2\":{\"colorscale\":[[0.0,\"rgb(20, 29, 67)\"],[0.09090909090909091,\"rgb(28, 72, 93)\"],[0.18181818181818182,\"rgb(18, 115, 117)\"],[0.2727272727272727,\"rgb(63, 156, 129)\"],[0.36363636363636365,\"rgb(153, 189, 156)\"],[0.45454545454545453,\"rgb(223, 225, 211)\"],[0.5454545454545454,\"rgb(241, 218, 206)\"],[0.6363636363636364,\"rgb(224, 160, 137)\"],[0.7272727272727273,\"rgb(203, 101, 99)\"],[0.8181818181818182,\"rgb(164, 54, 96)\"],[0.9090909090909091,\"rgb(111, 23, 91)\"],[1.0,\"rgb(51, 13, 53)\"]],\"colorbar\":{\"thickness\":25},\"showscale\":false}},                        {\"responsive\": true}                    ).then(function(){\n",
       "                            \n",
       "var gd = document.getElementById('926556db-24eb-44d9-b739-f3cebe6a5277');\n",
       "var x = new MutationObserver(function (mutations, observer) {{\n",
       "        var display = window.getComputedStyle(gd).display;\n",
       "        if (!display || display === 'none') {{\n",
       "            console.log([gd, 'removed!']);\n",
       "            Plotly.purge(gd);\n",
       "            observer.disconnect();\n",
       "        }}\n",
       "}});\n",
       "\n",
       "// Listen for the removal of the full notebook cells\n",
       "var notebookContainer = gd.closest('#notebook-container');\n",
       "if (notebookContainer) {{\n",
       "    x.observe(notebookContainer, {childList: true});\n",
       "}}\n",
       "\n",
       "// Listen for the clearing of the current output cell\n",
       "var outputEl = gd.closest('.output');\n",
       "if (outputEl) {{\n",
       "    x.observe(outputEl, {childList: true});\n",
       "}}\n",
       "\n",
       "                        })                };                });            </script>        </div>"
      ]
     },
     "metadata": {},
     "output_type": "display_data"
    },
    {
     "data": {
      "application/vnd.plotly.v1+json": {
       "config": {
        "plotlyServerURL": "https://plot.ly"
       },
       "data": [
        {
         "coloraxis": "coloraxis",
         "hovertemplate": "x: %{x}<br>y: %{y}<br>color: %{z}<extra></extra>",
         "name": "0",
         "texttemplate": "%{z}",
         "type": "heatmap",
         "x": [
          "Wins",
          "Draws",
          "Loses"
         ],
         "xaxis": "x",
         "y": [
          "0.09",
          "0.18",
          "0.22",
          "0.25",
          "0.27",
          "0.3",
          "0.33",
          "0.36",
          "0.41",
          "0.53"
         ],
         "yaxis": "y",
         "z": [
          [
           8019,
           6629,
           2763
          ],
          [
           7676,
           6603,
           3132
          ],
          [
           7206,
           6761,
           3444
          ],
          [
           6733,
           6766,
           3912
          ],
          [
           6319,
           6958,
           4134
          ],
          [
           6139,
           6914,
           4358
          ],
          [
           5746,
           6958,
           4707
          ],
          [
           5263,
           6858,
           5290
          ],
          [
           4735,
           6761,
           5915
          ],
          [
           3804,
           6625,
           6982
          ]
         ]
        },
        {
         "coloraxis": "coloraxis",
         "hovertemplate": "x: %{x}<br>y: %{y}<br>color: %{z}<extra></extra>",
         "name": "0",
         "texttemplate": "%{z}",
         "type": "heatmap",
         "x": [
          "Wins",
          "Draws",
          "Loses"
         ],
         "xaxis": "x2",
         "y": [
          "0.26",
          "0.34",
          "0.37",
          "0.39",
          "0.4",
          "0.42",
          "0.44",
          "0.46",
          "0.49",
          "0.63"
         ],
         "yaxis": "y2",
         "z": [
          [
           6319,
           6490,
           4602
          ],
          [
           6101,
           6500,
           4810
          ],
          [
           6242,
           6530,
           4639
          ],
          [
           6223,
           6569,
           4619
          ],
          [
           6134,
           6735,
           4542
          ],
          [
           6264,
           6653,
           4494
          ],
          [
           6120,
           6757,
           4534
          ],
          [
           6168,
           6936,
           4307
          ],
          [
           6085,
           7175,
           4151
          ],
          [
           5983,
           7487,
           3941
          ]
         ]
        },
        {
         "coloraxis": "coloraxis",
         "hovertemplate": "x: %{x}<br>y: %{y}<br>color: %{z}<extra></extra>",
         "name": "0",
         "texttemplate": "%{z}",
         "type": "heatmap",
         "x": [
          "Wins",
          "Draws",
          "Loses"
         ],
         "xaxis": "x3",
         "y": [
          "0.08",
          "0.17",
          "0.21",
          "0.24",
          "0.27",
          "0.29",
          "0.32",
          "0.35",
          "0.4",
          "0.51"
         ],
         "yaxis": "y3",
         "z": [
          [
           4130,
           7071,
           6210
          ],
          [
           4533,
           6859,
           6019
          ],
          [
           5075,
           7034,
           5302
          ],
          [
           5647,
           6898,
           4866
          ],
          [
           5919,
           6901,
           4591
          ],
          [
           6341,
           6879,
           4191
          ],
          [
           6663,
           6809,
           3939
          ],
          [
           7115,
           6666,
           3630
          ],
          [
           7513,
           6576,
           3322
          ],
          [
           8705,
           6139,
           2567
          ]
         ]
        }
       ],
       "layout": {
        "annotations": [
         {
          "font": {
           "size": 16
          },
          "showarrow": false,
          "text": "Black_Win_probability",
          "x": 0.09999999999999999,
          "xanchor": "center",
          "xref": "paper",
          "y": 1,
          "yanchor": "bottom",
          "yref": "paper"
         },
         {
          "font": {
           "size": 16
          },
          "showarrow": false,
          "text": "Black_Draw_Probability",
          "x": 0.5,
          "xanchor": "center",
          "xref": "paper",
          "y": 1,
          "yanchor": "bottom",
          "yref": "paper"
         },
         {
          "font": {
           "size": 16
          },
          "showarrow": false,
          "text": "Black_Lose_probability",
          "x": 0.9,
          "xanchor": "center",
          "xref": "paper",
          "y": 1,
          "yanchor": "bottom",
          "yref": "paper"
         }
        ],
        "coloraxis": {
         "colorbar": {
          "thickness": 25,
          "x": -0.12
         },
         "colorscale": [
          [
           0,
           "rgb(23, 28, 66)"
          ],
          [
           0.09090909090909091,
           "rgb(41, 58, 143)"
          ],
          [
           0.18181818181818182,
           "rgb(11, 102, 189)"
          ],
          [
           0.2727272727272727,
           "rgb(69, 144, 185)"
          ],
          [
           0.36363636363636365,
           "rgb(142, 181, 194)"
          ],
          [
           0.45454545454545453,
           "rgb(210, 216, 219)"
          ],
          [
           0.5454545454545454,
           "rgb(230, 210, 204)"
          ],
          [
           0.6363636363636364,
           "rgb(213, 157, 137)"
          ],
          [
           0.7272727272727273,
           "rgb(196, 101, 72)"
          ],
          [
           0.8181818181818182,
           "rgb(172, 43, 36)"
          ],
          [
           0.9090909090909091,
           "rgb(120, 14, 40)"
          ],
          [
           1,
           "rgb(60, 9, 17)"
          ]
         ],
         "showscale": false
        },
        "coloraxis2": {
         "colorbar": {
          "thickness": 25
         },
         "colorscale": [
          [
           0,
           "rgb(20, 29, 67)"
          ],
          [
           0.09090909090909091,
           "rgb(28, 72, 93)"
          ],
          [
           0.18181818181818182,
           "rgb(18, 115, 117)"
          ],
          [
           0.2727272727272727,
           "rgb(63, 156, 129)"
          ],
          [
           0.36363636363636365,
           "rgb(153, 189, 156)"
          ],
          [
           0.45454545454545453,
           "rgb(223, 225, 211)"
          ],
          [
           0.5454545454545454,
           "rgb(241, 218, 206)"
          ],
          [
           0.6363636363636364,
           "rgb(224, 160, 137)"
          ],
          [
           0.7272727272727273,
           "rgb(203, 101, 99)"
          ],
          [
           0.8181818181818182,
           "rgb(164, 54, 96)"
          ],
          [
           0.9090909090909091,
           "rgb(111, 23, 91)"
          ],
          [
           1,
           "rgb(51, 13, 53)"
          ]
         ],
         "showscale": false
        },
        "template": {
         "data": {
          "bar": [
           {
            "error_x": {
             "color": "#2a3f5f"
            },
            "error_y": {
             "color": "#2a3f5f"
            },
            "marker": {
             "line": {
              "color": "#E5ECF6",
              "width": 0.5
             },
             "pattern": {
              "fillmode": "overlay",
              "size": 10,
              "solidity": 0.2
             }
            },
            "type": "bar"
           }
          ],
          "barpolar": [
           {
            "marker": {
             "line": {
              "color": "#E5ECF6",
              "width": 0.5
             },
             "pattern": {
              "fillmode": "overlay",
              "size": 10,
              "solidity": 0.2
             }
            },
            "type": "barpolar"
           }
          ],
          "carpet": [
           {
            "aaxis": {
             "endlinecolor": "#2a3f5f",
             "gridcolor": "white",
             "linecolor": "white",
             "minorgridcolor": "white",
             "startlinecolor": "#2a3f5f"
            },
            "baxis": {
             "endlinecolor": "#2a3f5f",
             "gridcolor": "white",
             "linecolor": "white",
             "minorgridcolor": "white",
             "startlinecolor": "#2a3f5f"
            },
            "type": "carpet"
           }
          ],
          "choropleth": [
           {
            "colorbar": {
             "outlinewidth": 0,
             "ticks": ""
            },
            "type": "choropleth"
           }
          ],
          "contour": [
           {
            "colorbar": {
             "outlinewidth": 0,
             "ticks": ""
            },
            "colorscale": [
             [
              0,
              "#0d0887"
             ],
             [
              0.1111111111111111,
              "#46039f"
             ],
             [
              0.2222222222222222,
              "#7201a8"
             ],
             [
              0.3333333333333333,
              "#9c179e"
             ],
             [
              0.4444444444444444,
              "#bd3786"
             ],
             [
              0.5555555555555556,
              "#d8576b"
             ],
             [
              0.6666666666666666,
              "#ed7953"
             ],
             [
              0.7777777777777778,
              "#fb9f3a"
             ],
             [
              0.8888888888888888,
              "#fdca26"
             ],
             [
              1,
              "#f0f921"
             ]
            ],
            "type": "contour"
           }
          ],
          "contourcarpet": [
           {
            "colorbar": {
             "outlinewidth": 0,
             "ticks": ""
            },
            "type": "contourcarpet"
           }
          ],
          "heatmap": [
           {
            "colorbar": {
             "outlinewidth": 0,
             "ticks": ""
            },
            "colorscale": [
             [
              0,
              "#0d0887"
             ],
             [
              0.1111111111111111,
              "#46039f"
             ],
             [
              0.2222222222222222,
              "#7201a8"
             ],
             [
              0.3333333333333333,
              "#9c179e"
             ],
             [
              0.4444444444444444,
              "#bd3786"
             ],
             [
              0.5555555555555556,
              "#d8576b"
             ],
             [
              0.6666666666666666,
              "#ed7953"
             ],
             [
              0.7777777777777778,
              "#fb9f3a"
             ],
             [
              0.8888888888888888,
              "#fdca26"
             ],
             [
              1,
              "#f0f921"
             ]
            ],
            "type": "heatmap"
           }
          ],
          "heatmapgl": [
           {
            "colorbar": {
             "outlinewidth": 0,
             "ticks": ""
            },
            "colorscale": [
             [
              0,
              "#0d0887"
             ],
             [
              0.1111111111111111,
              "#46039f"
             ],
             [
              0.2222222222222222,
              "#7201a8"
             ],
             [
              0.3333333333333333,
              "#9c179e"
             ],
             [
              0.4444444444444444,
              "#bd3786"
             ],
             [
              0.5555555555555556,
              "#d8576b"
             ],
             [
              0.6666666666666666,
              "#ed7953"
             ],
             [
              0.7777777777777778,
              "#fb9f3a"
             ],
             [
              0.8888888888888888,
              "#fdca26"
             ],
             [
              1,
              "#f0f921"
             ]
            ],
            "type": "heatmapgl"
           }
          ],
          "histogram": [
           {
            "marker": {
             "pattern": {
              "fillmode": "overlay",
              "size": 10,
              "solidity": 0.2
             }
            },
            "type": "histogram"
           }
          ],
          "histogram2d": [
           {
            "colorbar": {
             "outlinewidth": 0,
             "ticks": ""
            },
            "colorscale": [
             [
              0,
              "#0d0887"
             ],
             [
              0.1111111111111111,
              "#46039f"
             ],
             [
              0.2222222222222222,
              "#7201a8"
             ],
             [
              0.3333333333333333,
              "#9c179e"
             ],
             [
              0.4444444444444444,
              "#bd3786"
             ],
             [
              0.5555555555555556,
              "#d8576b"
             ],
             [
              0.6666666666666666,
              "#ed7953"
             ],
             [
              0.7777777777777778,
              "#fb9f3a"
             ],
             [
              0.8888888888888888,
              "#fdca26"
             ],
             [
              1,
              "#f0f921"
             ]
            ],
            "type": "histogram2d"
           }
          ],
          "histogram2dcontour": [
           {
            "colorbar": {
             "outlinewidth": 0,
             "ticks": ""
            },
            "colorscale": [
             [
              0,
              "#0d0887"
             ],
             [
              0.1111111111111111,
              "#46039f"
             ],
             [
              0.2222222222222222,
              "#7201a8"
             ],
             [
              0.3333333333333333,
              "#9c179e"
             ],
             [
              0.4444444444444444,
              "#bd3786"
             ],
             [
              0.5555555555555556,
              "#d8576b"
             ],
             [
              0.6666666666666666,
              "#ed7953"
             ],
             [
              0.7777777777777778,
              "#fb9f3a"
             ],
             [
              0.8888888888888888,
              "#fdca26"
             ],
             [
              1,
              "#f0f921"
             ]
            ],
            "type": "histogram2dcontour"
           }
          ],
          "mesh3d": [
           {
            "colorbar": {
             "outlinewidth": 0,
             "ticks": ""
            },
            "type": "mesh3d"
           }
          ],
          "parcoords": [
           {
            "line": {
             "colorbar": {
              "outlinewidth": 0,
              "ticks": ""
             }
            },
            "type": "parcoords"
           }
          ],
          "pie": [
           {
            "automargin": true,
            "type": "pie"
           }
          ],
          "scatter": [
           {
            "marker": {
             "colorbar": {
              "outlinewidth": 0,
              "ticks": ""
             }
            },
            "type": "scatter"
           }
          ],
          "scatter3d": [
           {
            "line": {
             "colorbar": {
              "outlinewidth": 0,
              "ticks": ""
             }
            },
            "marker": {
             "colorbar": {
              "outlinewidth": 0,
              "ticks": ""
             }
            },
            "type": "scatter3d"
           }
          ],
          "scattercarpet": [
           {
            "marker": {
             "colorbar": {
              "outlinewidth": 0,
              "ticks": ""
             }
            },
            "type": "scattercarpet"
           }
          ],
          "scattergeo": [
           {
            "marker": {
             "colorbar": {
              "outlinewidth": 0,
              "ticks": ""
             }
            },
            "type": "scattergeo"
           }
          ],
          "scattergl": [
           {
            "marker": {
             "colorbar": {
              "outlinewidth": 0,
              "ticks": ""
             }
            },
            "type": "scattergl"
           }
          ],
          "scattermapbox": [
           {
            "marker": {
             "colorbar": {
              "outlinewidth": 0,
              "ticks": ""
             }
            },
            "type": "scattermapbox"
           }
          ],
          "scatterpolar": [
           {
            "marker": {
             "colorbar": {
              "outlinewidth": 0,
              "ticks": ""
             }
            },
            "type": "scatterpolar"
           }
          ],
          "scatterpolargl": [
           {
            "marker": {
             "colorbar": {
              "outlinewidth": 0,
              "ticks": ""
             }
            },
            "type": "scatterpolargl"
           }
          ],
          "scatterternary": [
           {
            "marker": {
             "colorbar": {
              "outlinewidth": 0,
              "ticks": ""
             }
            },
            "type": "scatterternary"
           }
          ],
          "surface": [
           {
            "colorbar": {
             "outlinewidth": 0,
             "ticks": ""
            },
            "colorscale": [
             [
              0,
              "#0d0887"
             ],
             [
              0.1111111111111111,
              "#46039f"
             ],
             [
              0.2222222222222222,
              "#7201a8"
             ],
             [
              0.3333333333333333,
              "#9c179e"
             ],
             [
              0.4444444444444444,
              "#bd3786"
             ],
             [
              0.5555555555555556,
              "#d8576b"
             ],
             [
              0.6666666666666666,
              "#ed7953"
             ],
             [
              0.7777777777777778,
              "#fb9f3a"
             ],
             [
              0.8888888888888888,
              "#fdca26"
             ],
             [
              1,
              "#f0f921"
             ]
            ],
            "type": "surface"
           }
          ],
          "table": [
           {
            "cells": {
             "fill": {
              "color": "#EBF0F8"
             },
             "line": {
              "color": "white"
             }
            },
            "header": {
             "fill": {
              "color": "#C8D4E3"
             },
             "line": {
              "color": "white"
             }
            },
            "type": "table"
           }
          ]
         },
         "layout": {
          "annotationdefaults": {
           "arrowcolor": "#2a3f5f",
           "arrowhead": 0,
           "arrowwidth": 1
          },
          "autotypenumbers": "strict",
          "coloraxis": {
           "colorbar": {
            "outlinewidth": 0,
            "ticks": ""
           }
          },
          "colorscale": {
           "diverging": [
            [
             0,
             "#8e0152"
            ],
            [
             0.1,
             "#c51b7d"
            ],
            [
             0.2,
             "#de77ae"
            ],
            [
             0.3,
             "#f1b6da"
            ],
            [
             0.4,
             "#fde0ef"
            ],
            [
             0.5,
             "#f7f7f7"
            ],
            [
             0.6,
             "#e6f5d0"
            ],
            [
             0.7,
             "#b8e186"
            ],
            [
             0.8,
             "#7fbc41"
            ],
            [
             0.9,
             "#4d9221"
            ],
            [
             1,
             "#276419"
            ]
           ],
           "sequential": [
            [
             0,
             "#0d0887"
            ],
            [
             0.1111111111111111,
             "#46039f"
            ],
            [
             0.2222222222222222,
             "#7201a8"
            ],
            [
             0.3333333333333333,
             "#9c179e"
            ],
            [
             0.4444444444444444,
             "#bd3786"
            ],
            [
             0.5555555555555556,
             "#d8576b"
            ],
            [
             0.6666666666666666,
             "#ed7953"
            ],
            [
             0.7777777777777778,
             "#fb9f3a"
            ],
            [
             0.8888888888888888,
             "#fdca26"
            ],
            [
             1,
             "#f0f921"
            ]
           ],
           "sequentialminus": [
            [
             0,
             "#0d0887"
            ],
            [
             0.1111111111111111,
             "#46039f"
            ],
            [
             0.2222222222222222,
             "#7201a8"
            ],
            [
             0.3333333333333333,
             "#9c179e"
            ],
            [
             0.4444444444444444,
             "#bd3786"
            ],
            [
             0.5555555555555556,
             "#d8576b"
            ],
            [
             0.6666666666666666,
             "#ed7953"
            ],
            [
             0.7777777777777778,
             "#fb9f3a"
            ],
            [
             0.8888888888888888,
             "#fdca26"
            ],
            [
             1,
             "#f0f921"
            ]
           ]
          },
          "colorway": [
           "#636efa",
           "#EF553B",
           "#00cc96",
           "#ab63fa",
           "#FFA15A",
           "#19d3f3",
           "#FF6692",
           "#B6E880",
           "#FF97FF",
           "#FECB52"
          ],
          "font": {
           "color": "#2a3f5f"
          },
          "geo": {
           "bgcolor": "white",
           "lakecolor": "white",
           "landcolor": "#E5ECF6",
           "showlakes": true,
           "showland": true,
           "subunitcolor": "white"
          },
          "hoverlabel": {
           "align": "left"
          },
          "hovermode": "closest",
          "mapbox": {
           "style": "light"
          },
          "paper_bgcolor": "white",
          "plot_bgcolor": "#E5ECF6",
          "polar": {
           "angularaxis": {
            "gridcolor": "white",
            "linecolor": "white",
            "ticks": ""
           },
           "bgcolor": "#E5ECF6",
           "radialaxis": {
            "gridcolor": "white",
            "linecolor": "white",
            "ticks": ""
           }
          },
          "scene": {
           "xaxis": {
            "backgroundcolor": "#E5ECF6",
            "gridcolor": "white",
            "gridwidth": 2,
            "linecolor": "white",
            "showbackground": true,
            "ticks": "",
            "zerolinecolor": "white"
           },
           "yaxis": {
            "backgroundcolor": "#E5ECF6",
            "gridcolor": "white",
            "gridwidth": 2,
            "linecolor": "white",
            "showbackground": true,
            "ticks": "",
            "zerolinecolor": "white"
           },
           "zaxis": {
            "backgroundcolor": "#E5ECF6",
            "gridcolor": "white",
            "gridwidth": 2,
            "linecolor": "white",
            "showbackground": true,
            "ticks": "",
            "zerolinecolor": "white"
           }
          },
          "shapedefaults": {
           "line": {
            "color": "#2a3f5f"
           }
          },
          "ternary": {
           "aaxis": {
            "gridcolor": "white",
            "linecolor": "white",
            "ticks": ""
           },
           "baxis": {
            "gridcolor": "white",
            "linecolor": "white",
            "ticks": ""
           },
           "bgcolor": "#E5ECF6",
           "caxis": {
            "gridcolor": "white",
            "linecolor": "white",
            "ticks": ""
           }
          },
          "title": {
           "x": 0.05
          },
          "xaxis": {
           "automargin": true,
           "gridcolor": "white",
           "linecolor": "white",
           "ticks": "",
           "title": {
            "standoff": 15
           },
           "zerolinecolor": "white",
           "zerolinewidth": 2
          },
          "yaxis": {
           "automargin": true,
           "gridcolor": "white",
           "linecolor": "white",
           "ticks": "",
           "title": {
            "standoff": 15
           },
           "zerolinecolor": "white",
           "zerolinewidth": 2
          }
         }
        },
        "title": {
         "text": "Probability deciles vs Game Outcome (Black)",
         "x": 0
        },
        "xaxis": {
         "anchor": "y",
         "domain": [
          0,
          0.19999999999999998
         ]
        },
        "xaxis2": {
         "anchor": "y2",
         "domain": [
          0.4,
          0.6
         ]
        },
        "xaxis3": {
         "anchor": "y3",
         "domain": [
          0.8,
          1
         ]
        },
        "yaxis": {
         "anchor": "x",
         "domain": [
          0,
          1
         ]
        },
        "yaxis2": {
         "anchor": "x2",
         "domain": [
          0,
          1
         ]
        },
        "yaxis3": {
         "anchor": "x3",
         "domain": [
          0,
          1
         ]
        }
       }
      },
      "text/html": [
       "<div>                            <div id=\"c0f7530d-1d40-4ef6-8e74-0f4527a4d62f\" class=\"plotly-graph-div\" style=\"height:525px; width:100%;\"></div>            <script type=\"text/javascript\">                require([\"plotly\"], function(Plotly) {                    window.PLOTLYENV=window.PLOTLYENV || {};                                    if (document.getElementById(\"c0f7530d-1d40-4ef6-8e74-0f4527a4d62f\")) {                    Plotly.newPlot(                        \"c0f7530d-1d40-4ef6-8e74-0f4527a4d62f\",                        [{\"coloraxis\":\"coloraxis\",\"hovertemplate\":\"x: %{x}<br>y: %{y}<br>color: %{z}<extra></extra>\",\"name\":\"0\",\"texttemplate\":\"%{z}\",\"x\":[\"Wins\",\"Draws\",\"Loses\"],\"xaxis\":\"x\",\"y\":[\"0.09\",\"0.18\",\"0.22\",\"0.25\",\"0.27\",\"0.3\",\"0.33\",\"0.36\",\"0.41\",\"0.53\"],\"yaxis\":\"y\",\"z\":[[8019,6629,2763],[7676,6603,3132],[7206,6761,3444],[6733,6766,3912],[6319,6958,4134],[6139,6914,4358],[5746,6958,4707],[5263,6858,5290],[4735,6761,5915],[3804,6625,6982]],\"type\":\"heatmap\"},{\"coloraxis\":\"coloraxis\",\"hovertemplate\":\"x: %{x}<br>y: %{y}<br>color: %{z}<extra></extra>\",\"name\":\"0\",\"texttemplate\":\"%{z}\",\"x\":[\"Wins\",\"Draws\",\"Loses\"],\"xaxis\":\"x2\",\"y\":[\"0.26\",\"0.34\",\"0.37\",\"0.39\",\"0.4\",\"0.42\",\"0.44\",\"0.46\",\"0.49\",\"0.63\"],\"yaxis\":\"y2\",\"z\":[[6319,6490,4602],[6101,6500,4810],[6242,6530,4639],[6223,6569,4619],[6134,6735,4542],[6264,6653,4494],[6120,6757,4534],[6168,6936,4307],[6085,7175,4151],[5983,7487,3941]],\"type\":\"heatmap\"},{\"coloraxis\":\"coloraxis\",\"hovertemplate\":\"x: %{x}<br>y: %{y}<br>color: %{z}<extra></extra>\",\"name\":\"0\",\"texttemplate\":\"%{z}\",\"x\":[\"Wins\",\"Draws\",\"Loses\"],\"xaxis\":\"x3\",\"y\":[\"0.08\",\"0.17\",\"0.21\",\"0.24\",\"0.27\",\"0.29\",\"0.32\",\"0.35\",\"0.4\",\"0.51\"],\"yaxis\":\"y3\",\"z\":[[4130,7071,6210],[4533,6859,6019],[5075,7034,5302],[5647,6898,4866],[5919,6901,4591],[6341,6879,4191],[6663,6809,3939],[7115,6666,3630],[7513,6576,3322],[8705,6139,2567]],\"type\":\"heatmap\"}],                        {\"template\":{\"data\":{\"bar\":[{\"error_x\":{\"color\":\"#2a3f5f\"},\"error_y\":{\"color\":\"#2a3f5f\"},\"marker\":{\"line\":{\"color\":\"#E5ECF6\",\"width\":0.5},\"pattern\":{\"fillmode\":\"overlay\",\"size\":10,\"solidity\":0.2}},\"type\":\"bar\"}],\"barpolar\":[{\"marker\":{\"line\":{\"color\":\"#E5ECF6\",\"width\":0.5},\"pattern\":{\"fillmode\":\"overlay\",\"size\":10,\"solidity\":0.2}},\"type\":\"barpolar\"}],\"carpet\":[{\"aaxis\":{\"endlinecolor\":\"#2a3f5f\",\"gridcolor\":\"white\",\"linecolor\":\"white\",\"minorgridcolor\":\"white\",\"startlinecolor\":\"#2a3f5f\"},\"baxis\":{\"endlinecolor\":\"#2a3f5f\",\"gridcolor\":\"white\",\"linecolor\":\"white\",\"minorgridcolor\":\"white\",\"startlinecolor\":\"#2a3f5f\"},\"type\":\"carpet\"}],\"choropleth\":[{\"colorbar\":{\"outlinewidth\":0,\"ticks\":\"\"},\"type\":\"choropleth\"}],\"contour\":[{\"colorbar\":{\"outlinewidth\":0,\"ticks\":\"\"},\"colorscale\":[[0.0,\"#0d0887\"],[0.1111111111111111,\"#46039f\"],[0.2222222222222222,\"#7201a8\"],[0.3333333333333333,\"#9c179e\"],[0.4444444444444444,\"#bd3786\"],[0.5555555555555556,\"#d8576b\"],[0.6666666666666666,\"#ed7953\"],[0.7777777777777778,\"#fb9f3a\"],[0.8888888888888888,\"#fdca26\"],[1.0,\"#f0f921\"]],\"type\":\"contour\"}],\"contourcarpet\":[{\"colorbar\":{\"outlinewidth\":0,\"ticks\":\"\"},\"type\":\"contourcarpet\"}],\"heatmap\":[{\"colorbar\":{\"outlinewidth\":0,\"ticks\":\"\"},\"colorscale\":[[0.0,\"#0d0887\"],[0.1111111111111111,\"#46039f\"],[0.2222222222222222,\"#7201a8\"],[0.3333333333333333,\"#9c179e\"],[0.4444444444444444,\"#bd3786\"],[0.5555555555555556,\"#d8576b\"],[0.6666666666666666,\"#ed7953\"],[0.7777777777777778,\"#fb9f3a\"],[0.8888888888888888,\"#fdca26\"],[1.0,\"#f0f921\"]],\"type\":\"heatmap\"}],\"heatmapgl\":[{\"colorbar\":{\"outlinewidth\":0,\"ticks\":\"\"},\"colorscale\":[[0.0,\"#0d0887\"],[0.1111111111111111,\"#46039f\"],[0.2222222222222222,\"#7201a8\"],[0.3333333333333333,\"#9c179e\"],[0.4444444444444444,\"#bd3786\"],[0.5555555555555556,\"#d8576b\"],[0.6666666666666666,\"#ed7953\"],[0.7777777777777778,\"#fb9f3a\"],[0.8888888888888888,\"#fdca26\"],[1.0,\"#f0f921\"]],\"type\":\"heatmapgl\"}],\"histogram\":[{\"marker\":{\"pattern\":{\"fillmode\":\"overlay\",\"size\":10,\"solidity\":0.2}},\"type\":\"histogram\"}],\"histogram2d\":[{\"colorbar\":{\"outlinewidth\":0,\"ticks\":\"\"},\"colorscale\":[[0.0,\"#0d0887\"],[0.1111111111111111,\"#46039f\"],[0.2222222222222222,\"#7201a8\"],[0.3333333333333333,\"#9c179e\"],[0.4444444444444444,\"#bd3786\"],[0.5555555555555556,\"#d8576b\"],[0.6666666666666666,\"#ed7953\"],[0.7777777777777778,\"#fb9f3a\"],[0.8888888888888888,\"#fdca26\"],[1.0,\"#f0f921\"]],\"type\":\"histogram2d\"}],\"histogram2dcontour\":[{\"colorbar\":{\"outlinewidth\":0,\"ticks\":\"\"},\"colorscale\":[[0.0,\"#0d0887\"],[0.1111111111111111,\"#46039f\"],[0.2222222222222222,\"#7201a8\"],[0.3333333333333333,\"#9c179e\"],[0.4444444444444444,\"#bd3786\"],[0.5555555555555556,\"#d8576b\"],[0.6666666666666666,\"#ed7953\"],[0.7777777777777778,\"#fb9f3a\"],[0.8888888888888888,\"#fdca26\"],[1.0,\"#f0f921\"]],\"type\":\"histogram2dcontour\"}],\"mesh3d\":[{\"colorbar\":{\"outlinewidth\":0,\"ticks\":\"\"},\"type\":\"mesh3d\"}],\"parcoords\":[{\"line\":{\"colorbar\":{\"outlinewidth\":0,\"ticks\":\"\"}},\"type\":\"parcoords\"}],\"pie\":[{\"automargin\":true,\"type\":\"pie\"}],\"scatter\":[{\"marker\":{\"colorbar\":{\"outlinewidth\":0,\"ticks\":\"\"}},\"type\":\"scatter\"}],\"scatter3d\":[{\"line\":{\"colorbar\":{\"outlinewidth\":0,\"ticks\":\"\"}},\"marker\":{\"colorbar\":{\"outlinewidth\":0,\"ticks\":\"\"}},\"type\":\"scatter3d\"}],\"scattercarpet\":[{\"marker\":{\"colorbar\":{\"outlinewidth\":0,\"ticks\":\"\"}},\"type\":\"scattercarpet\"}],\"scattergeo\":[{\"marker\":{\"colorbar\":{\"outlinewidth\":0,\"ticks\":\"\"}},\"type\":\"scattergeo\"}],\"scattergl\":[{\"marker\":{\"colorbar\":{\"outlinewidth\":0,\"ticks\":\"\"}},\"type\":\"scattergl\"}],\"scattermapbox\":[{\"marker\":{\"colorbar\":{\"outlinewidth\":0,\"ticks\":\"\"}},\"type\":\"scattermapbox\"}],\"scatterpolar\":[{\"marker\":{\"colorbar\":{\"outlinewidth\":0,\"ticks\":\"\"}},\"type\":\"scatterpolar\"}],\"scatterpolargl\":[{\"marker\":{\"colorbar\":{\"outlinewidth\":0,\"ticks\":\"\"}},\"type\":\"scatterpolargl\"}],\"scatterternary\":[{\"marker\":{\"colorbar\":{\"outlinewidth\":0,\"ticks\":\"\"}},\"type\":\"scatterternary\"}],\"surface\":[{\"colorbar\":{\"outlinewidth\":0,\"ticks\":\"\"},\"colorscale\":[[0.0,\"#0d0887\"],[0.1111111111111111,\"#46039f\"],[0.2222222222222222,\"#7201a8\"],[0.3333333333333333,\"#9c179e\"],[0.4444444444444444,\"#bd3786\"],[0.5555555555555556,\"#d8576b\"],[0.6666666666666666,\"#ed7953\"],[0.7777777777777778,\"#fb9f3a\"],[0.8888888888888888,\"#fdca26\"],[1.0,\"#f0f921\"]],\"type\":\"surface\"}],\"table\":[{\"cells\":{\"fill\":{\"color\":\"#EBF0F8\"},\"line\":{\"color\":\"white\"}},\"header\":{\"fill\":{\"color\":\"#C8D4E3\"},\"line\":{\"color\":\"white\"}},\"type\":\"table\"}]},\"layout\":{\"annotationdefaults\":{\"arrowcolor\":\"#2a3f5f\",\"arrowhead\":0,\"arrowwidth\":1},\"autotypenumbers\":\"strict\",\"coloraxis\":{\"colorbar\":{\"outlinewidth\":0,\"ticks\":\"\"}},\"colorscale\":{\"diverging\":[[0,\"#8e0152\"],[0.1,\"#c51b7d\"],[0.2,\"#de77ae\"],[0.3,\"#f1b6da\"],[0.4,\"#fde0ef\"],[0.5,\"#f7f7f7\"],[0.6,\"#e6f5d0\"],[0.7,\"#b8e186\"],[0.8,\"#7fbc41\"],[0.9,\"#4d9221\"],[1,\"#276419\"]],\"sequential\":[[0.0,\"#0d0887\"],[0.1111111111111111,\"#46039f\"],[0.2222222222222222,\"#7201a8\"],[0.3333333333333333,\"#9c179e\"],[0.4444444444444444,\"#bd3786\"],[0.5555555555555556,\"#d8576b\"],[0.6666666666666666,\"#ed7953\"],[0.7777777777777778,\"#fb9f3a\"],[0.8888888888888888,\"#fdca26\"],[1.0,\"#f0f921\"]],\"sequentialminus\":[[0.0,\"#0d0887\"],[0.1111111111111111,\"#46039f\"],[0.2222222222222222,\"#7201a8\"],[0.3333333333333333,\"#9c179e\"],[0.4444444444444444,\"#bd3786\"],[0.5555555555555556,\"#d8576b\"],[0.6666666666666666,\"#ed7953\"],[0.7777777777777778,\"#fb9f3a\"],[0.8888888888888888,\"#fdca26\"],[1.0,\"#f0f921\"]]},\"colorway\":[\"#636efa\",\"#EF553B\",\"#00cc96\",\"#ab63fa\",\"#FFA15A\",\"#19d3f3\",\"#FF6692\",\"#B6E880\",\"#FF97FF\",\"#FECB52\"],\"font\":{\"color\":\"#2a3f5f\"},\"geo\":{\"bgcolor\":\"white\",\"lakecolor\":\"white\",\"landcolor\":\"#E5ECF6\",\"showlakes\":true,\"showland\":true,\"subunitcolor\":\"white\"},\"hoverlabel\":{\"align\":\"left\"},\"hovermode\":\"closest\",\"mapbox\":{\"style\":\"light\"},\"paper_bgcolor\":\"white\",\"plot_bgcolor\":\"#E5ECF6\",\"polar\":{\"angularaxis\":{\"gridcolor\":\"white\",\"linecolor\":\"white\",\"ticks\":\"\"},\"bgcolor\":\"#E5ECF6\",\"radialaxis\":{\"gridcolor\":\"white\",\"linecolor\":\"white\",\"ticks\":\"\"}},\"scene\":{\"xaxis\":{\"backgroundcolor\":\"#E5ECF6\",\"gridcolor\":\"white\",\"gridwidth\":2,\"linecolor\":\"white\",\"showbackground\":true,\"ticks\":\"\",\"zerolinecolor\":\"white\"},\"yaxis\":{\"backgroundcolor\":\"#E5ECF6\",\"gridcolor\":\"white\",\"gridwidth\":2,\"linecolor\":\"white\",\"showbackground\":true,\"ticks\":\"\",\"zerolinecolor\":\"white\"},\"zaxis\":{\"backgroundcolor\":\"#E5ECF6\",\"gridcolor\":\"white\",\"gridwidth\":2,\"linecolor\":\"white\",\"showbackground\":true,\"ticks\":\"\",\"zerolinecolor\":\"white\"}},\"shapedefaults\":{\"line\":{\"color\":\"#2a3f5f\"}},\"ternary\":{\"aaxis\":{\"gridcolor\":\"white\",\"linecolor\":\"white\",\"ticks\":\"\"},\"baxis\":{\"gridcolor\":\"white\",\"linecolor\":\"white\",\"ticks\":\"\"},\"bgcolor\":\"#E5ECF6\",\"caxis\":{\"gridcolor\":\"white\",\"linecolor\":\"white\",\"ticks\":\"\"}},\"title\":{\"x\":0.05},\"xaxis\":{\"automargin\":true,\"gridcolor\":\"white\",\"linecolor\":\"white\",\"ticks\":\"\",\"title\":{\"standoff\":15},\"zerolinecolor\":\"white\",\"zerolinewidth\":2},\"yaxis\":{\"automargin\":true,\"gridcolor\":\"white\",\"linecolor\":\"white\",\"ticks\":\"\",\"title\":{\"standoff\":15},\"zerolinecolor\":\"white\",\"zerolinewidth\":2}}},\"xaxis\":{\"anchor\":\"y\",\"domain\":[0.0,0.19999999999999998]},\"yaxis\":{\"anchor\":\"x\",\"domain\":[0.0,1.0]},\"xaxis2\":{\"anchor\":\"y2\",\"domain\":[0.4,0.6]},\"yaxis2\":{\"anchor\":\"x2\",\"domain\":[0.0,1.0]},\"xaxis3\":{\"anchor\":\"y3\",\"domain\":[0.8,1.0]},\"yaxis3\":{\"anchor\":\"x3\",\"domain\":[0.0,1.0]},\"annotations\":[{\"font\":{\"size\":16},\"showarrow\":false,\"text\":\"Black_Win_probability\",\"x\":0.09999999999999999,\"xanchor\":\"center\",\"xref\":\"paper\",\"y\":1.0,\"yanchor\":\"bottom\",\"yref\":\"paper\"},{\"font\":{\"size\":16},\"showarrow\":false,\"text\":\"Black_Draw_Probability\",\"x\":0.5,\"xanchor\":\"center\",\"xref\":\"paper\",\"y\":1.0,\"yanchor\":\"bottom\",\"yref\":\"paper\"},{\"font\":{\"size\":16},\"showarrow\":false,\"text\":\"Black_Lose_probability\",\"x\":0.9,\"xanchor\":\"center\",\"xref\":\"paper\",\"y\":1.0,\"yanchor\":\"bottom\",\"yref\":\"paper\"}],\"title\":{\"text\":\"Probability deciles vs Game Outcome (Black)\",\"x\":0},\"coloraxis\":{\"colorbar\":{\"thickness\":25,\"x\":-0.12},\"colorscale\":[[0.0,\"rgb(23, 28, 66)\"],[0.09090909090909091,\"rgb(41, 58, 143)\"],[0.18181818181818182,\"rgb(11, 102, 189)\"],[0.2727272727272727,\"rgb(69, 144, 185)\"],[0.36363636363636365,\"rgb(142, 181, 194)\"],[0.45454545454545453,\"rgb(210, 216, 219)\"],[0.5454545454545454,\"rgb(230, 210, 204)\"],[0.6363636363636364,\"rgb(213, 157, 137)\"],[0.7272727272727273,\"rgb(196, 101, 72)\"],[0.8181818181818182,\"rgb(172, 43, 36)\"],[0.9090909090909091,\"rgb(120, 14, 40)\"],[1.0,\"rgb(60, 9, 17)\"]],\"showscale\":false},\"coloraxis2\":{\"colorscale\":[[0.0,\"rgb(20, 29, 67)\"],[0.09090909090909091,\"rgb(28, 72, 93)\"],[0.18181818181818182,\"rgb(18, 115, 117)\"],[0.2727272727272727,\"rgb(63, 156, 129)\"],[0.36363636363636365,\"rgb(153, 189, 156)\"],[0.45454545454545453,\"rgb(223, 225, 211)\"],[0.5454545454545454,\"rgb(241, 218, 206)\"],[0.6363636363636364,\"rgb(224, 160, 137)\"],[0.7272727272727273,\"rgb(203, 101, 99)\"],[0.8181818181818182,\"rgb(164, 54, 96)\"],[0.9090909090909091,\"rgb(111, 23, 91)\"],[1.0,\"rgb(51, 13, 53)\"]],\"colorbar\":{\"thickness\":25},\"showscale\":false}},                        {\"responsive\": true}                    ).then(function(){\n",
       "                            \n",
       "var gd = document.getElementById('c0f7530d-1d40-4ef6-8e74-0f4527a4d62f');\n",
       "var x = new MutationObserver(function (mutations, observer) {{\n",
       "        var display = window.getComputedStyle(gd).display;\n",
       "        if (!display || display === 'none') {{\n",
       "            console.log([gd, 'removed!']);\n",
       "            Plotly.purge(gd);\n",
       "            observer.disconnect();\n",
       "        }}\n",
       "}});\n",
       "\n",
       "// Listen for the removal of the full notebook cells\n",
       "var notebookContainer = gd.closest('#notebook-container');\n",
       "if (notebookContainer) {{\n",
       "    x.observe(notebookContainer, {childList: true});\n",
       "}}\n",
       "\n",
       "// Listen for the clearing of the current output cell\n",
       "var outputEl = gd.closest('.output');\n",
       "if (outputEl) {{\n",
       "    x.observe(outputEl, {childList: true});\n",
       "}}\n",
       "\n",
       "                        })                };                });            </script>        </div>"
      ]
     },
     "metadata": {},
     "output_type": "display_data"
    }
   ],
   "source": [
    "plot_figures(3, ('White_Win_probability','White_Draw_Probability','White_Lose_probability'),\n",
    "             \"Probability deciles vs Game Outcome (White)\", deciles, train)\n",
    "plot_figures(3, ('Black_Win_probability','Black_Draw_Probability','Black_Lose_probability'),\n",
    "             \"Probability deciles vs Game Outcome (Black)\", deciles, train)"
   ]
  },
  {
   "cell_type": "markdown",
   "id": "227e28f3",
   "metadata": {},
   "source": [
    "### White Vs Black"
   ]
  },
  {
   "cell_type": "code",
   "execution_count": 148,
   "id": "35b75823",
   "metadata": {},
   "outputs": [
    {
     "data": {
      "application/vnd.plotly.v1+json": {
       "config": {
        "plotlyServerURL": "https://plot.ly"
       },
       "data": [
        {
         "coloraxis": "coloraxis",
         "hovertemplate": "x: %{x}<br>y: %{y}<br>color: %{z}<extra></extra>",
         "name": "0",
         "texttemplate": "%{z}",
         "type": "heatmap",
         "x": [
          "Wins",
          "Draws",
          "Loses"
         ],
         "xaxis": "x",
         "y": [
          "-0.2",
          "0.01",
          "0.07",
          "0.11",
          "0.15",
          "0.18",
          "0.22",
          "0.27",
          "0.33",
          "0.56"
         ],
         "yaxis": "y",
         "z": [
          [
           6075,
           7008,
           4328
          ],
          [
           6151,
           6991,
           4269
          ],
          [
           6405,
           6495,
           4511
          ],
          [
           6358,
           6462,
           4591
          ],
          [
           6347,
           6521,
           4543
          ],
          [
           6129,
           6653,
           4629
          ],
          [
           6242,
           6593,
           4576
          ],
          [
           6136,
           6694,
           4581
          ],
          [
           5987,
           6956,
           4468
          ],
          [
           5810,
           7458,
           4143
          ]
         ]
        },
        {
         "coloraxis": "coloraxis",
         "hovertemplate": "x: %{x}<br>y: %{y}<br>color: %{z}<extra></extra>",
         "name": "0",
         "texttemplate": "%{z}",
         "type": "heatmap",
         "x": [
          "Wins",
          "Draws",
          "Loses"
         ],
         "xaxis": "x2",
         "y": [
          "-0.58",
          "-0.34",
          "-0.27",
          "-0.22",
          "-0.18",
          "-0.15",
          "-0.11",
          "-0.07",
          "-0.01",
          "0.18"
         ],
         "yaxis": "y2",
         "z": [
          [
           5916,
           7433,
           4062
          ],
          [
           6189,
           6842,
           4380
          ],
          [
           6215,
           6770,
           4426
          ],
          [
           6148,
           6708,
           4555
          ],
          [
           6061,
           6584,
           4766
          ],
          [
           6245,
           6573,
           4593
          ],
          [
           6342,
           6418,
           4651
          ],
          [
           6161,
           6517,
           4733
          ],
          [
           6091,
           6977,
           4343
          ],
          [
           6272,
           7009,
           4130
          ]
         ]
        }
       ],
       "layout": {
        "annotations": [
         {
          "font": {
           "size": 16
          },
          "showarrow": false,
          "text": "White_Bias",
          "x": 0.2,
          "xanchor": "center",
          "xref": "paper",
          "y": 1,
          "yanchor": "bottom",
          "yref": "paper"
         },
         {
          "font": {
           "size": 16
          },
          "showarrow": false,
          "text": "Black_Bias",
          "x": 0.8,
          "xanchor": "center",
          "xref": "paper",
          "y": 1,
          "yanchor": "bottom",
          "yref": "paper"
         }
        ],
        "coloraxis": {
         "colorbar": {
          "thickness": 25,
          "x": -0.12
         },
         "colorscale": [
          [
           0,
           "rgb(23, 28, 66)"
          ],
          [
           0.09090909090909091,
           "rgb(41, 58, 143)"
          ],
          [
           0.18181818181818182,
           "rgb(11, 102, 189)"
          ],
          [
           0.2727272727272727,
           "rgb(69, 144, 185)"
          ],
          [
           0.36363636363636365,
           "rgb(142, 181, 194)"
          ],
          [
           0.45454545454545453,
           "rgb(210, 216, 219)"
          ],
          [
           0.5454545454545454,
           "rgb(230, 210, 204)"
          ],
          [
           0.6363636363636364,
           "rgb(213, 157, 137)"
          ],
          [
           0.7272727272727273,
           "rgb(196, 101, 72)"
          ],
          [
           0.8181818181818182,
           "rgb(172, 43, 36)"
          ],
          [
           0.9090909090909091,
           "rgb(120, 14, 40)"
          ],
          [
           1,
           "rgb(60, 9, 17)"
          ]
         ],
         "showscale": false
        },
        "coloraxis2": {
         "colorbar": {
          "thickness": 25
         },
         "colorscale": [
          [
           0,
           "rgb(20, 29, 67)"
          ],
          [
           0.09090909090909091,
           "rgb(28, 72, 93)"
          ],
          [
           0.18181818181818182,
           "rgb(18, 115, 117)"
          ],
          [
           0.2727272727272727,
           "rgb(63, 156, 129)"
          ],
          [
           0.36363636363636365,
           "rgb(153, 189, 156)"
          ],
          [
           0.45454545454545453,
           "rgb(223, 225, 211)"
          ],
          [
           0.5454545454545454,
           "rgb(241, 218, 206)"
          ],
          [
           0.6363636363636364,
           "rgb(224, 160, 137)"
          ],
          [
           0.7272727272727273,
           "rgb(203, 101, 99)"
          ],
          [
           0.8181818181818182,
           "rgb(164, 54, 96)"
          ],
          [
           0.9090909090909091,
           "rgb(111, 23, 91)"
          ],
          [
           1,
           "rgb(51, 13, 53)"
          ]
         ],
         "showscale": false
        },
        "template": {
         "data": {
          "bar": [
           {
            "error_x": {
             "color": "#2a3f5f"
            },
            "error_y": {
             "color": "#2a3f5f"
            },
            "marker": {
             "line": {
              "color": "#E5ECF6",
              "width": 0.5
             },
             "pattern": {
              "fillmode": "overlay",
              "size": 10,
              "solidity": 0.2
             }
            },
            "type": "bar"
           }
          ],
          "barpolar": [
           {
            "marker": {
             "line": {
              "color": "#E5ECF6",
              "width": 0.5
             },
             "pattern": {
              "fillmode": "overlay",
              "size": 10,
              "solidity": 0.2
             }
            },
            "type": "barpolar"
           }
          ],
          "carpet": [
           {
            "aaxis": {
             "endlinecolor": "#2a3f5f",
             "gridcolor": "white",
             "linecolor": "white",
             "minorgridcolor": "white",
             "startlinecolor": "#2a3f5f"
            },
            "baxis": {
             "endlinecolor": "#2a3f5f",
             "gridcolor": "white",
             "linecolor": "white",
             "minorgridcolor": "white",
             "startlinecolor": "#2a3f5f"
            },
            "type": "carpet"
           }
          ],
          "choropleth": [
           {
            "colorbar": {
             "outlinewidth": 0,
             "ticks": ""
            },
            "type": "choropleth"
           }
          ],
          "contour": [
           {
            "colorbar": {
             "outlinewidth": 0,
             "ticks": ""
            },
            "colorscale": [
             [
              0,
              "#0d0887"
             ],
             [
              0.1111111111111111,
              "#46039f"
             ],
             [
              0.2222222222222222,
              "#7201a8"
             ],
             [
              0.3333333333333333,
              "#9c179e"
             ],
             [
              0.4444444444444444,
              "#bd3786"
             ],
             [
              0.5555555555555556,
              "#d8576b"
             ],
             [
              0.6666666666666666,
              "#ed7953"
             ],
             [
              0.7777777777777778,
              "#fb9f3a"
             ],
             [
              0.8888888888888888,
              "#fdca26"
             ],
             [
              1,
              "#f0f921"
             ]
            ],
            "type": "contour"
           }
          ],
          "contourcarpet": [
           {
            "colorbar": {
             "outlinewidth": 0,
             "ticks": ""
            },
            "type": "contourcarpet"
           }
          ],
          "heatmap": [
           {
            "colorbar": {
             "outlinewidth": 0,
             "ticks": ""
            },
            "colorscale": [
             [
              0,
              "#0d0887"
             ],
             [
              0.1111111111111111,
              "#46039f"
             ],
             [
              0.2222222222222222,
              "#7201a8"
             ],
             [
              0.3333333333333333,
              "#9c179e"
             ],
             [
              0.4444444444444444,
              "#bd3786"
             ],
             [
              0.5555555555555556,
              "#d8576b"
             ],
             [
              0.6666666666666666,
              "#ed7953"
             ],
             [
              0.7777777777777778,
              "#fb9f3a"
             ],
             [
              0.8888888888888888,
              "#fdca26"
             ],
             [
              1,
              "#f0f921"
             ]
            ],
            "type": "heatmap"
           }
          ],
          "heatmapgl": [
           {
            "colorbar": {
             "outlinewidth": 0,
             "ticks": ""
            },
            "colorscale": [
             [
              0,
              "#0d0887"
             ],
             [
              0.1111111111111111,
              "#46039f"
             ],
             [
              0.2222222222222222,
              "#7201a8"
             ],
             [
              0.3333333333333333,
              "#9c179e"
             ],
             [
              0.4444444444444444,
              "#bd3786"
             ],
             [
              0.5555555555555556,
              "#d8576b"
             ],
             [
              0.6666666666666666,
              "#ed7953"
             ],
             [
              0.7777777777777778,
              "#fb9f3a"
             ],
             [
              0.8888888888888888,
              "#fdca26"
             ],
             [
              1,
              "#f0f921"
             ]
            ],
            "type": "heatmapgl"
           }
          ],
          "histogram": [
           {
            "marker": {
             "pattern": {
              "fillmode": "overlay",
              "size": 10,
              "solidity": 0.2
             }
            },
            "type": "histogram"
           }
          ],
          "histogram2d": [
           {
            "colorbar": {
             "outlinewidth": 0,
             "ticks": ""
            },
            "colorscale": [
             [
              0,
              "#0d0887"
             ],
             [
              0.1111111111111111,
              "#46039f"
             ],
             [
              0.2222222222222222,
              "#7201a8"
             ],
             [
              0.3333333333333333,
              "#9c179e"
             ],
             [
              0.4444444444444444,
              "#bd3786"
             ],
             [
              0.5555555555555556,
              "#d8576b"
             ],
             [
              0.6666666666666666,
              "#ed7953"
             ],
             [
              0.7777777777777778,
              "#fb9f3a"
             ],
             [
              0.8888888888888888,
              "#fdca26"
             ],
             [
              1,
              "#f0f921"
             ]
            ],
            "type": "histogram2d"
           }
          ],
          "histogram2dcontour": [
           {
            "colorbar": {
             "outlinewidth": 0,
             "ticks": ""
            },
            "colorscale": [
             [
              0,
              "#0d0887"
             ],
             [
              0.1111111111111111,
              "#46039f"
             ],
             [
              0.2222222222222222,
              "#7201a8"
             ],
             [
              0.3333333333333333,
              "#9c179e"
             ],
             [
              0.4444444444444444,
              "#bd3786"
             ],
             [
              0.5555555555555556,
              "#d8576b"
             ],
             [
              0.6666666666666666,
              "#ed7953"
             ],
             [
              0.7777777777777778,
              "#fb9f3a"
             ],
             [
              0.8888888888888888,
              "#fdca26"
             ],
             [
              1,
              "#f0f921"
             ]
            ],
            "type": "histogram2dcontour"
           }
          ],
          "mesh3d": [
           {
            "colorbar": {
             "outlinewidth": 0,
             "ticks": ""
            },
            "type": "mesh3d"
           }
          ],
          "parcoords": [
           {
            "line": {
             "colorbar": {
              "outlinewidth": 0,
              "ticks": ""
             }
            },
            "type": "parcoords"
           }
          ],
          "pie": [
           {
            "automargin": true,
            "type": "pie"
           }
          ],
          "scatter": [
           {
            "marker": {
             "colorbar": {
              "outlinewidth": 0,
              "ticks": ""
             }
            },
            "type": "scatter"
           }
          ],
          "scatter3d": [
           {
            "line": {
             "colorbar": {
              "outlinewidth": 0,
              "ticks": ""
             }
            },
            "marker": {
             "colorbar": {
              "outlinewidth": 0,
              "ticks": ""
             }
            },
            "type": "scatter3d"
           }
          ],
          "scattercarpet": [
           {
            "marker": {
             "colorbar": {
              "outlinewidth": 0,
              "ticks": ""
             }
            },
            "type": "scattercarpet"
           }
          ],
          "scattergeo": [
           {
            "marker": {
             "colorbar": {
              "outlinewidth": 0,
              "ticks": ""
             }
            },
            "type": "scattergeo"
           }
          ],
          "scattergl": [
           {
            "marker": {
             "colorbar": {
              "outlinewidth": 0,
              "ticks": ""
             }
            },
            "type": "scattergl"
           }
          ],
          "scattermapbox": [
           {
            "marker": {
             "colorbar": {
              "outlinewidth": 0,
              "ticks": ""
             }
            },
            "type": "scattermapbox"
           }
          ],
          "scatterpolar": [
           {
            "marker": {
             "colorbar": {
              "outlinewidth": 0,
              "ticks": ""
             }
            },
            "type": "scatterpolar"
           }
          ],
          "scatterpolargl": [
           {
            "marker": {
             "colorbar": {
              "outlinewidth": 0,
              "ticks": ""
             }
            },
            "type": "scatterpolargl"
           }
          ],
          "scatterternary": [
           {
            "marker": {
             "colorbar": {
              "outlinewidth": 0,
              "ticks": ""
             }
            },
            "type": "scatterternary"
           }
          ],
          "surface": [
           {
            "colorbar": {
             "outlinewidth": 0,
             "ticks": ""
            },
            "colorscale": [
             [
              0,
              "#0d0887"
             ],
             [
              0.1111111111111111,
              "#46039f"
             ],
             [
              0.2222222222222222,
              "#7201a8"
             ],
             [
              0.3333333333333333,
              "#9c179e"
             ],
             [
              0.4444444444444444,
              "#bd3786"
             ],
             [
              0.5555555555555556,
              "#d8576b"
             ],
             [
              0.6666666666666666,
              "#ed7953"
             ],
             [
              0.7777777777777778,
              "#fb9f3a"
             ],
             [
              0.8888888888888888,
              "#fdca26"
             ],
             [
              1,
              "#f0f921"
             ]
            ],
            "type": "surface"
           }
          ],
          "table": [
           {
            "cells": {
             "fill": {
              "color": "#EBF0F8"
             },
             "line": {
              "color": "white"
             }
            },
            "header": {
             "fill": {
              "color": "#C8D4E3"
             },
             "line": {
              "color": "white"
             }
            },
            "type": "table"
           }
          ]
         },
         "layout": {
          "annotationdefaults": {
           "arrowcolor": "#2a3f5f",
           "arrowhead": 0,
           "arrowwidth": 1
          },
          "autotypenumbers": "strict",
          "coloraxis": {
           "colorbar": {
            "outlinewidth": 0,
            "ticks": ""
           }
          },
          "colorscale": {
           "diverging": [
            [
             0,
             "#8e0152"
            ],
            [
             0.1,
             "#c51b7d"
            ],
            [
             0.2,
             "#de77ae"
            ],
            [
             0.3,
             "#f1b6da"
            ],
            [
             0.4,
             "#fde0ef"
            ],
            [
             0.5,
             "#f7f7f7"
            ],
            [
             0.6,
             "#e6f5d0"
            ],
            [
             0.7,
             "#b8e186"
            ],
            [
             0.8,
             "#7fbc41"
            ],
            [
             0.9,
             "#4d9221"
            ],
            [
             1,
             "#276419"
            ]
           ],
           "sequential": [
            [
             0,
             "#0d0887"
            ],
            [
             0.1111111111111111,
             "#46039f"
            ],
            [
             0.2222222222222222,
             "#7201a8"
            ],
            [
             0.3333333333333333,
             "#9c179e"
            ],
            [
             0.4444444444444444,
             "#bd3786"
            ],
            [
             0.5555555555555556,
             "#d8576b"
            ],
            [
             0.6666666666666666,
             "#ed7953"
            ],
            [
             0.7777777777777778,
             "#fb9f3a"
            ],
            [
             0.8888888888888888,
             "#fdca26"
            ],
            [
             1,
             "#f0f921"
            ]
           ],
           "sequentialminus": [
            [
             0,
             "#0d0887"
            ],
            [
             0.1111111111111111,
             "#46039f"
            ],
            [
             0.2222222222222222,
             "#7201a8"
            ],
            [
             0.3333333333333333,
             "#9c179e"
            ],
            [
             0.4444444444444444,
             "#bd3786"
            ],
            [
             0.5555555555555556,
             "#d8576b"
            ],
            [
             0.6666666666666666,
             "#ed7953"
            ],
            [
             0.7777777777777778,
             "#fb9f3a"
            ],
            [
             0.8888888888888888,
             "#fdca26"
            ],
            [
             1,
             "#f0f921"
            ]
           ]
          },
          "colorway": [
           "#636efa",
           "#EF553B",
           "#00cc96",
           "#ab63fa",
           "#FFA15A",
           "#19d3f3",
           "#FF6692",
           "#B6E880",
           "#FF97FF",
           "#FECB52"
          ],
          "font": {
           "color": "#2a3f5f"
          },
          "geo": {
           "bgcolor": "white",
           "lakecolor": "white",
           "landcolor": "#E5ECF6",
           "showlakes": true,
           "showland": true,
           "subunitcolor": "white"
          },
          "hoverlabel": {
           "align": "left"
          },
          "hovermode": "closest",
          "mapbox": {
           "style": "light"
          },
          "paper_bgcolor": "white",
          "plot_bgcolor": "#E5ECF6",
          "polar": {
           "angularaxis": {
            "gridcolor": "white",
            "linecolor": "white",
            "ticks": ""
           },
           "bgcolor": "#E5ECF6",
           "radialaxis": {
            "gridcolor": "white",
            "linecolor": "white",
            "ticks": ""
           }
          },
          "scene": {
           "xaxis": {
            "backgroundcolor": "#E5ECF6",
            "gridcolor": "white",
            "gridwidth": 2,
            "linecolor": "white",
            "showbackground": true,
            "ticks": "",
            "zerolinecolor": "white"
           },
           "yaxis": {
            "backgroundcolor": "#E5ECF6",
            "gridcolor": "white",
            "gridwidth": 2,
            "linecolor": "white",
            "showbackground": true,
            "ticks": "",
            "zerolinecolor": "white"
           },
           "zaxis": {
            "backgroundcolor": "#E5ECF6",
            "gridcolor": "white",
            "gridwidth": 2,
            "linecolor": "white",
            "showbackground": true,
            "ticks": "",
            "zerolinecolor": "white"
           }
          },
          "shapedefaults": {
           "line": {
            "color": "#2a3f5f"
           }
          },
          "ternary": {
           "aaxis": {
            "gridcolor": "white",
            "linecolor": "white",
            "ticks": ""
           },
           "baxis": {
            "gridcolor": "white",
            "linecolor": "white",
            "ticks": ""
           },
           "bgcolor": "#E5ECF6",
           "caxis": {
            "gridcolor": "white",
            "linecolor": "white",
            "ticks": ""
           }
          },
          "title": {
           "x": 0.05
          },
          "xaxis": {
           "automargin": true,
           "gridcolor": "white",
           "linecolor": "white",
           "ticks": "",
           "title": {
            "standoff": 15
           },
           "zerolinecolor": "white",
           "zerolinewidth": 2
          },
          "yaxis": {
           "automargin": true,
           "gridcolor": "white",
           "linecolor": "white",
           "ticks": "",
           "title": {
            "standoff": 15
           },
           "zerolinecolor": "white",
           "zerolinewidth": 2
          }
         }
        },
        "title": {
         "text": "First Move Advantage",
         "x": 0
        },
        "xaxis": {
         "anchor": "y",
         "domain": [
          0,
          0.4
         ]
        },
        "xaxis2": {
         "anchor": "y2",
         "domain": [
          0.6000000000000001,
          1
         ]
        },
        "yaxis": {
         "anchor": "x",
         "domain": [
          0,
          1
         ]
        },
        "yaxis2": {
         "anchor": "x2",
         "domain": [
          0,
          1
         ]
        }
       }
      },
      "text/html": [
       "<div>                            <div id=\"3c7e12dc-ad2d-48e6-80f0-0de92e4a09cd\" class=\"plotly-graph-div\" style=\"height:525px; width:100%;\"></div>            <script type=\"text/javascript\">                require([\"plotly\"], function(Plotly) {                    window.PLOTLYENV=window.PLOTLYENV || {};                                    if (document.getElementById(\"3c7e12dc-ad2d-48e6-80f0-0de92e4a09cd\")) {                    Plotly.newPlot(                        \"3c7e12dc-ad2d-48e6-80f0-0de92e4a09cd\",                        [{\"coloraxis\":\"coloraxis\",\"hovertemplate\":\"x: %{x}<br>y: %{y}<br>color: %{z}<extra></extra>\",\"name\":\"0\",\"texttemplate\":\"%{z}\",\"x\":[\"Wins\",\"Draws\",\"Loses\"],\"xaxis\":\"x\",\"y\":[\"-0.2\",\"0.01\",\"0.07\",\"0.11\",\"0.15\",\"0.18\",\"0.22\",\"0.27\",\"0.33\",\"0.56\"],\"yaxis\":\"y\",\"z\":[[6075,7008,4328],[6151,6991,4269],[6405,6495,4511],[6358,6462,4591],[6347,6521,4543],[6129,6653,4629],[6242,6593,4576],[6136,6694,4581],[5987,6956,4468],[5810,7458,4143]],\"type\":\"heatmap\"},{\"coloraxis\":\"coloraxis\",\"hovertemplate\":\"x: %{x}<br>y: %{y}<br>color: %{z}<extra></extra>\",\"name\":\"0\",\"texttemplate\":\"%{z}\",\"x\":[\"Wins\",\"Draws\",\"Loses\"],\"xaxis\":\"x2\",\"y\":[\"-0.58\",\"-0.34\",\"-0.27\",\"-0.22\",\"-0.18\",\"-0.15\",\"-0.11\",\"-0.07\",\"-0.01\",\"0.18\"],\"yaxis\":\"y2\",\"z\":[[5916,7433,4062],[6189,6842,4380],[6215,6770,4426],[6148,6708,4555],[6061,6584,4766],[6245,6573,4593],[6342,6418,4651],[6161,6517,4733],[6091,6977,4343],[6272,7009,4130]],\"type\":\"heatmap\"}],                        {\"template\":{\"data\":{\"bar\":[{\"error_x\":{\"color\":\"#2a3f5f\"},\"error_y\":{\"color\":\"#2a3f5f\"},\"marker\":{\"line\":{\"color\":\"#E5ECF6\",\"width\":0.5},\"pattern\":{\"fillmode\":\"overlay\",\"size\":10,\"solidity\":0.2}},\"type\":\"bar\"}],\"barpolar\":[{\"marker\":{\"line\":{\"color\":\"#E5ECF6\",\"width\":0.5},\"pattern\":{\"fillmode\":\"overlay\",\"size\":10,\"solidity\":0.2}},\"type\":\"barpolar\"}],\"carpet\":[{\"aaxis\":{\"endlinecolor\":\"#2a3f5f\",\"gridcolor\":\"white\",\"linecolor\":\"white\",\"minorgridcolor\":\"white\",\"startlinecolor\":\"#2a3f5f\"},\"baxis\":{\"endlinecolor\":\"#2a3f5f\",\"gridcolor\":\"white\",\"linecolor\":\"white\",\"minorgridcolor\":\"white\",\"startlinecolor\":\"#2a3f5f\"},\"type\":\"carpet\"}],\"choropleth\":[{\"colorbar\":{\"outlinewidth\":0,\"ticks\":\"\"},\"type\":\"choropleth\"}],\"contour\":[{\"colorbar\":{\"outlinewidth\":0,\"ticks\":\"\"},\"colorscale\":[[0.0,\"#0d0887\"],[0.1111111111111111,\"#46039f\"],[0.2222222222222222,\"#7201a8\"],[0.3333333333333333,\"#9c179e\"],[0.4444444444444444,\"#bd3786\"],[0.5555555555555556,\"#d8576b\"],[0.6666666666666666,\"#ed7953\"],[0.7777777777777778,\"#fb9f3a\"],[0.8888888888888888,\"#fdca26\"],[1.0,\"#f0f921\"]],\"type\":\"contour\"}],\"contourcarpet\":[{\"colorbar\":{\"outlinewidth\":0,\"ticks\":\"\"},\"type\":\"contourcarpet\"}],\"heatmap\":[{\"colorbar\":{\"outlinewidth\":0,\"ticks\":\"\"},\"colorscale\":[[0.0,\"#0d0887\"],[0.1111111111111111,\"#46039f\"],[0.2222222222222222,\"#7201a8\"],[0.3333333333333333,\"#9c179e\"],[0.4444444444444444,\"#bd3786\"],[0.5555555555555556,\"#d8576b\"],[0.6666666666666666,\"#ed7953\"],[0.7777777777777778,\"#fb9f3a\"],[0.8888888888888888,\"#fdca26\"],[1.0,\"#f0f921\"]],\"type\":\"heatmap\"}],\"heatmapgl\":[{\"colorbar\":{\"outlinewidth\":0,\"ticks\":\"\"},\"colorscale\":[[0.0,\"#0d0887\"],[0.1111111111111111,\"#46039f\"],[0.2222222222222222,\"#7201a8\"],[0.3333333333333333,\"#9c179e\"],[0.4444444444444444,\"#bd3786\"],[0.5555555555555556,\"#d8576b\"],[0.6666666666666666,\"#ed7953\"],[0.7777777777777778,\"#fb9f3a\"],[0.8888888888888888,\"#fdca26\"],[1.0,\"#f0f921\"]],\"type\":\"heatmapgl\"}],\"histogram\":[{\"marker\":{\"pattern\":{\"fillmode\":\"overlay\",\"size\":10,\"solidity\":0.2}},\"type\":\"histogram\"}],\"histogram2d\":[{\"colorbar\":{\"outlinewidth\":0,\"ticks\":\"\"},\"colorscale\":[[0.0,\"#0d0887\"],[0.1111111111111111,\"#46039f\"],[0.2222222222222222,\"#7201a8\"],[0.3333333333333333,\"#9c179e\"],[0.4444444444444444,\"#bd3786\"],[0.5555555555555556,\"#d8576b\"],[0.6666666666666666,\"#ed7953\"],[0.7777777777777778,\"#fb9f3a\"],[0.8888888888888888,\"#fdca26\"],[1.0,\"#f0f921\"]],\"type\":\"histogram2d\"}],\"histogram2dcontour\":[{\"colorbar\":{\"outlinewidth\":0,\"ticks\":\"\"},\"colorscale\":[[0.0,\"#0d0887\"],[0.1111111111111111,\"#46039f\"],[0.2222222222222222,\"#7201a8\"],[0.3333333333333333,\"#9c179e\"],[0.4444444444444444,\"#bd3786\"],[0.5555555555555556,\"#d8576b\"],[0.6666666666666666,\"#ed7953\"],[0.7777777777777778,\"#fb9f3a\"],[0.8888888888888888,\"#fdca26\"],[1.0,\"#f0f921\"]],\"type\":\"histogram2dcontour\"}],\"mesh3d\":[{\"colorbar\":{\"outlinewidth\":0,\"ticks\":\"\"},\"type\":\"mesh3d\"}],\"parcoords\":[{\"line\":{\"colorbar\":{\"outlinewidth\":0,\"ticks\":\"\"}},\"type\":\"parcoords\"}],\"pie\":[{\"automargin\":true,\"type\":\"pie\"}],\"scatter\":[{\"marker\":{\"colorbar\":{\"outlinewidth\":0,\"ticks\":\"\"}},\"type\":\"scatter\"}],\"scatter3d\":[{\"line\":{\"colorbar\":{\"outlinewidth\":0,\"ticks\":\"\"}},\"marker\":{\"colorbar\":{\"outlinewidth\":0,\"ticks\":\"\"}},\"type\":\"scatter3d\"}],\"scattercarpet\":[{\"marker\":{\"colorbar\":{\"outlinewidth\":0,\"ticks\":\"\"}},\"type\":\"scattercarpet\"}],\"scattergeo\":[{\"marker\":{\"colorbar\":{\"outlinewidth\":0,\"ticks\":\"\"}},\"type\":\"scattergeo\"}],\"scattergl\":[{\"marker\":{\"colorbar\":{\"outlinewidth\":0,\"ticks\":\"\"}},\"type\":\"scattergl\"}],\"scattermapbox\":[{\"marker\":{\"colorbar\":{\"outlinewidth\":0,\"ticks\":\"\"}},\"type\":\"scattermapbox\"}],\"scatterpolar\":[{\"marker\":{\"colorbar\":{\"outlinewidth\":0,\"ticks\":\"\"}},\"type\":\"scatterpolar\"}],\"scatterpolargl\":[{\"marker\":{\"colorbar\":{\"outlinewidth\":0,\"ticks\":\"\"}},\"type\":\"scatterpolargl\"}],\"scatterternary\":[{\"marker\":{\"colorbar\":{\"outlinewidth\":0,\"ticks\":\"\"}},\"type\":\"scatterternary\"}],\"surface\":[{\"colorbar\":{\"outlinewidth\":0,\"ticks\":\"\"},\"colorscale\":[[0.0,\"#0d0887\"],[0.1111111111111111,\"#46039f\"],[0.2222222222222222,\"#7201a8\"],[0.3333333333333333,\"#9c179e\"],[0.4444444444444444,\"#bd3786\"],[0.5555555555555556,\"#d8576b\"],[0.6666666666666666,\"#ed7953\"],[0.7777777777777778,\"#fb9f3a\"],[0.8888888888888888,\"#fdca26\"],[1.0,\"#f0f921\"]],\"type\":\"surface\"}],\"table\":[{\"cells\":{\"fill\":{\"color\":\"#EBF0F8\"},\"line\":{\"color\":\"white\"}},\"header\":{\"fill\":{\"color\":\"#C8D4E3\"},\"line\":{\"color\":\"white\"}},\"type\":\"table\"}]},\"layout\":{\"annotationdefaults\":{\"arrowcolor\":\"#2a3f5f\",\"arrowhead\":0,\"arrowwidth\":1},\"autotypenumbers\":\"strict\",\"coloraxis\":{\"colorbar\":{\"outlinewidth\":0,\"ticks\":\"\"}},\"colorscale\":{\"diverging\":[[0,\"#8e0152\"],[0.1,\"#c51b7d\"],[0.2,\"#de77ae\"],[0.3,\"#f1b6da\"],[0.4,\"#fde0ef\"],[0.5,\"#f7f7f7\"],[0.6,\"#e6f5d0\"],[0.7,\"#b8e186\"],[0.8,\"#7fbc41\"],[0.9,\"#4d9221\"],[1,\"#276419\"]],\"sequential\":[[0.0,\"#0d0887\"],[0.1111111111111111,\"#46039f\"],[0.2222222222222222,\"#7201a8\"],[0.3333333333333333,\"#9c179e\"],[0.4444444444444444,\"#bd3786\"],[0.5555555555555556,\"#d8576b\"],[0.6666666666666666,\"#ed7953\"],[0.7777777777777778,\"#fb9f3a\"],[0.8888888888888888,\"#fdca26\"],[1.0,\"#f0f921\"]],\"sequentialminus\":[[0.0,\"#0d0887\"],[0.1111111111111111,\"#46039f\"],[0.2222222222222222,\"#7201a8\"],[0.3333333333333333,\"#9c179e\"],[0.4444444444444444,\"#bd3786\"],[0.5555555555555556,\"#d8576b\"],[0.6666666666666666,\"#ed7953\"],[0.7777777777777778,\"#fb9f3a\"],[0.8888888888888888,\"#fdca26\"],[1.0,\"#f0f921\"]]},\"colorway\":[\"#636efa\",\"#EF553B\",\"#00cc96\",\"#ab63fa\",\"#FFA15A\",\"#19d3f3\",\"#FF6692\",\"#B6E880\",\"#FF97FF\",\"#FECB52\"],\"font\":{\"color\":\"#2a3f5f\"},\"geo\":{\"bgcolor\":\"white\",\"lakecolor\":\"white\",\"landcolor\":\"#E5ECF6\",\"showlakes\":true,\"showland\":true,\"subunitcolor\":\"white\"},\"hoverlabel\":{\"align\":\"left\"},\"hovermode\":\"closest\",\"mapbox\":{\"style\":\"light\"},\"paper_bgcolor\":\"white\",\"plot_bgcolor\":\"#E5ECF6\",\"polar\":{\"angularaxis\":{\"gridcolor\":\"white\",\"linecolor\":\"white\",\"ticks\":\"\"},\"bgcolor\":\"#E5ECF6\",\"radialaxis\":{\"gridcolor\":\"white\",\"linecolor\":\"white\",\"ticks\":\"\"}},\"scene\":{\"xaxis\":{\"backgroundcolor\":\"#E5ECF6\",\"gridcolor\":\"white\",\"gridwidth\":2,\"linecolor\":\"white\",\"showbackground\":true,\"ticks\":\"\",\"zerolinecolor\":\"white\"},\"yaxis\":{\"backgroundcolor\":\"#E5ECF6\",\"gridcolor\":\"white\",\"gridwidth\":2,\"linecolor\":\"white\",\"showbackground\":true,\"ticks\":\"\",\"zerolinecolor\":\"white\"},\"zaxis\":{\"backgroundcolor\":\"#E5ECF6\",\"gridcolor\":\"white\",\"gridwidth\":2,\"linecolor\":\"white\",\"showbackground\":true,\"ticks\":\"\",\"zerolinecolor\":\"white\"}},\"shapedefaults\":{\"line\":{\"color\":\"#2a3f5f\"}},\"ternary\":{\"aaxis\":{\"gridcolor\":\"white\",\"linecolor\":\"white\",\"ticks\":\"\"},\"baxis\":{\"gridcolor\":\"white\",\"linecolor\":\"white\",\"ticks\":\"\"},\"bgcolor\":\"#E5ECF6\",\"caxis\":{\"gridcolor\":\"white\",\"linecolor\":\"white\",\"ticks\":\"\"}},\"title\":{\"x\":0.05},\"xaxis\":{\"automargin\":true,\"gridcolor\":\"white\",\"linecolor\":\"white\",\"ticks\":\"\",\"title\":{\"standoff\":15},\"zerolinecolor\":\"white\",\"zerolinewidth\":2},\"yaxis\":{\"automargin\":true,\"gridcolor\":\"white\",\"linecolor\":\"white\",\"ticks\":\"\",\"title\":{\"standoff\":15},\"zerolinecolor\":\"white\",\"zerolinewidth\":2}}},\"xaxis\":{\"anchor\":\"y\",\"domain\":[0.0,0.4]},\"yaxis\":{\"anchor\":\"x\",\"domain\":[0.0,1.0]},\"xaxis2\":{\"anchor\":\"y2\",\"domain\":[0.6000000000000001,1.0]},\"yaxis2\":{\"anchor\":\"x2\",\"domain\":[0.0,1.0]},\"annotations\":[{\"font\":{\"size\":16},\"showarrow\":false,\"text\":\"White_Bias\",\"x\":0.2,\"xanchor\":\"center\",\"xref\":\"paper\",\"y\":1.0,\"yanchor\":\"bottom\",\"yref\":\"paper\"},{\"font\":{\"size\":16},\"showarrow\":false,\"text\":\"Black_Bias\",\"x\":0.8,\"xanchor\":\"center\",\"xref\":\"paper\",\"y\":1.0,\"yanchor\":\"bottom\",\"yref\":\"paper\"}],\"title\":{\"text\":\"First Move Advantage\",\"x\":0},\"coloraxis\":{\"colorbar\":{\"thickness\":25,\"x\":-0.12},\"colorscale\":[[0.0,\"rgb(23, 28, 66)\"],[0.09090909090909091,\"rgb(41, 58, 143)\"],[0.18181818181818182,\"rgb(11, 102, 189)\"],[0.2727272727272727,\"rgb(69, 144, 185)\"],[0.36363636363636365,\"rgb(142, 181, 194)\"],[0.45454545454545453,\"rgb(210, 216, 219)\"],[0.5454545454545454,\"rgb(230, 210, 204)\"],[0.6363636363636364,\"rgb(213, 157, 137)\"],[0.7272727272727273,\"rgb(196, 101, 72)\"],[0.8181818181818182,\"rgb(172, 43, 36)\"],[0.9090909090909091,\"rgb(120, 14, 40)\"],[1.0,\"rgb(60, 9, 17)\"]],\"showscale\":false},\"coloraxis2\":{\"colorscale\":[[0.0,\"rgb(20, 29, 67)\"],[0.09090909090909091,\"rgb(28, 72, 93)\"],[0.18181818181818182,\"rgb(18, 115, 117)\"],[0.2727272727272727,\"rgb(63, 156, 129)\"],[0.36363636363636365,\"rgb(153, 189, 156)\"],[0.45454545454545453,\"rgb(223, 225, 211)\"],[0.5454545454545454,\"rgb(241, 218, 206)\"],[0.6363636363636364,\"rgb(224, 160, 137)\"],[0.7272727272727273,\"rgb(203, 101, 99)\"],[0.8181818181818182,\"rgb(164, 54, 96)\"],[0.9090909090909091,\"rgb(111, 23, 91)\"],[1.0,\"rgb(51, 13, 53)\"]],\"colorbar\":{\"thickness\":25},\"showscale\":false}},                        {\"responsive\": true}                    ).then(function(){\n",
       "                            \n",
       "var gd = document.getElementById('3c7e12dc-ad2d-48e6-80f0-0de92e4a09cd');\n",
       "var x = new MutationObserver(function (mutations, observer) {{\n",
       "        var display = window.getComputedStyle(gd).display;\n",
       "        if (!display || display === 'none') {{\n",
       "            console.log([gd, 'removed!']);\n",
       "            Plotly.purge(gd);\n",
       "            observer.disconnect();\n",
       "        }}\n",
       "}});\n",
       "\n",
       "// Listen for the removal of the full notebook cells\n",
       "var notebookContainer = gd.closest('#notebook-container');\n",
       "if (notebookContainer) {{\n",
       "    x.observe(notebookContainer, {childList: true});\n",
       "}}\n",
       "\n",
       "// Listen for the clearing of the current output cell\n",
       "var outputEl = gd.closest('.output');\n",
       "if (outputEl) {{\n",
       "    x.observe(outputEl, {childList: true});\n",
       "}}\n",
       "\n",
       "                        })                };                });            </script>        </div>"
      ]
     },
     "metadata": {},
     "output_type": "display_data"
    }
   ],
   "source": [
    "History = {i:{'white':[], 'black':[]} for i in Uni_players}\n",
    "\n",
    "train['White_Bias'] = 0\n",
    "train['Black_Bias'] = 0\n",
    "\n",
    "test['White_Bias'] = 0\n",
    "test['Black_Bias'] = 0\n",
    "\n",
    "for row in range(0,len(train)):\n",
    "    # Extract current game result and player's names\n",
    "    p1, p2, result = train['white'][row], train['black'][row], train['result'][row]\n",
    "    b1, b2 = History[p1], History[p2]\n",
    "    \n",
    "    train['White_Bias'][row] = sum(b1['white'])/max(len(b1['white']),1) - sum(b1['black'])/max(len(b1['black']),1)  \n",
    "    train['Black_Bias'][row] = sum(b2['black'])/max(len(b2['black']),1) - sum(b2['white'])/max(len(b2['white']),1)\n",
    "    \n",
    "    #Update Scores\n",
    "    if result!=0.5:\n",
    "        History[p1]['white'] = History[p1]['white'] + [result]\n",
    "        History[p2]['black'] = History[p2]['black'] + [1-result] \n",
    "    \n",
    "for i in range(0,len(test)):\n",
    "    # Extract current game result and player's names\n",
    "    p1, p2, result = train['white'][row], train['black'][row], train['result'][row]\n",
    "    \n",
    "    b1, b2 = History[p1], History[p2]   \n",
    "    test['White_Bias'][row] = sum(b1['white'])/max(len(b1['white']),1) - sum(b1['black'])/max(len(b1['black']),1)\n",
    "    test['Black_Bias'][row] = sum(b2['black'])/max(len(b2['black']),1) - sum(b2['white'])/max(len(b2['white']),1)\n",
    "    \n",
    "plot_figures(2,('White_Bias','Black_Bias'), \"First Move Advantage\", deciles, train) "
   ]
  },
  {
   "cell_type": "code",
   "execution_count": 149,
   "id": "da3bc9fd",
   "metadata": {},
   "outputs": [],
   "source": [
    "Common_Matchs = {player:{} for player in Uni_players}\n",
    "\n",
    "train['Direct_wins'] = 0\n",
    "train['Direct_draws'] = 0\n",
    "train['Direst_loses'] = 0\n",
    "\n",
    "train['Common_players_wins'] = 0\n",
    "train['Common_players_draws'] = 0\n",
    "train['Common_players_loses'] = 0\n",
    "\n",
    "test['Direct_wins'] = 0\n",
    "test['Direct_draws'] = 0\n",
    "test['Direst_loses'] = 0\n",
    "\n",
    "test['Common_players_wins'] = 0\n",
    "test['Common_players_draws'] = 0\n",
    "test['Common_players_loses'] = 0\n",
    "\n",
    "\n",
    "def Common_Players_Scores(x,y):\n",
    "    wins = []\n",
    "    loses = []\n",
    "    draw = []\n",
    "\n",
    "    for key in x.keys():\n",
    "        if key in y.keys():\n",
    "            a,b = np.array(x[key])/sum(x[key]), np.array(y[key])/sum(y[key])\n",
    "            wins.append(a[0]-b[0])\n",
    "            draw.append(a[1]-b[1])\n",
    "            loses.append(a[2]-b[2])\n",
    "    \n",
    "    return np.array(wins).mean(), np.array(draw).mean(), np.array(loses).mean()\n",
    "\n",
    "for row in range(0,len(train)):\n",
    "    p1, p2, result = train['white'][row], train['black'][row], train['result'][row]\n",
    "    b1, b2 = Common_Matchs[p1], Common_Matchs[p2]\n",
    "    \n",
    "    \n",
    "    if p2 in b1.keys():\n",
    "        v1 = b1[p2]\n",
    "        v2 = b2[p1]\n",
    "    else:\n",
    "        v1 = [0,0,0]\n",
    "        v2 = [0,0,0]\n",
    "        \n",
    "    train['Direct_wins'][row] = v1[0]\n",
    "    train['Direct_draws'][row] = v1[1]\n",
    "    train['Direst_loses'][row] = v1[2]\n",
    "    \n",
    "    C = Common_Players_Scores(b1,b2)\n",
    "    \n",
    "    train['Common_players_wins'][row] = C[0]\n",
    "    train['Common_players_draws'][row] = C[1]\n",
    "    train['Common_players_loses'][row] = C[2]\n",
    "    \n",
    "    #Update Values\n",
    "    if result == 1:\n",
    "        Common_Matchs[p1][p2] = [v1[0]+1, v1[0], v1[2]]\n",
    "        Common_Matchs[p2][p1] = [v2[0], v2[0], v2[2]+1]\n",
    "    if result == 0.5:\n",
    "        Common_Matchs[p1][p2] = [v1[0], v1[0]+1, v1[2]]\n",
    "        Common_Matchs[p2][p1] = [v2[0], v2[0]+1, v2[2]]\n",
    "    if result == 0:\n",
    "        Common_Matchs[p1][p2] = [v1[0], v1[0], v1[2]+1]\n",
    "        Common_Matchs[p2][p1] = [v2[0]+1, v2[0], v2[2]]\n",
    "\n",
    "for row in range(0,len(test)):\n",
    "    p1, p2 = test['white'][row], test['black'][row]\n",
    "    b1, b2 = Common_Matchs[p1], Common_Matchs[p2]\n",
    "    \n",
    "    \n",
    "    if p2 in b1.keys():\n",
    "        v1 = b1[p2]\n",
    "        v2 = b2[p1]\n",
    "    else:\n",
    "        v1 = [0,0,0]\n",
    "        \n",
    "    test['Direct_wins'][row] = v1[0]\n",
    "    test['Direct_draws'][row] = v1[1]\n",
    "    test['Direst_loses'][row] = v1[2]\n",
    "    \n",
    "    C = Common_Players_Scores(b1,b2)\n",
    "    \n",
    "    test['Common_players_wins'][row] = C[0]\n",
    "    test['Common_players_draws'][row] = C[1]\n",
    "    test['Common_players_loses'][row] = C[2]\n",
    "    "
   ]
  },
  {
   "cell_type": "code",
   "execution_count": 152,
   "id": "49b0f940",
   "metadata": {},
   "outputs": [
    {
     "data": {
      "application/vnd.plotly.v1+json": {
       "config": {
        "plotlyServerURL": "https://plot.ly"
       },
       "data": [
        {
         "coloraxis": "coloraxis",
         "hovertemplate": "x: %{x}<br>y: %{y}<br>color: %{z}<extra></extra>",
         "name": "0",
         "texttemplate": "%{z}",
         "type": "heatmap",
         "x": [
          "Wins",
          "Draws",
          "Loses"
         ],
         "xaxis": "x",
         "y": [
          "0.0",
          "0.86"
         ],
         "yaxis": "y",
         "z": [
          [
           53867,
           61515,
           41317
          ],
          [
           7770,
           6318,
           3323
          ]
         ]
        },
        {
         "coloraxis": "coloraxis",
         "hovertemplate": "x: %{x}<br>y: %{y}<br>color: %{z}<extra></extra>",
         "name": "0",
         "texttemplate": "%{z}",
         "type": "heatmap",
         "x": [
          "Wins",
          "Draws",
          "Loses"
         ],
         "xaxis": "x2",
         "y": [
          "0.0",
          "0.08",
          "1.08"
         ],
         "yaxis": "y2",
         "z": [
          [
           49083,
           54230,
           35975
          ],
          [
           6147,
           6837,
           4427
          ],
          [
           6408,
           6767,
           4236
          ]
         ]
        },
        {
         "coloraxis": "coloraxis",
         "hovertemplate": "x: %{x}<br>y: %{y}<br>color: %{z}<extra></extra>",
         "name": "0",
         "texttemplate": "%{z}",
         "type": "heatmap",
         "x": [
          "Wins",
          "Draws",
          "Loses"
         ],
         "xaxis": "x3",
         "y": [
          "0.0",
          "0.9"
         ],
         "yaxis": "y3",
         "z": [
          [
           56951,
           61040,
           38708
          ],
          [
           4691,
           6793,
           5927
          ]
         ]
        }
       ],
       "layout": {
        "annotations": [
         {
          "font": {
           "size": 16
          },
          "showarrow": false,
          "text": "Direct_wins",
          "x": 0.09999999999999999,
          "xanchor": "center",
          "xref": "paper",
          "y": 1,
          "yanchor": "bottom",
          "yref": "paper"
         },
         {
          "font": {
           "size": 16
          },
          "showarrow": false,
          "text": "Direct_draws",
          "x": 0.5,
          "xanchor": "center",
          "xref": "paper",
          "y": 1,
          "yanchor": "bottom",
          "yref": "paper"
         },
         {
          "font": {
           "size": 16
          },
          "showarrow": false,
          "text": "Direst_loses",
          "x": 0.9,
          "xanchor": "center",
          "xref": "paper",
          "y": 1,
          "yanchor": "bottom",
          "yref": "paper"
         }
        ],
        "coloraxis": {
         "colorbar": {
          "thickness": 25,
          "x": -0.12
         },
         "colorscale": [
          [
           0,
           "rgb(23, 28, 66)"
          ],
          [
           0.09090909090909091,
           "rgb(41, 58, 143)"
          ],
          [
           0.18181818181818182,
           "rgb(11, 102, 189)"
          ],
          [
           0.2727272727272727,
           "rgb(69, 144, 185)"
          ],
          [
           0.36363636363636365,
           "rgb(142, 181, 194)"
          ],
          [
           0.45454545454545453,
           "rgb(210, 216, 219)"
          ],
          [
           0.5454545454545454,
           "rgb(230, 210, 204)"
          ],
          [
           0.6363636363636364,
           "rgb(213, 157, 137)"
          ],
          [
           0.7272727272727273,
           "rgb(196, 101, 72)"
          ],
          [
           0.8181818181818182,
           "rgb(172, 43, 36)"
          ],
          [
           0.9090909090909091,
           "rgb(120, 14, 40)"
          ],
          [
           1,
           "rgb(60, 9, 17)"
          ]
         ],
         "showscale": false
        },
        "coloraxis2": {
         "colorbar": {
          "thickness": 25
         },
         "colorscale": [
          [
           0,
           "rgb(20, 29, 67)"
          ],
          [
           0.09090909090909091,
           "rgb(28, 72, 93)"
          ],
          [
           0.18181818181818182,
           "rgb(18, 115, 117)"
          ],
          [
           0.2727272727272727,
           "rgb(63, 156, 129)"
          ],
          [
           0.36363636363636365,
           "rgb(153, 189, 156)"
          ],
          [
           0.45454545454545453,
           "rgb(223, 225, 211)"
          ],
          [
           0.5454545454545454,
           "rgb(241, 218, 206)"
          ],
          [
           0.6363636363636364,
           "rgb(224, 160, 137)"
          ],
          [
           0.7272727272727273,
           "rgb(203, 101, 99)"
          ],
          [
           0.8181818181818182,
           "rgb(164, 54, 96)"
          ],
          [
           0.9090909090909091,
           "rgb(111, 23, 91)"
          ],
          [
           1,
           "rgb(51, 13, 53)"
          ]
         ],
         "showscale": false
        },
        "template": {
         "data": {
          "bar": [
           {
            "error_x": {
             "color": "#2a3f5f"
            },
            "error_y": {
             "color": "#2a3f5f"
            },
            "marker": {
             "line": {
              "color": "#E5ECF6",
              "width": 0.5
             },
             "pattern": {
              "fillmode": "overlay",
              "size": 10,
              "solidity": 0.2
             }
            },
            "type": "bar"
           }
          ],
          "barpolar": [
           {
            "marker": {
             "line": {
              "color": "#E5ECF6",
              "width": 0.5
             },
             "pattern": {
              "fillmode": "overlay",
              "size": 10,
              "solidity": 0.2
             }
            },
            "type": "barpolar"
           }
          ],
          "carpet": [
           {
            "aaxis": {
             "endlinecolor": "#2a3f5f",
             "gridcolor": "white",
             "linecolor": "white",
             "minorgridcolor": "white",
             "startlinecolor": "#2a3f5f"
            },
            "baxis": {
             "endlinecolor": "#2a3f5f",
             "gridcolor": "white",
             "linecolor": "white",
             "minorgridcolor": "white",
             "startlinecolor": "#2a3f5f"
            },
            "type": "carpet"
           }
          ],
          "choropleth": [
           {
            "colorbar": {
             "outlinewidth": 0,
             "ticks": ""
            },
            "type": "choropleth"
           }
          ],
          "contour": [
           {
            "colorbar": {
             "outlinewidth": 0,
             "ticks": ""
            },
            "colorscale": [
             [
              0,
              "#0d0887"
             ],
             [
              0.1111111111111111,
              "#46039f"
             ],
             [
              0.2222222222222222,
              "#7201a8"
             ],
             [
              0.3333333333333333,
              "#9c179e"
             ],
             [
              0.4444444444444444,
              "#bd3786"
             ],
             [
              0.5555555555555556,
              "#d8576b"
             ],
             [
              0.6666666666666666,
              "#ed7953"
             ],
             [
              0.7777777777777778,
              "#fb9f3a"
             ],
             [
              0.8888888888888888,
              "#fdca26"
             ],
             [
              1,
              "#f0f921"
             ]
            ],
            "type": "contour"
           }
          ],
          "contourcarpet": [
           {
            "colorbar": {
             "outlinewidth": 0,
             "ticks": ""
            },
            "type": "contourcarpet"
           }
          ],
          "heatmap": [
           {
            "colorbar": {
             "outlinewidth": 0,
             "ticks": ""
            },
            "colorscale": [
             [
              0,
              "#0d0887"
             ],
             [
              0.1111111111111111,
              "#46039f"
             ],
             [
              0.2222222222222222,
              "#7201a8"
             ],
             [
              0.3333333333333333,
              "#9c179e"
             ],
             [
              0.4444444444444444,
              "#bd3786"
             ],
             [
              0.5555555555555556,
              "#d8576b"
             ],
             [
              0.6666666666666666,
              "#ed7953"
             ],
             [
              0.7777777777777778,
              "#fb9f3a"
             ],
             [
              0.8888888888888888,
              "#fdca26"
             ],
             [
              1,
              "#f0f921"
             ]
            ],
            "type": "heatmap"
           }
          ],
          "heatmapgl": [
           {
            "colorbar": {
             "outlinewidth": 0,
             "ticks": ""
            },
            "colorscale": [
             [
              0,
              "#0d0887"
             ],
             [
              0.1111111111111111,
              "#46039f"
             ],
             [
              0.2222222222222222,
              "#7201a8"
             ],
             [
              0.3333333333333333,
              "#9c179e"
             ],
             [
              0.4444444444444444,
              "#bd3786"
             ],
             [
              0.5555555555555556,
              "#d8576b"
             ],
             [
              0.6666666666666666,
              "#ed7953"
             ],
             [
              0.7777777777777778,
              "#fb9f3a"
             ],
             [
              0.8888888888888888,
              "#fdca26"
             ],
             [
              1,
              "#f0f921"
             ]
            ],
            "type": "heatmapgl"
           }
          ],
          "histogram": [
           {
            "marker": {
             "pattern": {
              "fillmode": "overlay",
              "size": 10,
              "solidity": 0.2
             }
            },
            "type": "histogram"
           }
          ],
          "histogram2d": [
           {
            "colorbar": {
             "outlinewidth": 0,
             "ticks": ""
            },
            "colorscale": [
             [
              0,
              "#0d0887"
             ],
             [
              0.1111111111111111,
              "#46039f"
             ],
             [
              0.2222222222222222,
              "#7201a8"
             ],
             [
              0.3333333333333333,
              "#9c179e"
             ],
             [
              0.4444444444444444,
              "#bd3786"
             ],
             [
              0.5555555555555556,
              "#d8576b"
             ],
             [
              0.6666666666666666,
              "#ed7953"
             ],
             [
              0.7777777777777778,
              "#fb9f3a"
             ],
             [
              0.8888888888888888,
              "#fdca26"
             ],
             [
              1,
              "#f0f921"
             ]
            ],
            "type": "histogram2d"
           }
          ],
          "histogram2dcontour": [
           {
            "colorbar": {
             "outlinewidth": 0,
             "ticks": ""
            },
            "colorscale": [
             [
              0,
              "#0d0887"
             ],
             [
              0.1111111111111111,
              "#46039f"
             ],
             [
              0.2222222222222222,
              "#7201a8"
             ],
             [
              0.3333333333333333,
              "#9c179e"
             ],
             [
              0.4444444444444444,
              "#bd3786"
             ],
             [
              0.5555555555555556,
              "#d8576b"
             ],
             [
              0.6666666666666666,
              "#ed7953"
             ],
             [
              0.7777777777777778,
              "#fb9f3a"
             ],
             [
              0.8888888888888888,
              "#fdca26"
             ],
             [
              1,
              "#f0f921"
             ]
            ],
            "type": "histogram2dcontour"
           }
          ],
          "mesh3d": [
           {
            "colorbar": {
             "outlinewidth": 0,
             "ticks": ""
            },
            "type": "mesh3d"
           }
          ],
          "parcoords": [
           {
            "line": {
             "colorbar": {
              "outlinewidth": 0,
              "ticks": ""
             }
            },
            "type": "parcoords"
           }
          ],
          "pie": [
           {
            "automargin": true,
            "type": "pie"
           }
          ],
          "scatter": [
           {
            "marker": {
             "colorbar": {
              "outlinewidth": 0,
              "ticks": ""
             }
            },
            "type": "scatter"
           }
          ],
          "scatter3d": [
           {
            "line": {
             "colorbar": {
              "outlinewidth": 0,
              "ticks": ""
             }
            },
            "marker": {
             "colorbar": {
              "outlinewidth": 0,
              "ticks": ""
             }
            },
            "type": "scatter3d"
           }
          ],
          "scattercarpet": [
           {
            "marker": {
             "colorbar": {
              "outlinewidth": 0,
              "ticks": ""
             }
            },
            "type": "scattercarpet"
           }
          ],
          "scattergeo": [
           {
            "marker": {
             "colorbar": {
              "outlinewidth": 0,
              "ticks": ""
             }
            },
            "type": "scattergeo"
           }
          ],
          "scattergl": [
           {
            "marker": {
             "colorbar": {
              "outlinewidth": 0,
              "ticks": ""
             }
            },
            "type": "scattergl"
           }
          ],
          "scattermapbox": [
           {
            "marker": {
             "colorbar": {
              "outlinewidth": 0,
              "ticks": ""
             }
            },
            "type": "scattermapbox"
           }
          ],
          "scatterpolar": [
           {
            "marker": {
             "colorbar": {
              "outlinewidth": 0,
              "ticks": ""
             }
            },
            "type": "scatterpolar"
           }
          ],
          "scatterpolargl": [
           {
            "marker": {
             "colorbar": {
              "outlinewidth": 0,
              "ticks": ""
             }
            },
            "type": "scatterpolargl"
           }
          ],
          "scatterternary": [
           {
            "marker": {
             "colorbar": {
              "outlinewidth": 0,
              "ticks": ""
             }
            },
            "type": "scatterternary"
           }
          ],
          "surface": [
           {
            "colorbar": {
             "outlinewidth": 0,
             "ticks": ""
            },
            "colorscale": [
             [
              0,
              "#0d0887"
             ],
             [
              0.1111111111111111,
              "#46039f"
             ],
             [
              0.2222222222222222,
              "#7201a8"
             ],
             [
              0.3333333333333333,
              "#9c179e"
             ],
             [
              0.4444444444444444,
              "#bd3786"
             ],
             [
              0.5555555555555556,
              "#d8576b"
             ],
             [
              0.6666666666666666,
              "#ed7953"
             ],
             [
              0.7777777777777778,
              "#fb9f3a"
             ],
             [
              0.8888888888888888,
              "#fdca26"
             ],
             [
              1,
              "#f0f921"
             ]
            ],
            "type": "surface"
           }
          ],
          "table": [
           {
            "cells": {
             "fill": {
              "color": "#EBF0F8"
             },
             "line": {
              "color": "white"
             }
            },
            "header": {
             "fill": {
              "color": "#C8D4E3"
             },
             "line": {
              "color": "white"
             }
            },
            "type": "table"
           }
          ]
         },
         "layout": {
          "annotationdefaults": {
           "arrowcolor": "#2a3f5f",
           "arrowhead": 0,
           "arrowwidth": 1
          },
          "autotypenumbers": "strict",
          "coloraxis": {
           "colorbar": {
            "outlinewidth": 0,
            "ticks": ""
           }
          },
          "colorscale": {
           "diverging": [
            [
             0,
             "#8e0152"
            ],
            [
             0.1,
             "#c51b7d"
            ],
            [
             0.2,
             "#de77ae"
            ],
            [
             0.3,
             "#f1b6da"
            ],
            [
             0.4,
             "#fde0ef"
            ],
            [
             0.5,
             "#f7f7f7"
            ],
            [
             0.6,
             "#e6f5d0"
            ],
            [
             0.7,
             "#b8e186"
            ],
            [
             0.8,
             "#7fbc41"
            ],
            [
             0.9,
             "#4d9221"
            ],
            [
             1,
             "#276419"
            ]
           ],
           "sequential": [
            [
             0,
             "#0d0887"
            ],
            [
             0.1111111111111111,
             "#46039f"
            ],
            [
             0.2222222222222222,
             "#7201a8"
            ],
            [
             0.3333333333333333,
             "#9c179e"
            ],
            [
             0.4444444444444444,
             "#bd3786"
            ],
            [
             0.5555555555555556,
             "#d8576b"
            ],
            [
             0.6666666666666666,
             "#ed7953"
            ],
            [
             0.7777777777777778,
             "#fb9f3a"
            ],
            [
             0.8888888888888888,
             "#fdca26"
            ],
            [
             1,
             "#f0f921"
            ]
           ],
           "sequentialminus": [
            [
             0,
             "#0d0887"
            ],
            [
             0.1111111111111111,
             "#46039f"
            ],
            [
             0.2222222222222222,
             "#7201a8"
            ],
            [
             0.3333333333333333,
             "#9c179e"
            ],
            [
             0.4444444444444444,
             "#bd3786"
            ],
            [
             0.5555555555555556,
             "#d8576b"
            ],
            [
             0.6666666666666666,
             "#ed7953"
            ],
            [
             0.7777777777777778,
             "#fb9f3a"
            ],
            [
             0.8888888888888888,
             "#fdca26"
            ],
            [
             1,
             "#f0f921"
            ]
           ]
          },
          "colorway": [
           "#636efa",
           "#EF553B",
           "#00cc96",
           "#ab63fa",
           "#FFA15A",
           "#19d3f3",
           "#FF6692",
           "#B6E880",
           "#FF97FF",
           "#FECB52"
          ],
          "font": {
           "color": "#2a3f5f"
          },
          "geo": {
           "bgcolor": "white",
           "lakecolor": "white",
           "landcolor": "#E5ECF6",
           "showlakes": true,
           "showland": true,
           "subunitcolor": "white"
          },
          "hoverlabel": {
           "align": "left"
          },
          "hovermode": "closest",
          "mapbox": {
           "style": "light"
          },
          "paper_bgcolor": "white",
          "plot_bgcolor": "#E5ECF6",
          "polar": {
           "angularaxis": {
            "gridcolor": "white",
            "linecolor": "white",
            "ticks": ""
           },
           "bgcolor": "#E5ECF6",
           "radialaxis": {
            "gridcolor": "white",
            "linecolor": "white",
            "ticks": ""
           }
          },
          "scene": {
           "xaxis": {
            "backgroundcolor": "#E5ECF6",
            "gridcolor": "white",
            "gridwidth": 2,
            "linecolor": "white",
            "showbackground": true,
            "ticks": "",
            "zerolinecolor": "white"
           },
           "yaxis": {
            "backgroundcolor": "#E5ECF6",
            "gridcolor": "white",
            "gridwidth": 2,
            "linecolor": "white",
            "showbackground": true,
            "ticks": "",
            "zerolinecolor": "white"
           },
           "zaxis": {
            "backgroundcolor": "#E5ECF6",
            "gridcolor": "white",
            "gridwidth": 2,
            "linecolor": "white",
            "showbackground": true,
            "ticks": "",
            "zerolinecolor": "white"
           }
          },
          "shapedefaults": {
           "line": {
            "color": "#2a3f5f"
           }
          },
          "ternary": {
           "aaxis": {
            "gridcolor": "white",
            "linecolor": "white",
            "ticks": ""
           },
           "baxis": {
            "gridcolor": "white",
            "linecolor": "white",
            "ticks": ""
           },
           "bgcolor": "#E5ECF6",
           "caxis": {
            "gridcolor": "white",
            "linecolor": "white",
            "ticks": ""
           }
          },
          "title": {
           "x": 0.05
          },
          "xaxis": {
           "automargin": true,
           "gridcolor": "white",
           "linecolor": "white",
           "ticks": "",
           "title": {
            "standoff": 15
           },
           "zerolinecolor": "white",
           "zerolinewidth": 2
          },
          "yaxis": {
           "automargin": true,
           "gridcolor": "white",
           "linecolor": "white",
           "ticks": "",
           "title": {
            "standoff": 15
           },
           "zerolinecolor": "white",
           "zerolinewidth": 2
          }
         }
        },
        "title": {
         "text": "Direct Games Outcome",
         "x": 0
        },
        "xaxis": {
         "anchor": "y",
         "domain": [
          0,
          0.19999999999999998
         ]
        },
        "xaxis2": {
         "anchor": "y2",
         "domain": [
          0.4,
          0.6
         ]
        },
        "xaxis3": {
         "anchor": "y3",
         "domain": [
          0.8,
          1
         ]
        },
        "yaxis": {
         "anchor": "x",
         "domain": [
          0,
          1
         ]
        },
        "yaxis2": {
         "anchor": "x2",
         "domain": [
          0,
          1
         ]
        },
        "yaxis3": {
         "anchor": "x3",
         "domain": [
          0,
          1
         ]
        }
       }
      },
      "text/html": [
       "<div>                            <div id=\"1180510e-963f-45c9-93f3-73762c6309c0\" class=\"plotly-graph-div\" style=\"height:525px; width:100%;\"></div>            <script type=\"text/javascript\">                require([\"plotly\"], function(Plotly) {                    window.PLOTLYENV=window.PLOTLYENV || {};                                    if (document.getElementById(\"1180510e-963f-45c9-93f3-73762c6309c0\")) {                    Plotly.newPlot(                        \"1180510e-963f-45c9-93f3-73762c6309c0\",                        [{\"coloraxis\":\"coloraxis\",\"hovertemplate\":\"x: %{x}<br>y: %{y}<br>color: %{z}<extra></extra>\",\"name\":\"0\",\"texttemplate\":\"%{z}\",\"x\":[\"Wins\",\"Draws\",\"Loses\"],\"xaxis\":\"x\",\"y\":[\"0.0\",\"0.86\"],\"yaxis\":\"y\",\"z\":[[53867,61515,41317],[7770,6318,3323]],\"type\":\"heatmap\"},{\"coloraxis\":\"coloraxis\",\"hovertemplate\":\"x: %{x}<br>y: %{y}<br>color: %{z}<extra></extra>\",\"name\":\"0\",\"texttemplate\":\"%{z}\",\"x\":[\"Wins\",\"Draws\",\"Loses\"],\"xaxis\":\"x2\",\"y\":[\"0.0\",\"0.08\",\"1.08\"],\"yaxis\":\"y2\",\"z\":[[49083,54230,35975],[6147,6837,4427],[6408,6767,4236]],\"type\":\"heatmap\"},{\"coloraxis\":\"coloraxis\",\"hovertemplate\":\"x: %{x}<br>y: %{y}<br>color: %{z}<extra></extra>\",\"name\":\"0\",\"texttemplate\":\"%{z}\",\"x\":[\"Wins\",\"Draws\",\"Loses\"],\"xaxis\":\"x3\",\"y\":[\"0.0\",\"0.9\"],\"yaxis\":\"y3\",\"z\":[[56951,61040,38708],[4691,6793,5927]],\"type\":\"heatmap\"}],                        {\"template\":{\"data\":{\"bar\":[{\"error_x\":{\"color\":\"#2a3f5f\"},\"error_y\":{\"color\":\"#2a3f5f\"},\"marker\":{\"line\":{\"color\":\"#E5ECF6\",\"width\":0.5},\"pattern\":{\"fillmode\":\"overlay\",\"size\":10,\"solidity\":0.2}},\"type\":\"bar\"}],\"barpolar\":[{\"marker\":{\"line\":{\"color\":\"#E5ECF6\",\"width\":0.5},\"pattern\":{\"fillmode\":\"overlay\",\"size\":10,\"solidity\":0.2}},\"type\":\"barpolar\"}],\"carpet\":[{\"aaxis\":{\"endlinecolor\":\"#2a3f5f\",\"gridcolor\":\"white\",\"linecolor\":\"white\",\"minorgridcolor\":\"white\",\"startlinecolor\":\"#2a3f5f\"},\"baxis\":{\"endlinecolor\":\"#2a3f5f\",\"gridcolor\":\"white\",\"linecolor\":\"white\",\"minorgridcolor\":\"white\",\"startlinecolor\":\"#2a3f5f\"},\"type\":\"carpet\"}],\"choropleth\":[{\"colorbar\":{\"outlinewidth\":0,\"ticks\":\"\"},\"type\":\"choropleth\"}],\"contour\":[{\"colorbar\":{\"outlinewidth\":0,\"ticks\":\"\"},\"colorscale\":[[0.0,\"#0d0887\"],[0.1111111111111111,\"#46039f\"],[0.2222222222222222,\"#7201a8\"],[0.3333333333333333,\"#9c179e\"],[0.4444444444444444,\"#bd3786\"],[0.5555555555555556,\"#d8576b\"],[0.6666666666666666,\"#ed7953\"],[0.7777777777777778,\"#fb9f3a\"],[0.8888888888888888,\"#fdca26\"],[1.0,\"#f0f921\"]],\"type\":\"contour\"}],\"contourcarpet\":[{\"colorbar\":{\"outlinewidth\":0,\"ticks\":\"\"},\"type\":\"contourcarpet\"}],\"heatmap\":[{\"colorbar\":{\"outlinewidth\":0,\"ticks\":\"\"},\"colorscale\":[[0.0,\"#0d0887\"],[0.1111111111111111,\"#46039f\"],[0.2222222222222222,\"#7201a8\"],[0.3333333333333333,\"#9c179e\"],[0.4444444444444444,\"#bd3786\"],[0.5555555555555556,\"#d8576b\"],[0.6666666666666666,\"#ed7953\"],[0.7777777777777778,\"#fb9f3a\"],[0.8888888888888888,\"#fdca26\"],[1.0,\"#f0f921\"]],\"type\":\"heatmap\"}],\"heatmapgl\":[{\"colorbar\":{\"outlinewidth\":0,\"ticks\":\"\"},\"colorscale\":[[0.0,\"#0d0887\"],[0.1111111111111111,\"#46039f\"],[0.2222222222222222,\"#7201a8\"],[0.3333333333333333,\"#9c179e\"],[0.4444444444444444,\"#bd3786\"],[0.5555555555555556,\"#d8576b\"],[0.6666666666666666,\"#ed7953\"],[0.7777777777777778,\"#fb9f3a\"],[0.8888888888888888,\"#fdca26\"],[1.0,\"#f0f921\"]],\"type\":\"heatmapgl\"}],\"histogram\":[{\"marker\":{\"pattern\":{\"fillmode\":\"overlay\",\"size\":10,\"solidity\":0.2}},\"type\":\"histogram\"}],\"histogram2d\":[{\"colorbar\":{\"outlinewidth\":0,\"ticks\":\"\"},\"colorscale\":[[0.0,\"#0d0887\"],[0.1111111111111111,\"#46039f\"],[0.2222222222222222,\"#7201a8\"],[0.3333333333333333,\"#9c179e\"],[0.4444444444444444,\"#bd3786\"],[0.5555555555555556,\"#d8576b\"],[0.6666666666666666,\"#ed7953\"],[0.7777777777777778,\"#fb9f3a\"],[0.8888888888888888,\"#fdca26\"],[1.0,\"#f0f921\"]],\"type\":\"histogram2d\"}],\"histogram2dcontour\":[{\"colorbar\":{\"outlinewidth\":0,\"ticks\":\"\"},\"colorscale\":[[0.0,\"#0d0887\"],[0.1111111111111111,\"#46039f\"],[0.2222222222222222,\"#7201a8\"],[0.3333333333333333,\"#9c179e\"],[0.4444444444444444,\"#bd3786\"],[0.5555555555555556,\"#d8576b\"],[0.6666666666666666,\"#ed7953\"],[0.7777777777777778,\"#fb9f3a\"],[0.8888888888888888,\"#fdca26\"],[1.0,\"#f0f921\"]],\"type\":\"histogram2dcontour\"}],\"mesh3d\":[{\"colorbar\":{\"outlinewidth\":0,\"ticks\":\"\"},\"type\":\"mesh3d\"}],\"parcoords\":[{\"line\":{\"colorbar\":{\"outlinewidth\":0,\"ticks\":\"\"}},\"type\":\"parcoords\"}],\"pie\":[{\"automargin\":true,\"type\":\"pie\"}],\"scatter\":[{\"marker\":{\"colorbar\":{\"outlinewidth\":0,\"ticks\":\"\"}},\"type\":\"scatter\"}],\"scatter3d\":[{\"line\":{\"colorbar\":{\"outlinewidth\":0,\"ticks\":\"\"}},\"marker\":{\"colorbar\":{\"outlinewidth\":0,\"ticks\":\"\"}},\"type\":\"scatter3d\"}],\"scattercarpet\":[{\"marker\":{\"colorbar\":{\"outlinewidth\":0,\"ticks\":\"\"}},\"type\":\"scattercarpet\"}],\"scattergeo\":[{\"marker\":{\"colorbar\":{\"outlinewidth\":0,\"ticks\":\"\"}},\"type\":\"scattergeo\"}],\"scattergl\":[{\"marker\":{\"colorbar\":{\"outlinewidth\":0,\"ticks\":\"\"}},\"type\":\"scattergl\"}],\"scattermapbox\":[{\"marker\":{\"colorbar\":{\"outlinewidth\":0,\"ticks\":\"\"}},\"type\":\"scattermapbox\"}],\"scatterpolar\":[{\"marker\":{\"colorbar\":{\"outlinewidth\":0,\"ticks\":\"\"}},\"type\":\"scatterpolar\"}],\"scatterpolargl\":[{\"marker\":{\"colorbar\":{\"outlinewidth\":0,\"ticks\":\"\"}},\"type\":\"scatterpolargl\"}],\"scatterternary\":[{\"marker\":{\"colorbar\":{\"outlinewidth\":0,\"ticks\":\"\"}},\"type\":\"scatterternary\"}],\"surface\":[{\"colorbar\":{\"outlinewidth\":0,\"ticks\":\"\"},\"colorscale\":[[0.0,\"#0d0887\"],[0.1111111111111111,\"#46039f\"],[0.2222222222222222,\"#7201a8\"],[0.3333333333333333,\"#9c179e\"],[0.4444444444444444,\"#bd3786\"],[0.5555555555555556,\"#d8576b\"],[0.6666666666666666,\"#ed7953\"],[0.7777777777777778,\"#fb9f3a\"],[0.8888888888888888,\"#fdca26\"],[1.0,\"#f0f921\"]],\"type\":\"surface\"}],\"table\":[{\"cells\":{\"fill\":{\"color\":\"#EBF0F8\"},\"line\":{\"color\":\"white\"}},\"header\":{\"fill\":{\"color\":\"#C8D4E3\"},\"line\":{\"color\":\"white\"}},\"type\":\"table\"}]},\"layout\":{\"annotationdefaults\":{\"arrowcolor\":\"#2a3f5f\",\"arrowhead\":0,\"arrowwidth\":1},\"autotypenumbers\":\"strict\",\"coloraxis\":{\"colorbar\":{\"outlinewidth\":0,\"ticks\":\"\"}},\"colorscale\":{\"diverging\":[[0,\"#8e0152\"],[0.1,\"#c51b7d\"],[0.2,\"#de77ae\"],[0.3,\"#f1b6da\"],[0.4,\"#fde0ef\"],[0.5,\"#f7f7f7\"],[0.6,\"#e6f5d0\"],[0.7,\"#b8e186\"],[0.8,\"#7fbc41\"],[0.9,\"#4d9221\"],[1,\"#276419\"]],\"sequential\":[[0.0,\"#0d0887\"],[0.1111111111111111,\"#46039f\"],[0.2222222222222222,\"#7201a8\"],[0.3333333333333333,\"#9c179e\"],[0.4444444444444444,\"#bd3786\"],[0.5555555555555556,\"#d8576b\"],[0.6666666666666666,\"#ed7953\"],[0.7777777777777778,\"#fb9f3a\"],[0.8888888888888888,\"#fdca26\"],[1.0,\"#f0f921\"]],\"sequentialminus\":[[0.0,\"#0d0887\"],[0.1111111111111111,\"#46039f\"],[0.2222222222222222,\"#7201a8\"],[0.3333333333333333,\"#9c179e\"],[0.4444444444444444,\"#bd3786\"],[0.5555555555555556,\"#d8576b\"],[0.6666666666666666,\"#ed7953\"],[0.7777777777777778,\"#fb9f3a\"],[0.8888888888888888,\"#fdca26\"],[1.0,\"#f0f921\"]]},\"colorway\":[\"#636efa\",\"#EF553B\",\"#00cc96\",\"#ab63fa\",\"#FFA15A\",\"#19d3f3\",\"#FF6692\",\"#B6E880\",\"#FF97FF\",\"#FECB52\"],\"font\":{\"color\":\"#2a3f5f\"},\"geo\":{\"bgcolor\":\"white\",\"lakecolor\":\"white\",\"landcolor\":\"#E5ECF6\",\"showlakes\":true,\"showland\":true,\"subunitcolor\":\"white\"},\"hoverlabel\":{\"align\":\"left\"},\"hovermode\":\"closest\",\"mapbox\":{\"style\":\"light\"},\"paper_bgcolor\":\"white\",\"plot_bgcolor\":\"#E5ECF6\",\"polar\":{\"angularaxis\":{\"gridcolor\":\"white\",\"linecolor\":\"white\",\"ticks\":\"\"},\"bgcolor\":\"#E5ECF6\",\"radialaxis\":{\"gridcolor\":\"white\",\"linecolor\":\"white\",\"ticks\":\"\"}},\"scene\":{\"xaxis\":{\"backgroundcolor\":\"#E5ECF6\",\"gridcolor\":\"white\",\"gridwidth\":2,\"linecolor\":\"white\",\"showbackground\":true,\"ticks\":\"\",\"zerolinecolor\":\"white\"},\"yaxis\":{\"backgroundcolor\":\"#E5ECF6\",\"gridcolor\":\"white\",\"gridwidth\":2,\"linecolor\":\"white\",\"showbackground\":true,\"ticks\":\"\",\"zerolinecolor\":\"white\"},\"zaxis\":{\"backgroundcolor\":\"#E5ECF6\",\"gridcolor\":\"white\",\"gridwidth\":2,\"linecolor\":\"white\",\"showbackground\":true,\"ticks\":\"\",\"zerolinecolor\":\"white\"}},\"shapedefaults\":{\"line\":{\"color\":\"#2a3f5f\"}},\"ternary\":{\"aaxis\":{\"gridcolor\":\"white\",\"linecolor\":\"white\",\"ticks\":\"\"},\"baxis\":{\"gridcolor\":\"white\",\"linecolor\":\"white\",\"ticks\":\"\"},\"bgcolor\":\"#E5ECF6\",\"caxis\":{\"gridcolor\":\"white\",\"linecolor\":\"white\",\"ticks\":\"\"}},\"title\":{\"x\":0.05},\"xaxis\":{\"automargin\":true,\"gridcolor\":\"white\",\"linecolor\":\"white\",\"ticks\":\"\",\"title\":{\"standoff\":15},\"zerolinecolor\":\"white\",\"zerolinewidth\":2},\"yaxis\":{\"automargin\":true,\"gridcolor\":\"white\",\"linecolor\":\"white\",\"ticks\":\"\",\"title\":{\"standoff\":15},\"zerolinecolor\":\"white\",\"zerolinewidth\":2}}},\"xaxis\":{\"anchor\":\"y\",\"domain\":[0.0,0.19999999999999998]},\"yaxis\":{\"anchor\":\"x\",\"domain\":[0.0,1.0]},\"xaxis2\":{\"anchor\":\"y2\",\"domain\":[0.4,0.6]},\"yaxis2\":{\"anchor\":\"x2\",\"domain\":[0.0,1.0]},\"xaxis3\":{\"anchor\":\"y3\",\"domain\":[0.8,1.0]},\"yaxis3\":{\"anchor\":\"x3\",\"domain\":[0.0,1.0]},\"annotations\":[{\"font\":{\"size\":16},\"showarrow\":false,\"text\":\"Direct_wins\",\"x\":0.09999999999999999,\"xanchor\":\"center\",\"xref\":\"paper\",\"y\":1.0,\"yanchor\":\"bottom\",\"yref\":\"paper\"},{\"font\":{\"size\":16},\"showarrow\":false,\"text\":\"Direct_draws\",\"x\":0.5,\"xanchor\":\"center\",\"xref\":\"paper\",\"y\":1.0,\"yanchor\":\"bottom\",\"yref\":\"paper\"},{\"font\":{\"size\":16},\"showarrow\":false,\"text\":\"Direst_loses\",\"x\":0.9,\"xanchor\":\"center\",\"xref\":\"paper\",\"y\":1.0,\"yanchor\":\"bottom\",\"yref\":\"paper\"}],\"title\":{\"text\":\"Direct Games Outcome\",\"x\":0},\"coloraxis\":{\"colorbar\":{\"thickness\":25,\"x\":-0.12},\"colorscale\":[[0.0,\"rgb(23, 28, 66)\"],[0.09090909090909091,\"rgb(41, 58, 143)\"],[0.18181818181818182,\"rgb(11, 102, 189)\"],[0.2727272727272727,\"rgb(69, 144, 185)\"],[0.36363636363636365,\"rgb(142, 181, 194)\"],[0.45454545454545453,\"rgb(210, 216, 219)\"],[0.5454545454545454,\"rgb(230, 210, 204)\"],[0.6363636363636364,\"rgb(213, 157, 137)\"],[0.7272727272727273,\"rgb(196, 101, 72)\"],[0.8181818181818182,\"rgb(172, 43, 36)\"],[0.9090909090909091,\"rgb(120, 14, 40)\"],[1.0,\"rgb(60, 9, 17)\"]],\"showscale\":false},\"coloraxis2\":{\"colorscale\":[[0.0,\"rgb(20, 29, 67)\"],[0.09090909090909091,\"rgb(28, 72, 93)\"],[0.18181818181818182,\"rgb(18, 115, 117)\"],[0.2727272727272727,\"rgb(63, 156, 129)\"],[0.36363636363636365,\"rgb(153, 189, 156)\"],[0.45454545454545453,\"rgb(223, 225, 211)\"],[0.5454545454545454,\"rgb(241, 218, 206)\"],[0.6363636363636364,\"rgb(224, 160, 137)\"],[0.7272727272727273,\"rgb(203, 101, 99)\"],[0.8181818181818182,\"rgb(164, 54, 96)\"],[0.9090909090909091,\"rgb(111, 23, 91)\"],[1.0,\"rgb(51, 13, 53)\"]],\"colorbar\":{\"thickness\":25},\"showscale\":false}},                        {\"responsive\": true}                    ).then(function(){\n",
       "                            \n",
       "var gd = document.getElementById('1180510e-963f-45c9-93f3-73762c6309c0');\n",
       "var x = new MutationObserver(function (mutations, observer) {{\n",
       "        var display = window.getComputedStyle(gd).display;\n",
       "        if (!display || display === 'none') {{\n",
       "            console.log([gd, 'removed!']);\n",
       "            Plotly.purge(gd);\n",
       "            observer.disconnect();\n",
       "        }}\n",
       "}});\n",
       "\n",
       "// Listen for the removal of the full notebook cells\n",
       "var notebookContainer = gd.closest('#notebook-container');\n",
       "if (notebookContainer) {{\n",
       "    x.observe(notebookContainer, {childList: true});\n",
       "}}\n",
       "\n",
       "// Listen for the clearing of the current output cell\n",
       "var outputEl = gd.closest('.output');\n",
       "if (outputEl) {{\n",
       "    x.observe(outputEl, {childList: true});\n",
       "}}\n",
       "\n",
       "                        })                };                });            </script>        </div>"
      ]
     },
     "metadata": {},
     "output_type": "display_data"
    },
    {
     "data": {
      "application/vnd.plotly.v1+json": {
       "config": {
        "plotlyServerURL": "https://plot.ly"
       },
       "data": [
        {
         "coloraxis": "coloraxis",
         "hovertemplate": "x: %{x}<br>y: %{y}<br>color: %{z}<extra></extra>",
         "name": "0",
         "texttemplate": "%{z}",
         "type": "heatmap",
         "x": [
          "Wins",
          "Draws",
          "Loses"
         ],
         "xaxis": "x",
         "y": [
          "-0.49",
          "-0.22",
          "-0.12",
          "-0.04",
          "0.0",
          "0.05",
          "0.13",
          "0.24",
          "0.53",
          "nan"
         ],
         "yaxis": "y",
         "z": [
          [
           3894,
           6553,
           6964
          ],
          [
           4116,
           6677,
           6618
          ],
          [
           4744,
           6942,
           5725
          ],
          [
           5661,
           6909,
           4841
          ],
          [
           6009,
           7281,
           4121
          ],
          [
           6752,
           6811,
           3848
          ],
          [
           7752,
           6573,
           3086
          ],
          [
           8746,
           6098,
           2567
          ],
          [
           8015,
           6650,
           2746
          ],
          [
           5952,
           7337,
           4122
          ]
         ]
        },
        {
         "coloraxis": "coloraxis",
         "hovertemplate": "x: %{x}<br>y: %{y}<br>color: %{z}<extra></extra>",
         "name": "0",
         "texttemplate": "%{z}",
         "type": "heatmap",
         "x": [
          "Wins",
          "Draws",
          "Loses"
         ],
         "xaxis": "x2",
         "y": [
          "-0.49",
          "-0.18",
          "-0.1",
          "-0.03",
          "0.0",
          "0.04",
          "0.11",
          "0.21",
          "0.54",
          "nan"
         ],
         "yaxis": "y2",
         "z": [
          [
           6101,
           6870,
           4440
          ],
          [
           6148,
           6566,
           4697
          ],
          [
           6269,
           6439,
           4703
          ],
          [
           6158,
           6617,
           4636
          ],
          [
           6121,
           7003,
           4287
          ],
          [
           6302,
           6559,
           4550
          ],
          [
           6221,
           6556,
           4634
          ],
          [
           6327,
           6609,
           4475
          ],
          [
           6042,
           7275,
           4094
          ],
          [
           5952,
           7337,
           4122
          ]
         ]
        },
        {
         "coloraxis": "coloraxis",
         "hovertemplate": "x: %{x}<br>y: %{y}<br>color: %{z}<extra></extra>",
         "name": "0",
         "texttemplate": "%{z}",
         "type": "heatmap",
         "x": [
          "Wins",
          "Draws",
          "Loses"
         ],
         "xaxis": "x3",
         "y": [
          "-0.5",
          "-0.22",
          "-0.12",
          "-0.04",
          "0.0",
          "0.05",
          "0.13",
          "0.24",
          "0.54",
          "nan"
         ],
         "yaxis": "y3",
         "z": [
          [
           8826,
           6141,
           2444
          ],
          [
           8352,
           6316,
           2743
          ],
          [
           7560,
           6608,
           3243
          ],
          [
           6503,
           6907,
           4001
          ],
          [
           6079,
           7196,
           4136
          ],
          [
           5466,
           7076,
           4869
          ],
          [
           4637,
           6775,
           5999
          ],
          [
           4019,
           6535,
           6857
          ],
          [
           4247,
           6940,
           6224
          ],
          [
           5952,
           7337,
           4122
          ]
         ]
        }
       ],
       "layout": {
        "annotations": [
         {
          "font": {
           "size": 16
          },
          "showarrow": false,
          "text": "Common_players_wins",
          "x": 0.09999999999999999,
          "xanchor": "center",
          "xref": "paper",
          "y": 1,
          "yanchor": "bottom",
          "yref": "paper"
         },
         {
          "font": {
           "size": 16
          },
          "showarrow": false,
          "text": "Common_players_draws",
          "x": 0.5,
          "xanchor": "center",
          "xref": "paper",
          "y": 1,
          "yanchor": "bottom",
          "yref": "paper"
         },
         {
          "font": {
           "size": 16
          },
          "showarrow": false,
          "text": "Common_players_loses",
          "x": 0.9,
          "xanchor": "center",
          "xref": "paper",
          "y": 1,
          "yanchor": "bottom",
          "yref": "paper"
         }
        ],
        "coloraxis": {
         "colorbar": {
          "thickness": 25,
          "x": -0.12
         },
         "colorscale": [
          [
           0,
           "rgb(23, 28, 66)"
          ],
          [
           0.09090909090909091,
           "rgb(41, 58, 143)"
          ],
          [
           0.18181818181818182,
           "rgb(11, 102, 189)"
          ],
          [
           0.2727272727272727,
           "rgb(69, 144, 185)"
          ],
          [
           0.36363636363636365,
           "rgb(142, 181, 194)"
          ],
          [
           0.45454545454545453,
           "rgb(210, 216, 219)"
          ],
          [
           0.5454545454545454,
           "rgb(230, 210, 204)"
          ],
          [
           0.6363636363636364,
           "rgb(213, 157, 137)"
          ],
          [
           0.7272727272727273,
           "rgb(196, 101, 72)"
          ],
          [
           0.8181818181818182,
           "rgb(172, 43, 36)"
          ],
          [
           0.9090909090909091,
           "rgb(120, 14, 40)"
          ],
          [
           1,
           "rgb(60, 9, 17)"
          ]
         ],
         "showscale": false
        },
        "coloraxis2": {
         "colorbar": {
          "thickness": 25
         },
         "colorscale": [
          [
           0,
           "rgb(20, 29, 67)"
          ],
          [
           0.09090909090909091,
           "rgb(28, 72, 93)"
          ],
          [
           0.18181818181818182,
           "rgb(18, 115, 117)"
          ],
          [
           0.2727272727272727,
           "rgb(63, 156, 129)"
          ],
          [
           0.36363636363636365,
           "rgb(153, 189, 156)"
          ],
          [
           0.45454545454545453,
           "rgb(223, 225, 211)"
          ],
          [
           0.5454545454545454,
           "rgb(241, 218, 206)"
          ],
          [
           0.6363636363636364,
           "rgb(224, 160, 137)"
          ],
          [
           0.7272727272727273,
           "rgb(203, 101, 99)"
          ],
          [
           0.8181818181818182,
           "rgb(164, 54, 96)"
          ],
          [
           0.9090909090909091,
           "rgb(111, 23, 91)"
          ],
          [
           1,
           "rgb(51, 13, 53)"
          ]
         ],
         "showscale": false
        },
        "template": {
         "data": {
          "bar": [
           {
            "error_x": {
             "color": "#2a3f5f"
            },
            "error_y": {
             "color": "#2a3f5f"
            },
            "marker": {
             "line": {
              "color": "#E5ECF6",
              "width": 0.5
             },
             "pattern": {
              "fillmode": "overlay",
              "size": 10,
              "solidity": 0.2
             }
            },
            "type": "bar"
           }
          ],
          "barpolar": [
           {
            "marker": {
             "line": {
              "color": "#E5ECF6",
              "width": 0.5
             },
             "pattern": {
              "fillmode": "overlay",
              "size": 10,
              "solidity": 0.2
             }
            },
            "type": "barpolar"
           }
          ],
          "carpet": [
           {
            "aaxis": {
             "endlinecolor": "#2a3f5f",
             "gridcolor": "white",
             "linecolor": "white",
             "minorgridcolor": "white",
             "startlinecolor": "#2a3f5f"
            },
            "baxis": {
             "endlinecolor": "#2a3f5f",
             "gridcolor": "white",
             "linecolor": "white",
             "minorgridcolor": "white",
             "startlinecolor": "#2a3f5f"
            },
            "type": "carpet"
           }
          ],
          "choropleth": [
           {
            "colorbar": {
             "outlinewidth": 0,
             "ticks": ""
            },
            "type": "choropleth"
           }
          ],
          "contour": [
           {
            "colorbar": {
             "outlinewidth": 0,
             "ticks": ""
            },
            "colorscale": [
             [
              0,
              "#0d0887"
             ],
             [
              0.1111111111111111,
              "#46039f"
             ],
             [
              0.2222222222222222,
              "#7201a8"
             ],
             [
              0.3333333333333333,
              "#9c179e"
             ],
             [
              0.4444444444444444,
              "#bd3786"
             ],
             [
              0.5555555555555556,
              "#d8576b"
             ],
             [
              0.6666666666666666,
              "#ed7953"
             ],
             [
              0.7777777777777778,
              "#fb9f3a"
             ],
             [
              0.8888888888888888,
              "#fdca26"
             ],
             [
              1,
              "#f0f921"
             ]
            ],
            "type": "contour"
           }
          ],
          "contourcarpet": [
           {
            "colorbar": {
             "outlinewidth": 0,
             "ticks": ""
            },
            "type": "contourcarpet"
           }
          ],
          "heatmap": [
           {
            "colorbar": {
             "outlinewidth": 0,
             "ticks": ""
            },
            "colorscale": [
             [
              0,
              "#0d0887"
             ],
             [
              0.1111111111111111,
              "#46039f"
             ],
             [
              0.2222222222222222,
              "#7201a8"
             ],
             [
              0.3333333333333333,
              "#9c179e"
             ],
             [
              0.4444444444444444,
              "#bd3786"
             ],
             [
              0.5555555555555556,
              "#d8576b"
             ],
             [
              0.6666666666666666,
              "#ed7953"
             ],
             [
              0.7777777777777778,
              "#fb9f3a"
             ],
             [
              0.8888888888888888,
              "#fdca26"
             ],
             [
              1,
              "#f0f921"
             ]
            ],
            "type": "heatmap"
           }
          ],
          "heatmapgl": [
           {
            "colorbar": {
             "outlinewidth": 0,
             "ticks": ""
            },
            "colorscale": [
             [
              0,
              "#0d0887"
             ],
             [
              0.1111111111111111,
              "#46039f"
             ],
             [
              0.2222222222222222,
              "#7201a8"
             ],
             [
              0.3333333333333333,
              "#9c179e"
             ],
             [
              0.4444444444444444,
              "#bd3786"
             ],
             [
              0.5555555555555556,
              "#d8576b"
             ],
             [
              0.6666666666666666,
              "#ed7953"
             ],
             [
              0.7777777777777778,
              "#fb9f3a"
             ],
             [
              0.8888888888888888,
              "#fdca26"
             ],
             [
              1,
              "#f0f921"
             ]
            ],
            "type": "heatmapgl"
           }
          ],
          "histogram": [
           {
            "marker": {
             "pattern": {
              "fillmode": "overlay",
              "size": 10,
              "solidity": 0.2
             }
            },
            "type": "histogram"
           }
          ],
          "histogram2d": [
           {
            "colorbar": {
             "outlinewidth": 0,
             "ticks": ""
            },
            "colorscale": [
             [
              0,
              "#0d0887"
             ],
             [
              0.1111111111111111,
              "#46039f"
             ],
             [
              0.2222222222222222,
              "#7201a8"
             ],
             [
              0.3333333333333333,
              "#9c179e"
             ],
             [
              0.4444444444444444,
              "#bd3786"
             ],
             [
              0.5555555555555556,
              "#d8576b"
             ],
             [
              0.6666666666666666,
              "#ed7953"
             ],
             [
              0.7777777777777778,
              "#fb9f3a"
             ],
             [
              0.8888888888888888,
              "#fdca26"
             ],
             [
              1,
              "#f0f921"
             ]
            ],
            "type": "histogram2d"
           }
          ],
          "histogram2dcontour": [
           {
            "colorbar": {
             "outlinewidth": 0,
             "ticks": ""
            },
            "colorscale": [
             [
              0,
              "#0d0887"
             ],
             [
              0.1111111111111111,
              "#46039f"
             ],
             [
              0.2222222222222222,
              "#7201a8"
             ],
             [
              0.3333333333333333,
              "#9c179e"
             ],
             [
              0.4444444444444444,
              "#bd3786"
             ],
             [
              0.5555555555555556,
              "#d8576b"
             ],
             [
              0.6666666666666666,
              "#ed7953"
             ],
             [
              0.7777777777777778,
              "#fb9f3a"
             ],
             [
              0.8888888888888888,
              "#fdca26"
             ],
             [
              1,
              "#f0f921"
             ]
            ],
            "type": "histogram2dcontour"
           }
          ],
          "mesh3d": [
           {
            "colorbar": {
             "outlinewidth": 0,
             "ticks": ""
            },
            "type": "mesh3d"
           }
          ],
          "parcoords": [
           {
            "line": {
             "colorbar": {
              "outlinewidth": 0,
              "ticks": ""
             }
            },
            "type": "parcoords"
           }
          ],
          "pie": [
           {
            "automargin": true,
            "type": "pie"
           }
          ],
          "scatter": [
           {
            "marker": {
             "colorbar": {
              "outlinewidth": 0,
              "ticks": ""
             }
            },
            "type": "scatter"
           }
          ],
          "scatter3d": [
           {
            "line": {
             "colorbar": {
              "outlinewidth": 0,
              "ticks": ""
             }
            },
            "marker": {
             "colorbar": {
              "outlinewidth": 0,
              "ticks": ""
             }
            },
            "type": "scatter3d"
           }
          ],
          "scattercarpet": [
           {
            "marker": {
             "colorbar": {
              "outlinewidth": 0,
              "ticks": ""
             }
            },
            "type": "scattercarpet"
           }
          ],
          "scattergeo": [
           {
            "marker": {
             "colorbar": {
              "outlinewidth": 0,
              "ticks": ""
             }
            },
            "type": "scattergeo"
           }
          ],
          "scattergl": [
           {
            "marker": {
             "colorbar": {
              "outlinewidth": 0,
              "ticks": ""
             }
            },
            "type": "scattergl"
           }
          ],
          "scattermapbox": [
           {
            "marker": {
             "colorbar": {
              "outlinewidth": 0,
              "ticks": ""
             }
            },
            "type": "scattermapbox"
           }
          ],
          "scatterpolar": [
           {
            "marker": {
             "colorbar": {
              "outlinewidth": 0,
              "ticks": ""
             }
            },
            "type": "scatterpolar"
           }
          ],
          "scatterpolargl": [
           {
            "marker": {
             "colorbar": {
              "outlinewidth": 0,
              "ticks": ""
             }
            },
            "type": "scatterpolargl"
           }
          ],
          "scatterternary": [
           {
            "marker": {
             "colorbar": {
              "outlinewidth": 0,
              "ticks": ""
             }
            },
            "type": "scatterternary"
           }
          ],
          "surface": [
           {
            "colorbar": {
             "outlinewidth": 0,
             "ticks": ""
            },
            "colorscale": [
             [
              0,
              "#0d0887"
             ],
             [
              0.1111111111111111,
              "#46039f"
             ],
             [
              0.2222222222222222,
              "#7201a8"
             ],
             [
              0.3333333333333333,
              "#9c179e"
             ],
             [
              0.4444444444444444,
              "#bd3786"
             ],
             [
              0.5555555555555556,
              "#d8576b"
             ],
             [
              0.6666666666666666,
              "#ed7953"
             ],
             [
              0.7777777777777778,
              "#fb9f3a"
             ],
             [
              0.8888888888888888,
              "#fdca26"
             ],
             [
              1,
              "#f0f921"
             ]
            ],
            "type": "surface"
           }
          ],
          "table": [
           {
            "cells": {
             "fill": {
              "color": "#EBF0F8"
             },
             "line": {
              "color": "white"
             }
            },
            "header": {
             "fill": {
              "color": "#C8D4E3"
             },
             "line": {
              "color": "white"
             }
            },
            "type": "table"
           }
          ]
         },
         "layout": {
          "annotationdefaults": {
           "arrowcolor": "#2a3f5f",
           "arrowhead": 0,
           "arrowwidth": 1
          },
          "autotypenumbers": "strict",
          "coloraxis": {
           "colorbar": {
            "outlinewidth": 0,
            "ticks": ""
           }
          },
          "colorscale": {
           "diverging": [
            [
             0,
             "#8e0152"
            ],
            [
             0.1,
             "#c51b7d"
            ],
            [
             0.2,
             "#de77ae"
            ],
            [
             0.3,
             "#f1b6da"
            ],
            [
             0.4,
             "#fde0ef"
            ],
            [
             0.5,
             "#f7f7f7"
            ],
            [
             0.6,
             "#e6f5d0"
            ],
            [
             0.7,
             "#b8e186"
            ],
            [
             0.8,
             "#7fbc41"
            ],
            [
             0.9,
             "#4d9221"
            ],
            [
             1,
             "#276419"
            ]
           ],
           "sequential": [
            [
             0,
             "#0d0887"
            ],
            [
             0.1111111111111111,
             "#46039f"
            ],
            [
             0.2222222222222222,
             "#7201a8"
            ],
            [
             0.3333333333333333,
             "#9c179e"
            ],
            [
             0.4444444444444444,
             "#bd3786"
            ],
            [
             0.5555555555555556,
             "#d8576b"
            ],
            [
             0.6666666666666666,
             "#ed7953"
            ],
            [
             0.7777777777777778,
             "#fb9f3a"
            ],
            [
             0.8888888888888888,
             "#fdca26"
            ],
            [
             1,
             "#f0f921"
            ]
           ],
           "sequentialminus": [
            [
             0,
             "#0d0887"
            ],
            [
             0.1111111111111111,
             "#46039f"
            ],
            [
             0.2222222222222222,
             "#7201a8"
            ],
            [
             0.3333333333333333,
             "#9c179e"
            ],
            [
             0.4444444444444444,
             "#bd3786"
            ],
            [
             0.5555555555555556,
             "#d8576b"
            ],
            [
             0.6666666666666666,
             "#ed7953"
            ],
            [
             0.7777777777777778,
             "#fb9f3a"
            ],
            [
             0.8888888888888888,
             "#fdca26"
            ],
            [
             1,
             "#f0f921"
            ]
           ]
          },
          "colorway": [
           "#636efa",
           "#EF553B",
           "#00cc96",
           "#ab63fa",
           "#FFA15A",
           "#19d3f3",
           "#FF6692",
           "#B6E880",
           "#FF97FF",
           "#FECB52"
          ],
          "font": {
           "color": "#2a3f5f"
          },
          "geo": {
           "bgcolor": "white",
           "lakecolor": "white",
           "landcolor": "#E5ECF6",
           "showlakes": true,
           "showland": true,
           "subunitcolor": "white"
          },
          "hoverlabel": {
           "align": "left"
          },
          "hovermode": "closest",
          "mapbox": {
           "style": "light"
          },
          "paper_bgcolor": "white",
          "plot_bgcolor": "#E5ECF6",
          "polar": {
           "angularaxis": {
            "gridcolor": "white",
            "linecolor": "white",
            "ticks": ""
           },
           "bgcolor": "#E5ECF6",
           "radialaxis": {
            "gridcolor": "white",
            "linecolor": "white",
            "ticks": ""
           }
          },
          "scene": {
           "xaxis": {
            "backgroundcolor": "#E5ECF6",
            "gridcolor": "white",
            "gridwidth": 2,
            "linecolor": "white",
            "showbackground": true,
            "ticks": "",
            "zerolinecolor": "white"
           },
           "yaxis": {
            "backgroundcolor": "#E5ECF6",
            "gridcolor": "white",
            "gridwidth": 2,
            "linecolor": "white",
            "showbackground": true,
            "ticks": "",
            "zerolinecolor": "white"
           },
           "zaxis": {
            "backgroundcolor": "#E5ECF6",
            "gridcolor": "white",
            "gridwidth": 2,
            "linecolor": "white",
            "showbackground": true,
            "ticks": "",
            "zerolinecolor": "white"
           }
          },
          "shapedefaults": {
           "line": {
            "color": "#2a3f5f"
           }
          },
          "ternary": {
           "aaxis": {
            "gridcolor": "white",
            "linecolor": "white",
            "ticks": ""
           },
           "baxis": {
            "gridcolor": "white",
            "linecolor": "white",
            "ticks": ""
           },
           "bgcolor": "#E5ECF6",
           "caxis": {
            "gridcolor": "white",
            "linecolor": "white",
            "ticks": ""
           }
          },
          "title": {
           "x": 0.05
          },
          "xaxis": {
           "automargin": true,
           "gridcolor": "white",
           "linecolor": "white",
           "ticks": "",
           "title": {
            "standoff": 15
           },
           "zerolinecolor": "white",
           "zerolinewidth": 2
          },
          "yaxis": {
           "automargin": true,
           "gridcolor": "white",
           "linecolor": "white",
           "ticks": "",
           "title": {
            "standoff": 15
           },
           "zerolinecolor": "white",
           "zerolinewidth": 2
          }
         }
        },
        "title": {
         "text": "Common Player Games Outcome",
         "x": 0
        },
        "xaxis": {
         "anchor": "y",
         "domain": [
          0,
          0.19999999999999998
         ]
        },
        "xaxis2": {
         "anchor": "y2",
         "domain": [
          0.4,
          0.6
         ]
        },
        "xaxis3": {
         "anchor": "y3",
         "domain": [
          0.8,
          1
         ]
        },
        "yaxis": {
         "anchor": "x",
         "domain": [
          0,
          1
         ]
        },
        "yaxis2": {
         "anchor": "x2",
         "domain": [
          0,
          1
         ]
        },
        "yaxis3": {
         "anchor": "x3",
         "domain": [
          0,
          1
         ]
        }
       }
      },
      "text/html": [
       "<div>                            <div id=\"ece7cd01-f6cc-43fd-bba3-54155730c3bb\" class=\"plotly-graph-div\" style=\"height:525px; width:100%;\"></div>            <script type=\"text/javascript\">                require([\"plotly\"], function(Plotly) {                    window.PLOTLYENV=window.PLOTLYENV || {};                                    if (document.getElementById(\"ece7cd01-f6cc-43fd-bba3-54155730c3bb\")) {                    Plotly.newPlot(                        \"ece7cd01-f6cc-43fd-bba3-54155730c3bb\",                        [{\"coloraxis\":\"coloraxis\",\"hovertemplate\":\"x: %{x}<br>y: %{y}<br>color: %{z}<extra></extra>\",\"name\":\"0\",\"texttemplate\":\"%{z}\",\"x\":[\"Wins\",\"Draws\",\"Loses\"],\"xaxis\":\"x\",\"y\":[\"-0.49\",\"-0.22\",\"-0.12\",\"-0.04\",\"0.0\",\"0.05\",\"0.13\",\"0.24\",\"0.53\",\"nan\"],\"yaxis\":\"y\",\"z\":[[3894,6553,6964],[4116,6677,6618],[4744,6942,5725],[5661,6909,4841],[6009,7281,4121],[6752,6811,3848],[7752,6573,3086],[8746,6098,2567],[8015,6650,2746],[5952,7337,4122]],\"type\":\"heatmap\"},{\"coloraxis\":\"coloraxis\",\"hovertemplate\":\"x: %{x}<br>y: %{y}<br>color: %{z}<extra></extra>\",\"name\":\"0\",\"texttemplate\":\"%{z}\",\"x\":[\"Wins\",\"Draws\",\"Loses\"],\"xaxis\":\"x2\",\"y\":[\"-0.49\",\"-0.18\",\"-0.1\",\"-0.03\",\"0.0\",\"0.04\",\"0.11\",\"0.21\",\"0.54\",\"nan\"],\"yaxis\":\"y2\",\"z\":[[6101,6870,4440],[6148,6566,4697],[6269,6439,4703],[6158,6617,4636],[6121,7003,4287],[6302,6559,4550],[6221,6556,4634],[6327,6609,4475],[6042,7275,4094],[5952,7337,4122]],\"type\":\"heatmap\"},{\"coloraxis\":\"coloraxis\",\"hovertemplate\":\"x: %{x}<br>y: %{y}<br>color: %{z}<extra></extra>\",\"name\":\"0\",\"texttemplate\":\"%{z}\",\"x\":[\"Wins\",\"Draws\",\"Loses\"],\"xaxis\":\"x3\",\"y\":[\"-0.5\",\"-0.22\",\"-0.12\",\"-0.04\",\"0.0\",\"0.05\",\"0.13\",\"0.24\",\"0.54\",\"nan\"],\"yaxis\":\"y3\",\"z\":[[8826,6141,2444],[8352,6316,2743],[7560,6608,3243],[6503,6907,4001],[6079,7196,4136],[5466,7076,4869],[4637,6775,5999],[4019,6535,6857],[4247,6940,6224],[5952,7337,4122]],\"type\":\"heatmap\"}],                        {\"template\":{\"data\":{\"bar\":[{\"error_x\":{\"color\":\"#2a3f5f\"},\"error_y\":{\"color\":\"#2a3f5f\"},\"marker\":{\"line\":{\"color\":\"#E5ECF6\",\"width\":0.5},\"pattern\":{\"fillmode\":\"overlay\",\"size\":10,\"solidity\":0.2}},\"type\":\"bar\"}],\"barpolar\":[{\"marker\":{\"line\":{\"color\":\"#E5ECF6\",\"width\":0.5},\"pattern\":{\"fillmode\":\"overlay\",\"size\":10,\"solidity\":0.2}},\"type\":\"barpolar\"}],\"carpet\":[{\"aaxis\":{\"endlinecolor\":\"#2a3f5f\",\"gridcolor\":\"white\",\"linecolor\":\"white\",\"minorgridcolor\":\"white\",\"startlinecolor\":\"#2a3f5f\"},\"baxis\":{\"endlinecolor\":\"#2a3f5f\",\"gridcolor\":\"white\",\"linecolor\":\"white\",\"minorgridcolor\":\"white\",\"startlinecolor\":\"#2a3f5f\"},\"type\":\"carpet\"}],\"choropleth\":[{\"colorbar\":{\"outlinewidth\":0,\"ticks\":\"\"},\"type\":\"choropleth\"}],\"contour\":[{\"colorbar\":{\"outlinewidth\":0,\"ticks\":\"\"},\"colorscale\":[[0.0,\"#0d0887\"],[0.1111111111111111,\"#46039f\"],[0.2222222222222222,\"#7201a8\"],[0.3333333333333333,\"#9c179e\"],[0.4444444444444444,\"#bd3786\"],[0.5555555555555556,\"#d8576b\"],[0.6666666666666666,\"#ed7953\"],[0.7777777777777778,\"#fb9f3a\"],[0.8888888888888888,\"#fdca26\"],[1.0,\"#f0f921\"]],\"type\":\"contour\"}],\"contourcarpet\":[{\"colorbar\":{\"outlinewidth\":0,\"ticks\":\"\"},\"type\":\"contourcarpet\"}],\"heatmap\":[{\"colorbar\":{\"outlinewidth\":0,\"ticks\":\"\"},\"colorscale\":[[0.0,\"#0d0887\"],[0.1111111111111111,\"#46039f\"],[0.2222222222222222,\"#7201a8\"],[0.3333333333333333,\"#9c179e\"],[0.4444444444444444,\"#bd3786\"],[0.5555555555555556,\"#d8576b\"],[0.6666666666666666,\"#ed7953\"],[0.7777777777777778,\"#fb9f3a\"],[0.8888888888888888,\"#fdca26\"],[1.0,\"#f0f921\"]],\"type\":\"heatmap\"}],\"heatmapgl\":[{\"colorbar\":{\"outlinewidth\":0,\"ticks\":\"\"},\"colorscale\":[[0.0,\"#0d0887\"],[0.1111111111111111,\"#46039f\"],[0.2222222222222222,\"#7201a8\"],[0.3333333333333333,\"#9c179e\"],[0.4444444444444444,\"#bd3786\"],[0.5555555555555556,\"#d8576b\"],[0.6666666666666666,\"#ed7953\"],[0.7777777777777778,\"#fb9f3a\"],[0.8888888888888888,\"#fdca26\"],[1.0,\"#f0f921\"]],\"type\":\"heatmapgl\"}],\"histogram\":[{\"marker\":{\"pattern\":{\"fillmode\":\"overlay\",\"size\":10,\"solidity\":0.2}},\"type\":\"histogram\"}],\"histogram2d\":[{\"colorbar\":{\"outlinewidth\":0,\"ticks\":\"\"},\"colorscale\":[[0.0,\"#0d0887\"],[0.1111111111111111,\"#46039f\"],[0.2222222222222222,\"#7201a8\"],[0.3333333333333333,\"#9c179e\"],[0.4444444444444444,\"#bd3786\"],[0.5555555555555556,\"#d8576b\"],[0.6666666666666666,\"#ed7953\"],[0.7777777777777778,\"#fb9f3a\"],[0.8888888888888888,\"#fdca26\"],[1.0,\"#f0f921\"]],\"type\":\"histogram2d\"}],\"histogram2dcontour\":[{\"colorbar\":{\"outlinewidth\":0,\"ticks\":\"\"},\"colorscale\":[[0.0,\"#0d0887\"],[0.1111111111111111,\"#46039f\"],[0.2222222222222222,\"#7201a8\"],[0.3333333333333333,\"#9c179e\"],[0.4444444444444444,\"#bd3786\"],[0.5555555555555556,\"#d8576b\"],[0.6666666666666666,\"#ed7953\"],[0.7777777777777778,\"#fb9f3a\"],[0.8888888888888888,\"#fdca26\"],[1.0,\"#f0f921\"]],\"type\":\"histogram2dcontour\"}],\"mesh3d\":[{\"colorbar\":{\"outlinewidth\":0,\"ticks\":\"\"},\"type\":\"mesh3d\"}],\"parcoords\":[{\"line\":{\"colorbar\":{\"outlinewidth\":0,\"ticks\":\"\"}},\"type\":\"parcoords\"}],\"pie\":[{\"automargin\":true,\"type\":\"pie\"}],\"scatter\":[{\"marker\":{\"colorbar\":{\"outlinewidth\":0,\"ticks\":\"\"}},\"type\":\"scatter\"}],\"scatter3d\":[{\"line\":{\"colorbar\":{\"outlinewidth\":0,\"ticks\":\"\"}},\"marker\":{\"colorbar\":{\"outlinewidth\":0,\"ticks\":\"\"}},\"type\":\"scatter3d\"}],\"scattercarpet\":[{\"marker\":{\"colorbar\":{\"outlinewidth\":0,\"ticks\":\"\"}},\"type\":\"scattercarpet\"}],\"scattergeo\":[{\"marker\":{\"colorbar\":{\"outlinewidth\":0,\"ticks\":\"\"}},\"type\":\"scattergeo\"}],\"scattergl\":[{\"marker\":{\"colorbar\":{\"outlinewidth\":0,\"ticks\":\"\"}},\"type\":\"scattergl\"}],\"scattermapbox\":[{\"marker\":{\"colorbar\":{\"outlinewidth\":0,\"ticks\":\"\"}},\"type\":\"scattermapbox\"}],\"scatterpolar\":[{\"marker\":{\"colorbar\":{\"outlinewidth\":0,\"ticks\":\"\"}},\"type\":\"scatterpolar\"}],\"scatterpolargl\":[{\"marker\":{\"colorbar\":{\"outlinewidth\":0,\"ticks\":\"\"}},\"type\":\"scatterpolargl\"}],\"scatterternary\":[{\"marker\":{\"colorbar\":{\"outlinewidth\":0,\"ticks\":\"\"}},\"type\":\"scatterternary\"}],\"surface\":[{\"colorbar\":{\"outlinewidth\":0,\"ticks\":\"\"},\"colorscale\":[[0.0,\"#0d0887\"],[0.1111111111111111,\"#46039f\"],[0.2222222222222222,\"#7201a8\"],[0.3333333333333333,\"#9c179e\"],[0.4444444444444444,\"#bd3786\"],[0.5555555555555556,\"#d8576b\"],[0.6666666666666666,\"#ed7953\"],[0.7777777777777778,\"#fb9f3a\"],[0.8888888888888888,\"#fdca26\"],[1.0,\"#f0f921\"]],\"type\":\"surface\"}],\"table\":[{\"cells\":{\"fill\":{\"color\":\"#EBF0F8\"},\"line\":{\"color\":\"white\"}},\"header\":{\"fill\":{\"color\":\"#C8D4E3\"},\"line\":{\"color\":\"white\"}},\"type\":\"table\"}]},\"layout\":{\"annotationdefaults\":{\"arrowcolor\":\"#2a3f5f\",\"arrowhead\":0,\"arrowwidth\":1},\"autotypenumbers\":\"strict\",\"coloraxis\":{\"colorbar\":{\"outlinewidth\":0,\"ticks\":\"\"}},\"colorscale\":{\"diverging\":[[0,\"#8e0152\"],[0.1,\"#c51b7d\"],[0.2,\"#de77ae\"],[0.3,\"#f1b6da\"],[0.4,\"#fde0ef\"],[0.5,\"#f7f7f7\"],[0.6,\"#e6f5d0\"],[0.7,\"#b8e186\"],[0.8,\"#7fbc41\"],[0.9,\"#4d9221\"],[1,\"#276419\"]],\"sequential\":[[0.0,\"#0d0887\"],[0.1111111111111111,\"#46039f\"],[0.2222222222222222,\"#7201a8\"],[0.3333333333333333,\"#9c179e\"],[0.4444444444444444,\"#bd3786\"],[0.5555555555555556,\"#d8576b\"],[0.6666666666666666,\"#ed7953\"],[0.7777777777777778,\"#fb9f3a\"],[0.8888888888888888,\"#fdca26\"],[1.0,\"#f0f921\"]],\"sequentialminus\":[[0.0,\"#0d0887\"],[0.1111111111111111,\"#46039f\"],[0.2222222222222222,\"#7201a8\"],[0.3333333333333333,\"#9c179e\"],[0.4444444444444444,\"#bd3786\"],[0.5555555555555556,\"#d8576b\"],[0.6666666666666666,\"#ed7953\"],[0.7777777777777778,\"#fb9f3a\"],[0.8888888888888888,\"#fdca26\"],[1.0,\"#f0f921\"]]},\"colorway\":[\"#636efa\",\"#EF553B\",\"#00cc96\",\"#ab63fa\",\"#FFA15A\",\"#19d3f3\",\"#FF6692\",\"#B6E880\",\"#FF97FF\",\"#FECB52\"],\"font\":{\"color\":\"#2a3f5f\"},\"geo\":{\"bgcolor\":\"white\",\"lakecolor\":\"white\",\"landcolor\":\"#E5ECF6\",\"showlakes\":true,\"showland\":true,\"subunitcolor\":\"white\"},\"hoverlabel\":{\"align\":\"left\"},\"hovermode\":\"closest\",\"mapbox\":{\"style\":\"light\"},\"paper_bgcolor\":\"white\",\"plot_bgcolor\":\"#E5ECF6\",\"polar\":{\"angularaxis\":{\"gridcolor\":\"white\",\"linecolor\":\"white\",\"ticks\":\"\"},\"bgcolor\":\"#E5ECF6\",\"radialaxis\":{\"gridcolor\":\"white\",\"linecolor\":\"white\",\"ticks\":\"\"}},\"scene\":{\"xaxis\":{\"backgroundcolor\":\"#E5ECF6\",\"gridcolor\":\"white\",\"gridwidth\":2,\"linecolor\":\"white\",\"showbackground\":true,\"ticks\":\"\",\"zerolinecolor\":\"white\"},\"yaxis\":{\"backgroundcolor\":\"#E5ECF6\",\"gridcolor\":\"white\",\"gridwidth\":2,\"linecolor\":\"white\",\"showbackground\":true,\"ticks\":\"\",\"zerolinecolor\":\"white\"},\"zaxis\":{\"backgroundcolor\":\"#E5ECF6\",\"gridcolor\":\"white\",\"gridwidth\":2,\"linecolor\":\"white\",\"showbackground\":true,\"ticks\":\"\",\"zerolinecolor\":\"white\"}},\"shapedefaults\":{\"line\":{\"color\":\"#2a3f5f\"}},\"ternary\":{\"aaxis\":{\"gridcolor\":\"white\",\"linecolor\":\"white\",\"ticks\":\"\"},\"baxis\":{\"gridcolor\":\"white\",\"linecolor\":\"white\",\"ticks\":\"\"},\"bgcolor\":\"#E5ECF6\",\"caxis\":{\"gridcolor\":\"white\",\"linecolor\":\"white\",\"ticks\":\"\"}},\"title\":{\"x\":0.05},\"xaxis\":{\"automargin\":true,\"gridcolor\":\"white\",\"linecolor\":\"white\",\"ticks\":\"\",\"title\":{\"standoff\":15},\"zerolinecolor\":\"white\",\"zerolinewidth\":2},\"yaxis\":{\"automargin\":true,\"gridcolor\":\"white\",\"linecolor\":\"white\",\"ticks\":\"\",\"title\":{\"standoff\":15},\"zerolinecolor\":\"white\",\"zerolinewidth\":2}}},\"xaxis\":{\"anchor\":\"y\",\"domain\":[0.0,0.19999999999999998]},\"yaxis\":{\"anchor\":\"x\",\"domain\":[0.0,1.0]},\"xaxis2\":{\"anchor\":\"y2\",\"domain\":[0.4,0.6]},\"yaxis2\":{\"anchor\":\"x2\",\"domain\":[0.0,1.0]},\"xaxis3\":{\"anchor\":\"y3\",\"domain\":[0.8,1.0]},\"yaxis3\":{\"anchor\":\"x3\",\"domain\":[0.0,1.0]},\"annotations\":[{\"font\":{\"size\":16},\"showarrow\":false,\"text\":\"Common_players_wins\",\"x\":0.09999999999999999,\"xanchor\":\"center\",\"xref\":\"paper\",\"y\":1.0,\"yanchor\":\"bottom\",\"yref\":\"paper\"},{\"font\":{\"size\":16},\"showarrow\":false,\"text\":\"Common_players_draws\",\"x\":0.5,\"xanchor\":\"center\",\"xref\":\"paper\",\"y\":1.0,\"yanchor\":\"bottom\",\"yref\":\"paper\"},{\"font\":{\"size\":16},\"showarrow\":false,\"text\":\"Common_players_loses\",\"x\":0.9,\"xanchor\":\"center\",\"xref\":\"paper\",\"y\":1.0,\"yanchor\":\"bottom\",\"yref\":\"paper\"}],\"title\":{\"text\":\"Common Player Games Outcome\",\"x\":0},\"coloraxis\":{\"colorbar\":{\"thickness\":25,\"x\":-0.12},\"colorscale\":[[0.0,\"rgb(23, 28, 66)\"],[0.09090909090909091,\"rgb(41, 58, 143)\"],[0.18181818181818182,\"rgb(11, 102, 189)\"],[0.2727272727272727,\"rgb(69, 144, 185)\"],[0.36363636363636365,\"rgb(142, 181, 194)\"],[0.45454545454545453,\"rgb(210, 216, 219)\"],[0.5454545454545454,\"rgb(230, 210, 204)\"],[0.6363636363636364,\"rgb(213, 157, 137)\"],[0.7272727272727273,\"rgb(196, 101, 72)\"],[0.8181818181818182,\"rgb(172, 43, 36)\"],[0.9090909090909091,\"rgb(120, 14, 40)\"],[1.0,\"rgb(60, 9, 17)\"]],\"showscale\":false},\"coloraxis2\":{\"colorscale\":[[0.0,\"rgb(20, 29, 67)\"],[0.09090909090909091,\"rgb(28, 72, 93)\"],[0.18181818181818182,\"rgb(18, 115, 117)\"],[0.2727272727272727,\"rgb(63, 156, 129)\"],[0.36363636363636365,\"rgb(153, 189, 156)\"],[0.45454545454545453,\"rgb(223, 225, 211)\"],[0.5454545454545454,\"rgb(241, 218, 206)\"],[0.6363636363636364,\"rgb(224, 160, 137)\"],[0.7272727272727273,\"rgb(203, 101, 99)\"],[0.8181818181818182,\"rgb(164, 54, 96)\"],[0.9090909090909091,\"rgb(111, 23, 91)\"],[1.0,\"rgb(51, 13, 53)\"]],\"colorbar\":{\"thickness\":25},\"showscale\":false}},                        {\"responsive\": true}                    ).then(function(){\n",
       "                            \n",
       "var gd = document.getElementById('ece7cd01-f6cc-43fd-bba3-54155730c3bb');\n",
       "var x = new MutationObserver(function (mutations, observer) {{\n",
       "        var display = window.getComputedStyle(gd).display;\n",
       "        if (!display || display === 'none') {{\n",
       "            console.log([gd, 'removed!']);\n",
       "            Plotly.purge(gd);\n",
       "            observer.disconnect();\n",
       "        }}\n",
       "}});\n",
       "\n",
       "// Listen for the removal of the full notebook cells\n",
       "var notebookContainer = gd.closest('#notebook-container');\n",
       "if (notebookContainer) {{\n",
       "    x.observe(notebookContainer, {childList: true});\n",
       "}}\n",
       "\n",
       "// Listen for the clearing of the current output cell\n",
       "var outputEl = gd.closest('.output');\n",
       "if (outputEl) {{\n",
       "    x.observe(outputEl, {childList: true});\n",
       "}}\n",
       "\n",
       "                        })                };                });            </script>        </div>"
      ]
     },
     "metadata": {},
     "output_type": "display_data"
    }
   ],
   "source": [
    "plot_figures(3,('Direct_wins','Direct_draws','Direst_loses'), \"Direct Games Outcome\", deciles, train) \n",
    "plot_figures(3,('Common_players_wins','Common_players_draws','Common_players_loses'), \n",
    "             \"Common Player Games Outcome\", deciles, train) "
   ]
  },
  {
   "cell_type": "code",
   "execution_count": 154,
   "id": "a8ae3f89",
   "metadata": {},
   "outputs": [],
   "source": [
    "train.fillna(0).to_csv('Data/Train_intermediate.csv',index=False)\n",
    "test.fillna(0).to_csv('Data/Test_intermediate.csv',index=False)"
   ]
  },
  {
   "cell_type": "code",
   "execution_count": null,
   "id": "a5ce73b2",
   "metadata": {},
   "outputs": [],
   "source": []
  },
  {
   "cell_type": "markdown",
   "id": "85112790",
   "metadata": {},
   "source": [
    "## ELO scores calculation"
   ]
  },
  {
   "cell_type": "code",
   "execution_count": 160,
   "id": "ed05f6d4",
   "metadata": {},
   "outputs": [],
   "source": [
    "ELO_2014 = pd.read_csv('Data/ELO_2014.csv')\n",
    "ELO_2020 = pd.read_csv('Data/ELO_2020.csv')\n",
    "\n",
    "train = pd.read_csv('Data/Train_intermediate.csv')\n",
    "test = pd.read_csv('Data/Test_intermediate.csv')"
   ]
  },
  {
   "cell_type": "code",
   "execution_count": 161,
   "id": "5bc9f953",
   "metadata": {},
   "outputs": [
    {
     "name": "stdout",
     "output_type": "stream",
     "text": [
      "Number of Players with ELO scores:285\n",
      "Median:2371.5, Mean:2380.6775, Min:2301, Max:2668\n"
     ]
    }
   ],
   "source": [
    "values = list(ELO_2014.ELO) + list(ELO_2020.ELO)\n",
    "\n",
    "ELO_2014 = dict(zip(ELO_2014['name'],ELO_2014['ELO']))\n",
    "ELO_2020 = dict(zip(ELO_2020['name'],ELO_2020['ELO']))\n",
    "\n",
    "#ELO_2014 = dict(zip(ELO_2014['name'],[2365.0]*len(ELO_2014['ELO'])))\n",
    "#ELO_2020 = dict(zip(ELO_2020['name'],[2365.0]*len(ELO_2020['ELO'])))\n",
    "\n",
    "median = np.median(np.array([int(i) for i in ELO_2014.values()]))\n",
    "\n",
    "\n",
    "print('Number of Players with ELO scores:{}'.format(len(set(list(ELO_2014.keys()) + list(ELO_2020.keys())))))\n",
    "print(\"Median:{}, Mean:{}, Min:{}, Max:{}\".format(np.median(values),np.mean(values), min(values), max(values)))"
   ]
  },
  {
   "cell_type": "code",
   "execution_count": 162,
   "id": "adb7cf66",
   "metadata": {},
   "outputs": [
    {
     "data": {
      "application/vnd.plotly.v1+json": {
       "config": {
        "plotlyServerURL": "https://plot.ly"
       },
       "data": [
        {
         "alignmentgroup": "True",
         "bingroup": "x",
         "hovertemplate": "variable=0<br>value=%{x}<br>count=%{y}<extra></extra>",
         "legendgroup": "0",
         "marker": {
          "color": "#636efa",
          "pattern": {
           "shape": ""
          }
         },
         "name": "0",
         "nbinsx": 30,
         "offsetgroup": "0",
         "orientation": "v",
         "showlegend": true,
         "type": "histogram",
         "x": [
          2424,
          2423,
          2423,
          2423,
          2421,
          2421,
          2420,
          2420,
          2419,
          2419,
          2418,
          2418,
          2416,
          2415,
          2414,
          2414,
          2413,
          2410,
          2410,
          2410,
          2409,
          2409,
          2408,
          2408,
          2408,
          2408,
          2407,
          2406,
          2405,
          2405,
          2404,
          2404,
          2403,
          2402,
          2402,
          2401,
          2401,
          2400,
          2399,
          2398,
          2397,
          2397,
          2396,
          2396,
          2396,
          2396,
          2395,
          2394,
          2393,
          2392,
          2392,
          2391,
          2391,
          2390,
          2389,
          2389,
          2389,
          2388,
          2388,
          2387,
          2387,
          2385,
          2385,
          2385,
          2384,
          2383,
          2383,
          2383,
          2383,
          2383,
          2382,
          2382,
          2382,
          2382,
          2381,
          2381,
          2380,
          2380,
          2378,
          2377,
          2376,
          2376,
          2374,
          2373,
          2371,
          2371,
          2370,
          2370,
          2370,
          2369,
          2368,
          2368,
          2368,
          2368,
          2367,
          2367,
          2366,
          2366,
          2366,
          2365,
          2365,
          2364,
          2364,
          2363,
          2362,
          2362,
          2361,
          2360,
          2359,
          2358,
          2358,
          2356,
          2356,
          2356,
          2355,
          2355,
          2354,
          2352,
          2351,
          2350,
          2350,
          2349,
          2349,
          2349,
          2348,
          2348,
          2348,
          2348,
          2348,
          2347,
          2346,
          2344,
          2344,
          2341,
          2341,
          2340,
          2339,
          2339,
          2339,
          2338,
          2338,
          2338,
          2337,
          2337,
          2335,
          2335,
          2331,
          2331,
          2331,
          2330,
          2330,
          2329,
          2329,
          2329,
          2328,
          2328,
          2327,
          2327,
          2326,
          2326,
          2326,
          2325,
          2325,
          2324,
          2322,
          2322,
          2321,
          2321,
          2321,
          2320,
          2320,
          2320,
          2320,
          2320,
          2319,
          2318,
          2318,
          2318,
          2317,
          2316,
          2316,
          2314,
          2314,
          2314,
          2313,
          2313,
          2308,
          2308,
          2307,
          2307,
          2307,
          2307,
          2304,
          2303,
          2303,
          2302,
          2302,
          2302,
          2302,
          2301,
          2668,
          2620,
          2594,
          2583,
          2575,
          2570,
          2559,
          2557,
          2556,
          2542,
          2542,
          2537,
          2528,
          2525,
          2519,
          2509,
          2506,
          2504,
          2503,
          2502,
          2500,
          2500,
          2499,
          2493,
          2490,
          2488,
          2485,
          2484,
          2478,
          2477,
          2470,
          2467,
          2463,
          2461,
          2459,
          2454,
          2451,
          2448,
          2446,
          2446,
          2443,
          2442,
          2440,
          2439,
          2437,
          2436,
          2436,
          2436,
          2435,
          2435,
          2434,
          2433,
          2432,
          2432,
          2431,
          2431,
          2430,
          2430,
          2430,
          2430,
          2430,
          2429,
          2428,
          2426,
          2424,
          2423,
          2423,
          2422,
          2420,
          2418,
          2417,
          2415,
          2413,
          2412,
          2410,
          2409,
          2409,
          2405,
          2403,
          2403,
          2400,
          2398,
          2398,
          2398,
          2396,
          2396,
          2394,
          2394,
          2394,
          2393,
          2393,
          2392,
          2391,
          2391,
          2390,
          2390,
          2389,
          2388,
          2388,
          2388,
          2384,
          2384,
          2384,
          2384,
          2384,
          2382,
          2382,
          2380,
          2380,
          2380,
          2378,
          2377,
          2377,
          2373,
          2372,
          2372,
          2368,
          2368,
          2367,
          2366,
          2365,
          2365,
          2364,
          2364,
          2364,
          2363,
          2363,
          2362,
          2362,
          2362,
          2362,
          2360,
          2358,
          2354,
          2354,
          2353,
          2352,
          2352,
          2350,
          2349,
          2348,
          2347,
          2346,
          2346,
          2345,
          2344,
          2344,
          2344,
          2344,
          2343,
          2343,
          2342,
          2340,
          2339,
          2339,
          2339,
          2338,
          2338,
          2338,
          2337,
          2337,
          2336,
          2335,
          2333,
          2333,
          2333,
          2332,
          2332,
          2331,
          2329,
          2329,
          2328,
          2327,
          2326,
          2326,
          2324,
          2322,
          2322,
          2322,
          2321,
          2320,
          2320,
          2320,
          2316,
          2316,
          2315,
          2314,
          2314,
          2313,
          2313,
          2311,
          2309,
          2307,
          2307,
          2306,
          2306,
          2304,
          2304,
          2304,
          2303
         ],
         "xaxis": "x",
         "yaxis": "y"
        }
       ],
       "layout": {
        "barmode": "relative",
        "legend": {
         "title": {
          "text": "variable"
         },
         "tracegroupgap": 0
        },
        "margin": {
         "t": 60
        },
        "template": {
         "data": {
          "bar": [
           {
            "error_x": {
             "color": "#2a3f5f"
            },
            "error_y": {
             "color": "#2a3f5f"
            },
            "marker": {
             "line": {
              "color": "#E5ECF6",
              "width": 0.5
             },
             "pattern": {
              "fillmode": "overlay",
              "size": 10,
              "solidity": 0.2
             }
            },
            "type": "bar"
           }
          ],
          "barpolar": [
           {
            "marker": {
             "line": {
              "color": "#E5ECF6",
              "width": 0.5
             },
             "pattern": {
              "fillmode": "overlay",
              "size": 10,
              "solidity": 0.2
             }
            },
            "type": "barpolar"
           }
          ],
          "carpet": [
           {
            "aaxis": {
             "endlinecolor": "#2a3f5f",
             "gridcolor": "white",
             "linecolor": "white",
             "minorgridcolor": "white",
             "startlinecolor": "#2a3f5f"
            },
            "baxis": {
             "endlinecolor": "#2a3f5f",
             "gridcolor": "white",
             "linecolor": "white",
             "minorgridcolor": "white",
             "startlinecolor": "#2a3f5f"
            },
            "type": "carpet"
           }
          ],
          "choropleth": [
           {
            "colorbar": {
             "outlinewidth": 0,
             "ticks": ""
            },
            "type": "choropleth"
           }
          ],
          "contour": [
           {
            "colorbar": {
             "outlinewidth": 0,
             "ticks": ""
            },
            "colorscale": [
             [
              0,
              "#0d0887"
             ],
             [
              0.1111111111111111,
              "#46039f"
             ],
             [
              0.2222222222222222,
              "#7201a8"
             ],
             [
              0.3333333333333333,
              "#9c179e"
             ],
             [
              0.4444444444444444,
              "#bd3786"
             ],
             [
              0.5555555555555556,
              "#d8576b"
             ],
             [
              0.6666666666666666,
              "#ed7953"
             ],
             [
              0.7777777777777778,
              "#fb9f3a"
             ],
             [
              0.8888888888888888,
              "#fdca26"
             ],
             [
              1,
              "#f0f921"
             ]
            ],
            "type": "contour"
           }
          ],
          "contourcarpet": [
           {
            "colorbar": {
             "outlinewidth": 0,
             "ticks": ""
            },
            "type": "contourcarpet"
           }
          ],
          "heatmap": [
           {
            "colorbar": {
             "outlinewidth": 0,
             "ticks": ""
            },
            "colorscale": [
             [
              0,
              "#0d0887"
             ],
             [
              0.1111111111111111,
              "#46039f"
             ],
             [
              0.2222222222222222,
              "#7201a8"
             ],
             [
              0.3333333333333333,
              "#9c179e"
             ],
             [
              0.4444444444444444,
              "#bd3786"
             ],
             [
              0.5555555555555556,
              "#d8576b"
             ],
             [
              0.6666666666666666,
              "#ed7953"
             ],
             [
              0.7777777777777778,
              "#fb9f3a"
             ],
             [
              0.8888888888888888,
              "#fdca26"
             ],
             [
              1,
              "#f0f921"
             ]
            ],
            "type": "heatmap"
           }
          ],
          "heatmapgl": [
           {
            "colorbar": {
             "outlinewidth": 0,
             "ticks": ""
            },
            "colorscale": [
             [
              0,
              "#0d0887"
             ],
             [
              0.1111111111111111,
              "#46039f"
             ],
             [
              0.2222222222222222,
              "#7201a8"
             ],
             [
              0.3333333333333333,
              "#9c179e"
             ],
             [
              0.4444444444444444,
              "#bd3786"
             ],
             [
              0.5555555555555556,
              "#d8576b"
             ],
             [
              0.6666666666666666,
              "#ed7953"
             ],
             [
              0.7777777777777778,
              "#fb9f3a"
             ],
             [
              0.8888888888888888,
              "#fdca26"
             ],
             [
              1,
              "#f0f921"
             ]
            ],
            "type": "heatmapgl"
           }
          ],
          "histogram": [
           {
            "marker": {
             "pattern": {
              "fillmode": "overlay",
              "size": 10,
              "solidity": 0.2
             }
            },
            "type": "histogram"
           }
          ],
          "histogram2d": [
           {
            "colorbar": {
             "outlinewidth": 0,
             "ticks": ""
            },
            "colorscale": [
             [
              0,
              "#0d0887"
             ],
             [
              0.1111111111111111,
              "#46039f"
             ],
             [
              0.2222222222222222,
              "#7201a8"
             ],
             [
              0.3333333333333333,
              "#9c179e"
             ],
             [
              0.4444444444444444,
              "#bd3786"
             ],
             [
              0.5555555555555556,
              "#d8576b"
             ],
             [
              0.6666666666666666,
              "#ed7953"
             ],
             [
              0.7777777777777778,
              "#fb9f3a"
             ],
             [
              0.8888888888888888,
              "#fdca26"
             ],
             [
              1,
              "#f0f921"
             ]
            ],
            "type": "histogram2d"
           }
          ],
          "histogram2dcontour": [
           {
            "colorbar": {
             "outlinewidth": 0,
             "ticks": ""
            },
            "colorscale": [
             [
              0,
              "#0d0887"
             ],
             [
              0.1111111111111111,
              "#46039f"
             ],
             [
              0.2222222222222222,
              "#7201a8"
             ],
             [
              0.3333333333333333,
              "#9c179e"
             ],
             [
              0.4444444444444444,
              "#bd3786"
             ],
             [
              0.5555555555555556,
              "#d8576b"
             ],
             [
              0.6666666666666666,
              "#ed7953"
             ],
             [
              0.7777777777777778,
              "#fb9f3a"
             ],
             [
              0.8888888888888888,
              "#fdca26"
             ],
             [
              1,
              "#f0f921"
             ]
            ],
            "type": "histogram2dcontour"
           }
          ],
          "mesh3d": [
           {
            "colorbar": {
             "outlinewidth": 0,
             "ticks": ""
            },
            "type": "mesh3d"
           }
          ],
          "parcoords": [
           {
            "line": {
             "colorbar": {
              "outlinewidth": 0,
              "ticks": ""
             }
            },
            "type": "parcoords"
           }
          ],
          "pie": [
           {
            "automargin": true,
            "type": "pie"
           }
          ],
          "scatter": [
           {
            "marker": {
             "colorbar": {
              "outlinewidth": 0,
              "ticks": ""
             }
            },
            "type": "scatter"
           }
          ],
          "scatter3d": [
           {
            "line": {
             "colorbar": {
              "outlinewidth": 0,
              "ticks": ""
             }
            },
            "marker": {
             "colorbar": {
              "outlinewidth": 0,
              "ticks": ""
             }
            },
            "type": "scatter3d"
           }
          ],
          "scattercarpet": [
           {
            "marker": {
             "colorbar": {
              "outlinewidth": 0,
              "ticks": ""
             }
            },
            "type": "scattercarpet"
           }
          ],
          "scattergeo": [
           {
            "marker": {
             "colorbar": {
              "outlinewidth": 0,
              "ticks": ""
             }
            },
            "type": "scattergeo"
           }
          ],
          "scattergl": [
           {
            "marker": {
             "colorbar": {
              "outlinewidth": 0,
              "ticks": ""
             }
            },
            "type": "scattergl"
           }
          ],
          "scattermapbox": [
           {
            "marker": {
             "colorbar": {
              "outlinewidth": 0,
              "ticks": ""
             }
            },
            "type": "scattermapbox"
           }
          ],
          "scatterpolar": [
           {
            "marker": {
             "colorbar": {
              "outlinewidth": 0,
              "ticks": ""
             }
            },
            "type": "scatterpolar"
           }
          ],
          "scatterpolargl": [
           {
            "marker": {
             "colorbar": {
              "outlinewidth": 0,
              "ticks": ""
             }
            },
            "type": "scatterpolargl"
           }
          ],
          "scatterternary": [
           {
            "marker": {
             "colorbar": {
              "outlinewidth": 0,
              "ticks": ""
             }
            },
            "type": "scatterternary"
           }
          ],
          "surface": [
           {
            "colorbar": {
             "outlinewidth": 0,
             "ticks": ""
            },
            "colorscale": [
             [
              0,
              "#0d0887"
             ],
             [
              0.1111111111111111,
              "#46039f"
             ],
             [
              0.2222222222222222,
              "#7201a8"
             ],
             [
              0.3333333333333333,
              "#9c179e"
             ],
             [
              0.4444444444444444,
              "#bd3786"
             ],
             [
              0.5555555555555556,
              "#d8576b"
             ],
             [
              0.6666666666666666,
              "#ed7953"
             ],
             [
              0.7777777777777778,
              "#fb9f3a"
             ],
             [
              0.8888888888888888,
              "#fdca26"
             ],
             [
              1,
              "#f0f921"
             ]
            ],
            "type": "surface"
           }
          ],
          "table": [
           {
            "cells": {
             "fill": {
              "color": "#EBF0F8"
             },
             "line": {
              "color": "white"
             }
            },
            "header": {
             "fill": {
              "color": "#C8D4E3"
             },
             "line": {
              "color": "white"
             }
            },
            "type": "table"
           }
          ]
         },
         "layout": {
          "annotationdefaults": {
           "arrowcolor": "#2a3f5f",
           "arrowhead": 0,
           "arrowwidth": 1
          },
          "autotypenumbers": "strict",
          "coloraxis": {
           "colorbar": {
            "outlinewidth": 0,
            "ticks": ""
           }
          },
          "colorscale": {
           "diverging": [
            [
             0,
             "#8e0152"
            ],
            [
             0.1,
             "#c51b7d"
            ],
            [
             0.2,
             "#de77ae"
            ],
            [
             0.3,
             "#f1b6da"
            ],
            [
             0.4,
             "#fde0ef"
            ],
            [
             0.5,
             "#f7f7f7"
            ],
            [
             0.6,
             "#e6f5d0"
            ],
            [
             0.7,
             "#b8e186"
            ],
            [
             0.8,
             "#7fbc41"
            ],
            [
             0.9,
             "#4d9221"
            ],
            [
             1,
             "#276419"
            ]
           ],
           "sequential": [
            [
             0,
             "#0d0887"
            ],
            [
             0.1111111111111111,
             "#46039f"
            ],
            [
             0.2222222222222222,
             "#7201a8"
            ],
            [
             0.3333333333333333,
             "#9c179e"
            ],
            [
             0.4444444444444444,
             "#bd3786"
            ],
            [
             0.5555555555555556,
             "#d8576b"
            ],
            [
             0.6666666666666666,
             "#ed7953"
            ],
            [
             0.7777777777777778,
             "#fb9f3a"
            ],
            [
             0.8888888888888888,
             "#fdca26"
            ],
            [
             1,
             "#f0f921"
            ]
           ],
           "sequentialminus": [
            [
             0,
             "#0d0887"
            ],
            [
             0.1111111111111111,
             "#46039f"
            ],
            [
             0.2222222222222222,
             "#7201a8"
            ],
            [
             0.3333333333333333,
             "#9c179e"
            ],
            [
             0.4444444444444444,
             "#bd3786"
            ],
            [
             0.5555555555555556,
             "#d8576b"
            ],
            [
             0.6666666666666666,
             "#ed7953"
            ],
            [
             0.7777777777777778,
             "#fb9f3a"
            ],
            [
             0.8888888888888888,
             "#fdca26"
            ],
            [
             1,
             "#f0f921"
            ]
           ]
          },
          "colorway": [
           "#636efa",
           "#EF553B",
           "#00cc96",
           "#ab63fa",
           "#FFA15A",
           "#19d3f3",
           "#FF6692",
           "#B6E880",
           "#FF97FF",
           "#FECB52"
          ],
          "font": {
           "color": "#2a3f5f"
          },
          "geo": {
           "bgcolor": "white",
           "lakecolor": "white",
           "landcolor": "#E5ECF6",
           "showlakes": true,
           "showland": true,
           "subunitcolor": "white"
          },
          "hoverlabel": {
           "align": "left"
          },
          "hovermode": "closest",
          "mapbox": {
           "style": "light"
          },
          "paper_bgcolor": "white",
          "plot_bgcolor": "#E5ECF6",
          "polar": {
           "angularaxis": {
            "gridcolor": "white",
            "linecolor": "white",
            "ticks": ""
           },
           "bgcolor": "#E5ECF6",
           "radialaxis": {
            "gridcolor": "white",
            "linecolor": "white",
            "ticks": ""
           }
          },
          "scene": {
           "xaxis": {
            "backgroundcolor": "#E5ECF6",
            "gridcolor": "white",
            "gridwidth": 2,
            "linecolor": "white",
            "showbackground": true,
            "ticks": "",
            "zerolinecolor": "white"
           },
           "yaxis": {
            "backgroundcolor": "#E5ECF6",
            "gridcolor": "white",
            "gridwidth": 2,
            "linecolor": "white",
            "showbackground": true,
            "ticks": "",
            "zerolinecolor": "white"
           },
           "zaxis": {
            "backgroundcolor": "#E5ECF6",
            "gridcolor": "white",
            "gridwidth": 2,
            "linecolor": "white",
            "showbackground": true,
            "ticks": "",
            "zerolinecolor": "white"
           }
          },
          "shapedefaults": {
           "line": {
            "color": "#2a3f5f"
           }
          },
          "ternary": {
           "aaxis": {
            "gridcolor": "white",
            "linecolor": "white",
            "ticks": ""
           },
           "baxis": {
            "gridcolor": "white",
            "linecolor": "white",
            "ticks": ""
           },
           "bgcolor": "#E5ECF6",
           "caxis": {
            "gridcolor": "white",
            "linecolor": "white",
            "ticks": ""
           }
          },
          "title": {
           "x": 0.05
          },
          "xaxis": {
           "automargin": true,
           "gridcolor": "white",
           "linecolor": "white",
           "ticks": "",
           "title": {
            "standoff": 15
           },
           "zerolinecolor": "white",
           "zerolinewidth": 2
          },
          "yaxis": {
           "automargin": true,
           "gridcolor": "white",
           "linecolor": "white",
           "ticks": "",
           "title": {
            "standoff": 15
           },
           "zerolinecolor": "white",
           "zerolinewidth": 2
          }
         }
        },
        "xaxis": {
         "anchor": "y",
         "domain": [
          0,
          1
         ],
         "title": {
          "text": "value"
         }
        },
        "yaxis": {
         "anchor": "x",
         "domain": [
          0,
          1
         ],
         "title": {
          "text": "count"
         }
        }
       }
      },
      "text/html": [
       "<div>                            <div id=\"0fed8d75-8784-4e4a-90da-9679ec3b4834\" class=\"plotly-graph-div\" style=\"height:525px; width:100%;\"></div>            <script type=\"text/javascript\">                require([\"plotly\"], function(Plotly) {                    window.PLOTLYENV=window.PLOTLYENV || {};                                    if (document.getElementById(\"0fed8d75-8784-4e4a-90da-9679ec3b4834\")) {                    Plotly.newPlot(                        \"0fed8d75-8784-4e4a-90da-9679ec3b4834\",                        [{\"alignmentgroup\":\"True\",\"bingroup\":\"x\",\"hovertemplate\":\"variable=0<br>value=%{x}<br>count=%{y}<extra></extra>\",\"legendgroup\":\"0\",\"marker\":{\"color\":\"#636efa\",\"pattern\":{\"shape\":\"\"}},\"name\":\"0\",\"nbinsx\":30,\"offsetgroup\":\"0\",\"orientation\":\"v\",\"showlegend\":true,\"x\":[2424,2423,2423,2423,2421,2421,2420,2420,2419,2419,2418,2418,2416,2415,2414,2414,2413,2410,2410,2410,2409,2409,2408,2408,2408,2408,2407,2406,2405,2405,2404,2404,2403,2402,2402,2401,2401,2400,2399,2398,2397,2397,2396,2396,2396,2396,2395,2394,2393,2392,2392,2391,2391,2390,2389,2389,2389,2388,2388,2387,2387,2385,2385,2385,2384,2383,2383,2383,2383,2383,2382,2382,2382,2382,2381,2381,2380,2380,2378,2377,2376,2376,2374,2373,2371,2371,2370,2370,2370,2369,2368,2368,2368,2368,2367,2367,2366,2366,2366,2365,2365,2364,2364,2363,2362,2362,2361,2360,2359,2358,2358,2356,2356,2356,2355,2355,2354,2352,2351,2350,2350,2349,2349,2349,2348,2348,2348,2348,2348,2347,2346,2344,2344,2341,2341,2340,2339,2339,2339,2338,2338,2338,2337,2337,2335,2335,2331,2331,2331,2330,2330,2329,2329,2329,2328,2328,2327,2327,2326,2326,2326,2325,2325,2324,2322,2322,2321,2321,2321,2320,2320,2320,2320,2320,2319,2318,2318,2318,2317,2316,2316,2314,2314,2314,2313,2313,2308,2308,2307,2307,2307,2307,2304,2303,2303,2302,2302,2302,2302,2301,2668,2620,2594,2583,2575,2570,2559,2557,2556,2542,2542,2537,2528,2525,2519,2509,2506,2504,2503,2502,2500,2500,2499,2493,2490,2488,2485,2484,2478,2477,2470,2467,2463,2461,2459,2454,2451,2448,2446,2446,2443,2442,2440,2439,2437,2436,2436,2436,2435,2435,2434,2433,2432,2432,2431,2431,2430,2430,2430,2430,2430,2429,2428,2426,2424,2423,2423,2422,2420,2418,2417,2415,2413,2412,2410,2409,2409,2405,2403,2403,2400,2398,2398,2398,2396,2396,2394,2394,2394,2393,2393,2392,2391,2391,2390,2390,2389,2388,2388,2388,2384,2384,2384,2384,2384,2382,2382,2380,2380,2380,2378,2377,2377,2373,2372,2372,2368,2368,2367,2366,2365,2365,2364,2364,2364,2363,2363,2362,2362,2362,2362,2360,2358,2354,2354,2353,2352,2352,2350,2349,2348,2347,2346,2346,2345,2344,2344,2344,2344,2343,2343,2342,2340,2339,2339,2339,2338,2338,2338,2337,2337,2336,2335,2333,2333,2333,2332,2332,2331,2329,2329,2328,2327,2326,2326,2324,2322,2322,2322,2321,2320,2320,2320,2316,2316,2315,2314,2314,2313,2313,2311,2309,2307,2307,2306,2306,2304,2304,2304,2303],\"xaxis\":\"x\",\"yaxis\":\"y\",\"type\":\"histogram\"}],                        {\"template\":{\"data\":{\"bar\":[{\"error_x\":{\"color\":\"#2a3f5f\"},\"error_y\":{\"color\":\"#2a3f5f\"},\"marker\":{\"line\":{\"color\":\"#E5ECF6\",\"width\":0.5},\"pattern\":{\"fillmode\":\"overlay\",\"size\":10,\"solidity\":0.2}},\"type\":\"bar\"}],\"barpolar\":[{\"marker\":{\"line\":{\"color\":\"#E5ECF6\",\"width\":0.5},\"pattern\":{\"fillmode\":\"overlay\",\"size\":10,\"solidity\":0.2}},\"type\":\"barpolar\"}],\"carpet\":[{\"aaxis\":{\"endlinecolor\":\"#2a3f5f\",\"gridcolor\":\"white\",\"linecolor\":\"white\",\"minorgridcolor\":\"white\",\"startlinecolor\":\"#2a3f5f\"},\"baxis\":{\"endlinecolor\":\"#2a3f5f\",\"gridcolor\":\"white\",\"linecolor\":\"white\",\"minorgridcolor\":\"white\",\"startlinecolor\":\"#2a3f5f\"},\"type\":\"carpet\"}],\"choropleth\":[{\"colorbar\":{\"outlinewidth\":0,\"ticks\":\"\"},\"type\":\"choropleth\"}],\"contour\":[{\"colorbar\":{\"outlinewidth\":0,\"ticks\":\"\"},\"colorscale\":[[0.0,\"#0d0887\"],[0.1111111111111111,\"#46039f\"],[0.2222222222222222,\"#7201a8\"],[0.3333333333333333,\"#9c179e\"],[0.4444444444444444,\"#bd3786\"],[0.5555555555555556,\"#d8576b\"],[0.6666666666666666,\"#ed7953\"],[0.7777777777777778,\"#fb9f3a\"],[0.8888888888888888,\"#fdca26\"],[1.0,\"#f0f921\"]],\"type\":\"contour\"}],\"contourcarpet\":[{\"colorbar\":{\"outlinewidth\":0,\"ticks\":\"\"},\"type\":\"contourcarpet\"}],\"heatmap\":[{\"colorbar\":{\"outlinewidth\":0,\"ticks\":\"\"},\"colorscale\":[[0.0,\"#0d0887\"],[0.1111111111111111,\"#46039f\"],[0.2222222222222222,\"#7201a8\"],[0.3333333333333333,\"#9c179e\"],[0.4444444444444444,\"#bd3786\"],[0.5555555555555556,\"#d8576b\"],[0.6666666666666666,\"#ed7953\"],[0.7777777777777778,\"#fb9f3a\"],[0.8888888888888888,\"#fdca26\"],[1.0,\"#f0f921\"]],\"type\":\"heatmap\"}],\"heatmapgl\":[{\"colorbar\":{\"outlinewidth\":0,\"ticks\":\"\"},\"colorscale\":[[0.0,\"#0d0887\"],[0.1111111111111111,\"#46039f\"],[0.2222222222222222,\"#7201a8\"],[0.3333333333333333,\"#9c179e\"],[0.4444444444444444,\"#bd3786\"],[0.5555555555555556,\"#d8576b\"],[0.6666666666666666,\"#ed7953\"],[0.7777777777777778,\"#fb9f3a\"],[0.8888888888888888,\"#fdca26\"],[1.0,\"#f0f921\"]],\"type\":\"heatmapgl\"}],\"histogram\":[{\"marker\":{\"pattern\":{\"fillmode\":\"overlay\",\"size\":10,\"solidity\":0.2}},\"type\":\"histogram\"}],\"histogram2d\":[{\"colorbar\":{\"outlinewidth\":0,\"ticks\":\"\"},\"colorscale\":[[0.0,\"#0d0887\"],[0.1111111111111111,\"#46039f\"],[0.2222222222222222,\"#7201a8\"],[0.3333333333333333,\"#9c179e\"],[0.4444444444444444,\"#bd3786\"],[0.5555555555555556,\"#d8576b\"],[0.6666666666666666,\"#ed7953\"],[0.7777777777777778,\"#fb9f3a\"],[0.8888888888888888,\"#fdca26\"],[1.0,\"#f0f921\"]],\"type\":\"histogram2d\"}],\"histogram2dcontour\":[{\"colorbar\":{\"outlinewidth\":0,\"ticks\":\"\"},\"colorscale\":[[0.0,\"#0d0887\"],[0.1111111111111111,\"#46039f\"],[0.2222222222222222,\"#7201a8\"],[0.3333333333333333,\"#9c179e\"],[0.4444444444444444,\"#bd3786\"],[0.5555555555555556,\"#d8576b\"],[0.6666666666666666,\"#ed7953\"],[0.7777777777777778,\"#fb9f3a\"],[0.8888888888888888,\"#fdca26\"],[1.0,\"#f0f921\"]],\"type\":\"histogram2dcontour\"}],\"mesh3d\":[{\"colorbar\":{\"outlinewidth\":0,\"ticks\":\"\"},\"type\":\"mesh3d\"}],\"parcoords\":[{\"line\":{\"colorbar\":{\"outlinewidth\":0,\"ticks\":\"\"}},\"type\":\"parcoords\"}],\"pie\":[{\"automargin\":true,\"type\":\"pie\"}],\"scatter\":[{\"marker\":{\"colorbar\":{\"outlinewidth\":0,\"ticks\":\"\"}},\"type\":\"scatter\"}],\"scatter3d\":[{\"line\":{\"colorbar\":{\"outlinewidth\":0,\"ticks\":\"\"}},\"marker\":{\"colorbar\":{\"outlinewidth\":0,\"ticks\":\"\"}},\"type\":\"scatter3d\"}],\"scattercarpet\":[{\"marker\":{\"colorbar\":{\"outlinewidth\":0,\"ticks\":\"\"}},\"type\":\"scattercarpet\"}],\"scattergeo\":[{\"marker\":{\"colorbar\":{\"outlinewidth\":0,\"ticks\":\"\"}},\"type\":\"scattergeo\"}],\"scattergl\":[{\"marker\":{\"colorbar\":{\"outlinewidth\":0,\"ticks\":\"\"}},\"type\":\"scattergl\"}],\"scattermapbox\":[{\"marker\":{\"colorbar\":{\"outlinewidth\":0,\"ticks\":\"\"}},\"type\":\"scattermapbox\"}],\"scatterpolar\":[{\"marker\":{\"colorbar\":{\"outlinewidth\":0,\"ticks\":\"\"}},\"type\":\"scatterpolar\"}],\"scatterpolargl\":[{\"marker\":{\"colorbar\":{\"outlinewidth\":0,\"ticks\":\"\"}},\"type\":\"scatterpolargl\"}],\"scatterternary\":[{\"marker\":{\"colorbar\":{\"outlinewidth\":0,\"ticks\":\"\"}},\"type\":\"scatterternary\"}],\"surface\":[{\"colorbar\":{\"outlinewidth\":0,\"ticks\":\"\"},\"colorscale\":[[0.0,\"#0d0887\"],[0.1111111111111111,\"#46039f\"],[0.2222222222222222,\"#7201a8\"],[0.3333333333333333,\"#9c179e\"],[0.4444444444444444,\"#bd3786\"],[0.5555555555555556,\"#d8576b\"],[0.6666666666666666,\"#ed7953\"],[0.7777777777777778,\"#fb9f3a\"],[0.8888888888888888,\"#fdca26\"],[1.0,\"#f0f921\"]],\"type\":\"surface\"}],\"table\":[{\"cells\":{\"fill\":{\"color\":\"#EBF0F8\"},\"line\":{\"color\":\"white\"}},\"header\":{\"fill\":{\"color\":\"#C8D4E3\"},\"line\":{\"color\":\"white\"}},\"type\":\"table\"}]},\"layout\":{\"annotationdefaults\":{\"arrowcolor\":\"#2a3f5f\",\"arrowhead\":0,\"arrowwidth\":1},\"autotypenumbers\":\"strict\",\"coloraxis\":{\"colorbar\":{\"outlinewidth\":0,\"ticks\":\"\"}},\"colorscale\":{\"diverging\":[[0,\"#8e0152\"],[0.1,\"#c51b7d\"],[0.2,\"#de77ae\"],[0.3,\"#f1b6da\"],[0.4,\"#fde0ef\"],[0.5,\"#f7f7f7\"],[0.6,\"#e6f5d0\"],[0.7,\"#b8e186\"],[0.8,\"#7fbc41\"],[0.9,\"#4d9221\"],[1,\"#276419\"]],\"sequential\":[[0.0,\"#0d0887\"],[0.1111111111111111,\"#46039f\"],[0.2222222222222222,\"#7201a8\"],[0.3333333333333333,\"#9c179e\"],[0.4444444444444444,\"#bd3786\"],[0.5555555555555556,\"#d8576b\"],[0.6666666666666666,\"#ed7953\"],[0.7777777777777778,\"#fb9f3a\"],[0.8888888888888888,\"#fdca26\"],[1.0,\"#f0f921\"]],\"sequentialminus\":[[0.0,\"#0d0887\"],[0.1111111111111111,\"#46039f\"],[0.2222222222222222,\"#7201a8\"],[0.3333333333333333,\"#9c179e\"],[0.4444444444444444,\"#bd3786\"],[0.5555555555555556,\"#d8576b\"],[0.6666666666666666,\"#ed7953\"],[0.7777777777777778,\"#fb9f3a\"],[0.8888888888888888,\"#fdca26\"],[1.0,\"#f0f921\"]]},\"colorway\":[\"#636efa\",\"#EF553B\",\"#00cc96\",\"#ab63fa\",\"#FFA15A\",\"#19d3f3\",\"#FF6692\",\"#B6E880\",\"#FF97FF\",\"#FECB52\"],\"font\":{\"color\":\"#2a3f5f\"},\"geo\":{\"bgcolor\":\"white\",\"lakecolor\":\"white\",\"landcolor\":\"#E5ECF6\",\"showlakes\":true,\"showland\":true,\"subunitcolor\":\"white\"},\"hoverlabel\":{\"align\":\"left\"},\"hovermode\":\"closest\",\"mapbox\":{\"style\":\"light\"},\"paper_bgcolor\":\"white\",\"plot_bgcolor\":\"#E5ECF6\",\"polar\":{\"angularaxis\":{\"gridcolor\":\"white\",\"linecolor\":\"white\",\"ticks\":\"\"},\"bgcolor\":\"#E5ECF6\",\"radialaxis\":{\"gridcolor\":\"white\",\"linecolor\":\"white\",\"ticks\":\"\"}},\"scene\":{\"xaxis\":{\"backgroundcolor\":\"#E5ECF6\",\"gridcolor\":\"white\",\"gridwidth\":2,\"linecolor\":\"white\",\"showbackground\":true,\"ticks\":\"\",\"zerolinecolor\":\"white\"},\"yaxis\":{\"backgroundcolor\":\"#E5ECF6\",\"gridcolor\":\"white\",\"gridwidth\":2,\"linecolor\":\"white\",\"showbackground\":true,\"ticks\":\"\",\"zerolinecolor\":\"white\"},\"zaxis\":{\"backgroundcolor\":\"#E5ECF6\",\"gridcolor\":\"white\",\"gridwidth\":2,\"linecolor\":\"white\",\"showbackground\":true,\"ticks\":\"\",\"zerolinecolor\":\"white\"}},\"shapedefaults\":{\"line\":{\"color\":\"#2a3f5f\"}},\"ternary\":{\"aaxis\":{\"gridcolor\":\"white\",\"linecolor\":\"white\",\"ticks\":\"\"},\"baxis\":{\"gridcolor\":\"white\",\"linecolor\":\"white\",\"ticks\":\"\"},\"bgcolor\":\"#E5ECF6\",\"caxis\":{\"gridcolor\":\"white\",\"linecolor\":\"white\",\"ticks\":\"\"}},\"title\":{\"x\":0.05},\"xaxis\":{\"automargin\":true,\"gridcolor\":\"white\",\"linecolor\":\"white\",\"ticks\":\"\",\"title\":{\"standoff\":15},\"zerolinecolor\":\"white\",\"zerolinewidth\":2},\"yaxis\":{\"automargin\":true,\"gridcolor\":\"white\",\"linecolor\":\"white\",\"ticks\":\"\",\"title\":{\"standoff\":15},\"zerolinecolor\":\"white\",\"zerolinewidth\":2}}},\"xaxis\":{\"anchor\":\"y\",\"domain\":[0.0,1.0],\"title\":{\"text\":\"value\"}},\"yaxis\":{\"anchor\":\"x\",\"domain\":[0.0,1.0],\"title\":{\"text\":\"count\"}},\"legend\":{\"title\":{\"text\":\"variable\"},\"tracegroupgap\":0},\"margin\":{\"t\":60},\"barmode\":\"relative\"},                        {\"responsive\": true}                    ).then(function(){\n",
       "                            \n",
       "var gd = document.getElementById('0fed8d75-8784-4e4a-90da-9679ec3b4834');\n",
       "var x = new MutationObserver(function (mutations, observer) {{\n",
       "        var display = window.getComputedStyle(gd).display;\n",
       "        if (!display || display === 'none') {{\n",
       "            console.log([gd, 'removed!']);\n",
       "            Plotly.purge(gd);\n",
       "            observer.disconnect();\n",
       "        }}\n",
       "}});\n",
       "\n",
       "// Listen for the removal of the full notebook cells\n",
       "var notebookContainer = gd.closest('#notebook-container');\n",
       "if (notebookContainer) {{\n",
       "    x.observe(notebookContainer, {childList: true});\n",
       "}}\n",
       "\n",
       "// Listen for the clearing of the current output cell\n",
       "var outputEl = gd.closest('.output');\n",
       "if (outputEl) {{\n",
       "    x.observe(outputEl, {childList: true});\n",
       "}}\n",
       "\n",
       "                        })                };                });            </script>        </div>"
      ]
     },
     "metadata": {},
     "output_type": "display_data"
    }
   ],
   "source": [
    "fig = px.histogram(values,nbins=30)\n",
    "fig.show()"
   ]
  },
  {
   "cell_type": "markdown",
   "id": "c4a81b28",
   "metadata": {},
   "source": [
    "### Assuming the Opening ELO Score to be at 2365"
   ]
  },
  {
   "cell_type": "code",
   "execution_count": 163,
   "id": "a920f0ce",
   "metadata": {},
   "outputs": [],
   "source": [
    "# Winning probability of the white player based on ELO scores of White and Black\n",
    "def ELO_win_probability(Ra, Rb):\n",
    "    if Ra == 0:Ra = 2365\n",
    "    if Rb == 0:Rb = 2365\n",
    "    return 1/(1+10**((Rb-Ra)/100))\n",
    "\n",
    "\n",
    "# Update ELO score based on the current game output\n",
    "def Update_Elo(Ra, Rb, result, e1, e2):\n",
    "    if Ra == 0:Ra = 2365\n",
    "    if Rb == 0:Rb = 2365\n",
    "        \n",
    "    Ea = ELO_win_probability(Ra, Rb)\n",
    "    Eb = ELO_win_probability(Rb, Ra)\n",
    "    \n",
    "    k = 50\n",
    "    \n",
    "    if e1>=30:k=30\n",
    "    if Ra >= 2500 and result == 1:k=20\n",
    "    Ra = Ra + k*(result-Ea)\n",
    "    \n",
    "    if e2 >=30:k=30\n",
    "    if Rb >= 2500 and result == 0:k=20\n",
    "    Rb = Rb + k*((1-result)-Eb)\n",
    "    \n",
    "    return Ra, Rb\n",
    "\n"
   ]
  },
  {
   "cell_type": "code",
   "execution_count": 164,
   "id": "a075a049",
   "metadata": {},
   "outputs": [],
   "source": [
    "# For each games, compute the ELO-score and probability of winning for both the players using their previous history\n",
    "\n",
    "train['ELO_probability'] = 0\n",
    "test['ELO_probability'] = 0\n",
    "\n",
    "train['White_ELO'] = 0\n",
    "train['Black_ELO'] = 0\n",
    "\n",
    "test['White_ELO'] = 0\n",
    "test['Black_ELO'] = 0\n",
    "\n",
    "\n",
    "for row in range(0,len(train)):\n",
    "    \n",
    "    # Extract current game result and player's names\n",
    "    year = train.Year[row]\n",
    "    p1, p2, result = train.white[row], train.black[row], train.result[row]\n",
    "    e1, e2 = train['White_Exp'][row], train['Black_Exp'][row]\n",
    "    \n",
    "    \n",
    "    # check if the players have ELO score or else assign the default ELO score of 2365 to them.\n",
    "    if p1 in ELO_2014.keys():r1 = int(ELO_2014[p1])\n",
    "    else:r1 = 2365\n",
    "    if p2 in ELO_2014.keys():r2 = int(ELO_2014[p2])\n",
    "    else:r2 = 2365\n",
    "        \n",
    "#     if year >= 2020:\n",
    "#         if p1 in ELO_2020.keys():r1 = int(ELO_2020[p1])\n",
    "#         if p2 in ELO_2020.keys():r2 = int(ELO_2020[p2])\n",
    "\n",
    "    # Compute the white wining probability using ELO scores\n",
    "    train['ELO_probability'][row] = ELO_win_probability(r1,r2)\n",
    "    \n",
    "    # Capture the ELO scores\n",
    "    train['White_ELO'][row] = r1\n",
    "    train['Black_ELO'][row] = r2\n",
    "    \n",
    "    # Update the ELO scores of the players using the current game result\n",
    "    r1, r2 = Update_Elo(r1,r2, result,e1,e2)\n",
    "\n",
    "    if year >= 2020:\n",
    "        ELO_2020[p1] = r1\n",
    "        ELO_2020[p2] = r2\n",
    "    else:\n",
    "        ELO_2014[p1] = r1\n",
    "        ELO_2014[p2] = r2\n",
    "        \n",
    "for row in range(0,len(test)):\n",
    "\n",
    "    # Extract current game result and player's names\n",
    "    p1, p2, year = test.white[row], train.black[row], test.Year[row]\n",
    "    \n",
    "    # check if the players have ELO score or else assign the default ELO score of 2365 to them.\n",
    "    if p1 in ELO_2014.keys():r1 = int(ELO_2014[p1])\n",
    "    else:r1 = 0\n",
    "    if p2 in ELO_2014.keys():r2 = int(ELO_2014[p2])\n",
    "    else:r2 = 0\n",
    "    if year >= 2020:\n",
    "        if p1 in ELO_2020.keys():r1 = int(ELO_2020[p1])\n",
    "        if p2 in ELO_2020.keys():r2 = int(ELO_2020[p2])\n",
    "\n",
    "    # Compute the white wining probability using ELO scores\n",
    "    test['ELO_probability'][row] = ELO_win_probability(r1,r2)\n",
    "    \n",
    "    # Capture the ELO scores\n",
    "    test['White_ELO'][row] = r1\n",
    "    test['Black_ELO'][row] = r2"
   ]
  },
  {
   "cell_type": "code",
   "execution_count": 194,
   "id": "f2962226",
   "metadata": {},
   "outputs": [
    {
     "data": {
      "application/vnd.plotly.v1+json": {
       "config": {
        "plotlyServerURL": "https://plot.ly"
       },
       "data": [
        {
         "coloraxis": "coloraxis",
         "hovertemplate": "x: %{x}<br>y: %{y}<br>color: %{z}<extra></extra>",
         "name": "0",
         "texttemplate": "%{z}",
         "type": "heatmap",
         "x": [
          "Wins",
          "Draws",
          "Loses"
         ],
         "xaxis": "x",
         "y": [
          "2218.5",
          "2267.21",
          "2290.86",
          "2309.01",
          "2324.56",
          "2339.33",
          "2354.09",
          "2369.36",
          "2389.25",
          "2427.37"
         ],
         "yaxis": "y",
         "z": [
          [
           3863,
           6186,
           7362
          ],
          [
           4908,
           6782,
           5721
          ],
          [
           5443,
           6838,
           5130
          ],
          [
           5740,
           6949,
           4722
          ],
          [
           5925,
           6968,
           4518
          ],
          [
           6234,
           7053,
           4124
          ],
          [
           6400,
           7205,
           3806
          ],
          [
           6755,
           6970,
           3686
          ],
          [
           7406,
           6804,
           3201
          ],
          [
           8965,
           6077,
           2369
          ]
         ]
        },
        {
         "coloraxis": "coloraxis",
         "hovertemplate": "x: %{x}<br>y: %{y}<br>color: %{z}<extra></extra>",
         "name": "0",
         "texttemplate": "%{z}",
         "type": "heatmap",
         "x": [
          "Wins",
          "Draws",
          "Loses"
         ],
         "xaxis": "x2",
         "y": [
          "2219.58",
          "2268.39",
          "2292.31",
          "2310.32",
          "2326.08",
          "2340.79",
          "2355.59",
          "2371.04",
          "2391.0",
          "2428.8"
         ],
         "yaxis": "y2",
         "z": [
          [
           9029,
           5674,
           2708
          ],
          [
           7508,
           6449,
           3454
          ],
          [
           6928,
           6633,
           3850
          ],
          [
           6544,
           6888,
           3979
          ],
          [
           6259,
           6955,
           4197
          ],
          [
           5908,
           7033,
           4470
          ],
          [
           5621,
           7157,
           4633
          ],
          [
           5322,
           7138,
           4951
          ],
          [
           4847,
           7086,
           5478
          ],
          [
           3677,
           6818,
           6916
          ]
         ]
        },
        {
         "coloraxis": "coloraxis",
         "hovertemplate": "x: %{x}<br>y: %{y}<br>color: %{z}<extra></extra>",
         "name": "0",
         "texttemplate": "%{z}",
         "type": "heatmap",
         "x": [
          "Wins",
          "Draws",
          "Loses"
         ],
         "xaxis": "x3",
         "y": [
          "0.11",
          "0.22",
          "0.31",
          "0.39",
          "0.46",
          "0.52",
          "0.59",
          "0.67",
          "0.76",
          "0.89"
         ],
         "yaxis": "y3",
         "z": [
          [
           1727,
           5082,
           10602
          ],
          [
           2734,
           6956,
           7721
          ],
          [
           3667,
           7725,
           6019
          ],
          [
           4465,
           8002,
           4944
          ],
          [
           5327,
           7945,
           4139
          ],
          [
           6080,
           7872,
           3459
          ],
          [
           7225,
           7391,
           2795
          ],
          [
           8351,
           6855,
           2205
          ],
          [
           9869,
           5821,
           1721
          ],
          [
           12190,
           4186,
           1035
          ]
         ]
        }
       ],
       "layout": {
        "annotations": [
         {
          "font": {
           "size": 16
          },
          "showarrow": false,
          "text": "White_ELO",
          "x": 0.09999999999999999,
          "xanchor": "center",
          "xref": "paper",
          "y": 1,
          "yanchor": "bottom",
          "yref": "paper"
         },
         {
          "font": {
           "size": 16
          },
          "showarrow": false,
          "text": "Black_ELO",
          "x": 0.5,
          "xanchor": "center",
          "xref": "paper",
          "y": 1,
          "yanchor": "bottom",
          "yref": "paper"
         },
         {
          "font": {
           "size": 16
          },
          "showarrow": false,
          "text": "ELO_probability",
          "x": 0.9,
          "xanchor": "center",
          "xref": "paper",
          "y": 1,
          "yanchor": "bottom",
          "yref": "paper"
         }
        ],
        "coloraxis": {
         "colorbar": {
          "thickness": 25,
          "x": -0.12
         },
         "colorscale": [
          [
           0,
           "rgb(23, 28, 66)"
          ],
          [
           0.09090909090909091,
           "rgb(41, 58, 143)"
          ],
          [
           0.18181818181818182,
           "rgb(11, 102, 189)"
          ],
          [
           0.2727272727272727,
           "rgb(69, 144, 185)"
          ],
          [
           0.36363636363636365,
           "rgb(142, 181, 194)"
          ],
          [
           0.45454545454545453,
           "rgb(210, 216, 219)"
          ],
          [
           0.5454545454545454,
           "rgb(230, 210, 204)"
          ],
          [
           0.6363636363636364,
           "rgb(213, 157, 137)"
          ],
          [
           0.7272727272727273,
           "rgb(196, 101, 72)"
          ],
          [
           0.8181818181818182,
           "rgb(172, 43, 36)"
          ],
          [
           0.9090909090909091,
           "rgb(120, 14, 40)"
          ],
          [
           1,
           "rgb(60, 9, 17)"
          ]
         ],
         "showscale": false
        },
        "coloraxis2": {
         "colorbar": {
          "thickness": 25
         },
         "colorscale": [
          [
           0,
           "rgb(20, 29, 67)"
          ],
          [
           0.09090909090909091,
           "rgb(28, 72, 93)"
          ],
          [
           0.18181818181818182,
           "rgb(18, 115, 117)"
          ],
          [
           0.2727272727272727,
           "rgb(63, 156, 129)"
          ],
          [
           0.36363636363636365,
           "rgb(153, 189, 156)"
          ],
          [
           0.45454545454545453,
           "rgb(223, 225, 211)"
          ],
          [
           0.5454545454545454,
           "rgb(241, 218, 206)"
          ],
          [
           0.6363636363636364,
           "rgb(224, 160, 137)"
          ],
          [
           0.7272727272727273,
           "rgb(203, 101, 99)"
          ],
          [
           0.8181818181818182,
           "rgb(164, 54, 96)"
          ],
          [
           0.9090909090909091,
           "rgb(111, 23, 91)"
          ],
          [
           1,
           "rgb(51, 13, 53)"
          ]
         ],
         "showscale": false
        },
        "template": {
         "data": {
          "bar": [
           {
            "error_x": {
             "color": "#2a3f5f"
            },
            "error_y": {
             "color": "#2a3f5f"
            },
            "marker": {
             "line": {
              "color": "#E5ECF6",
              "width": 0.5
             },
             "pattern": {
              "fillmode": "overlay",
              "size": 10,
              "solidity": 0.2
             }
            },
            "type": "bar"
           }
          ],
          "barpolar": [
           {
            "marker": {
             "line": {
              "color": "#E5ECF6",
              "width": 0.5
             },
             "pattern": {
              "fillmode": "overlay",
              "size": 10,
              "solidity": 0.2
             }
            },
            "type": "barpolar"
           }
          ],
          "carpet": [
           {
            "aaxis": {
             "endlinecolor": "#2a3f5f",
             "gridcolor": "white",
             "linecolor": "white",
             "minorgridcolor": "white",
             "startlinecolor": "#2a3f5f"
            },
            "baxis": {
             "endlinecolor": "#2a3f5f",
             "gridcolor": "white",
             "linecolor": "white",
             "minorgridcolor": "white",
             "startlinecolor": "#2a3f5f"
            },
            "type": "carpet"
           }
          ],
          "choropleth": [
           {
            "colorbar": {
             "outlinewidth": 0,
             "ticks": ""
            },
            "type": "choropleth"
           }
          ],
          "contour": [
           {
            "colorbar": {
             "outlinewidth": 0,
             "ticks": ""
            },
            "colorscale": [
             [
              0,
              "#0d0887"
             ],
             [
              0.1111111111111111,
              "#46039f"
             ],
             [
              0.2222222222222222,
              "#7201a8"
             ],
             [
              0.3333333333333333,
              "#9c179e"
             ],
             [
              0.4444444444444444,
              "#bd3786"
             ],
             [
              0.5555555555555556,
              "#d8576b"
             ],
             [
              0.6666666666666666,
              "#ed7953"
             ],
             [
              0.7777777777777778,
              "#fb9f3a"
             ],
             [
              0.8888888888888888,
              "#fdca26"
             ],
             [
              1,
              "#f0f921"
             ]
            ],
            "type": "contour"
           }
          ],
          "contourcarpet": [
           {
            "colorbar": {
             "outlinewidth": 0,
             "ticks": ""
            },
            "type": "contourcarpet"
           }
          ],
          "heatmap": [
           {
            "colorbar": {
             "outlinewidth": 0,
             "ticks": ""
            },
            "colorscale": [
             [
              0,
              "#0d0887"
             ],
             [
              0.1111111111111111,
              "#46039f"
             ],
             [
              0.2222222222222222,
              "#7201a8"
             ],
             [
              0.3333333333333333,
              "#9c179e"
             ],
             [
              0.4444444444444444,
              "#bd3786"
             ],
             [
              0.5555555555555556,
              "#d8576b"
             ],
             [
              0.6666666666666666,
              "#ed7953"
             ],
             [
              0.7777777777777778,
              "#fb9f3a"
             ],
             [
              0.8888888888888888,
              "#fdca26"
             ],
             [
              1,
              "#f0f921"
             ]
            ],
            "type": "heatmap"
           }
          ],
          "heatmapgl": [
           {
            "colorbar": {
             "outlinewidth": 0,
             "ticks": ""
            },
            "colorscale": [
             [
              0,
              "#0d0887"
             ],
             [
              0.1111111111111111,
              "#46039f"
             ],
             [
              0.2222222222222222,
              "#7201a8"
             ],
             [
              0.3333333333333333,
              "#9c179e"
             ],
             [
              0.4444444444444444,
              "#bd3786"
             ],
             [
              0.5555555555555556,
              "#d8576b"
             ],
             [
              0.6666666666666666,
              "#ed7953"
             ],
             [
              0.7777777777777778,
              "#fb9f3a"
             ],
             [
              0.8888888888888888,
              "#fdca26"
             ],
             [
              1,
              "#f0f921"
             ]
            ],
            "type": "heatmapgl"
           }
          ],
          "histogram": [
           {
            "marker": {
             "pattern": {
              "fillmode": "overlay",
              "size": 10,
              "solidity": 0.2
             }
            },
            "type": "histogram"
           }
          ],
          "histogram2d": [
           {
            "colorbar": {
             "outlinewidth": 0,
             "ticks": ""
            },
            "colorscale": [
             [
              0,
              "#0d0887"
             ],
             [
              0.1111111111111111,
              "#46039f"
             ],
             [
              0.2222222222222222,
              "#7201a8"
             ],
             [
              0.3333333333333333,
              "#9c179e"
             ],
             [
              0.4444444444444444,
              "#bd3786"
             ],
             [
              0.5555555555555556,
              "#d8576b"
             ],
             [
              0.6666666666666666,
              "#ed7953"
             ],
             [
              0.7777777777777778,
              "#fb9f3a"
             ],
             [
              0.8888888888888888,
              "#fdca26"
             ],
             [
              1,
              "#f0f921"
             ]
            ],
            "type": "histogram2d"
           }
          ],
          "histogram2dcontour": [
           {
            "colorbar": {
             "outlinewidth": 0,
             "ticks": ""
            },
            "colorscale": [
             [
              0,
              "#0d0887"
             ],
             [
              0.1111111111111111,
              "#46039f"
             ],
             [
              0.2222222222222222,
              "#7201a8"
             ],
             [
              0.3333333333333333,
              "#9c179e"
             ],
             [
              0.4444444444444444,
              "#bd3786"
             ],
             [
              0.5555555555555556,
              "#d8576b"
             ],
             [
              0.6666666666666666,
              "#ed7953"
             ],
             [
              0.7777777777777778,
              "#fb9f3a"
             ],
             [
              0.8888888888888888,
              "#fdca26"
             ],
             [
              1,
              "#f0f921"
             ]
            ],
            "type": "histogram2dcontour"
           }
          ],
          "mesh3d": [
           {
            "colorbar": {
             "outlinewidth": 0,
             "ticks": ""
            },
            "type": "mesh3d"
           }
          ],
          "parcoords": [
           {
            "line": {
             "colorbar": {
              "outlinewidth": 0,
              "ticks": ""
             }
            },
            "type": "parcoords"
           }
          ],
          "pie": [
           {
            "automargin": true,
            "type": "pie"
           }
          ],
          "scatter": [
           {
            "marker": {
             "colorbar": {
              "outlinewidth": 0,
              "ticks": ""
             }
            },
            "type": "scatter"
           }
          ],
          "scatter3d": [
           {
            "line": {
             "colorbar": {
              "outlinewidth": 0,
              "ticks": ""
             }
            },
            "marker": {
             "colorbar": {
              "outlinewidth": 0,
              "ticks": ""
             }
            },
            "type": "scatter3d"
           }
          ],
          "scattercarpet": [
           {
            "marker": {
             "colorbar": {
              "outlinewidth": 0,
              "ticks": ""
             }
            },
            "type": "scattercarpet"
           }
          ],
          "scattergeo": [
           {
            "marker": {
             "colorbar": {
              "outlinewidth": 0,
              "ticks": ""
             }
            },
            "type": "scattergeo"
           }
          ],
          "scattergl": [
           {
            "marker": {
             "colorbar": {
              "outlinewidth": 0,
              "ticks": ""
             }
            },
            "type": "scattergl"
           }
          ],
          "scattermapbox": [
           {
            "marker": {
             "colorbar": {
              "outlinewidth": 0,
              "ticks": ""
             }
            },
            "type": "scattermapbox"
           }
          ],
          "scatterpolar": [
           {
            "marker": {
             "colorbar": {
              "outlinewidth": 0,
              "ticks": ""
             }
            },
            "type": "scatterpolar"
           }
          ],
          "scatterpolargl": [
           {
            "marker": {
             "colorbar": {
              "outlinewidth": 0,
              "ticks": ""
             }
            },
            "type": "scatterpolargl"
           }
          ],
          "scatterternary": [
           {
            "marker": {
             "colorbar": {
              "outlinewidth": 0,
              "ticks": ""
             }
            },
            "type": "scatterternary"
           }
          ],
          "surface": [
           {
            "colorbar": {
             "outlinewidth": 0,
             "ticks": ""
            },
            "colorscale": [
             [
              0,
              "#0d0887"
             ],
             [
              0.1111111111111111,
              "#46039f"
             ],
             [
              0.2222222222222222,
              "#7201a8"
             ],
             [
              0.3333333333333333,
              "#9c179e"
             ],
             [
              0.4444444444444444,
              "#bd3786"
             ],
             [
              0.5555555555555556,
              "#d8576b"
             ],
             [
              0.6666666666666666,
              "#ed7953"
             ],
             [
              0.7777777777777778,
              "#fb9f3a"
             ],
             [
              0.8888888888888888,
              "#fdca26"
             ],
             [
              1,
              "#f0f921"
             ]
            ],
            "type": "surface"
           }
          ],
          "table": [
           {
            "cells": {
             "fill": {
              "color": "#EBF0F8"
             },
             "line": {
              "color": "white"
             }
            },
            "header": {
             "fill": {
              "color": "#C8D4E3"
             },
             "line": {
              "color": "white"
             }
            },
            "type": "table"
           }
          ]
         },
         "layout": {
          "annotationdefaults": {
           "arrowcolor": "#2a3f5f",
           "arrowhead": 0,
           "arrowwidth": 1
          },
          "autotypenumbers": "strict",
          "coloraxis": {
           "colorbar": {
            "outlinewidth": 0,
            "ticks": ""
           }
          },
          "colorscale": {
           "diverging": [
            [
             0,
             "#8e0152"
            ],
            [
             0.1,
             "#c51b7d"
            ],
            [
             0.2,
             "#de77ae"
            ],
            [
             0.3,
             "#f1b6da"
            ],
            [
             0.4,
             "#fde0ef"
            ],
            [
             0.5,
             "#f7f7f7"
            ],
            [
             0.6,
             "#e6f5d0"
            ],
            [
             0.7,
             "#b8e186"
            ],
            [
             0.8,
             "#7fbc41"
            ],
            [
             0.9,
             "#4d9221"
            ],
            [
             1,
             "#276419"
            ]
           ],
           "sequential": [
            [
             0,
             "#0d0887"
            ],
            [
             0.1111111111111111,
             "#46039f"
            ],
            [
             0.2222222222222222,
             "#7201a8"
            ],
            [
             0.3333333333333333,
             "#9c179e"
            ],
            [
             0.4444444444444444,
             "#bd3786"
            ],
            [
             0.5555555555555556,
             "#d8576b"
            ],
            [
             0.6666666666666666,
             "#ed7953"
            ],
            [
             0.7777777777777778,
             "#fb9f3a"
            ],
            [
             0.8888888888888888,
             "#fdca26"
            ],
            [
             1,
             "#f0f921"
            ]
           ],
           "sequentialminus": [
            [
             0,
             "#0d0887"
            ],
            [
             0.1111111111111111,
             "#46039f"
            ],
            [
             0.2222222222222222,
             "#7201a8"
            ],
            [
             0.3333333333333333,
             "#9c179e"
            ],
            [
             0.4444444444444444,
             "#bd3786"
            ],
            [
             0.5555555555555556,
             "#d8576b"
            ],
            [
             0.6666666666666666,
             "#ed7953"
            ],
            [
             0.7777777777777778,
             "#fb9f3a"
            ],
            [
             0.8888888888888888,
             "#fdca26"
            ],
            [
             1,
             "#f0f921"
            ]
           ]
          },
          "colorway": [
           "#636efa",
           "#EF553B",
           "#00cc96",
           "#ab63fa",
           "#FFA15A",
           "#19d3f3",
           "#FF6692",
           "#B6E880",
           "#FF97FF",
           "#FECB52"
          ],
          "font": {
           "color": "#2a3f5f"
          },
          "geo": {
           "bgcolor": "white",
           "lakecolor": "white",
           "landcolor": "#E5ECF6",
           "showlakes": true,
           "showland": true,
           "subunitcolor": "white"
          },
          "hoverlabel": {
           "align": "left"
          },
          "hovermode": "closest",
          "mapbox": {
           "style": "light"
          },
          "paper_bgcolor": "white",
          "plot_bgcolor": "#E5ECF6",
          "polar": {
           "angularaxis": {
            "gridcolor": "white",
            "linecolor": "white",
            "ticks": ""
           },
           "bgcolor": "#E5ECF6",
           "radialaxis": {
            "gridcolor": "white",
            "linecolor": "white",
            "ticks": ""
           }
          },
          "scene": {
           "xaxis": {
            "backgroundcolor": "#E5ECF6",
            "gridcolor": "white",
            "gridwidth": 2,
            "linecolor": "white",
            "showbackground": true,
            "ticks": "",
            "zerolinecolor": "white"
           },
           "yaxis": {
            "backgroundcolor": "#E5ECF6",
            "gridcolor": "white",
            "gridwidth": 2,
            "linecolor": "white",
            "showbackground": true,
            "ticks": "",
            "zerolinecolor": "white"
           },
           "zaxis": {
            "backgroundcolor": "#E5ECF6",
            "gridcolor": "white",
            "gridwidth": 2,
            "linecolor": "white",
            "showbackground": true,
            "ticks": "",
            "zerolinecolor": "white"
           }
          },
          "shapedefaults": {
           "line": {
            "color": "#2a3f5f"
           }
          },
          "ternary": {
           "aaxis": {
            "gridcolor": "white",
            "linecolor": "white",
            "ticks": ""
           },
           "baxis": {
            "gridcolor": "white",
            "linecolor": "white",
            "ticks": ""
           },
           "bgcolor": "#E5ECF6",
           "caxis": {
            "gridcolor": "white",
            "linecolor": "white",
            "ticks": ""
           }
          },
          "title": {
           "x": 0.05
          },
          "xaxis": {
           "automargin": true,
           "gridcolor": "white",
           "linecolor": "white",
           "ticks": "",
           "title": {
            "standoff": 15
           },
           "zerolinecolor": "white",
           "zerolinewidth": 2
          },
          "yaxis": {
           "automargin": true,
           "gridcolor": "white",
           "linecolor": "white",
           "ticks": "",
           "title": {
            "standoff": 15
           },
           "zerolinecolor": "white",
           "zerolinewidth": 2
          }
         }
        },
        "title": {
         "text": "Players ELO Scores and White Winning Probability",
         "x": 0
        },
        "xaxis": {
         "anchor": "y",
         "domain": [
          0,
          0.19999999999999998
         ]
        },
        "xaxis2": {
         "anchor": "y2",
         "domain": [
          0.4,
          0.6
         ]
        },
        "xaxis3": {
         "anchor": "y3",
         "domain": [
          0.8,
          1
         ]
        },
        "yaxis": {
         "anchor": "x",
         "domain": [
          0,
          1
         ]
        },
        "yaxis2": {
         "anchor": "x2",
         "domain": [
          0,
          1
         ]
        },
        "yaxis3": {
         "anchor": "x3",
         "domain": [
          0,
          1
         ]
        }
       }
      },
      "text/html": [
       "<div>                            <div id=\"ebf96e2b-6864-4a35-9b32-5da9720962ef\" class=\"plotly-graph-div\" style=\"height:525px; width:100%;\"></div>            <script type=\"text/javascript\">                require([\"plotly\"], function(Plotly) {                    window.PLOTLYENV=window.PLOTLYENV || {};                                    if (document.getElementById(\"ebf96e2b-6864-4a35-9b32-5da9720962ef\")) {                    Plotly.newPlot(                        \"ebf96e2b-6864-4a35-9b32-5da9720962ef\",                        [{\"coloraxis\":\"coloraxis\",\"hovertemplate\":\"x: %{x}<br>y: %{y}<br>color: %{z}<extra></extra>\",\"name\":\"0\",\"texttemplate\":\"%{z}\",\"x\":[\"Wins\",\"Draws\",\"Loses\"],\"xaxis\":\"x\",\"y\":[\"2218.5\",\"2267.21\",\"2290.86\",\"2309.01\",\"2324.56\",\"2339.33\",\"2354.09\",\"2369.36\",\"2389.25\",\"2427.37\"],\"yaxis\":\"y\",\"z\":[[3863,6186,7362],[4908,6782,5721],[5443,6838,5130],[5740,6949,4722],[5925,6968,4518],[6234,7053,4124],[6400,7205,3806],[6755,6970,3686],[7406,6804,3201],[8965,6077,2369]],\"type\":\"heatmap\"},{\"coloraxis\":\"coloraxis\",\"hovertemplate\":\"x: %{x}<br>y: %{y}<br>color: %{z}<extra></extra>\",\"name\":\"0\",\"texttemplate\":\"%{z}\",\"x\":[\"Wins\",\"Draws\",\"Loses\"],\"xaxis\":\"x2\",\"y\":[\"2219.58\",\"2268.39\",\"2292.31\",\"2310.32\",\"2326.08\",\"2340.79\",\"2355.59\",\"2371.04\",\"2391.0\",\"2428.8\"],\"yaxis\":\"y2\",\"z\":[[9029,5674,2708],[7508,6449,3454],[6928,6633,3850],[6544,6888,3979],[6259,6955,4197],[5908,7033,4470],[5621,7157,4633],[5322,7138,4951],[4847,7086,5478],[3677,6818,6916]],\"type\":\"heatmap\"},{\"coloraxis\":\"coloraxis\",\"hovertemplate\":\"x: %{x}<br>y: %{y}<br>color: %{z}<extra></extra>\",\"name\":\"0\",\"texttemplate\":\"%{z}\",\"x\":[\"Wins\",\"Draws\",\"Loses\"],\"xaxis\":\"x3\",\"y\":[\"0.11\",\"0.22\",\"0.31\",\"0.39\",\"0.46\",\"0.52\",\"0.59\",\"0.67\",\"0.76\",\"0.89\"],\"yaxis\":\"y3\",\"z\":[[1727,5082,10602],[2734,6956,7721],[3667,7725,6019],[4465,8002,4944],[5327,7945,4139],[6080,7872,3459],[7225,7391,2795],[8351,6855,2205],[9869,5821,1721],[12190,4186,1035]],\"type\":\"heatmap\"}],                        {\"template\":{\"data\":{\"bar\":[{\"error_x\":{\"color\":\"#2a3f5f\"},\"error_y\":{\"color\":\"#2a3f5f\"},\"marker\":{\"line\":{\"color\":\"#E5ECF6\",\"width\":0.5},\"pattern\":{\"fillmode\":\"overlay\",\"size\":10,\"solidity\":0.2}},\"type\":\"bar\"}],\"barpolar\":[{\"marker\":{\"line\":{\"color\":\"#E5ECF6\",\"width\":0.5},\"pattern\":{\"fillmode\":\"overlay\",\"size\":10,\"solidity\":0.2}},\"type\":\"barpolar\"}],\"carpet\":[{\"aaxis\":{\"endlinecolor\":\"#2a3f5f\",\"gridcolor\":\"white\",\"linecolor\":\"white\",\"minorgridcolor\":\"white\",\"startlinecolor\":\"#2a3f5f\"},\"baxis\":{\"endlinecolor\":\"#2a3f5f\",\"gridcolor\":\"white\",\"linecolor\":\"white\",\"minorgridcolor\":\"white\",\"startlinecolor\":\"#2a3f5f\"},\"type\":\"carpet\"}],\"choropleth\":[{\"colorbar\":{\"outlinewidth\":0,\"ticks\":\"\"},\"type\":\"choropleth\"}],\"contour\":[{\"colorbar\":{\"outlinewidth\":0,\"ticks\":\"\"},\"colorscale\":[[0.0,\"#0d0887\"],[0.1111111111111111,\"#46039f\"],[0.2222222222222222,\"#7201a8\"],[0.3333333333333333,\"#9c179e\"],[0.4444444444444444,\"#bd3786\"],[0.5555555555555556,\"#d8576b\"],[0.6666666666666666,\"#ed7953\"],[0.7777777777777778,\"#fb9f3a\"],[0.8888888888888888,\"#fdca26\"],[1.0,\"#f0f921\"]],\"type\":\"contour\"}],\"contourcarpet\":[{\"colorbar\":{\"outlinewidth\":0,\"ticks\":\"\"},\"type\":\"contourcarpet\"}],\"heatmap\":[{\"colorbar\":{\"outlinewidth\":0,\"ticks\":\"\"},\"colorscale\":[[0.0,\"#0d0887\"],[0.1111111111111111,\"#46039f\"],[0.2222222222222222,\"#7201a8\"],[0.3333333333333333,\"#9c179e\"],[0.4444444444444444,\"#bd3786\"],[0.5555555555555556,\"#d8576b\"],[0.6666666666666666,\"#ed7953\"],[0.7777777777777778,\"#fb9f3a\"],[0.8888888888888888,\"#fdca26\"],[1.0,\"#f0f921\"]],\"type\":\"heatmap\"}],\"heatmapgl\":[{\"colorbar\":{\"outlinewidth\":0,\"ticks\":\"\"},\"colorscale\":[[0.0,\"#0d0887\"],[0.1111111111111111,\"#46039f\"],[0.2222222222222222,\"#7201a8\"],[0.3333333333333333,\"#9c179e\"],[0.4444444444444444,\"#bd3786\"],[0.5555555555555556,\"#d8576b\"],[0.6666666666666666,\"#ed7953\"],[0.7777777777777778,\"#fb9f3a\"],[0.8888888888888888,\"#fdca26\"],[1.0,\"#f0f921\"]],\"type\":\"heatmapgl\"}],\"histogram\":[{\"marker\":{\"pattern\":{\"fillmode\":\"overlay\",\"size\":10,\"solidity\":0.2}},\"type\":\"histogram\"}],\"histogram2d\":[{\"colorbar\":{\"outlinewidth\":0,\"ticks\":\"\"},\"colorscale\":[[0.0,\"#0d0887\"],[0.1111111111111111,\"#46039f\"],[0.2222222222222222,\"#7201a8\"],[0.3333333333333333,\"#9c179e\"],[0.4444444444444444,\"#bd3786\"],[0.5555555555555556,\"#d8576b\"],[0.6666666666666666,\"#ed7953\"],[0.7777777777777778,\"#fb9f3a\"],[0.8888888888888888,\"#fdca26\"],[1.0,\"#f0f921\"]],\"type\":\"histogram2d\"}],\"histogram2dcontour\":[{\"colorbar\":{\"outlinewidth\":0,\"ticks\":\"\"},\"colorscale\":[[0.0,\"#0d0887\"],[0.1111111111111111,\"#46039f\"],[0.2222222222222222,\"#7201a8\"],[0.3333333333333333,\"#9c179e\"],[0.4444444444444444,\"#bd3786\"],[0.5555555555555556,\"#d8576b\"],[0.6666666666666666,\"#ed7953\"],[0.7777777777777778,\"#fb9f3a\"],[0.8888888888888888,\"#fdca26\"],[1.0,\"#f0f921\"]],\"type\":\"histogram2dcontour\"}],\"mesh3d\":[{\"colorbar\":{\"outlinewidth\":0,\"ticks\":\"\"},\"type\":\"mesh3d\"}],\"parcoords\":[{\"line\":{\"colorbar\":{\"outlinewidth\":0,\"ticks\":\"\"}},\"type\":\"parcoords\"}],\"pie\":[{\"automargin\":true,\"type\":\"pie\"}],\"scatter\":[{\"marker\":{\"colorbar\":{\"outlinewidth\":0,\"ticks\":\"\"}},\"type\":\"scatter\"}],\"scatter3d\":[{\"line\":{\"colorbar\":{\"outlinewidth\":0,\"ticks\":\"\"}},\"marker\":{\"colorbar\":{\"outlinewidth\":0,\"ticks\":\"\"}},\"type\":\"scatter3d\"}],\"scattercarpet\":[{\"marker\":{\"colorbar\":{\"outlinewidth\":0,\"ticks\":\"\"}},\"type\":\"scattercarpet\"}],\"scattergeo\":[{\"marker\":{\"colorbar\":{\"outlinewidth\":0,\"ticks\":\"\"}},\"type\":\"scattergeo\"}],\"scattergl\":[{\"marker\":{\"colorbar\":{\"outlinewidth\":0,\"ticks\":\"\"}},\"type\":\"scattergl\"}],\"scattermapbox\":[{\"marker\":{\"colorbar\":{\"outlinewidth\":0,\"ticks\":\"\"}},\"type\":\"scattermapbox\"}],\"scatterpolar\":[{\"marker\":{\"colorbar\":{\"outlinewidth\":0,\"ticks\":\"\"}},\"type\":\"scatterpolar\"}],\"scatterpolargl\":[{\"marker\":{\"colorbar\":{\"outlinewidth\":0,\"ticks\":\"\"}},\"type\":\"scatterpolargl\"}],\"scatterternary\":[{\"marker\":{\"colorbar\":{\"outlinewidth\":0,\"ticks\":\"\"}},\"type\":\"scatterternary\"}],\"surface\":[{\"colorbar\":{\"outlinewidth\":0,\"ticks\":\"\"},\"colorscale\":[[0.0,\"#0d0887\"],[0.1111111111111111,\"#46039f\"],[0.2222222222222222,\"#7201a8\"],[0.3333333333333333,\"#9c179e\"],[0.4444444444444444,\"#bd3786\"],[0.5555555555555556,\"#d8576b\"],[0.6666666666666666,\"#ed7953\"],[0.7777777777777778,\"#fb9f3a\"],[0.8888888888888888,\"#fdca26\"],[1.0,\"#f0f921\"]],\"type\":\"surface\"}],\"table\":[{\"cells\":{\"fill\":{\"color\":\"#EBF0F8\"},\"line\":{\"color\":\"white\"}},\"header\":{\"fill\":{\"color\":\"#C8D4E3\"},\"line\":{\"color\":\"white\"}},\"type\":\"table\"}]},\"layout\":{\"annotationdefaults\":{\"arrowcolor\":\"#2a3f5f\",\"arrowhead\":0,\"arrowwidth\":1},\"autotypenumbers\":\"strict\",\"coloraxis\":{\"colorbar\":{\"outlinewidth\":0,\"ticks\":\"\"}},\"colorscale\":{\"diverging\":[[0,\"#8e0152\"],[0.1,\"#c51b7d\"],[0.2,\"#de77ae\"],[0.3,\"#f1b6da\"],[0.4,\"#fde0ef\"],[0.5,\"#f7f7f7\"],[0.6,\"#e6f5d0\"],[0.7,\"#b8e186\"],[0.8,\"#7fbc41\"],[0.9,\"#4d9221\"],[1,\"#276419\"]],\"sequential\":[[0.0,\"#0d0887\"],[0.1111111111111111,\"#46039f\"],[0.2222222222222222,\"#7201a8\"],[0.3333333333333333,\"#9c179e\"],[0.4444444444444444,\"#bd3786\"],[0.5555555555555556,\"#d8576b\"],[0.6666666666666666,\"#ed7953\"],[0.7777777777777778,\"#fb9f3a\"],[0.8888888888888888,\"#fdca26\"],[1.0,\"#f0f921\"]],\"sequentialminus\":[[0.0,\"#0d0887\"],[0.1111111111111111,\"#46039f\"],[0.2222222222222222,\"#7201a8\"],[0.3333333333333333,\"#9c179e\"],[0.4444444444444444,\"#bd3786\"],[0.5555555555555556,\"#d8576b\"],[0.6666666666666666,\"#ed7953\"],[0.7777777777777778,\"#fb9f3a\"],[0.8888888888888888,\"#fdca26\"],[1.0,\"#f0f921\"]]},\"colorway\":[\"#636efa\",\"#EF553B\",\"#00cc96\",\"#ab63fa\",\"#FFA15A\",\"#19d3f3\",\"#FF6692\",\"#B6E880\",\"#FF97FF\",\"#FECB52\"],\"font\":{\"color\":\"#2a3f5f\"},\"geo\":{\"bgcolor\":\"white\",\"lakecolor\":\"white\",\"landcolor\":\"#E5ECF6\",\"showlakes\":true,\"showland\":true,\"subunitcolor\":\"white\"},\"hoverlabel\":{\"align\":\"left\"},\"hovermode\":\"closest\",\"mapbox\":{\"style\":\"light\"},\"paper_bgcolor\":\"white\",\"plot_bgcolor\":\"#E5ECF6\",\"polar\":{\"angularaxis\":{\"gridcolor\":\"white\",\"linecolor\":\"white\",\"ticks\":\"\"},\"bgcolor\":\"#E5ECF6\",\"radialaxis\":{\"gridcolor\":\"white\",\"linecolor\":\"white\",\"ticks\":\"\"}},\"scene\":{\"xaxis\":{\"backgroundcolor\":\"#E5ECF6\",\"gridcolor\":\"white\",\"gridwidth\":2,\"linecolor\":\"white\",\"showbackground\":true,\"ticks\":\"\",\"zerolinecolor\":\"white\"},\"yaxis\":{\"backgroundcolor\":\"#E5ECF6\",\"gridcolor\":\"white\",\"gridwidth\":2,\"linecolor\":\"white\",\"showbackground\":true,\"ticks\":\"\",\"zerolinecolor\":\"white\"},\"zaxis\":{\"backgroundcolor\":\"#E5ECF6\",\"gridcolor\":\"white\",\"gridwidth\":2,\"linecolor\":\"white\",\"showbackground\":true,\"ticks\":\"\",\"zerolinecolor\":\"white\"}},\"shapedefaults\":{\"line\":{\"color\":\"#2a3f5f\"}},\"ternary\":{\"aaxis\":{\"gridcolor\":\"white\",\"linecolor\":\"white\",\"ticks\":\"\"},\"baxis\":{\"gridcolor\":\"white\",\"linecolor\":\"white\",\"ticks\":\"\"},\"bgcolor\":\"#E5ECF6\",\"caxis\":{\"gridcolor\":\"white\",\"linecolor\":\"white\",\"ticks\":\"\"}},\"title\":{\"x\":0.05},\"xaxis\":{\"automargin\":true,\"gridcolor\":\"white\",\"linecolor\":\"white\",\"ticks\":\"\",\"title\":{\"standoff\":15},\"zerolinecolor\":\"white\",\"zerolinewidth\":2},\"yaxis\":{\"automargin\":true,\"gridcolor\":\"white\",\"linecolor\":\"white\",\"ticks\":\"\",\"title\":{\"standoff\":15},\"zerolinecolor\":\"white\",\"zerolinewidth\":2}}},\"xaxis\":{\"anchor\":\"y\",\"domain\":[0.0,0.19999999999999998]},\"yaxis\":{\"anchor\":\"x\",\"domain\":[0.0,1.0]},\"xaxis2\":{\"anchor\":\"y2\",\"domain\":[0.4,0.6]},\"yaxis2\":{\"anchor\":\"x2\",\"domain\":[0.0,1.0]},\"xaxis3\":{\"anchor\":\"y3\",\"domain\":[0.8,1.0]},\"yaxis3\":{\"anchor\":\"x3\",\"domain\":[0.0,1.0]},\"annotations\":[{\"font\":{\"size\":16},\"showarrow\":false,\"text\":\"White_ELO\",\"x\":0.09999999999999999,\"xanchor\":\"center\",\"xref\":\"paper\",\"y\":1.0,\"yanchor\":\"bottom\",\"yref\":\"paper\"},{\"font\":{\"size\":16},\"showarrow\":false,\"text\":\"Black_ELO\",\"x\":0.5,\"xanchor\":\"center\",\"xref\":\"paper\",\"y\":1.0,\"yanchor\":\"bottom\",\"yref\":\"paper\"},{\"font\":{\"size\":16},\"showarrow\":false,\"text\":\"ELO_probability\",\"x\":0.9,\"xanchor\":\"center\",\"xref\":\"paper\",\"y\":1.0,\"yanchor\":\"bottom\",\"yref\":\"paper\"}],\"title\":{\"text\":\"Players ELO Scores and White Winning Probability\",\"x\":0},\"coloraxis\":{\"colorbar\":{\"thickness\":25,\"x\":-0.12},\"colorscale\":[[0.0,\"rgb(23, 28, 66)\"],[0.09090909090909091,\"rgb(41, 58, 143)\"],[0.18181818181818182,\"rgb(11, 102, 189)\"],[0.2727272727272727,\"rgb(69, 144, 185)\"],[0.36363636363636365,\"rgb(142, 181, 194)\"],[0.45454545454545453,\"rgb(210, 216, 219)\"],[0.5454545454545454,\"rgb(230, 210, 204)\"],[0.6363636363636364,\"rgb(213, 157, 137)\"],[0.7272727272727273,\"rgb(196, 101, 72)\"],[0.8181818181818182,\"rgb(172, 43, 36)\"],[0.9090909090909091,\"rgb(120, 14, 40)\"],[1.0,\"rgb(60, 9, 17)\"]],\"showscale\":false},\"coloraxis2\":{\"colorscale\":[[0.0,\"rgb(20, 29, 67)\"],[0.09090909090909091,\"rgb(28, 72, 93)\"],[0.18181818181818182,\"rgb(18, 115, 117)\"],[0.2727272727272727,\"rgb(63, 156, 129)\"],[0.36363636363636365,\"rgb(153, 189, 156)\"],[0.45454545454545453,\"rgb(223, 225, 211)\"],[0.5454545454545454,\"rgb(241, 218, 206)\"],[0.6363636363636364,\"rgb(224, 160, 137)\"],[0.7272727272727273,\"rgb(203, 101, 99)\"],[0.8181818181818182,\"rgb(164, 54, 96)\"],[0.9090909090909091,\"rgb(111, 23, 91)\"],[1.0,\"rgb(51, 13, 53)\"]],\"colorbar\":{\"thickness\":25},\"showscale\":false}},                        {\"responsive\": true}                    ).then(function(){\n",
       "                            \n",
       "var gd = document.getElementById('ebf96e2b-6864-4a35-9b32-5da9720962ef');\n",
       "var x = new MutationObserver(function (mutations, observer) {{\n",
       "        var display = window.getComputedStyle(gd).display;\n",
       "        if (!display || display === 'none') {{\n",
       "            console.log([gd, 'removed!']);\n",
       "            Plotly.purge(gd);\n",
       "            observer.disconnect();\n",
       "        }}\n",
       "}});\n",
       "\n",
       "// Listen for the removal of the full notebook cells\n",
       "var notebookContainer = gd.closest('#notebook-container');\n",
       "if (notebookContainer) {{\n",
       "    x.observe(notebookContainer, {childList: true});\n",
       "}}\n",
       "\n",
       "// Listen for the clearing of the current output cell\n",
       "var outputEl = gd.closest('.output');\n",
       "if (outputEl) {{\n",
       "    x.observe(outputEl, {childList: true});\n",
       "}}\n",
       "\n",
       "                        })                };                });            </script>        </div>"
      ]
     },
     "metadata": {},
     "output_type": "display_data"
    }
   ],
   "source": [
    "plot_figures(3,('White_ELO','Black_ELO', 'ELO_probability'), \n",
    "             \"Players ELO Scores and White Winning Probability\", deciles, train) \n"
   ]
  },
  {
   "cell_type": "markdown",
   "id": "df789560",
   "metadata": {},
   "source": [
    "### Players ELO score comparison (Linear Function)"
   ]
  },
  {
   "cell_type": "code",
   "execution_count": 319,
   "id": "1adda7a9",
   "metadata": {},
   "outputs": [],
   "source": [
    "train = pd.read_csv('Data/Train_ELO_score.csv')\n",
    "test = pd.read_csv('Data/Test_ELO_Score.csv')\n",
    "\n",
    "\n",
    "ELO_dist = {i:{'wins':[], 'loses':[]} for i in Uni_players}\n",
    "\n",
    "train['ELO_lin_Wins_white'] = 0\n",
    "train['ELO_lin_Loses_white'] = 0\n",
    "train['ELO_lin_Wins_black'] = 0\n",
    "train['ELO_lin_Loses_black'] = 0\n",
    "\n",
    "test['ELO_lin_Wins_white'] = 0\n",
    "test['ELO_lin_Loses_white'] = 0\n",
    "test['ELO_lin_Wins_black'] = 0\n",
    "test['ELO_lin_Loses_black'] = 0\n",
    "\n",
    "def probability(x,y, E1, E2):\n",
    "    p1_win = sum([1 for i in x['wins'] if i > E2])/max(len(x['wins']),1)\n",
    "    p1_lose = sum([1 for i in x['loses'] if i < E2])/max(len(x['loses']),1)\n",
    "    \n",
    "    p2_win = sum([1 for i in y['wins'] if i > E1])/max(len(y['wins']),1)\n",
    "    p2_lose = sum([1 for i in y['loses'] if i < E1])/max(len(y['loses']),1)\n",
    "    \n",
    "    return p1_win,p1_lose,p2_win,p2_lose\n",
    "\n",
    "\n",
    "for row in range(0, len(train)):\n",
    "    p1, p2, result = train.white[row], train.black[row], train.result[row]\n",
    "    ELO1,ELO2 = train['White_ELO'][row], train['Black_ELO'][row]\n",
    "    \n",
    "    p1_win,p1_lose,p2_win,p2_lose = probability(ELO_dist[p1],ELO_dist[p2], ELO1,ELO2)\n",
    "    \n",
    "    train['ELO_lin_Wins_white'][row] = p1_win\n",
    "    train['ELO_lin_Loses_white'][row] = p1_lose\n",
    "    train['ELO_lin_Wins_black'][row] = p2_win\n",
    "    train['ELO_lin_Loses_black'][row] = p2_lose\n",
    "    \n",
    "    if result == 1:\n",
    "        ELO_dist[p1]['wins'] = ELO_dist[p1]['wins'] + [ELO2]\n",
    "        ELO_dist[p2]['loses'] = ELO_dist[p2]['loses'] + [ELO1]\n",
    "        \n",
    "    if result ==0:\n",
    "        ELO_dist[p1]['loses'] = ELO_dist[p1]['loses'] + [ELO2]\n",
    "        ELO_dist[p2]['wins'] = ELO_dist[p2]['wins'] + [ELO1]\n",
    "        \n",
    "        \n",
    "for row in range(0, len(test)):\n",
    "    p1, p2 = test.white[row], test.black[row],\n",
    "    ELO1,ELO2 = test['White_ELO'][row], test['Black_ELO'][row]\n",
    "    \n",
    "    p1_win,p1_lose,p2_win,p2_lose = probability(ELO_dist[p1],ELO_dist[p2], ELO1,ELO2)\n",
    "    \n",
    "    test['ELO_lin_Wins_white'][row] = p1_win\n",
    "    test['ELO_lin_Loses_white'][row] = p1_lose\n",
    "    test['ELO_lin_Wins_black'][row] = p2_win\n",
    "    test['ELO_lin_Loses_black'][row] = p2_lose"
   ]
  },
  {
   "cell_type": "code",
   "execution_count": 320,
   "id": "d6698593",
   "metadata": {},
   "outputs": [
    {
     "data": {
      "application/vnd.plotly.v1+json": {
       "config": {
        "plotlyServerURL": "https://plot.ly"
       },
       "data": [
        {
         "coloraxis": "coloraxis",
         "hovertemplate": "x: %{x}<br>y: %{y}<br>color: %{z}<extra></extra>",
         "name": "0",
         "texttemplate": "%{z}",
         "type": "heatmap",
         "x": [
          "Wins",
          "Draws",
          "Loses"
         ],
         "xaxis": "x",
         "y": [
          "0.0",
          "0.04",
          "0.17",
          "0.3",
          "0.44",
          "0.56",
          "0.68",
          "0.79",
          "0.89",
          "0.99"
         ],
         "yaxis": "y",
         "z": [
          [
           3547,
           6893,
           6971
          ],
          [
           3941,
           7121,
           6349
          ],
          [
           4590,
           7210,
           5611
          ],
          [
           5256,
           7130,
           5025
          ],
          [
           5819,
           7053,
           4539
          ],
          [
           6159,
           7073,
           4179
          ],
          [
           6783,
           6923,
           3705
          ],
          [
           7433,
           6629,
           3349
          ],
          [
           8602,
           6069,
           2740
          ],
          [
           9508,
           5731,
           2172
          ]
         ]
        },
        {
         "coloraxis": "coloraxis",
         "hovertemplate": "x: %{x}<br>y: %{y}<br>color: %{z}<extra></extra>",
         "name": "0",
         "texttemplate": "%{z}",
         "type": "heatmap",
         "x": [
          "Wins",
          "Draws",
          "Loses"
         ],
         "xaxis": "x2",
         "y": [
          "0.0",
          "0.02",
          "0.07",
          "0.14",
          "0.23",
          "0.35",
          "0.49",
          "0.68",
          "0.93"
         ],
         "yaxis": "y2",
         "z": [
          [
           18742,
           11893,
           4187
          ],
          [
           7234,
           7134,
           3043
          ],
          [
           6879,
           6940,
           3592
          ],
          [
           6151,
           7081,
           4179
          ],
          [
           5660,
           7145,
           4606
          ],
          [
           5175,
           7084,
           5152
          ],
          [
           4604,
           7091,
           5716
          ],
          [
           3949,
           6855,
           6607
          ],
          [
           3248,
           6609,
           7554
          ]
         ]
        },
        {
         "coloraxis": "coloraxis",
         "hovertemplate": "x: %{x}<br>y: %{y}<br>color: %{z}<extra></extra>",
         "name": "0",
         "texttemplate": "%{z}",
         "type": "heatmap",
         "x": [
          "Wins",
          "Draws",
          "Loses"
         ],
         "xaxis": "x3",
         "y": [
          "0.0",
          "0.05",
          "0.18",
          "0.32",
          "0.45",
          "0.57",
          "0.69",
          "0.8",
          "0.9",
          "0.99"
         ],
         "yaxis": "y3",
         "z": [
          [
           9122,
           6139,
           2150
          ],
          [
           8461,
           6457,
           2493
          ],
          [
           7511,
           6848,
           3052
          ],
          [
           6797,
           7041,
           3573
          ],
          [
           6402,
           7016,
           3993
          ],
          [
           5874,
           7119,
           4418
          ],
          [
           5496,
           6983,
           4932
          ],
          [
           4788,
           7085,
           5538
          ],
          [
           3921,
           6691,
           6799
          ],
          [
           3269,
           6453,
           7689
          ]
         ]
        },
        {
         "coloraxis": "coloraxis",
         "hovertemplate": "x: %{x}<br>y: %{y}<br>color: %{z}<extra></extra>",
         "name": "0",
         "texttemplate": "%{z}",
         "type": "heatmap",
         "x": [
          "Wins",
          "Draws",
          "Loses"
         ],
         "xaxis": "x4",
         "y": [
          "0.0",
          "0.01",
          "0.07",
          "0.13",
          "0.22",
          "0.33",
          "0.48",
          "0.67",
          "0.92"
         ],
         "yaxis": "y4",
         "z": [
          [
           6874,
           13579,
           14369
          ],
          [
           4452,
           7212,
           5747
          ],
          [
           5236,
           7192,
           4983
          ],
          [
           5999,
           7037,
           4375
          ],
          [
           6378,
           7185,
           3848
          ],
          [
           6994,
           6858,
           3559
          ],
          [
           7557,
           6687,
           3167
          ],
          [
           8418,
           6355,
           2638
          ],
          [
           9732,
           5726,
           1953
          ]
         ]
        }
       ],
       "layout": {
        "annotations": [
         {
          "font": {
           "size": 16
          },
          "showarrow": false,
          "text": "ELO_lin_Wins_white",
          "x": 0.04999999999999999,
          "xanchor": "center",
          "xref": "paper",
          "y": 1,
          "yanchor": "bottom",
          "yref": "paper"
         },
         {
          "font": {
           "size": 16
          },
          "showarrow": false,
          "text": "ELO_lin_Loses_white",
          "x": 0.35,
          "xanchor": "center",
          "xref": "paper",
          "y": 1,
          "yanchor": "bottom",
          "yref": "paper"
         },
         {
          "font": {
           "size": 16
          },
          "showarrow": false,
          "text": "ELO_lin_Wins_black",
          "x": 0.6499999999999999,
          "xanchor": "center",
          "xref": "paper",
          "y": 1,
          "yanchor": "bottom",
          "yref": "paper"
         },
         {
          "font": {
           "size": 16
          },
          "showarrow": false,
          "text": "ELO_lin_Loses_black",
          "x": 0.95,
          "xanchor": "center",
          "xref": "paper",
          "y": 1,
          "yanchor": "bottom",
          "yref": "paper"
         }
        ],
        "coloraxis": {
         "colorbar": {
          "thickness": 25,
          "x": -0.12
         },
         "colorscale": [
          [
           0,
           "rgb(23, 28, 66)"
          ],
          [
           0.09090909090909091,
           "rgb(41, 58, 143)"
          ],
          [
           0.18181818181818182,
           "rgb(11, 102, 189)"
          ],
          [
           0.2727272727272727,
           "rgb(69, 144, 185)"
          ],
          [
           0.36363636363636365,
           "rgb(142, 181, 194)"
          ],
          [
           0.45454545454545453,
           "rgb(210, 216, 219)"
          ],
          [
           0.5454545454545454,
           "rgb(230, 210, 204)"
          ],
          [
           0.6363636363636364,
           "rgb(213, 157, 137)"
          ],
          [
           0.7272727272727273,
           "rgb(196, 101, 72)"
          ],
          [
           0.8181818181818182,
           "rgb(172, 43, 36)"
          ],
          [
           0.9090909090909091,
           "rgb(120, 14, 40)"
          ],
          [
           1,
           "rgb(60, 9, 17)"
          ]
         ],
         "showscale": false
        },
        "coloraxis2": {
         "colorbar": {
          "thickness": 25
         },
         "colorscale": [
          [
           0,
           "rgb(20, 29, 67)"
          ],
          [
           0.09090909090909091,
           "rgb(28, 72, 93)"
          ],
          [
           0.18181818181818182,
           "rgb(18, 115, 117)"
          ],
          [
           0.2727272727272727,
           "rgb(63, 156, 129)"
          ],
          [
           0.36363636363636365,
           "rgb(153, 189, 156)"
          ],
          [
           0.45454545454545453,
           "rgb(223, 225, 211)"
          ],
          [
           0.5454545454545454,
           "rgb(241, 218, 206)"
          ],
          [
           0.6363636363636364,
           "rgb(224, 160, 137)"
          ],
          [
           0.7272727272727273,
           "rgb(203, 101, 99)"
          ],
          [
           0.8181818181818182,
           "rgb(164, 54, 96)"
          ],
          [
           0.9090909090909091,
           "rgb(111, 23, 91)"
          ],
          [
           1,
           "rgb(51, 13, 53)"
          ]
         ],
         "showscale": false
        },
        "template": {
         "data": {
          "bar": [
           {
            "error_x": {
             "color": "#2a3f5f"
            },
            "error_y": {
             "color": "#2a3f5f"
            },
            "marker": {
             "line": {
              "color": "#E5ECF6",
              "width": 0.5
             },
             "pattern": {
              "fillmode": "overlay",
              "size": 10,
              "solidity": 0.2
             }
            },
            "type": "bar"
           }
          ],
          "barpolar": [
           {
            "marker": {
             "line": {
              "color": "#E5ECF6",
              "width": 0.5
             },
             "pattern": {
              "fillmode": "overlay",
              "size": 10,
              "solidity": 0.2
             }
            },
            "type": "barpolar"
           }
          ],
          "carpet": [
           {
            "aaxis": {
             "endlinecolor": "#2a3f5f",
             "gridcolor": "white",
             "linecolor": "white",
             "minorgridcolor": "white",
             "startlinecolor": "#2a3f5f"
            },
            "baxis": {
             "endlinecolor": "#2a3f5f",
             "gridcolor": "white",
             "linecolor": "white",
             "minorgridcolor": "white",
             "startlinecolor": "#2a3f5f"
            },
            "type": "carpet"
           }
          ],
          "choropleth": [
           {
            "colorbar": {
             "outlinewidth": 0,
             "ticks": ""
            },
            "type": "choropleth"
           }
          ],
          "contour": [
           {
            "colorbar": {
             "outlinewidth": 0,
             "ticks": ""
            },
            "colorscale": [
             [
              0,
              "#0d0887"
             ],
             [
              0.1111111111111111,
              "#46039f"
             ],
             [
              0.2222222222222222,
              "#7201a8"
             ],
             [
              0.3333333333333333,
              "#9c179e"
             ],
             [
              0.4444444444444444,
              "#bd3786"
             ],
             [
              0.5555555555555556,
              "#d8576b"
             ],
             [
              0.6666666666666666,
              "#ed7953"
             ],
             [
              0.7777777777777778,
              "#fb9f3a"
             ],
             [
              0.8888888888888888,
              "#fdca26"
             ],
             [
              1,
              "#f0f921"
             ]
            ],
            "type": "contour"
           }
          ],
          "contourcarpet": [
           {
            "colorbar": {
             "outlinewidth": 0,
             "ticks": ""
            },
            "type": "contourcarpet"
           }
          ],
          "heatmap": [
           {
            "colorbar": {
             "outlinewidth": 0,
             "ticks": ""
            },
            "colorscale": [
             [
              0,
              "#0d0887"
             ],
             [
              0.1111111111111111,
              "#46039f"
             ],
             [
              0.2222222222222222,
              "#7201a8"
             ],
             [
              0.3333333333333333,
              "#9c179e"
             ],
             [
              0.4444444444444444,
              "#bd3786"
             ],
             [
              0.5555555555555556,
              "#d8576b"
             ],
             [
              0.6666666666666666,
              "#ed7953"
             ],
             [
              0.7777777777777778,
              "#fb9f3a"
             ],
             [
              0.8888888888888888,
              "#fdca26"
             ],
             [
              1,
              "#f0f921"
             ]
            ],
            "type": "heatmap"
           }
          ],
          "heatmapgl": [
           {
            "colorbar": {
             "outlinewidth": 0,
             "ticks": ""
            },
            "colorscale": [
             [
              0,
              "#0d0887"
             ],
             [
              0.1111111111111111,
              "#46039f"
             ],
             [
              0.2222222222222222,
              "#7201a8"
             ],
             [
              0.3333333333333333,
              "#9c179e"
             ],
             [
              0.4444444444444444,
              "#bd3786"
             ],
             [
              0.5555555555555556,
              "#d8576b"
             ],
             [
              0.6666666666666666,
              "#ed7953"
             ],
             [
              0.7777777777777778,
              "#fb9f3a"
             ],
             [
              0.8888888888888888,
              "#fdca26"
             ],
             [
              1,
              "#f0f921"
             ]
            ],
            "type": "heatmapgl"
           }
          ],
          "histogram": [
           {
            "marker": {
             "pattern": {
              "fillmode": "overlay",
              "size": 10,
              "solidity": 0.2
             }
            },
            "type": "histogram"
           }
          ],
          "histogram2d": [
           {
            "colorbar": {
             "outlinewidth": 0,
             "ticks": ""
            },
            "colorscale": [
             [
              0,
              "#0d0887"
             ],
             [
              0.1111111111111111,
              "#46039f"
             ],
             [
              0.2222222222222222,
              "#7201a8"
             ],
             [
              0.3333333333333333,
              "#9c179e"
             ],
             [
              0.4444444444444444,
              "#bd3786"
             ],
             [
              0.5555555555555556,
              "#d8576b"
             ],
             [
              0.6666666666666666,
              "#ed7953"
             ],
             [
              0.7777777777777778,
              "#fb9f3a"
             ],
             [
              0.8888888888888888,
              "#fdca26"
             ],
             [
              1,
              "#f0f921"
             ]
            ],
            "type": "histogram2d"
           }
          ],
          "histogram2dcontour": [
           {
            "colorbar": {
             "outlinewidth": 0,
             "ticks": ""
            },
            "colorscale": [
             [
              0,
              "#0d0887"
             ],
             [
              0.1111111111111111,
              "#46039f"
             ],
             [
              0.2222222222222222,
              "#7201a8"
             ],
             [
              0.3333333333333333,
              "#9c179e"
             ],
             [
              0.4444444444444444,
              "#bd3786"
             ],
             [
              0.5555555555555556,
              "#d8576b"
             ],
             [
              0.6666666666666666,
              "#ed7953"
             ],
             [
              0.7777777777777778,
              "#fb9f3a"
             ],
             [
              0.8888888888888888,
              "#fdca26"
             ],
             [
              1,
              "#f0f921"
             ]
            ],
            "type": "histogram2dcontour"
           }
          ],
          "mesh3d": [
           {
            "colorbar": {
             "outlinewidth": 0,
             "ticks": ""
            },
            "type": "mesh3d"
           }
          ],
          "parcoords": [
           {
            "line": {
             "colorbar": {
              "outlinewidth": 0,
              "ticks": ""
             }
            },
            "type": "parcoords"
           }
          ],
          "pie": [
           {
            "automargin": true,
            "type": "pie"
           }
          ],
          "scatter": [
           {
            "marker": {
             "colorbar": {
              "outlinewidth": 0,
              "ticks": ""
             }
            },
            "type": "scatter"
           }
          ],
          "scatter3d": [
           {
            "line": {
             "colorbar": {
              "outlinewidth": 0,
              "ticks": ""
             }
            },
            "marker": {
             "colorbar": {
              "outlinewidth": 0,
              "ticks": ""
             }
            },
            "type": "scatter3d"
           }
          ],
          "scattercarpet": [
           {
            "marker": {
             "colorbar": {
              "outlinewidth": 0,
              "ticks": ""
             }
            },
            "type": "scattercarpet"
           }
          ],
          "scattergeo": [
           {
            "marker": {
             "colorbar": {
              "outlinewidth": 0,
              "ticks": ""
             }
            },
            "type": "scattergeo"
           }
          ],
          "scattergl": [
           {
            "marker": {
             "colorbar": {
              "outlinewidth": 0,
              "ticks": ""
             }
            },
            "type": "scattergl"
           }
          ],
          "scattermapbox": [
           {
            "marker": {
             "colorbar": {
              "outlinewidth": 0,
              "ticks": ""
             }
            },
            "type": "scattermapbox"
           }
          ],
          "scatterpolar": [
           {
            "marker": {
             "colorbar": {
              "outlinewidth": 0,
              "ticks": ""
             }
            },
            "type": "scatterpolar"
           }
          ],
          "scatterpolargl": [
           {
            "marker": {
             "colorbar": {
              "outlinewidth": 0,
              "ticks": ""
             }
            },
            "type": "scatterpolargl"
           }
          ],
          "scatterternary": [
           {
            "marker": {
             "colorbar": {
              "outlinewidth": 0,
              "ticks": ""
             }
            },
            "type": "scatterternary"
           }
          ],
          "surface": [
           {
            "colorbar": {
             "outlinewidth": 0,
             "ticks": ""
            },
            "colorscale": [
             [
              0,
              "#0d0887"
             ],
             [
              0.1111111111111111,
              "#46039f"
             ],
             [
              0.2222222222222222,
              "#7201a8"
             ],
             [
              0.3333333333333333,
              "#9c179e"
             ],
             [
              0.4444444444444444,
              "#bd3786"
             ],
             [
              0.5555555555555556,
              "#d8576b"
             ],
             [
              0.6666666666666666,
              "#ed7953"
             ],
             [
              0.7777777777777778,
              "#fb9f3a"
             ],
             [
              0.8888888888888888,
              "#fdca26"
             ],
             [
              1,
              "#f0f921"
             ]
            ],
            "type": "surface"
           }
          ],
          "table": [
           {
            "cells": {
             "fill": {
              "color": "#EBF0F8"
             },
             "line": {
              "color": "white"
             }
            },
            "header": {
             "fill": {
              "color": "#C8D4E3"
             },
             "line": {
              "color": "white"
             }
            },
            "type": "table"
           }
          ]
         },
         "layout": {
          "annotationdefaults": {
           "arrowcolor": "#2a3f5f",
           "arrowhead": 0,
           "arrowwidth": 1
          },
          "autotypenumbers": "strict",
          "coloraxis": {
           "colorbar": {
            "outlinewidth": 0,
            "ticks": ""
           }
          },
          "colorscale": {
           "diverging": [
            [
             0,
             "#8e0152"
            ],
            [
             0.1,
             "#c51b7d"
            ],
            [
             0.2,
             "#de77ae"
            ],
            [
             0.3,
             "#f1b6da"
            ],
            [
             0.4,
             "#fde0ef"
            ],
            [
             0.5,
             "#f7f7f7"
            ],
            [
             0.6,
             "#e6f5d0"
            ],
            [
             0.7,
             "#b8e186"
            ],
            [
             0.8,
             "#7fbc41"
            ],
            [
             0.9,
             "#4d9221"
            ],
            [
             1,
             "#276419"
            ]
           ],
           "sequential": [
            [
             0,
             "#0d0887"
            ],
            [
             0.1111111111111111,
             "#46039f"
            ],
            [
             0.2222222222222222,
             "#7201a8"
            ],
            [
             0.3333333333333333,
             "#9c179e"
            ],
            [
             0.4444444444444444,
             "#bd3786"
            ],
            [
             0.5555555555555556,
             "#d8576b"
            ],
            [
             0.6666666666666666,
             "#ed7953"
            ],
            [
             0.7777777777777778,
             "#fb9f3a"
            ],
            [
             0.8888888888888888,
             "#fdca26"
            ],
            [
             1,
             "#f0f921"
            ]
           ],
           "sequentialminus": [
            [
             0,
             "#0d0887"
            ],
            [
             0.1111111111111111,
             "#46039f"
            ],
            [
             0.2222222222222222,
             "#7201a8"
            ],
            [
             0.3333333333333333,
             "#9c179e"
            ],
            [
             0.4444444444444444,
             "#bd3786"
            ],
            [
             0.5555555555555556,
             "#d8576b"
            ],
            [
             0.6666666666666666,
             "#ed7953"
            ],
            [
             0.7777777777777778,
             "#fb9f3a"
            ],
            [
             0.8888888888888888,
             "#fdca26"
            ],
            [
             1,
             "#f0f921"
            ]
           ]
          },
          "colorway": [
           "#636efa",
           "#EF553B",
           "#00cc96",
           "#ab63fa",
           "#FFA15A",
           "#19d3f3",
           "#FF6692",
           "#B6E880",
           "#FF97FF",
           "#FECB52"
          ],
          "font": {
           "color": "#2a3f5f"
          },
          "geo": {
           "bgcolor": "white",
           "lakecolor": "white",
           "landcolor": "#E5ECF6",
           "showlakes": true,
           "showland": true,
           "subunitcolor": "white"
          },
          "hoverlabel": {
           "align": "left"
          },
          "hovermode": "closest",
          "mapbox": {
           "style": "light"
          },
          "paper_bgcolor": "white",
          "plot_bgcolor": "#E5ECF6",
          "polar": {
           "angularaxis": {
            "gridcolor": "white",
            "linecolor": "white",
            "ticks": ""
           },
           "bgcolor": "#E5ECF6",
           "radialaxis": {
            "gridcolor": "white",
            "linecolor": "white",
            "ticks": ""
           }
          },
          "scene": {
           "xaxis": {
            "backgroundcolor": "#E5ECF6",
            "gridcolor": "white",
            "gridwidth": 2,
            "linecolor": "white",
            "showbackground": true,
            "ticks": "",
            "zerolinecolor": "white"
           },
           "yaxis": {
            "backgroundcolor": "#E5ECF6",
            "gridcolor": "white",
            "gridwidth": 2,
            "linecolor": "white",
            "showbackground": true,
            "ticks": "",
            "zerolinecolor": "white"
           },
           "zaxis": {
            "backgroundcolor": "#E5ECF6",
            "gridcolor": "white",
            "gridwidth": 2,
            "linecolor": "white",
            "showbackground": true,
            "ticks": "",
            "zerolinecolor": "white"
           }
          },
          "shapedefaults": {
           "line": {
            "color": "#2a3f5f"
           }
          },
          "ternary": {
           "aaxis": {
            "gridcolor": "white",
            "linecolor": "white",
            "ticks": ""
           },
           "baxis": {
            "gridcolor": "white",
            "linecolor": "white",
            "ticks": ""
           },
           "bgcolor": "#E5ECF6",
           "caxis": {
            "gridcolor": "white",
            "linecolor": "white",
            "ticks": ""
           }
          },
          "title": {
           "x": 0.05
          },
          "xaxis": {
           "automargin": true,
           "gridcolor": "white",
           "linecolor": "white",
           "ticks": "",
           "title": {
            "standoff": 15
           },
           "zerolinecolor": "white",
           "zerolinewidth": 2
          },
          "yaxis": {
           "automargin": true,
           "gridcolor": "white",
           "linecolor": "white",
           "ticks": "",
           "title": {
            "standoff": 15
           },
           "zerolinecolor": "white",
           "zerolinewidth": 2
          }
         }
        },
        "title": {
         "text": "Probability using linear relation",
         "x": 0
        },
        "xaxis": {
         "anchor": "y",
         "domain": [
          0,
          0.09999999999999998
         ]
        },
        "xaxis2": {
         "anchor": "y2",
         "domain": [
          0.3,
          0.39999999999999997
         ]
        },
        "xaxis3": {
         "anchor": "y3",
         "domain": [
          0.6,
          0.7
         ]
        },
        "xaxis4": {
         "anchor": "y4",
         "domain": [
          0.9,
          1
         ]
        },
        "yaxis": {
         "anchor": "x",
         "domain": [
          0,
          1
         ]
        },
        "yaxis2": {
         "anchor": "x2",
         "domain": [
          0,
          1
         ]
        },
        "yaxis3": {
         "anchor": "x3",
         "domain": [
          0,
          1
         ]
        },
        "yaxis4": {
         "anchor": "x4",
         "domain": [
          0,
          1
         ]
        }
       }
      },
      "text/html": [
       "<div>                            <div id=\"18509800-f7bb-4afd-94ec-2c6cc0273a6c\" class=\"plotly-graph-div\" style=\"height:525px; width:100%;\"></div>            <script type=\"text/javascript\">                require([\"plotly\"], function(Plotly) {                    window.PLOTLYENV=window.PLOTLYENV || {};                                    if (document.getElementById(\"18509800-f7bb-4afd-94ec-2c6cc0273a6c\")) {                    Plotly.newPlot(                        \"18509800-f7bb-4afd-94ec-2c6cc0273a6c\",                        [{\"coloraxis\":\"coloraxis\",\"hovertemplate\":\"x: %{x}<br>y: %{y}<br>color: %{z}<extra></extra>\",\"name\":\"0\",\"texttemplate\":\"%{z}\",\"x\":[\"Wins\",\"Draws\",\"Loses\"],\"xaxis\":\"x\",\"y\":[\"0.0\",\"0.04\",\"0.17\",\"0.3\",\"0.44\",\"0.56\",\"0.68\",\"0.79\",\"0.89\",\"0.99\"],\"yaxis\":\"y\",\"z\":[[3547,6893,6971],[3941,7121,6349],[4590,7210,5611],[5256,7130,5025],[5819,7053,4539],[6159,7073,4179],[6783,6923,3705],[7433,6629,3349],[8602,6069,2740],[9508,5731,2172]],\"type\":\"heatmap\"},{\"coloraxis\":\"coloraxis\",\"hovertemplate\":\"x: %{x}<br>y: %{y}<br>color: %{z}<extra></extra>\",\"name\":\"0\",\"texttemplate\":\"%{z}\",\"x\":[\"Wins\",\"Draws\",\"Loses\"],\"xaxis\":\"x2\",\"y\":[\"0.0\",\"0.02\",\"0.07\",\"0.14\",\"0.23\",\"0.35\",\"0.49\",\"0.68\",\"0.93\"],\"yaxis\":\"y2\",\"z\":[[18742,11893,4187],[7234,7134,3043],[6879,6940,3592],[6151,7081,4179],[5660,7145,4606],[5175,7084,5152],[4604,7091,5716],[3949,6855,6607],[3248,6609,7554]],\"type\":\"heatmap\"},{\"coloraxis\":\"coloraxis\",\"hovertemplate\":\"x: %{x}<br>y: %{y}<br>color: %{z}<extra></extra>\",\"name\":\"0\",\"texttemplate\":\"%{z}\",\"x\":[\"Wins\",\"Draws\",\"Loses\"],\"xaxis\":\"x3\",\"y\":[\"0.0\",\"0.05\",\"0.18\",\"0.32\",\"0.45\",\"0.57\",\"0.69\",\"0.8\",\"0.9\",\"0.99\"],\"yaxis\":\"y3\",\"z\":[[9122,6139,2150],[8461,6457,2493],[7511,6848,3052],[6797,7041,3573],[6402,7016,3993],[5874,7119,4418],[5496,6983,4932],[4788,7085,5538],[3921,6691,6799],[3269,6453,7689]],\"type\":\"heatmap\"},{\"coloraxis\":\"coloraxis\",\"hovertemplate\":\"x: %{x}<br>y: %{y}<br>color: %{z}<extra></extra>\",\"name\":\"0\",\"texttemplate\":\"%{z}\",\"x\":[\"Wins\",\"Draws\",\"Loses\"],\"xaxis\":\"x4\",\"y\":[\"0.0\",\"0.01\",\"0.07\",\"0.13\",\"0.22\",\"0.33\",\"0.48\",\"0.67\",\"0.92\"],\"yaxis\":\"y4\",\"z\":[[6874,13579,14369],[4452,7212,5747],[5236,7192,4983],[5999,7037,4375],[6378,7185,3848],[6994,6858,3559],[7557,6687,3167],[8418,6355,2638],[9732,5726,1953]],\"type\":\"heatmap\"}],                        {\"template\":{\"data\":{\"bar\":[{\"error_x\":{\"color\":\"#2a3f5f\"},\"error_y\":{\"color\":\"#2a3f5f\"},\"marker\":{\"line\":{\"color\":\"#E5ECF6\",\"width\":0.5},\"pattern\":{\"fillmode\":\"overlay\",\"size\":10,\"solidity\":0.2}},\"type\":\"bar\"}],\"barpolar\":[{\"marker\":{\"line\":{\"color\":\"#E5ECF6\",\"width\":0.5},\"pattern\":{\"fillmode\":\"overlay\",\"size\":10,\"solidity\":0.2}},\"type\":\"barpolar\"}],\"carpet\":[{\"aaxis\":{\"endlinecolor\":\"#2a3f5f\",\"gridcolor\":\"white\",\"linecolor\":\"white\",\"minorgridcolor\":\"white\",\"startlinecolor\":\"#2a3f5f\"},\"baxis\":{\"endlinecolor\":\"#2a3f5f\",\"gridcolor\":\"white\",\"linecolor\":\"white\",\"minorgridcolor\":\"white\",\"startlinecolor\":\"#2a3f5f\"},\"type\":\"carpet\"}],\"choropleth\":[{\"colorbar\":{\"outlinewidth\":0,\"ticks\":\"\"},\"type\":\"choropleth\"}],\"contour\":[{\"colorbar\":{\"outlinewidth\":0,\"ticks\":\"\"},\"colorscale\":[[0.0,\"#0d0887\"],[0.1111111111111111,\"#46039f\"],[0.2222222222222222,\"#7201a8\"],[0.3333333333333333,\"#9c179e\"],[0.4444444444444444,\"#bd3786\"],[0.5555555555555556,\"#d8576b\"],[0.6666666666666666,\"#ed7953\"],[0.7777777777777778,\"#fb9f3a\"],[0.8888888888888888,\"#fdca26\"],[1.0,\"#f0f921\"]],\"type\":\"contour\"}],\"contourcarpet\":[{\"colorbar\":{\"outlinewidth\":0,\"ticks\":\"\"},\"type\":\"contourcarpet\"}],\"heatmap\":[{\"colorbar\":{\"outlinewidth\":0,\"ticks\":\"\"},\"colorscale\":[[0.0,\"#0d0887\"],[0.1111111111111111,\"#46039f\"],[0.2222222222222222,\"#7201a8\"],[0.3333333333333333,\"#9c179e\"],[0.4444444444444444,\"#bd3786\"],[0.5555555555555556,\"#d8576b\"],[0.6666666666666666,\"#ed7953\"],[0.7777777777777778,\"#fb9f3a\"],[0.8888888888888888,\"#fdca26\"],[1.0,\"#f0f921\"]],\"type\":\"heatmap\"}],\"heatmapgl\":[{\"colorbar\":{\"outlinewidth\":0,\"ticks\":\"\"},\"colorscale\":[[0.0,\"#0d0887\"],[0.1111111111111111,\"#46039f\"],[0.2222222222222222,\"#7201a8\"],[0.3333333333333333,\"#9c179e\"],[0.4444444444444444,\"#bd3786\"],[0.5555555555555556,\"#d8576b\"],[0.6666666666666666,\"#ed7953\"],[0.7777777777777778,\"#fb9f3a\"],[0.8888888888888888,\"#fdca26\"],[1.0,\"#f0f921\"]],\"type\":\"heatmapgl\"}],\"histogram\":[{\"marker\":{\"pattern\":{\"fillmode\":\"overlay\",\"size\":10,\"solidity\":0.2}},\"type\":\"histogram\"}],\"histogram2d\":[{\"colorbar\":{\"outlinewidth\":0,\"ticks\":\"\"},\"colorscale\":[[0.0,\"#0d0887\"],[0.1111111111111111,\"#46039f\"],[0.2222222222222222,\"#7201a8\"],[0.3333333333333333,\"#9c179e\"],[0.4444444444444444,\"#bd3786\"],[0.5555555555555556,\"#d8576b\"],[0.6666666666666666,\"#ed7953\"],[0.7777777777777778,\"#fb9f3a\"],[0.8888888888888888,\"#fdca26\"],[1.0,\"#f0f921\"]],\"type\":\"histogram2d\"}],\"histogram2dcontour\":[{\"colorbar\":{\"outlinewidth\":0,\"ticks\":\"\"},\"colorscale\":[[0.0,\"#0d0887\"],[0.1111111111111111,\"#46039f\"],[0.2222222222222222,\"#7201a8\"],[0.3333333333333333,\"#9c179e\"],[0.4444444444444444,\"#bd3786\"],[0.5555555555555556,\"#d8576b\"],[0.6666666666666666,\"#ed7953\"],[0.7777777777777778,\"#fb9f3a\"],[0.8888888888888888,\"#fdca26\"],[1.0,\"#f0f921\"]],\"type\":\"histogram2dcontour\"}],\"mesh3d\":[{\"colorbar\":{\"outlinewidth\":0,\"ticks\":\"\"},\"type\":\"mesh3d\"}],\"parcoords\":[{\"line\":{\"colorbar\":{\"outlinewidth\":0,\"ticks\":\"\"}},\"type\":\"parcoords\"}],\"pie\":[{\"automargin\":true,\"type\":\"pie\"}],\"scatter\":[{\"marker\":{\"colorbar\":{\"outlinewidth\":0,\"ticks\":\"\"}},\"type\":\"scatter\"}],\"scatter3d\":[{\"line\":{\"colorbar\":{\"outlinewidth\":0,\"ticks\":\"\"}},\"marker\":{\"colorbar\":{\"outlinewidth\":0,\"ticks\":\"\"}},\"type\":\"scatter3d\"}],\"scattercarpet\":[{\"marker\":{\"colorbar\":{\"outlinewidth\":0,\"ticks\":\"\"}},\"type\":\"scattercarpet\"}],\"scattergeo\":[{\"marker\":{\"colorbar\":{\"outlinewidth\":0,\"ticks\":\"\"}},\"type\":\"scattergeo\"}],\"scattergl\":[{\"marker\":{\"colorbar\":{\"outlinewidth\":0,\"ticks\":\"\"}},\"type\":\"scattergl\"}],\"scattermapbox\":[{\"marker\":{\"colorbar\":{\"outlinewidth\":0,\"ticks\":\"\"}},\"type\":\"scattermapbox\"}],\"scatterpolar\":[{\"marker\":{\"colorbar\":{\"outlinewidth\":0,\"ticks\":\"\"}},\"type\":\"scatterpolar\"}],\"scatterpolargl\":[{\"marker\":{\"colorbar\":{\"outlinewidth\":0,\"ticks\":\"\"}},\"type\":\"scatterpolargl\"}],\"scatterternary\":[{\"marker\":{\"colorbar\":{\"outlinewidth\":0,\"ticks\":\"\"}},\"type\":\"scatterternary\"}],\"surface\":[{\"colorbar\":{\"outlinewidth\":0,\"ticks\":\"\"},\"colorscale\":[[0.0,\"#0d0887\"],[0.1111111111111111,\"#46039f\"],[0.2222222222222222,\"#7201a8\"],[0.3333333333333333,\"#9c179e\"],[0.4444444444444444,\"#bd3786\"],[0.5555555555555556,\"#d8576b\"],[0.6666666666666666,\"#ed7953\"],[0.7777777777777778,\"#fb9f3a\"],[0.8888888888888888,\"#fdca26\"],[1.0,\"#f0f921\"]],\"type\":\"surface\"}],\"table\":[{\"cells\":{\"fill\":{\"color\":\"#EBF0F8\"},\"line\":{\"color\":\"white\"}},\"header\":{\"fill\":{\"color\":\"#C8D4E3\"},\"line\":{\"color\":\"white\"}},\"type\":\"table\"}]},\"layout\":{\"annotationdefaults\":{\"arrowcolor\":\"#2a3f5f\",\"arrowhead\":0,\"arrowwidth\":1},\"autotypenumbers\":\"strict\",\"coloraxis\":{\"colorbar\":{\"outlinewidth\":0,\"ticks\":\"\"}},\"colorscale\":{\"diverging\":[[0,\"#8e0152\"],[0.1,\"#c51b7d\"],[0.2,\"#de77ae\"],[0.3,\"#f1b6da\"],[0.4,\"#fde0ef\"],[0.5,\"#f7f7f7\"],[0.6,\"#e6f5d0\"],[0.7,\"#b8e186\"],[0.8,\"#7fbc41\"],[0.9,\"#4d9221\"],[1,\"#276419\"]],\"sequential\":[[0.0,\"#0d0887\"],[0.1111111111111111,\"#46039f\"],[0.2222222222222222,\"#7201a8\"],[0.3333333333333333,\"#9c179e\"],[0.4444444444444444,\"#bd3786\"],[0.5555555555555556,\"#d8576b\"],[0.6666666666666666,\"#ed7953\"],[0.7777777777777778,\"#fb9f3a\"],[0.8888888888888888,\"#fdca26\"],[1.0,\"#f0f921\"]],\"sequentialminus\":[[0.0,\"#0d0887\"],[0.1111111111111111,\"#46039f\"],[0.2222222222222222,\"#7201a8\"],[0.3333333333333333,\"#9c179e\"],[0.4444444444444444,\"#bd3786\"],[0.5555555555555556,\"#d8576b\"],[0.6666666666666666,\"#ed7953\"],[0.7777777777777778,\"#fb9f3a\"],[0.8888888888888888,\"#fdca26\"],[1.0,\"#f0f921\"]]},\"colorway\":[\"#636efa\",\"#EF553B\",\"#00cc96\",\"#ab63fa\",\"#FFA15A\",\"#19d3f3\",\"#FF6692\",\"#B6E880\",\"#FF97FF\",\"#FECB52\"],\"font\":{\"color\":\"#2a3f5f\"},\"geo\":{\"bgcolor\":\"white\",\"lakecolor\":\"white\",\"landcolor\":\"#E5ECF6\",\"showlakes\":true,\"showland\":true,\"subunitcolor\":\"white\"},\"hoverlabel\":{\"align\":\"left\"},\"hovermode\":\"closest\",\"mapbox\":{\"style\":\"light\"},\"paper_bgcolor\":\"white\",\"plot_bgcolor\":\"#E5ECF6\",\"polar\":{\"angularaxis\":{\"gridcolor\":\"white\",\"linecolor\":\"white\",\"ticks\":\"\"},\"bgcolor\":\"#E5ECF6\",\"radialaxis\":{\"gridcolor\":\"white\",\"linecolor\":\"white\",\"ticks\":\"\"}},\"scene\":{\"xaxis\":{\"backgroundcolor\":\"#E5ECF6\",\"gridcolor\":\"white\",\"gridwidth\":2,\"linecolor\":\"white\",\"showbackground\":true,\"ticks\":\"\",\"zerolinecolor\":\"white\"},\"yaxis\":{\"backgroundcolor\":\"#E5ECF6\",\"gridcolor\":\"white\",\"gridwidth\":2,\"linecolor\":\"white\",\"showbackground\":true,\"ticks\":\"\",\"zerolinecolor\":\"white\"},\"zaxis\":{\"backgroundcolor\":\"#E5ECF6\",\"gridcolor\":\"white\",\"gridwidth\":2,\"linecolor\":\"white\",\"showbackground\":true,\"ticks\":\"\",\"zerolinecolor\":\"white\"}},\"shapedefaults\":{\"line\":{\"color\":\"#2a3f5f\"}},\"ternary\":{\"aaxis\":{\"gridcolor\":\"white\",\"linecolor\":\"white\",\"ticks\":\"\"},\"baxis\":{\"gridcolor\":\"white\",\"linecolor\":\"white\",\"ticks\":\"\"},\"bgcolor\":\"#E5ECF6\",\"caxis\":{\"gridcolor\":\"white\",\"linecolor\":\"white\",\"ticks\":\"\"}},\"title\":{\"x\":0.05},\"xaxis\":{\"automargin\":true,\"gridcolor\":\"white\",\"linecolor\":\"white\",\"ticks\":\"\",\"title\":{\"standoff\":15},\"zerolinecolor\":\"white\",\"zerolinewidth\":2},\"yaxis\":{\"automargin\":true,\"gridcolor\":\"white\",\"linecolor\":\"white\",\"ticks\":\"\",\"title\":{\"standoff\":15},\"zerolinecolor\":\"white\",\"zerolinewidth\":2}}},\"xaxis\":{\"anchor\":\"y\",\"domain\":[0.0,0.09999999999999998]},\"yaxis\":{\"anchor\":\"x\",\"domain\":[0.0,1.0]},\"xaxis2\":{\"anchor\":\"y2\",\"domain\":[0.3,0.39999999999999997]},\"yaxis2\":{\"anchor\":\"x2\",\"domain\":[0.0,1.0]},\"xaxis3\":{\"anchor\":\"y3\",\"domain\":[0.6,0.7]},\"yaxis3\":{\"anchor\":\"x3\",\"domain\":[0.0,1.0]},\"xaxis4\":{\"anchor\":\"y4\",\"domain\":[0.9,1.0]},\"yaxis4\":{\"anchor\":\"x4\",\"domain\":[0.0,1.0]},\"annotations\":[{\"font\":{\"size\":16},\"showarrow\":false,\"text\":\"ELO_lin_Wins_white\",\"x\":0.04999999999999999,\"xanchor\":\"center\",\"xref\":\"paper\",\"y\":1.0,\"yanchor\":\"bottom\",\"yref\":\"paper\"},{\"font\":{\"size\":16},\"showarrow\":false,\"text\":\"ELO_lin_Loses_white\",\"x\":0.35,\"xanchor\":\"center\",\"xref\":\"paper\",\"y\":1.0,\"yanchor\":\"bottom\",\"yref\":\"paper\"},{\"font\":{\"size\":16},\"showarrow\":false,\"text\":\"ELO_lin_Wins_black\",\"x\":0.6499999999999999,\"xanchor\":\"center\",\"xref\":\"paper\",\"y\":1.0,\"yanchor\":\"bottom\",\"yref\":\"paper\"},{\"font\":{\"size\":16},\"showarrow\":false,\"text\":\"ELO_lin_Loses_black\",\"x\":0.95,\"xanchor\":\"center\",\"xref\":\"paper\",\"y\":1.0,\"yanchor\":\"bottom\",\"yref\":\"paper\"}],\"title\":{\"text\":\"Probability using linear relation\",\"x\":0},\"coloraxis\":{\"colorbar\":{\"thickness\":25,\"x\":-0.12},\"colorscale\":[[0.0,\"rgb(23, 28, 66)\"],[0.09090909090909091,\"rgb(41, 58, 143)\"],[0.18181818181818182,\"rgb(11, 102, 189)\"],[0.2727272727272727,\"rgb(69, 144, 185)\"],[0.36363636363636365,\"rgb(142, 181, 194)\"],[0.45454545454545453,\"rgb(210, 216, 219)\"],[0.5454545454545454,\"rgb(230, 210, 204)\"],[0.6363636363636364,\"rgb(213, 157, 137)\"],[0.7272727272727273,\"rgb(196, 101, 72)\"],[0.8181818181818182,\"rgb(172, 43, 36)\"],[0.9090909090909091,\"rgb(120, 14, 40)\"],[1.0,\"rgb(60, 9, 17)\"]],\"showscale\":false},\"coloraxis2\":{\"colorscale\":[[0.0,\"rgb(20, 29, 67)\"],[0.09090909090909091,\"rgb(28, 72, 93)\"],[0.18181818181818182,\"rgb(18, 115, 117)\"],[0.2727272727272727,\"rgb(63, 156, 129)\"],[0.36363636363636365,\"rgb(153, 189, 156)\"],[0.45454545454545453,\"rgb(223, 225, 211)\"],[0.5454545454545454,\"rgb(241, 218, 206)\"],[0.6363636363636364,\"rgb(224, 160, 137)\"],[0.7272727272727273,\"rgb(203, 101, 99)\"],[0.8181818181818182,\"rgb(164, 54, 96)\"],[0.9090909090909091,\"rgb(111, 23, 91)\"],[1.0,\"rgb(51, 13, 53)\"]],\"colorbar\":{\"thickness\":25},\"showscale\":false}},                        {\"responsive\": true}                    ).then(function(){\n",
       "                            \n",
       "var gd = document.getElementById('18509800-f7bb-4afd-94ec-2c6cc0273a6c');\n",
       "var x = new MutationObserver(function (mutations, observer) {{\n",
       "        var display = window.getComputedStyle(gd).display;\n",
       "        if (!display || display === 'none') {{\n",
       "            console.log([gd, 'removed!']);\n",
       "            Plotly.purge(gd);\n",
       "            observer.disconnect();\n",
       "        }}\n",
       "}});\n",
       "\n",
       "// Listen for the removal of the full notebook cells\n",
       "var notebookContainer = gd.closest('#notebook-container');\n",
       "if (notebookContainer) {{\n",
       "    x.observe(notebookContainer, {childList: true});\n",
       "}}\n",
       "\n",
       "// Listen for the clearing of the current output cell\n",
       "var outputEl = gd.closest('.output');\n",
       "if (outputEl) {{\n",
       "    x.observe(outputEl, {childList: true});\n",
       "}}\n",
       "\n",
       "                        })                };                });            </script>        </div>"
      ]
     },
     "metadata": {},
     "output_type": "display_data"
    }
   ],
   "source": [
    "plot_figures(4,('ELO_lin_Wins_white','ELO_lin_Loses_white', 'ELO_lin_Wins_black','ELO_lin_Loses_black'), \n",
    "             \"Probability using linear relation\", deciles, train) "
   ]
  },
  {
   "cell_type": "code",
   "execution_count": 321,
   "id": "23640e29",
   "metadata": {},
   "outputs": [
    {
     "data": {
      "image/png": "[encoded data removed]",
      "text/plain": [
       "<Figure size 1080x1080 with 2 Axes>"
      ]
     },
     "metadata": {},
     "output_type": "display_data"
    }
   ],
   "source": [
    "correlation = train.corr(method='pearson')\n",
    "columns = correlation.nlargest(20, 'result').index\n",
    "columns\n",
    "\n",
    "\n",
    "plt.figure(figsize=(15,15)) \n",
    "correlation_map = np.corrcoef(train[columns].values.T)\n",
    "sns.set(font_scale=1.0)\n",
    "heatmap = sns.heatmap(correlation_map,\n",
    "                      cbar=True, annot=True,\n",
    "                      square=True, fmt='.2f', \n",
    "                      yticklabels=columns.values,\n",
    "                      xticklabels=columns.values)\n",
    "\n",
    "plt.show()"
   ]
  },
  {
   "cell_type": "code",
   "execution_count": 322,
   "id": "128f0553",
   "metadata": {},
   "outputs": [],
   "source": [
    "# Saving the files\n",
    "train.to_csv('Data/Train_ELO_score.csv', index = False)\n",
    "test.to_csv('Data/Test_ELO_Score.csv', index = False)"
   ]
  },
  {
   "cell_type": "markdown",
   "id": "99b9759a",
   "metadata": {},
   "source": [
    "### Model Buidling"
   ]
  },
  {
   "cell_type": "markdown",
   "id": "b886a258",
   "metadata": {},
   "source": [
    "#### Loading data"
   ]
  },
  {
   "cell_type": "code",
   "execution_count": null,
   "id": "e9787847",
   "metadata": {},
   "outputs": [],
   "source": [
    "train = pd.read_csv('Data/Train_ELO_score.csv')\n",
    "test = pd.read_csv('Data/Test_ELO_Score.csv')\n",
    "\n",
    "\n",
    "# Dropping Unnecessary coloumns\n",
    "train = train.drop(['white', 'black', 'Year','White_Exp', 'Black_Exp'], axis = 1)\n",
    "test = test.drop(['white', 'black', 'Year','White_Exp', 'Black_Exp'], axis = 1)\n",
    "\n",
    "# Converting result from continous to categorical\n",
    "train['result'] = train.result.apply(lambda x: 2*(x-0.5), 1)\n",
    "\n",
    "train['time_control'] = train['time_control'].apply(lambda x: 1 if x == 'classic' else 0,1)\n",
    "test['time_control'] = test['time_control'].apply(lambda x: 1 if x == 'classic' else 0,1)\n",
    "\n",
    "train['ELO_score_diff'] = train['White_ELO']-train['Black_ELO']"
   ]
  },
  {
   "cell_type": "markdown",
   "id": "f155b384",
   "metadata": {},
   "source": [
    "#### Fixing training and validation data set to train the model"
   ]
  },
  {
   "cell_type": "code",
   "execution_count": null,
   "id": "ae7da0e2",
   "metadata": {},
   "outputs": [],
   "source": [
    "val = train.loc[150000:]\n",
    "val = val.reset_index(drop = True)\n",
    "\n",
    "train = train.loc[100000:150000]\n",
    "train = train.reset_index(drop = True)"
   ]
  },
  {
   "cell_type": "code",
   "execution_count": null,
   "id": "18736720",
   "metadata": {},
   "outputs": [],
   "source": []
  },
  {
   "cell_type": "markdown",
   "id": "736ce0fa",
   "metadata": {},
   "source": [
    "### Model Evaluation metrics"
   ]
  },
  {
   "cell_type": "code",
   "execution_count": 27,
   "id": "9303c6ce",
   "metadata": {},
   "outputs": [],
   "source": [
    "# Functions to compute True Positives, True Negatives, False Positives and False Negatives\n",
    "def true_positive(y_true, y_pred):\n",
    "    return sum([1 for yt,yp in zip(y_true, y_pred) if yt == 1 and yp == 1 ])\n",
    "\n",
    "def true_negative(y_true, y_pred):\n",
    "    return sum([1 for yt,yp in zip(y_true, y_pred) if yt == 0 and yp == 0])\n",
    "\n",
    "def false_positive(y_true, y_pred):\n",
    "    return sum([1 for yt,yp in zip(y_true, y_pred) if yt == 0 and yp == 1])\n",
    "\n",
    "def false_negative(y_true, y_pred):\n",
    "    return sum([1 for yt,yp in zip(y_true, y_pred) if yt == 1 and yp == 0])\n",
    "\n",
    "#Computation of macro-averaged fi score\n",
    "def macro_f1(y_true, y_pred):\n",
    "\n",
    "    # find the number of classes\n",
    "    num_classes = len(np.unique(y_true))\n",
    "\n",
    "    # initialize f1 to 0\n",
    "    f1 = 0\n",
    "    \n",
    "    # loop over all classes\n",
    "    for class_ in list(y_true.unique()):\n",
    "        \n",
    "        # all classes except current are considered negative\n",
    "        temp_true = [1 if p == class_ else 0 for p in y_true]\n",
    "        temp_pred = [1 if p == class_ else 0 for p in y_pred]\n",
    "        \n",
    "        # compute true positive for current class\n",
    "        tp = true_positive(temp_true, temp_pred)\n",
    "        # compute false negative for current class\n",
    "        fn = false_negative(temp_true, temp_pred)\n",
    "        # compute false positive for current class\n",
    "        fp = false_positive(temp_true, temp_pred)\n",
    "        \n",
    "        # compute recall for current class\n",
    "        temp_recall = tp / (tp + fn + 1e-6)\n",
    "        # compute precision for current class\n",
    "        temp_precision = tp / (tp + fp + 1e-6)\n",
    "        temp_f1 = 2 * temp_precision * temp_recall / (temp_precision + temp_recall + 1e-6)\n",
    "        \n",
    "        # keep adding f1 score for all classes\n",
    "        f1 += temp_f1\n",
    "        \n",
    "    # calculate and return average f1 score over all classes\n",
    "    f1 /= num_classes\n",
    "    \n",
    "    return f1"
   ]
  },
  {
   "cell_type": "code",
   "execution_count": 32,
   "id": "fac6b668",
   "metadata": {
    "scrolled": false
   },
   "outputs": [],
   "source": [
    "def Model_training(train, feature, n_splits = 5):\n",
    "    lgb_scores = []\n",
    "    cat_scores = []\n",
    "    lm_scores = []\n",
    "    \n",
    "    skf = StratifiedKFold(n_splits=n_splits)\n",
    "    for fold,(trn_idx,val_idx) in enumerate(skf.split(train[feature],train[target])):\n",
    "    \n",
    "        print(\"In fold \",fold+1)\n",
    "        X_train,X_val = train.loc[trn_idx,feature],train.loc[val_idx,feature]\n",
    "        y_train,y_val = train.loc[trn_idx,target],train.loc[val_idx,target]\n",
    "    \n",
    "        lgb_clf = lgb.LGBMClassifier(n_estimators=300,metric=\"None\")\n",
    "        lgb_clf.fit(X_train,y_train,eval_set=[(X_val,y_val)],\n",
    "                    verbose = 200,\n",
    "                    eval_metric='multi_logloss',\n",
    "                    callbacks=[lgb.early_stopping(stopping_rounds=50)])\n",
    "    \n",
    "        fold_preds = lgb_clf.predict(X_val)\n",
    "        fold_score = macro_f1(y_val,fold_preds)\n",
    "        print(f\"Fold LightGBM {fold+1} score: \",fold_score)\n",
    "        lgb_scores.append(fold_score)\n",
    "    \n",
    "    \n",
    "        clf = CatBoostClassifier(random_state=fold+1, loss_function='MultiClass')\n",
    "        clf.fit(X_train,y_train,eval_set=[(X_val,y_val)],\n",
    "                #cat_features = cat_cols,\n",
    "                early_stopping_rounds=250,\n",
    "                verbose=False)\n",
    "\n",
    "        fold_preds = clf.predict(X_val)\n",
    "        fold_score = macro_f1(y_val,fold_preds)\n",
    "        print(f\"Fold Catboot {fold+1} score: \",fold_score)\n",
    "        cat_scores.append(fold_score)\n",
    "     \n",
    "        lm = LogisticRegression(multi_class='ovr', solver='liblinear')\n",
    "        lm.fit(X_train, y_train)\n",
    "    \n",
    "        fold_preds = lm.predict(X_val)\n",
    "        fold_score = macro_f1(y_val,fold_preds)\n",
    "        print(f\"Fold Logistic {fold+1} score: \",fold_score)\n",
    "        lm_scores.append(fold_score)\n",
    "    \n",
    "    print(\"Overall CatBoost Model score is \",np.array(cat_scores).mean())\n",
    "    print(\"Overall LM Model score is \",np.array(lm_scores).mean())\n",
    "    print(pd.DataFrame(zip(lgb_scores, cat_scores, lm_scores),\n",
    "                       columns = ['lgb_scores', 'cat_scores', 'lm_scores']))\n",
    "    return lgb_clf, clf, lm\n",
    "\n",
    "\n",
    "#preds = preds / 5"
   ]
  },
  {
   "cell_type": "code",
   "execution_count": 33,
   "id": "d7a2deaf",
   "metadata": {},
   "outputs": [],
   "source": [
    "important = ['time_control']\n",
    "\n",
    "set1 = ['ELO_probability', \n",
    "        'White_Win_probability', 'White_Draw_Probability','White_Lose_probability',\n",
    "        'Black_Win_probability', 'Black_Draw_Probability', 'Black_Lose_probability']\n",
    "set2 = ['Direct_wins', 'Direct_draws', 'Direst_loses',\n",
    "        'Common_players_wins', 'Common_players_draws', 'Common_players_loses']\n",
    "set3 = ['White_ELO', 'Black_ELO','ELO_score_diff']\n",
    "set4 = ['ELO_lin_Loses_white', 'ELO_lin_Wins_black', 'ELO_lin_Loses_black']\n",
    "\n",
    "target = 'result'"
   ]
  },
  {
   "cell_type": "code",
   "execution_count": 34,
   "id": "e0d7595b",
   "metadata": {},
   "outputs": [
    {
     "name": "stdout",
     "output_type": "stream",
     "text": [
      "In fold  1\n",
      "Training until validation scores don't improve for 50 rounds\n",
      "Early stopping, best iteration is:\n",
      "[15]\tvalid_0's multi_logloss: 1.0283\n",
      "Fold LightGBM 1 score:  0.428030806144331\n",
      "Fold Catboot 1 score:  0.43781428643830433\n",
      "Fold Logistic 1 score:  0.43999415428660943\n",
      "In fold  2\n",
      "Training until validation scores don't improve for 50 rounds\n",
      "Early stopping, best iteration is:\n",
      "[18]\tvalid_0's multi_logloss: 1.01052\n",
      "Fold LightGBM 2 score:  0.45810866446064297\n",
      "Fold Catboot 2 score:  0.45879433226195127\n",
      "Fold Logistic 2 score:  0.4663014419391934\n",
      "In fold  3\n",
      "Training until validation scores don't improve for 50 rounds\n",
      "Early stopping, best iteration is:\n",
      "[37]\tvalid_0's multi_logloss: 0.979301\n",
      "Fold LightGBM 3 score:  0.4926379971133825\n",
      "Fold Catboot 3 score:  0.49286389455247387\n",
      "Fold Logistic 3 score:  0.48834456219941935\n",
      "In fold  4\n",
      "Training until validation scores don't improve for 50 rounds\n",
      "Early stopping, best iteration is:\n",
      "[37]\tvalid_0's multi_logloss: 0.978355\n",
      "Fold LightGBM 4 score:  0.491775153983632\n",
      "Fold Catboot 4 score:  0.4915950591396416\n",
      "Fold Logistic 4 score:  0.48941014310628717\n",
      "In fold  5\n",
      "Training until validation scores don't improve for 50 rounds\n",
      "Early stopping, best iteration is:\n",
      "[52]\tvalid_0's multi_logloss: 0.954245\n",
      "Fold LightGBM 5 score:  0.5152535408997991\n",
      "Fold Catboot 5 score:  0.5162233035517337\n",
      "Fold Logistic 5 score:  0.5124788436878861\n",
      "In fold  6\n",
      "Training until validation scores don't improve for 50 rounds\n",
      "Early stopping, best iteration is:\n",
      "[53]\tvalid_0's multi_logloss: 0.960109\n",
      "Fold LightGBM 6 score:  0.507987722652087\n",
      "Fold Catboot 6 score:  0.5085776766128521\n",
      "Fold Logistic 6 score:  0.5118885562646814\n",
      "In fold  7\n",
      "Training until validation scores don't improve for 50 rounds\n",
      "Early stopping, best iteration is:\n",
      "[59]\tvalid_0's multi_logloss: 0.920401\n",
      "Fold LightGBM 7 score:  0.5498806550977431\n",
      "Fold Catboot 7 score:  0.5516573062553977\n",
      "Fold Logistic 7 score:  0.5484984698263368\n",
      "In fold  8\n",
      "Training until validation scores don't improve for 50 rounds\n",
      "Early stopping, best iteration is:\n",
      "[47]\tvalid_0's multi_logloss: 0.918494\n",
      "Fold LightGBM 8 score:  0.5464008284851007\n",
      "Fold Catboot 8 score:  0.5482833647475336\n",
      "Fold Logistic 8 score:  0.5466715124700595\n",
      "Overall CatBoost Model score is  0.500726152944986\n",
      "Overall LM Model score is  0.5004484604725592\n",
      "   lgb_scores  cat_scores  lm_scores\n",
      "0    0.428031    0.437814   0.439994\n",
      "1    0.458109    0.458794   0.466301\n",
      "2    0.492638    0.492864   0.488345\n",
      "3    0.491775    0.491595   0.489410\n",
      "4    0.515254    0.516223   0.512479\n",
      "5    0.507988    0.508578   0.511889\n",
      "6    0.549881    0.551657   0.548498\n",
      "7    0.546401    0.548283   0.546672\n"
     ]
    }
   ],
   "source": [
    "Set3 = Model_training(train, set3 + important, n_splits = 8)"
   ]
  },
  {
   "cell_type": "code",
   "execution_count": 35,
   "id": "f3eb6f46",
   "metadata": {},
   "outputs": [
    {
     "name": "stdout",
     "output_type": "stream",
     "text": [
      "In fold  1\n",
      "Training until validation scores don't improve for 50 rounds\n",
      "Early stopping, best iteration is:\n",
      "[13]\tvalid_0's multi_logloss: 1.02535\n",
      "Fold LightGBM 1 score:  0.43396971807104423\n",
      "Fold Catboot 1 score:  0.4418873826763232\n",
      "Fold Logistic 1 score:  0.4450861406822695\n",
      "In fold  2\n",
      "Training until validation scores don't improve for 50 rounds\n",
      "Early stopping, best iteration is:\n",
      "[50]\tvalid_0's multi_logloss: 0.982121\n",
      "Fold LightGBM 2 score:  0.49066171768452826\n",
      "Fold Catboot 2 score:  0.49177525284396556\n",
      "Fold Logistic 2 score:  0.4866529415396989\n",
      "In fold  3\n",
      "Training until validation scores don't improve for 50 rounds\n",
      "Early stopping, best iteration is:\n",
      "[78]\tvalid_0's multi_logloss: 0.951802\n",
      "Fold LightGBM 3 score:  0.5156932973650793\n",
      "Fold Catboot 3 score:  0.5171338478545325\n",
      "Fold Logistic 3 score:  0.5095259881542721\n",
      "In fold  4\n",
      "Training until validation scores don't improve for 50 rounds\n",
      "Early stopping, best iteration is:\n",
      "[82]\tvalid_0's multi_logloss: 0.94367\n",
      "Fold LightGBM 4 score:  0.5236180352268477\n",
      "Fold Catboot 4 score:  0.5237572107319576\n",
      "Fold Logistic 4 score:  0.5170554981605727\n",
      "In fold  5\n",
      "Training until validation scores don't improve for 50 rounds\n",
      "Early stopping, best iteration is:\n",
      "[79]\tvalid_0's multi_logloss: 0.903135\n",
      "Fold LightGBM 5 score:  0.5577591985038205\n",
      "Fold Catboot 5 score:  0.5614964902535037\n",
      "Fold Logistic 5 score:  0.5486246958452944\n",
      "Overall CatBoost Model score is  0.5072100368720565\n",
      "Overall LM Model score is  0.5013890528764215\n",
      "   lgb_scores  cat_scores  lm_scores\n",
      "0    0.433970    0.441887   0.445086\n",
      "1    0.490662    0.491775   0.486653\n",
      "2    0.515693    0.517134   0.509526\n",
      "3    0.523618    0.523757   0.517055\n",
      "4    0.557759    0.561496   0.548625\n"
     ]
    }
   ],
   "source": [
    "Set1 = Model_training(train, set1 + important, n_splits = 5)"
   ]
  },
  {
   "cell_type": "code",
   "execution_count": 36,
   "id": "7e78311d",
   "metadata": {},
   "outputs": [
    {
     "name": "stdout",
     "output_type": "stream",
     "text": [
      "In fold  1\n",
      "Training until validation scores don't improve for 50 rounds\n",
      "Early stopping, best iteration is:\n",
      "[14]\tvalid_0's multi_logloss: 1.07039\n",
      "Fold LightGBM 1 score:  0.29674176663755486\n",
      "Fold Catboot 1 score:  0.3162982985226153\n",
      "Fold Logistic 1 score:  0.3644780128265456\n",
      "In fold  2\n",
      "Training until validation scores don't improve for 50 rounds\n",
      "Early stopping, best iteration is:\n",
      "[17]\tvalid_0's multi_logloss: 1.05232\n",
      "Fold LightGBM 2 score:  0.41016792219222004\n",
      "Fold Catboot 2 score:  0.41605927103050516\n",
      "Fold Logistic 2 score:  0.4032188626272659\n",
      "In fold  3\n",
      "Training until validation scores don't improve for 50 rounds\n",
      "Early stopping, best iteration is:\n",
      "[39]\tvalid_0's multi_logloss: 1.02536\n",
      "Fold LightGBM 3 score:  0.45182961286265105\n",
      "Fold Catboot 3 score:  0.4518435429372157\n",
      "Fold Logistic 3 score:  0.4172534684784352\n",
      "In fold  4\n",
      "Training until validation scores don't improve for 50 rounds\n",
      "Early stopping, best iteration is:\n",
      "[57]\tvalid_0's multi_logloss: 1.0279\n",
      "Fold LightGBM 4 score:  0.43471684068900807\n",
      "Fold Catboot 4 score:  0.43734965959191224\n",
      "Fold Logistic 4 score:  0.40241174586372946\n",
      "In fold  5\n",
      "Training until validation scores don't improve for 50 rounds\n",
      "Early stopping, best iteration is:\n",
      "[62]\tvalid_0's multi_logloss: 1.00189\n",
      "Fold LightGBM 5 score:  0.4794057707020729\n",
      "Fold Catboot 5 score:  0.4817462892334245\n",
      "Fold Logistic 5 score:  0.42917091800842017\n",
      "Overall CatBoost Model score is  0.4206594122631346\n",
      "Overall LM Model score is  0.40330660156087933\n",
      "   lgb_scores  cat_scores  lm_scores\n",
      "0    0.296742    0.316298   0.364478\n",
      "1    0.410168    0.416059   0.403219\n",
      "2    0.451830    0.451844   0.417253\n",
      "3    0.434717    0.437350   0.402412\n",
      "4    0.479406    0.481746   0.429171\n",
      "In fold  1\n",
      "Training until validation scores don't improve for 50 rounds\n",
      "Early stopping, best iteration is:\n",
      "[9]\tvalid_0's multi_logloss: 1.04252\n",
      "Fold LightGBM 1 score:  0.4229762922344567\n",
      "Fold Catboot 1 score:  0.4309996896886323\n",
      "Fold Logistic 1 score:  0.4302558944392783\n",
      "In fold  2\n",
      "Training until validation scores don't improve for 50 rounds\n",
      "Early stopping, best iteration is:\n",
      "[23]\tvalid_0's multi_logloss: 1.00361\n",
      "Fold LightGBM 2 score:  0.47560661507234175\n",
      "Fold Catboot 2 score:  0.47425066831963275\n",
      "Fold Logistic 2 score:  0.4671561944111155\n",
      "In fold  3\n",
      "Training until validation scores don't improve for 50 rounds\n",
      "Early stopping, best iteration is:\n",
      "[51]\tvalid_0's multi_logloss: 0.975966\n",
      "Fold LightGBM 3 score:  0.5040743716413542\n",
      "Fold Catboot 3 score:  0.5042197798753002\n",
      "Fold Logistic 3 score:  0.492187910806777\n",
      "In fold  4\n",
      "Training until validation scores don't improve for 50 rounds\n",
      "Early stopping, best iteration is:\n",
      "[81]\tvalid_0's multi_logloss: 0.971469\n",
      "Fold LightGBM 4 score:  0.4954444038037035\n",
      "Fold Catboot 4 score:  0.4975644632473264\n",
      "Fold Logistic 4 score:  0.48612275644084413\n",
      "In fold  5\n",
      "Training until validation scores don't improve for 50 rounds\n",
      "Early stopping, best iteration is:\n",
      "[82]\tvalid_0's multi_logloss: 0.94072\n",
      "Fold LightGBM 5 score:  0.5354868110538261\n",
      "Fold Catboot 5 score:  0.5381289641645434\n",
      "Fold Logistic 5 score:  0.5263386066233229\n",
      "Overall CatBoost Model score is  0.48903271305908697\n",
      "Overall LM Model score is  0.4804122725442676\n",
      "   lgb_scores  cat_scores  lm_scores\n",
      "0    0.422976    0.431000   0.430256\n",
      "1    0.475607    0.474251   0.467156\n",
      "2    0.504074    0.504220   0.492188\n",
      "3    0.495444    0.497564   0.486123\n",
      "4    0.535487    0.538129   0.526339\n"
     ]
    }
   ],
   "source": [
    "Set2 = Model_training(train, set2 + important, n_splits = 5)\n",
    "Set4 = Model_training(train, set4 + important, n_splits = 5)"
   ]
  },
  {
   "cell_type": "code",
   "execution_count": 38,
   "id": "2353e14a",
   "metadata": {},
   "outputs": [],
   "source": [
    "Mid_stage = pd.DataFrame(Set3[2].predict_proba(train[set3 + important]), columns = ['lose','draw','win'])\n",
    "Mid_stage['Set1'] = Set1[1].predict(train[set1 + important])\n",
    "Mid_stage['Set2'] = Set2[1].predict(train[set2 + important])\n",
    "Mid_stage['Set4'] = Set4[1].predict(train[set4 + important])\n",
    "Mid_stage['result'] = train['result']"
   ]
  },
  {
   "cell_type": "code",
   "execution_count": 40,
   "id": "534842f4",
   "metadata": {},
   "outputs": [
    {
     "name": "stdout",
     "output_type": "stream",
     "text": [
      "In fold  1\n",
      "Training until validation scores don't improve for 50 rounds\n",
      "Early stopping, best iteration is:\n",
      "[19]\tvalid_0's multi_logloss: 1.01653\n",
      "Fold LightGBM 1 score:  0.45747609786773147\n",
      "Fold Catboot 1 score:  0.45836570386807\n",
      "Fold Logistic 1 score:  0.45652221050986347\n",
      "In fold  2\n",
      "Training until validation scores don't improve for 50 rounds\n",
      "Early stopping, best iteration is:\n",
      "[26]\tvalid_0's multi_logloss: 0.978084\n",
      "Fold LightGBM 2 score:  0.5053467758201621\n",
      "Fold Catboot 2 score:  0.505120789705496\n",
      "Fold Logistic 2 score:  0.4987678779939253\n",
      "In fold  3\n",
      "Training until validation scores don't improve for 50 rounds\n",
      "Early stopping, best iteration is:\n",
      "[42]\tvalid_0's multi_logloss: 0.951134\n",
      "Fold LightGBM 3 score:  0.5280194190791433\n",
      "Fold Catboot 3 score:  0.5284947492923249\n",
      "Fold Logistic 3 score:  0.5239283101907469\n",
      "In fold  4\n",
      "Training until validation scores don't improve for 50 rounds\n",
      "Early stopping, best iteration is:\n",
      "[51]\tvalid_0's multi_logloss: 0.942474\n",
      "Fold LightGBM 4 score:  0.5384284082251307\n",
      "Fold Catboot 4 score:  0.5387506915930498\n",
      "Fold Logistic 4 score:  0.5307620910694805\n",
      "In fold  5\n",
      "Training until validation scores don't improve for 50 rounds\n",
      "Early stopping, best iteration is:\n",
      "[56]\tvalid_0's multi_logloss: 0.907357\n",
      "Fold LightGBM 5 score:  0.5600853973902172\n",
      "Fold Catboot 5 score:  0.5604484029311688\n",
      "Fold Logistic 5 score:  0.5582665997504321\n",
      "Overall CatBoost Model score is  0.518236067478022\n",
      "Overall LM Model score is  0.5136494179028896\n",
      "   lgb_scores  cat_scores  lm_scores\n",
      "0    0.457476    0.458366   0.456522\n",
      "1    0.505347    0.505121   0.498768\n",
      "2    0.528019    0.528495   0.523928\n",
      "3    0.538428    0.538751   0.530762\n",
      "4    0.560085    0.560448   0.558267\n"
     ]
    }
   ],
   "source": [
    "feature = ['lose', 'draw', 'win', 'Set1', 'Set2', 'Set4']\n",
    "models = Model_training(Mid_stage, feature, n_splits = 5)"
   ]
  },
  {
   "cell_type": "code",
   "execution_count": 43,
   "id": "9a461df0",
   "metadata": {},
   "outputs": [],
   "source": [
    "X_val, y_val = Mid_stage[feature],Mid_stage['result']"
   ]
  },
  {
   "cell_type": "code",
   "execution_count": 46,
   "id": "5b8bcd25",
   "metadata": {},
   "outputs": [
    {
     "name": "stdout",
     "output_type": "stream",
     "text": [
      "              precision    recall  f1-score   support\n",
      "\n",
      "        -1.0       0.59      0.41      0.48     44640\n",
      "         0.0       0.47      0.59      0.52     67835\n",
      "         1.0       0.59      0.55      0.57     61643\n",
      "\n",
      "    accuracy                           0.53    174118\n",
      "   macro avg       0.55      0.52      0.52    174118\n",
      "weighted avg       0.54      0.53      0.53    174118\n",
      "\n"
     ]
    },
    {
     "data": {
      "image/png": "[encoded data removed]",
      "text/plain": [
       "<Figure size 720x432 with 2 Axes>"
      ]
     },
     "metadata": {
      "needs_background": "light"
     },
     "output_type": "display_data"
    }
   ],
   "source": [
    "fig, ax = plt.subplots(figsize=(10, 6))\n",
    "ax.set_title('Confusion Matrx')\n",
    "disp =metrics.plot_confusion_matrix(models[0], X_val, y_val, ax = ax)\n",
    "disp.confusion_matrix\n",
    "print(metrics.classification_report(y_val, models[0].predict(X_val)))"
   ]
  },
  {
   "cell_type": "code",
   "execution_count": 47,
   "id": "560430bd",
   "metadata": {},
   "outputs": [
    {
     "ename": "ValueError",
     "evalue": "Number of features of the model must match the input. Model n_features_ is 6 and input n_features is 22",
     "output_type": "error",
     "traceback": [
      "\u001b[0;31m---------------------------------------------------------------------------\u001b[0m",
      "\u001b[0;31mValueError\u001b[0m                                Traceback (most recent call last)",
      "\u001b[0;32m/var/folders/n3/pxxd36b52x11p_lp7pqzq5vw0000gn/T/ipykernel_6184/2012389587.py\u001b[0m in \u001b[0;36m<module>\u001b[0;34m\u001b[0m\n\u001b[0;32m----> 1\u001b[0;31m \u001b[0mresult\u001b[0m \u001b[0;34m=\u001b[0m \u001b[0mmodels\u001b[0m\u001b[0;34m[\u001b[0m\u001b[0;36m0\u001b[0m\u001b[0;34m]\u001b[0m\u001b[0;34m.\u001b[0m\u001b[0mpredict\u001b[0m\u001b[0;34m(\u001b[0m\u001b[0mtest\u001b[0m\u001b[0;34m)\u001b[0m\u001b[0;34m\u001b[0m\u001b[0;34m\u001b[0m\u001b[0m\n\u001b[0m\u001b[1;32m      2\u001b[0m \u001b[0mtest\u001b[0m \u001b[0;34m=\u001b[0m \u001b[0mpd\u001b[0m\u001b[0;34m.\u001b[0m\u001b[0mread_csv\u001b[0m\u001b[0;34m(\u001b[0m\u001b[0;34m'Data/Test_Master.csv'\u001b[0m\u001b[0;34m)\u001b[0m\u001b[0;34m\u001b[0m\u001b[0;34m\u001b[0m\u001b[0m\n\u001b[1;32m      3\u001b[0m \u001b[0mtest\u001b[0m\u001b[0;34m[\u001b[0m\u001b[0;34m'result'\u001b[0m\u001b[0;34m]\u001b[0m \u001b[0;34m=\u001b[0m \u001b[0mresult\u001b[0m\u001b[0;34m\u001b[0m\u001b[0;34m\u001b[0m\u001b[0m\n",
      "\u001b[0;32m/opt/homebrew/Caskroom/miniforge/base/envs/env_tf/lib/python3.9/site-packages/lightgbm/sklearn.py\u001b[0m in \u001b[0;36mpredict\u001b[0;34m(self, X, raw_score, start_iteration, num_iteration, pred_leaf, pred_contrib, **kwargs)\u001b[0m\n\u001b[1;32m    982\u001b[0m                 pred_leaf=False, pred_contrib=False, **kwargs):\n\u001b[1;32m    983\u001b[0m         \u001b[0;34m\"\"\"Docstring is inherited from the LGBMModel.\"\"\"\u001b[0m\u001b[0;34m\u001b[0m\u001b[0;34m\u001b[0m\u001b[0m\n\u001b[0;32m--> 984\u001b[0;31m         result = self.predict_proba(X, raw_score, start_iteration, num_iteration,\n\u001b[0m\u001b[1;32m    985\u001b[0m                                     pred_leaf, pred_contrib, **kwargs)\n\u001b[1;32m    986\u001b[0m         \u001b[0;32mif\u001b[0m \u001b[0mcallable\u001b[0m\u001b[0;34m(\u001b[0m\u001b[0mself\u001b[0m\u001b[0;34m.\u001b[0m\u001b[0m_objective\u001b[0m\u001b[0;34m)\u001b[0m \u001b[0;32mor\u001b[0m \u001b[0mraw_score\u001b[0m \u001b[0;32mor\u001b[0m \u001b[0mpred_leaf\u001b[0m \u001b[0;32mor\u001b[0m \u001b[0mpred_contrib\u001b[0m\u001b[0;34m:\u001b[0m\u001b[0;34m\u001b[0m\u001b[0;34m\u001b[0m\u001b[0m\n",
      "\u001b[0;32m/opt/homebrew/Caskroom/miniforge/base/envs/env_tf/lib/python3.9/site-packages/lightgbm/sklearn.py\u001b[0m in \u001b[0;36mpredict_proba\u001b[0;34m(self, X, raw_score, start_iteration, num_iteration, pred_leaf, pred_contrib, **kwargs)\u001b[0m\n\u001b[1;32m    995\u001b[0m                       pred_leaf=False, pred_contrib=False, **kwargs):\n\u001b[1;32m    996\u001b[0m         \u001b[0;34m\"\"\"Docstring is set after definition, using a template.\"\"\"\u001b[0m\u001b[0;34m\u001b[0m\u001b[0;34m\u001b[0m\u001b[0m\n\u001b[0;32m--> 997\u001b[0;31m         \u001b[0mresult\u001b[0m \u001b[0;34m=\u001b[0m \u001b[0msuper\u001b[0m\u001b[0;34m(\u001b[0m\u001b[0;34m)\u001b[0m\u001b[0;34m.\u001b[0m\u001b[0mpredict\u001b[0m\u001b[0;34m(\u001b[0m\u001b[0mX\u001b[0m\u001b[0;34m,\u001b[0m \u001b[0mraw_score\u001b[0m\u001b[0;34m,\u001b[0m \u001b[0mstart_iteration\u001b[0m\u001b[0;34m,\u001b[0m \u001b[0mnum_iteration\u001b[0m\u001b[0;34m,\u001b[0m \u001b[0mpred_leaf\u001b[0m\u001b[0;34m,\u001b[0m \u001b[0mpred_contrib\u001b[0m\u001b[0;34m,\u001b[0m \u001b[0;34m**\u001b[0m\u001b[0mkwargs\u001b[0m\u001b[0;34m)\u001b[0m\u001b[0;34m\u001b[0m\u001b[0;34m\u001b[0m\u001b[0m\n\u001b[0m\u001b[1;32m    998\u001b[0m         \u001b[0;32mif\u001b[0m \u001b[0mcallable\u001b[0m\u001b[0;34m(\u001b[0m\u001b[0mself\u001b[0m\u001b[0;34m.\u001b[0m\u001b[0m_objective\u001b[0m\u001b[0;34m)\u001b[0m \u001b[0;32mand\u001b[0m \u001b[0;32mnot\u001b[0m \u001b[0;34m(\u001b[0m\u001b[0mraw_score\u001b[0m \u001b[0;32mor\u001b[0m \u001b[0mpred_leaf\u001b[0m \u001b[0;32mor\u001b[0m \u001b[0mpred_contrib\u001b[0m\u001b[0;34m)\u001b[0m\u001b[0;34m:\u001b[0m\u001b[0;34m\u001b[0m\u001b[0;34m\u001b[0m\u001b[0m\n\u001b[1;32m    999\u001b[0m             _log_warning(\"Cannot compute class probabilities or labels \"\n",
      "\u001b[0;32m/opt/homebrew/Caskroom/miniforge/base/envs/env_tf/lib/python3.9/site-packages/lightgbm/sklearn.py\u001b[0m in \u001b[0;36mpredict\u001b[0;34m(self, X, raw_score, start_iteration, num_iteration, pred_leaf, pred_contrib, **kwargs)\u001b[0m\n\u001b[1;32m    798\u001b[0m         \u001b[0mn_features\u001b[0m \u001b[0;34m=\u001b[0m \u001b[0mX\u001b[0m\u001b[0;34m.\u001b[0m\u001b[0mshape\u001b[0m\u001b[0;34m[\u001b[0m\u001b[0;36m1\u001b[0m\u001b[0;34m]\u001b[0m\u001b[0;34m\u001b[0m\u001b[0;34m\u001b[0m\u001b[0m\n\u001b[1;32m    799\u001b[0m         \u001b[0;32mif\u001b[0m \u001b[0mself\u001b[0m\u001b[0;34m.\u001b[0m\u001b[0m_n_features\u001b[0m \u001b[0;34m!=\u001b[0m \u001b[0mn_features\u001b[0m\u001b[0;34m:\u001b[0m\u001b[0;34m\u001b[0m\u001b[0;34m\u001b[0m\u001b[0m\n\u001b[0;32m--> 800\u001b[0;31m             raise ValueError(\"Number of features of the model must \"\n\u001b[0m\u001b[1;32m    801\u001b[0m                              \u001b[0;34mf\"match the input. Model n_features_ is {self._n_features} and \"\u001b[0m\u001b[0;34m\u001b[0m\u001b[0;34m\u001b[0m\u001b[0m\n\u001b[1;32m    802\u001b[0m                              f\"input n_features is {n_features}\")\n",
      "\u001b[0;31mValueError\u001b[0m: Number of features of the model must match the input. Model n_features_ is 6 and input n_features is 22"
     ]
    }
   ],
   "source": [
    "result = models[0].predict(test)\n",
    "test = pd.read_csv('Data/Test_Master.csv')\n",
    "test['result'] = result"
   ]
  },
  {
   "cell_type": "code",
   "execution_count": 48,
   "id": "baa3ce4a",
   "metadata": {},
   "outputs": [],
   "source": [
    "test.to_csv('Submission.csv', index = False)"
   ]
  },
  {
   "cell_type": "code",
   "execution_count": 402,
   "id": "111bf693",
   "metadata": {},
   "outputs": [],
   "source": []
  },
  {
   "cell_type": "code",
   "execution_count": null,
   "id": "69385997",
   "metadata": {},
   "outputs": [],
   "source": []
  }
 ],
 "metadata": {
  "kernelspec": {
   "display_name": "Python 3 (ipykernel)",
   "language": "python",
   "name": "python3"
  },
  "language_info": {
   "codemirror_mode": {
    "name": "ipython",
    "version": 3
   },
   "file_extension": ".py",
   "mimetype": "text/x-python",
   "name": "python",
   "nbconvert_exporter": "python",
   "pygments_lexer": "ipython3",
   "version": "3.9.9"
  }
 },
 "nbformat": 4,
 "nbformat_minor": 5
}
